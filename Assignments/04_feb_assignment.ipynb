{
 "cells": [
  {
   "cell_type": "markdown",
   "id": "aea75b7a-8da8-4647-9ef4-8252c985cb5d",
   "metadata": {},
   "source": [
    "## Question 1\n",
    "1. Create a python program to sort the given list of tuples based on integer value using a lambda function.\n",
    "\n",
    "[('Sachin Tendulkar', 34357), ('Ricky Ponting', 27483), ('Jack Kallis', 25534), ('Virat Kohli', 24936)]"
   ]
  },
  {
   "cell_type": "markdown",
   "id": "3a6d45e5-6485-4b68-a273-bc8949aa0e78",
   "metadata": {},
   "source": [
    "### ANS:"
   ]
  },
  {
   "cell_type": "code",
   "execution_count": 16,
   "id": "31de54a0-87ba-46f5-956e-ea7a4f678367",
   "metadata": {},
   "outputs": [
    {
     "name": "stdout",
     "output_type": "stream",
     "text": [
      "Before sorting the list\n",
      "[('Sachin Tendulkar', 34357), ('Ricky Ponting', 27483), ('Jack Kallis', 25534), ('Virat Kohli', 24936)]\n",
      "list after sorting based on Integer value\n",
      "[('Virat Kohli', 24936), ('Jack Kallis', 25534), ('Ricky Ponting', 27483), ('Sachin Tendulkar', 34357)]\n"
     ]
    }
   ],
   "source": [
    "l = [('Sachin Tendulkar', 34357), ('Ricky Ponting', 27483), ('Jack Kallis', 25534), ('Virat Kohli', 24936)]\n",
    "print('Before sorting the list')\n",
    "print(l)\n",
    "l.sort(key = lambda x:x[1])\n",
    "print('list after sorting based on Integer value')\n",
    "print(l)"
   ]
  },
  {
   "cell_type": "code",
   "execution_count": null,
   "id": "caaf89fc-0459-42e1-8217-f03848a06126",
   "metadata": {},
   "outputs": [],
   "source": []
  },
  {
   "cell_type": "markdown",
   "id": "348b3197-13cc-4f59-b41c-2a40cc6f55f3",
   "metadata": {},
   "source": [
    "## Question 2\n",
    "2. Write a Python Program to find the squares of all the numbers in the given list of integers using\n",
    "lambda and map functions.\n",
    "\n",
    "[1, 2, 3, 4, 5, 6, 7, 8, 9, 10]"
   ]
  },
  {
   "cell_type": "markdown",
   "id": "bc052881-16d6-4ae6-8219-892f323864b5",
   "metadata": {},
   "source": [
    "### ANS: "
   ]
  },
  {
   "cell_type": "code",
   "execution_count": 18,
   "id": "35f51433-2939-484d-8aae-85bfd3e63c87",
   "metadata": {},
   "outputs": [
    {
     "name": "stdout",
     "output_type": "stream",
     "text": [
      "Square of all numbers in the list: \n",
      " [1, 4, 9, 16, 25, 36, 49, 64, 81, 100]\n"
     ]
    }
   ],
   "source": [
    "l = [1, 2, 3, 4, 5, 6, 7, 8, 9, 10]\n",
    "l_square = list(map(lambda x:x**2,l))\n",
    "print('Square of all numbers in the list: \\n', l_square)"
   ]
  },
  {
   "cell_type": "code",
   "execution_count": null,
   "id": "28246459-6115-408e-bc80-4b9c16803620",
   "metadata": {},
   "outputs": [],
   "source": []
  },
  {
   "cell_type": "markdown",
   "id": "6826f48d-f8d5-4161-a8ff-49bbe75e8b4d",
   "metadata": {},
   "source": [
    "## Question 3\n",
    "3. Write a python program to convert the given list of integers into a tuple of strings. Use map and\n",
    "lambda functions\n",
    "\n",
    "Given String: [1, 2, 3, 4, 5, 6, 7, 8, 9, 10] \n",
    "\n",
    "Expected output: ('1', '2', '3', '4', '5', '6', '7', '8', '9', '10')"
   ]
  },
  {
   "cell_type": "code",
   "execution_count": 20,
   "id": "02efa370-4356-4b97-97a1-e82e36f1f4c1",
   "metadata": {},
   "outputs": [
    {
     "name": "stdout",
     "output_type": "stream",
     "text": [
      "tuple of string is: \n",
      " ('1', '2', '3', '4', '5', '6', '7', '8', '9', '10')\n"
     ]
    }
   ],
   "source": [
    "l = [1, 2, 3, 4, 5, 6, 7, 8, 9, 10]\n",
    "l_str_tuple = tuple(map(lambda x:str(x),l))\n",
    "print('tuple of string is: \\n', l_str_tuple)"
   ]
  },
  {
   "cell_type": "markdown",
   "id": "a173e558-b071-4435-a87f-5ab9cb69e1d4",
   "metadata": {},
   "source": []
  },
  {
   "cell_type": "markdown",
   "id": "120ba8cf-2329-44d1-b906-174bacac2444",
   "metadata": {},
   "source": [
    "## Question 4\n",
    "4. Write a python program using reduce function to compute the product of a list containing numbers\n",
    "from 1 to 25."
   ]
  },
  {
   "cell_type": "markdown",
   "id": "12a0b83d-313a-4172-927a-f29a3b0e6520",
   "metadata": {},
   "source": [
    "### Ans: "
   ]
  },
  {
   "cell_type": "code",
   "execution_count": 26,
   "id": "d9d84ea4-8f89-459a-b686-1d60f059a758",
   "metadata": {},
   "outputs": [
    {
     "data": {
      "text/plain": [
       "15511210043330985984000000"
      ]
     },
     "execution_count": 26,
     "metadata": {},
     "output_type": "execute_result"
    }
   ],
   "source": [
    "from functools import reduce\n",
    "l = range(1,26)\n",
    "reduce(lambda x,y: x*y,l)"
   ]
  },
  {
   "cell_type": "code",
   "execution_count": null,
   "id": "406ebe9d-253d-4ade-a7ed-ec6413b07e8d",
   "metadata": {},
   "outputs": [],
   "source": []
  },
  {
   "cell_type": "markdown",
   "id": "41f8ef28-58a9-49a9-a8b0-7317d9ef1948",
   "metadata": {},
   "source": [
    "## Question 5\n",
    "5. Write a python program to filter the numbers in a given list that are divisible by 2 and 3 using the\n",
    "filter function.\n",
    "\n",
    "[2, 3, 6, 9, 27, 60, 90, 120, 55, 46]"
   ]
  },
  {
   "cell_type": "markdown",
   "id": "a1a20cc0-66a9-4db7-9f79-671cf04d1a26",
   "metadata": {},
   "source": [
    "### Ans: "
   ]
  },
  {
   "cell_type": "code",
   "execution_count": 32,
   "id": "d4902cbb-4bd3-4a1e-ac94-98624e259309",
   "metadata": {},
   "outputs": [
    {
     "name": "stdout",
     "output_type": "stream",
     "text": [
      "list of filterd numbers which are divisible by 2 and 3: \n",
      " [6, 60, 90, 120]\n"
     ]
    }
   ],
   "source": [
    "l = [2, 3, 6, 9, 27, 60, 90, 120, 55, 46]\n",
    "l_filtered = list(filter(lambda x : x%2==0 and x%3==0, l))\n",
    "print('list of filterd numbers which are divisible by 2 and 3: \\n', l_filtered)"
   ]
  },
  {
   "cell_type": "code",
   "execution_count": null,
   "id": "d88a195f-8dbd-4e5d-ad50-cde8c6eef597",
   "metadata": {},
   "outputs": [],
   "source": []
  },
  {
   "cell_type": "markdown",
   "id": "816cc91b-d59b-4453-a2db-3af357e41c5d",
   "metadata": {},
   "source": [
    "## Question 6\n",
    "6. Write a python program to find palindromes in the given list of strings using lambda and filter\n",
    "function.\n",
    "\n",
    "['python', 'php', 'aba', 'radar', 'level']"
   ]
  },
  {
   "cell_type": "markdown",
   "id": "6d6f9ea3-101e-4cfc-9b99-aa16ad0b1d57",
   "metadata": {},
   "source": [
    "### Ans:"
   ]
  },
  {
   "cell_type": "code",
   "execution_count": 34,
   "id": "df54de98-a115-44b7-ae2f-bf70f2f050e2",
   "metadata": {},
   "outputs": [
    {
     "name": "stdout",
     "output_type": "stream",
     "text": [
      " palindromes in the given list of strings: \n",
      " ['php', 'aba', 'radar', 'level']\n"
     ]
    }
   ],
   "source": [
    "l = ['python', 'php', 'aba', 'radar', 'level']\n",
    "\n",
    "l_palindromes = list(filter(lambda x:x==''.join(reversed(x)),l))\n",
    "\n",
    "print(' palindromes in the given list of strings: \\n', l_palindromes)"
   ]
  },
  {
   "cell_type": "code",
   "execution_count": null,
   "id": "5fe07747-cd62-4b28-8731-1a62d92a4bdb",
   "metadata": {},
   "outputs": [],
   "source": []
  }
 ],
 "metadata": {
  "kernelspec": {
   "display_name": "Python 3 (ipykernel)",
   "language": "python",
   "name": "python3"
  },
  "language_info": {
   "codemirror_mode": {
    "name": "ipython",
    "version": 3
   },
   "file_extension": ".py",
   "mimetype": "text/x-python",
   "name": "python",
   "nbconvert_exporter": "python",
   "pygments_lexer": "ipython3",
   "version": "3.10.8"
  }
 },
 "nbformat": 4,
 "nbformat_minor": 5
}
