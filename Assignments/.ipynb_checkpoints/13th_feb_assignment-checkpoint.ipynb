{
 "cells": [
  {
   "cell_type": "markdown",
   "id": "714a0417-29d6-4c1a-bb5a-02f8bb5c9280",
   "metadata": {
    "tags": []
   },
   "source": [
    "## Question 1\n",
    "1. Explain why we have to use the Exception class while creating a Custom Exception."
   ]
  },
  {
   "cell_type": "markdown",
   "id": "95b6e615-7dfe-4955-b6a8-2d3dd6b07a50",
   "metadata": {},
   "source": [
    "### Ans:"
   ]
  },
  {
   "cell_type": "markdown",
   "id": "c5a843e8-5f8f-4447-ab54-5f9d8653f59f",
   "metadata": {},
   "source": [
    "In object-oriented programming, exceptions are used to handle errors and exceptional conditions that may arise during program execution. Custom exceptions are a mechanism to define your own exceptional conditions that are specific to your program's domain or use case.\n",
    "\n",
    "When creating a custom exception, it's important to use the Exception class as the base class because it provides the necessary functionality to handle and propagate exceptions in a consistent and standardized manner. The Exception class defines the core behavior and properties of an exception, such as the exception message and the stack trace, which are essential for effective error handling and debugging.\n",
    "\n",
    "By inheriting from the Exception class, your custom exception can leverage all the features and benefits of the existing exception framework, including the ability to catch and handle exceptions using try-catch blocks, logging exceptions, and providing meaningful error messages to users.\n",
    "\n",
    "Additionally, using the Exception class as the base class for your custom exception ensures that it conforms to established coding conventions and best practices, which makes it easier for other developers to understand and work with your code. It also ensures that your custom exception integrates seamlessly with other exception classes in your program, enabling you to build a robust and resilient error-handling system."
   ]
  },
  {
   "cell_type": "code",
   "execution_count": null,
   "id": "06e8d308-5c21-4dca-8e8b-b97c2349d94a",
   "metadata": {},
   "outputs": [],
   "source": []
  },
  {
   "cell_type": "code",
   "execution_count": null,
   "id": "36e2a854-b5ae-438e-a2be-2a7c462a74fa",
   "metadata": {},
   "outputs": [],
   "source": []
  },
  {
   "cell_type": "markdown",
   "id": "f9cedcaa-a809-4a57-8a6d-a283799f4748",
   "metadata": {
    "tags": []
   },
   "source": [
    "## Question 2\n",
    "2. Q2. Write a python program to print Python Exception Hierarchy."
   ]
  },
  {
   "cell_type": "markdown",
   "id": "f5a74b06-0ba0-45f5-b72e-004bd0ff4f48",
   "metadata": {},
   "source": [
    "### Ans:"
   ]
  },
  {
   "cell_type": "code",
   "execution_count": 7,
   "id": "c0ff6e4d-5dd1-42a4-8cfb-3e99e13759de",
   "metadata": {
    "tags": []
   },
   "outputs": [
    {
     "name": "stdout",
     "output_type": "stream",
     "text": [
      "Exception\n",
      "    TypeError\n",
      "        FloatOperation\n",
      "        MultipartConversionError\n",
      "    StopAsyncIteration\n",
      "    StopIteration\n",
      "    ImportError\n",
      "        ModuleNotFoundError\n",
      "            PackageNotFoundError\n",
      "        ZipImportError\n",
      "    OSError\n",
      "        ConnectionError\n",
      "            BrokenPipeError\n",
      "            ConnectionAbortedError\n",
      "            ConnectionRefusedError\n",
      "            ConnectionResetError\n",
      "                RemoteDisconnected\n",
      "        BlockingIOError\n",
      "        ChildProcessError\n",
      "        FileExistsError\n",
      "        FileNotFoundError\n",
      "        IsADirectoryError\n",
      "        NotADirectoryError\n",
      "        InterruptedError\n",
      "            InterruptedSystemCall\n",
      "        PermissionError\n",
      "        ProcessLookupError\n",
      "        TimeoutError\n",
      "        UnsupportedOperation\n",
      "        ItimerError\n",
      "        herror\n",
      "        gaierror\n",
      "        timeout\n",
      "        SSLError\n",
      "            SSLCertVerificationError\n",
      "            SSLZeroReturnError\n",
      "            SSLWantReadError\n",
      "            SSLWantWriteError\n",
      "            SSLSyscallError\n",
      "            SSLEOFError\n",
      "        Error\n",
      "            SameFileError\n",
      "        SpecialFileError\n",
      "        ExecError\n",
      "        ReadError\n",
      "        URLError\n",
      "            HTTPError\n",
      "            ContentTooShortError\n",
      "        BadGzipFile\n",
      "    EOFError\n",
      "        IncompleteReadError\n",
      "    RuntimeError\n",
      "        RecursionError\n",
      "        NotImplementedError\n",
      "            ZMQVersionError\n",
      "            StdinNotImplementedError\n",
      "        _DeadlockError\n",
      "        BrokenBarrierError\n",
      "        BrokenExecutor\n",
      "            BrokenThreadPool\n",
      "        SendfileNotAvailableError\n",
      "        ExtractionError\n",
      "        VariableError\n",
      "    NameError\n",
      "        UnboundLocalError\n",
      "    AttributeError\n",
      "        FrozenInstanceError\n",
      "    SyntaxError\n",
      "        IndentationError\n",
      "            TabError\n",
      "    LookupError\n",
      "        IndexError\n",
      "        KeyError\n",
      "            NoSuchKernel\n",
      "            UnknownBackend\n",
      "        CodecRegistryError\n",
      "    ValueError\n",
      "        UnicodeError\n",
      "            UnicodeEncodeError\n",
      "            UnicodeDecodeError\n",
      "            UnicodeTranslateError\n",
      "        UnsupportedOperation\n",
      "        JSONDecodeError\n",
      "        SSLCertVerificationError\n",
      "        Error\n",
      "        IllegalMonthError\n",
      "        IllegalWeekdayError\n",
      "        ParserError\n",
      "        MessageDefect\n",
      "            NoBoundaryInMultipartDefect\n",
      "            StartBoundaryNotFoundDefect\n",
      "            CloseBoundaryNotFoundDefect\n",
      "            FirstHeaderLineIsContinuationDefect\n",
      "            MisplacedEnvelopeHeaderDefect\n",
      "            MissingHeaderBodySeparatorDefect\n",
      "            MultipartInvariantViolationDefect\n",
      "            InvalidMultipartContentTransferEncodingDefect\n",
      "            UndecodableBytesDefect\n",
      "            InvalidBase64PaddingDefect\n",
      "            InvalidBase64CharactersDefect\n",
      "            InvalidBase64LengthDefect\n",
      "            HeaderDefect\n",
      "                InvalidHeaderDefect\n",
      "                HeaderMissingRequiredValue\n",
      "                NonPrintableDefect\n",
      "                ObsoleteHeaderDefect\n",
      "                NonASCIILocalPartDefect\n",
      "        ClassNotFound\n",
      "        ClipboardEmpty\n",
      "        MacroToEdit\n",
      "        InvalidFileException\n",
      "        InvalidVersion\n",
      "        InvalidSpecifier\n",
      "        InvalidMarker\n",
      "        UndefinedComparison\n",
      "        UndefinedEnvironmentName\n",
      "        InvalidRequirement\n",
      "        RequirementParseError\n",
      "        InvalidVersion\n",
      "    AssertionError\n",
      "    ArithmeticError\n",
      "        FloatingPointError\n",
      "        OverflowError\n",
      "        ZeroDivisionError\n",
      "            DivisionByZero\n",
      "            DivisionUndefined\n",
      "        DecimalException\n",
      "            Clamped\n",
      "            Rounded\n",
      "                Underflow\n",
      "                Overflow\n",
      "            Inexact\n",
      "                Underflow\n",
      "                Overflow\n",
      "            Subnormal\n",
      "                Underflow\n",
      "            DivisionByZero\n",
      "            FloatOperation\n",
      "            InvalidOperation\n",
      "                ConversionSyntax\n",
      "                DivisionImpossible\n",
      "                DivisionUndefined\n",
      "                InvalidContext\n",
      "    SystemError\n",
      "        CodecRegistryError\n",
      "    ReferenceError\n",
      "    MemoryError\n",
      "    BufferError\n",
      "    Warning\n",
      "        UserWarning\n",
      "            GetPassWarning\n",
      "            FormatterWarning\n",
      "        DeprecationWarning\n",
      "            ProvisionalWarning\n",
      "        PendingDeprecationWarning\n",
      "        SyntaxWarning\n",
      "        RuntimeWarning\n",
      "            ProactorSelectorThreadWarning\n",
      "            UnknownTimezoneWarning\n",
      "            PEP440Warning\n",
      "        FutureWarning\n",
      "            ProvisionalCompleterWarning\n",
      "        ImportWarning\n",
      "        UnicodeWarning\n",
      "        BytesWarning\n",
      "        ResourceWarning\n",
      "        DeprecatedTzFormatWarning\n",
      "        PkgResourcesDeprecationWarning\n",
      "    Error\n",
      "    _OptionError\n",
      "    _Error\n",
      "    error\n",
      "    Verbose\n",
      "    SubprocessError\n",
      "        CalledProcessError\n",
      "        TimeoutExpired\n",
      "    ArgumentError\n",
      "    error\n",
      "    ZMQBaseError\n",
      "        ZMQError\n",
      "            ContextTerminated\n",
      "            Again\n",
      "            InterruptedSystemCall\n",
      "        ZMQBindError\n",
      "        NotDone\n",
      "    Error\n",
      "    PickleError\n",
      "        PicklingError\n",
      "        UnpicklingError\n",
      "    _Stop\n",
      "    TokenError\n",
      "    StopTokenizing\n",
      "    Error\n",
      "        CancelledError\n",
      "        TimeoutError\n",
      "        InvalidStateError\n",
      "    _GiveupOnSendfile\n",
      "    Incomplete\n",
      "    EndOfBlock\n",
      "    TimeoutError\n",
      "    InvalidStateError\n",
      "    LimitOverrunError\n",
      "    QueueEmpty\n",
      "    QueueFull\n",
      "    TraitError\n",
      "    Empty\n",
      "    Full\n",
      "    error\n",
      "    error\n",
      "    ReturnValueIgnoredError\n",
      "    ArgumentError\n",
      "    ArgumentTypeError\n",
      "    ConfigError\n",
      "        ConfigLoaderError\n",
      "            ArgumentError\n",
      "        ConfigFileNotFound\n",
      "    ConfigurableError\n",
      "        MultipleInstanceError\n",
      "    ApplicationError\n",
      "    InvalidPortNumber\n",
      "    error\n",
      "    LZMAError\n",
      "    RegistryError\n",
      "    _GiveupOnFastCopy\n",
      "    Error\n",
      "        NoSectionError\n",
      "        DuplicateSectionError\n",
      "        DuplicateOptionError\n",
      "        NoOptionError\n",
      "        InterpolationError\n",
      "            InterpolationMissingOptionError\n",
      "            InterpolationSyntaxError\n",
      "            InterpolationDepthError\n",
      "        ParsingError\n",
      "            MissingSectionHeaderError\n",
      "    NoIPAddresses\n",
      "    Error\n",
      "    BadZipFile\n",
      "    LargeZipFile\n",
      "    Error\n",
      "    MessageError\n",
      "        MessageParseError\n",
      "            HeaderParseError\n",
      "            BoundaryError\n",
      "        MultipartConversionError\n",
      "        CharsetError\n",
      "    DuplicateKernelError\n",
      "    ErrorDuringImport\n",
      "    NotOneValueFound\n",
      "    CannotEval\n",
      "    OptionError\n",
      "    BdbQuit\n",
      "    Restart\n",
      "    ExceptionPexpect\n",
      "        EOF\n",
      "        TIMEOUT\n",
      "    PtyProcessError\n",
      "    FindCmdError\n",
      "    HomeDirError\n",
      "    ProfileDirError\n",
      "    IPythonCoreError\n",
      "        TryNext\n",
      "        UsageError\n",
      "        StdinNotImplementedError\n",
      "    InputRejected\n",
      "    GetoptError\n",
      "    ErrorToken\n",
      "    PrefilterError\n",
      "    AliasError\n",
      "        InvalidAliasError\n",
      "    Error\n",
      "        InterfaceError\n",
      "        DatabaseError\n",
      "            InternalError\n",
      "            OperationalError\n",
      "            ProgrammingError\n",
      "            IntegrityError\n",
      "            DataError\n",
      "            NotSupportedError\n",
      "    Warning\n",
      "    SpaceInInput\n",
      "    DOMException\n",
      "        IndexSizeErr\n",
      "        DomstringSizeErr\n",
      "        HierarchyRequestErr\n",
      "        WrongDocumentErr\n",
      "        InvalidCharacterErr\n",
      "        NoDataAllowedErr\n",
      "        NoModificationAllowedErr\n",
      "        NotFoundErr\n",
      "        NotSupportedErr\n",
      "        InuseAttributeErr\n",
      "        InvalidStateErr\n",
      "        SyntaxErr\n",
      "        InvalidModificationErr\n",
      "        NamespaceErr\n",
      "        InvalidAccessErr\n",
      "        ValidationErr\n",
      "    ValidationError\n",
      "    EditReadOnlyBuffer\n",
      "    _Retry\n",
      "    InvalidLayoutError\n",
      "    HeightIsUnknownError\n",
      "    GuardRejection\n",
      "    ParserSyntaxError\n",
      "    InternalParseError\n",
      "    _PositionUpdatingFinished\n",
      "    SimpleGetItemNotFound\n",
      "    UncaughtAttributeError\n",
      "    HasNoContext\n",
      "    ParamIssue\n",
      "    _JediError\n",
      "        InternalError\n",
      "        WrongVersion\n",
      "        RefactoringError\n",
      "    OnErrorLeaf\n",
      "    InvalidPythonEnvironment\n",
      "    HTTPException\n",
      "        NotConnected\n",
      "        InvalidURL\n",
      "        UnknownProtocol\n",
      "        UnknownTransferEncoding\n",
      "        UnimplementedFileMode\n",
      "        IncompleteRead\n",
      "        ImproperConnectionState\n",
      "            CannotSendRequest\n",
      "            CannotSendHeader\n",
      "            ResponseNotReady\n",
      "        BadStatusLine\n",
      "            RemoteDisconnected\n",
      "        LineTooLong\n",
      "    InteractivelyDefined\n",
      "    KillEmbedded\n",
      "    Error\n",
      "        NoSuchProcess\n",
      "            ZombieProcess\n",
      "        AccessDenied\n",
      "        TimeoutExpired\n",
      "    _Ipv6UnsupportedError\n",
      "    KeyReuseError\n",
      "    UnknownKeyError\n",
      "    LeakedCallbackError\n",
      "    BadYieldError\n",
      "    ReturnValueIgnoredError\n",
      "    Return\n",
      "    QueueEmpty\n",
      "    QueueFull\n",
      "    DebuggerInitializationError\n",
      "    ExpatError\n",
      "    Error\n",
      "        ProtocolError\n",
      "        ResponseError\n",
      "        Fault\n",
      "    ParseBaseException\n",
      "        ParseException\n",
      "        ParseFatalException\n",
      "            ParseSyntaxException\n",
      "    RecursiveGrammarException\n",
      "    ResolutionError\n",
      "        VersionConflict\n",
      "            ContextualVersionConflict\n",
      "        DistributionNotFound\n",
      "        UnknownExtra\n",
      "    _Error\n",
      "    UnableToResolveVariableException\n",
      "    InvalidTypeInArgsException\n",
      "GeneratorExit\n",
      "SystemExit\n",
      "KeyboardInterrupt\n",
      "CancelledError\n"
     ]
    }
   ],
   "source": [
    "def print_exception_hierarchy(exceptions, indent=0):\n",
    "    for exc in exceptions:\n",
    "        print(' ' * indent + exc.__name__)\n",
    "        print_exception_hierarchy(exc.__subclasses__(), indent + 4)\n",
    "\n",
    "print_exception_hierarchy(BaseException.__subclasses__())\n"
   ]
  },
  {
   "cell_type": "code",
   "execution_count": null,
   "id": "592f5d75-6d05-4ea5-8f3d-a68f34e059d6",
   "metadata": {},
   "outputs": [],
   "source": []
  },
  {
   "cell_type": "markdown",
   "id": "8d9764a3-53c7-4703-b9f8-56e4e48bea39",
   "metadata": {
    "tags": []
   },
   "source": [
    "## Question 3\n",
    "3. What errors are defined in the ArithmeticError class? Explain any two with an example."
   ]
  },
  {
   "cell_type": "markdown",
   "id": "0f58b8fe-feb5-4ac8-84d2-08893183de18",
   "metadata": {},
   "source": [
    "### Ans:"
   ]
  },
  {
   "cell_type": "markdown",
   "id": "858db5b7-59d7-41d3-9e62-ffad956abbea",
   "metadata": {},
   "source": [
    "The ArithmeticError class in Python is a base class for arithmetic errors. It is raised when an error occurs during arithmetic operations. Some of the errors that are defined in the ArithmeticError class include ZeroDivisionError, OverflowError, and FloatingPointError.\n",
    "\n",
    "Here are two examples of errors that are defined in the ArithmeticError class:\n",
    "1. ZeroDivisionError: This error occurs when a number is divided by zero. For example, consider the following code:"
   ]
  },
  {
   "cell_type": "code",
   "execution_count": 8,
   "id": "82c7700d-90b1-4425-9912-50e23b00d515",
   "metadata": {
    "tags": []
   },
   "outputs": [
    {
     "ename": "ZeroDivisionError",
     "evalue": "division by zero",
     "output_type": "error",
     "traceback": [
      "\u001b[0;31m---------------------------------------------------------------------------\u001b[0m",
      "\u001b[0;31mZeroDivisionError\u001b[0m                         Traceback (most recent call last)",
      "Cell \u001b[0;32mIn[8], line 3\u001b[0m\n\u001b[1;32m      1\u001b[0m x \u001b[38;5;241m=\u001b[39m \u001b[38;5;241m5\u001b[39m\n\u001b[1;32m      2\u001b[0m y \u001b[38;5;241m=\u001b[39m \u001b[38;5;241m0\u001b[39m\n\u001b[0;32m----> 3\u001b[0m z \u001b[38;5;241m=\u001b[39m \u001b[43mx\u001b[49m\u001b[43m \u001b[49m\u001b[38;5;241;43m/\u001b[39;49m\u001b[43m \u001b[49m\u001b[43my\u001b[49m\n",
      "\u001b[0;31mZeroDivisionError\u001b[0m: division by zero"
     ]
    }
   ],
   "source": [
    "x = 5\n",
    "y = 0\n",
    "z = x / y\n"
   ]
  },
  {
   "cell_type": "markdown",
   "id": "ae57a48c-64f6-47ac-9e0d-829e8eec77c2",
   "metadata": {},
   "source": [
    "2. OverflowError: This error occurs when the result of an arithmetic operation is too large to be represented in the available memory. For example, consider the following code:"
   ]
  },
  {
   "cell_type": "code",
   "execution_count": 10,
   "id": "e74db743-ce31-4958-abf7-4b8be688c2f7",
   "metadata": {
    "tags": []
   },
   "outputs": [],
   "source": [
    "import sys\n",
    "\n",
    "x = sys.maxsize\n",
    "y = 1\n",
    "z = x * y\n"
   ]
  },
  {
   "cell_type": "code",
   "execution_count": null,
   "id": "a4027661-5713-44dc-809d-13a3b79319be",
   "metadata": {},
   "outputs": [],
   "source": []
  },
  {
   "cell_type": "markdown",
   "id": "537f54d7-8723-4e32-8c05-86760d2fbf87",
   "metadata": {
    "tags": []
   },
   "source": [
    "## Question 4\n",
    "4. Why LookupError class is used? Explain with an example KeyError and IndexError."
   ]
  },
  {
   "cell_type": "markdown",
   "id": "18db60af-4a5c-4d3f-b6a8-8db26d55087e",
   "metadata": {},
   "source": [
    "### Ans:"
   ]
  },
  {
   "cell_type": "markdown",
   "id": "e5af6d07-7b54-4eec-8e17-c34c848f8d75",
   "metadata": {},
   "source": [
    "The LookupError class in Python is a base class for lookup errors. It is raised when an error occurs during indexing or searching for a value in a container, such as a list or dictionary. Some of the errors that are defined in the LookupError class include IndexError, KeyError, and AttributeError.\n",
    "\n",
    "Here are two examples of lookup errors that are defined in the LookupError class:\n",
    "\n",
    "1. KeyError: This error occurs when a key is not found in a dictionary. For example, consider the following code:"
   ]
  },
  {
   "cell_type": "code",
   "execution_count": 12,
   "id": "cab664a5-e214-4ae1-b9fd-e44c73aaff5a",
   "metadata": {
    "tags": []
   },
   "outputs": [
    {
     "ename": "KeyError",
     "evalue": "'d'",
     "output_type": "error",
     "traceback": [
      "\u001b[0;31m---------------------------------------------------------------------------\u001b[0m",
      "\u001b[0;31mKeyError\u001b[0m                                  Traceback (most recent call last)",
      "Cell \u001b[0;32mIn[12], line 2\u001b[0m\n\u001b[1;32m      1\u001b[0m my_dict \u001b[38;5;241m=\u001b[39m {\u001b[38;5;124m'\u001b[39m\u001b[38;5;124ma\u001b[39m\u001b[38;5;124m'\u001b[39m: \u001b[38;5;241m1\u001b[39m, \u001b[38;5;124m'\u001b[39m\u001b[38;5;124mb\u001b[39m\u001b[38;5;124m'\u001b[39m: \u001b[38;5;241m2\u001b[39m, \u001b[38;5;124m'\u001b[39m\u001b[38;5;124mc\u001b[39m\u001b[38;5;124m'\u001b[39m: \u001b[38;5;241m3\u001b[39m}\n\u001b[0;32m----> 2\u001b[0m value \u001b[38;5;241m=\u001b[39m \u001b[43mmy_dict\u001b[49m\u001b[43m[\u001b[49m\u001b[38;5;124;43m'\u001b[39;49m\u001b[38;5;124;43md\u001b[39;49m\u001b[38;5;124;43m'\u001b[39;49m\u001b[43m]\u001b[49m\n",
      "\u001b[0;31mKeyError\u001b[0m: 'd'"
     ]
    }
   ],
   "source": [
    "my_dict = {'a': 1, 'b': 2, 'c': 3}\n",
    "value = my_dict['d']\n"
   ]
  },
  {
   "cell_type": "code",
   "execution_count": 14,
   "id": "658ccca4-4c03-462b-9014-c981f34af9f4",
   "metadata": {
    "tags": []
   },
   "outputs": [
    {
     "name": "stdout",
     "output_type": "stream",
     "text": [
      "'d' key not found\n"
     ]
    }
   ],
   "source": [
    "try:\n",
    "    my_dict = {'a': 1, 'b': 2, 'c': 3}\n",
    "    value = my_dict['d']\n",
    "except KeyError as e:\n",
    "    print(f'{e} key not found')\n",
    "    "
   ]
  },
  {
   "cell_type": "markdown",
   "id": "2455a913-75ef-4b88-b778-44f972159f47",
   "metadata": {},
   "source": [
    "2. IndexError: This error occurs when an index is out of range for a sequence, such as a list or tuple. For example, consider the following code:"
   ]
  },
  {
   "cell_type": "code",
   "execution_count": 15,
   "id": "66f935f0-460b-42f9-b3da-1b55a1cab377",
   "metadata": {
    "tags": []
   },
   "outputs": [
    {
     "ename": "IndexError",
     "evalue": "list index out of range",
     "output_type": "error",
     "traceback": [
      "\u001b[0;31m---------------------------------------------------------------------------\u001b[0m",
      "\u001b[0;31mIndexError\u001b[0m                                Traceback (most recent call last)",
      "Cell \u001b[0;32mIn[15], line 2\u001b[0m\n\u001b[1;32m      1\u001b[0m my_list \u001b[38;5;241m=\u001b[39m [\u001b[38;5;241m1\u001b[39m, \u001b[38;5;241m2\u001b[39m, \u001b[38;5;241m3\u001b[39m]\n\u001b[0;32m----> 2\u001b[0m value \u001b[38;5;241m=\u001b[39m \u001b[43mmy_list\u001b[49m\u001b[43m[\u001b[49m\u001b[38;5;241;43m3\u001b[39;49m\u001b[43m]\u001b[49m\n",
      "\u001b[0;31mIndexError\u001b[0m: list index out of range"
     ]
    }
   ],
   "source": [
    "my_list = [1, 2, 3]\n",
    "value = my_list[3]\n"
   ]
  },
  {
   "cell_type": "code",
   "execution_count": 16,
   "id": "4b980aa5-fa63-4eb6-bd75-91ea5bd6bbb1",
   "metadata": {
    "tags": []
   },
   "outputs": [
    {
     "name": "stdout",
     "output_type": "stream",
     "text": [
      "list index out of range\n"
     ]
    }
   ],
   "source": [
    "try:\n",
    "    my_list = [1, 2, 3]\n",
    "    value = my_list[3]\n",
    "except IndexError as e:\n",
    "    print(e)"
   ]
  },
  {
   "cell_type": "code",
   "execution_count": null,
   "id": "05a14c0e-d1c3-4e44-b200-ba9f7e907648",
   "metadata": {},
   "outputs": [],
   "source": []
  },
  {
   "cell_type": "markdown",
   "id": "0d7cc74c-850e-490c-b8fd-d0c1df888398",
   "metadata": {
    "tags": []
   },
   "source": [
    "## Question 5\n",
    "5. Explain ImportError. What is ModuleNotFoundError?"
   ]
  },
  {
   "cell_type": "markdown",
   "id": "5b5cbc23-df19-498d-bb92-753c776ec9cb",
   "metadata": {},
   "source": [
    "### Ans:"
   ]
  },
  {
   "cell_type": "markdown",
   "id": "7915deab-03e1-4636-9f9b-f6b52e5f8a72",
   "metadata": {},
   "source": [
    "In Python, ImportError is an exception that is raised when an imported module, package, or name cannot be found or loaded. This error can occur for a variety of reasons, such as misspelling the module name, not having the module installed, or having a circular import.\n",
    "\n",
    "The ImportError exception is a subclass of the Exception class and is raised by the import statement or by the built-in __import__() function. It is commonly caught in a try/except block that looks like the following:"
   ]
  },
  {
   "cell_type": "code",
   "execution_count": 20,
   "id": "2149a45e-e81a-42a7-9618-4627ab52815a",
   "metadata": {
    "tags": []
   },
   "outputs": [
    {
     "ename": "ModuleNotFoundError",
     "evalue": "No module named 'nitesh'",
     "output_type": "error",
     "traceback": [
      "\u001b[0;31m---------------------------------------------------------------------------\u001b[0m",
      "\u001b[0;31mModuleNotFoundError\u001b[0m                       Traceback (most recent call last)",
      "Cell \u001b[0;32mIn[20], line 1\u001b[0m\n\u001b[0;32m----> 1\u001b[0m \u001b[38;5;28;01mimport\u001b[39;00m \u001b[38;5;21;01mnitesh\u001b[39;00m\n",
      "\u001b[0;31mModuleNotFoundError\u001b[0m: No module named 'nitesh'"
     ]
    }
   ],
   "source": [
    "\n",
    "import nitesh\n"
   ]
  },
  {
   "cell_type": "code",
   "execution_count": 21,
   "id": "7587d1a2-87a8-47ef-b6ac-9746656bc756",
   "metadata": {
    "tags": []
   },
   "outputs": [
    {
     "name": "stdout",
     "output_type": "stream",
     "text": [
      "No module named 'nitesh'\n"
     ]
    }
   ],
   "source": [
    "try:\n",
    "    import nitesh\n",
    "except ImportError as e:\n",
    "    print(e)"
   ]
  },
  {
   "cell_type": "markdown",
   "id": "5965aab0-d710-4506-976a-0b5cbcc724dd",
   "metadata": {},
   "source": [
    "In Python 3.6 and later versions, there is a more specific subclass of ImportError called ModuleNotFoundError. This exception is raised when a module cannot be found during import. ModuleNotFoundError is raised instead of ImportError to provide more specific information about the error and to help with debugging. Here is an example:\n"
   ]
  },
  {
   "cell_type": "code",
   "execution_count": 22,
   "id": "2be088c6-aeec-4b5b-8a50-f324e2bb76d2",
   "metadata": {
    "tags": []
   },
   "outputs": [
    {
     "name": "stdout",
     "output_type": "stream",
     "text": [
      "Error: No module named 'some_missing_module'\n"
     ]
    }
   ],
   "source": [
    "try:\n",
    "    import some_missing_module\n",
    "except ModuleNotFoundError as e:\n",
    "    print(f\"Error: {e}\")\n"
   ]
  },
  {
   "cell_type": "markdown",
   "id": "f6857ee5-879f-4e88-981c-b9bf1d1aa9f2",
   "metadata": {},
   "source": [
    "Overall, both ImportError and ModuleNotFoundError are useful exceptions for handling issues related to importing modules in Python, and they can be used to provide more detailed and informative error messages for debugging."
   ]
  },
  {
   "cell_type": "code",
   "execution_count": null,
   "id": "61ed3e3a-f730-4d5b-bdbb-12eb534d43f1",
   "metadata": {},
   "outputs": [],
   "source": []
  },
  {
   "cell_type": "code",
   "execution_count": null,
   "id": "99542af7-504e-4121-9f8e-556460d8f088",
   "metadata": {},
   "outputs": [],
   "source": []
  },
  {
   "cell_type": "markdown",
   "id": "c1e41786-5f29-4abd-8313-9e472fa0351c",
   "metadata": {
    "tags": []
   },
   "source": [
    "## Question 6\n",
    "6. List down some best practices for exception handling in python."
   ]
  },
  {
   "cell_type": "markdown",
   "id": "3c4711ad-95c8-4f43-a08f-d4da4a8eac1d",
   "metadata": {
    "tags": []
   },
   "source": [
    "### Ans:"
   ]
  },
  {
   "cell_type": "markdown",
   "id": "1eed7d50-4087-4e09-9396-3f924c0ff548",
   "metadata": {},
   "source": [
    "Exception handling is an important aspect of writing robust and reliable Python code. Here are some best practices for exception handling in Python:\n",
    "\n",
    "1. Catch only the exceptions you expect: It is considered a best practice to catch only the specific exceptions that you expect to occur, rather than catching all exceptions. This will allow other unexpected exceptions to propagate up the call stack and be caught by higher-level exception handlers.\n",
    "2. Use a finally block to release resources: When working with resources such as files, sockets, or database connections, it is important to release these resources after they have been used. A finally block can be used to ensure that resources are released, even if an exception is raised.\n",
    "3. Use descriptive error messages: When raising or catching exceptions, it is important to use descriptive error messages that provide information about what went wrong and why. This can help with debugging and understanding the root cause of the error.\n",
    "4. Handle exceptions at the appropriate level: Exceptions should be handled at the appropriate level of the code, depending on the context and the severity of the error. For example, a low-level function that reads from a file may raise an exception if the file cannot be found, but this exception should be handled at a higher level of the code that understands the context of the operation being performed.\n",
    "5. Avoid using bare except clauses: Using a bare except clause to catch all exceptions is not recommended, as it can mask errors and make debugging more difficult. Instead, catch only the specific exceptions that you expect to occur.\n",
    "6. always try to log the exceptions.\n"
   ]
  },
  {
   "cell_type": "code",
   "execution_count": null,
   "id": "4a00076a-bf4e-40ef-82ca-7b5c7b280b43",
   "metadata": {},
   "outputs": [],
   "source": []
  }
 ],
 "metadata": {
  "kernelspec": {
   "display_name": "Python 3 (ipykernel)",
   "language": "python",
   "name": "python3"
  },
  "language_info": {
   "codemirror_mode": {
    "name": "ipython",
    "version": 3
   },
   "file_extension": ".py",
   "mimetype": "text/x-python",
   "name": "python",
   "nbconvert_exporter": "python",
   "pygments_lexer": "ipython3",
   "version": "3.8.10"
  }
 },
 "nbformat": 4,
 "nbformat_minor": 5
}
