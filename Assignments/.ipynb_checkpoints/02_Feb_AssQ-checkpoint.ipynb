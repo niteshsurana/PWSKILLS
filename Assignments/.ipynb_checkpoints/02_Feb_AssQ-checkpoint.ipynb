{
 "cells": [
  {
   "cell_type": "markdown",
   "id": "ee29c50f-115f-498a-b38d-8db607c4a66f",
   "metadata": {},
   "source": [
    "## Question 1\n",
    "1. What are the characteristics of the tuple? is tuple immutable?\n"
   ]
  },
  {
   "cell_type": "markdown",
   "id": "3e171c08",
   "metadata": {},
   "source": [
    "### Ans: "
   ]
  },
  {
   "cell_type": "markdown",
   "id": "695c25a8",
   "metadata": {},
   "source": [
    "Yes, tuples are immutable in Python, which means that once a tuple is created, you cannot change its values. Here are some characteristics of tuples:\n",
    "\n",
    "Tuples are ordered: The elements in a tuple are stored in a specific order, and this order is preserved when you access the elements.\n",
    "\n",
    "Tuples can store any data type: Tuples can store elements of any data type, including integers, floating-point numbers, strings, lists, and other tuples.\n",
    "\n",
    "Tuples are indexed: You can access individual elements of a tuple using their index positions.\n",
    "\n",
    "Tuples are immutable: Once a tuple is created, you cannot change its values. This means that you cannot add, remove, or modify elements in a tuple.\n",
    "\n",
    "Tuples can be used as dictionary keys: Because tuples are immutable, they can be used as keys in a dictionary. Lists, on the other hand, are mutable and cannot be used as dictionary keys.\n",
    "\n",
    "Tuples are faster than lists: Tuples are generally faster than lists for accessing and iterating over their elements, especially when the tuple is small.\n",
    "\n",
    "Tuples can be used for multiple assignments: You can use tuples to assign multiple values to multiple variables in a single statement.\n"
   ]
  },
  {
   "cell_type": "code",
   "execution_count": null,
   "id": "25272188",
   "metadata": {},
   "outputs": [],
   "source": []
  },
  {
   "cell_type": "markdown",
   "id": "fa334641-f640-49dd-b909-ba8d837d5542",
   "metadata": {},
   "source": [
    "## Question 2\n",
    "2. What are the two tuple methods in python? Give an example of each method. Give a reason \n",
    "    why tuples have only two in-built methods as compared to lists?\""
   ]
  },
  {
   "cell_type": "markdown",
   "id": "a1af2eee",
   "metadata": {},
   "source": [
    "### Ans:"
   ]
  },
  {
   "cell_type": "markdown",
   "id": "4c6a0f07",
   "metadata": {},
   "source": [
    "In Python, tuples have two in-built methods:\n",
    "\n",
    "1. count(): This method returns the number of times a specified element appears in the tuple.\n",
    "\n",
    "#### Example"
   ]
  },
  {
   "cell_type": "code",
   "execution_count": 1,
   "id": "59301079",
   "metadata": {},
   "outputs": [
    {
     "name": "stdout",
     "output_type": "stream",
     "text": [
      "4\n"
     ]
    }
   ],
   "source": [
    "my_tuple = (1, 2, 2, 3, 2, 4, 2)\n",
    "count_of_2 = my_tuple.count(2)\n",
    "print(count_of_2)  # Output: 4"
   ]
  },
  {
   "cell_type": "markdown",
   "id": "b7bdc462",
   "metadata": {},
   "source": [
    "2. index(): This method returns the index of the first occurrence of a specified element in the tuple.\n",
    "\n",
    "#### Example"
   ]
  },
  {
   "cell_type": "code",
   "execution_count": 2,
   "id": "07b89f00",
   "metadata": {},
   "outputs": [
    {
     "name": "stdout",
     "output_type": "stream",
     "text": [
      "3\n"
     ]
    }
   ],
   "source": [
    "my_tuple = (1, 2, 2, 3, 2, 4, 2)\n",
    "index_of_3 = my_tuple.index(3)\n",
    "print(index_of_3)  # Output: 3"
   ]
  },
  {
   "cell_type": "markdown",
   "id": "57f7904f",
   "metadata": {},
   "source": [
    "As to why tuples only have two in-built methods compared to lists, it's because tuples are designed to be immutable and therefore do not require as many methods as lists. Lists, on the other hand, are mutable and need more methods to add, remove, or modify their elements. Tuples are generally used for situations where you want to ensure that the data stored in them cannot be modified, such as when passing data between different parts of a program. Because tuples are immutable, they are more efficient in terms of memory usage and can be faster than lists for certain operations."
   ]
  },
  {
   "cell_type": "code",
   "execution_count": null,
   "id": "03e36b34",
   "metadata": {},
   "outputs": [],
   "source": []
  },
  {
   "cell_type": "markdown",
   "id": "2f47a492-6d21-4e8a-affe-a34790f703b4",
   "metadata": {},
   "source": [
    "## Question 3\n",
    "3. Which collection datatypes in python do not allow duplicate items? write a code using a set to remove duplicate from the given list.\n",
    "\n",
    "list = [1,1,1,2,1,3,1,4,2,1,2,2,2,3,2,4,3,1,3,2,3,3,3,4,4,1,4,2,4,3,4,4]"
   ]
  },
  {
   "cell_type": "markdown",
   "id": "cdc9f76e",
   "metadata": {},
   "source": [
    "### Ans:\n",
    "Set collection datatypes does not allow duplicate items."
   ]
  },
  {
   "cell_type": "code",
   "execution_count": 3,
   "id": "63ad71be-3652-497d-bdc9-177a2a754bfa",
   "metadata": {},
   "outputs": [
    {
     "name": "stdout",
     "output_type": "stream",
     "text": [
      "[1, 2, 3, 4]\n"
     ]
    }
   ],
   "source": [
    "\n",
    "##Programs:\n",
    "\n",
    "List = [1,1,1,2,1,3,1,4,2,1,2,2,2,3,2,4,3,1,3,2,3,3,3,4,4,1,4,2,4,3,4,4]\n",
    "set1 = set(List)\n",
    "new_list = list(set1)\n",
    "print(new_list)"
   ]
  },
  {
   "cell_type": "markdown",
   "id": "8701fe2c-0f6c-44c3-836f-c801e9bffb9f",
   "metadata": {},
   "source": [
    "## Question 4\n",
    "4. Explain the difference between the union and update methods for a set. Give an example of each method?"
   ]
  },
  {
   "cell_type": "markdown",
   "id": "41fd0cc8",
   "metadata": {},
   "source": [
    "### Ans:\n",
    "Both union() and update() methods are used for combining two or more sets in Python, but they differ in how they handle the original sets and the resulting set.\n",
    "\n",
    "#### Union\n",
    "The union() method returns a new set that contains all the unique elements from both sets. It does not modify the original sets and returns a new set as a result.\n",
    "##### Example:"
   ]
  },
  {
   "cell_type": "code",
   "execution_count": 4,
   "id": "36700055-0a8f-46b5-b469-c470bb6d15b6",
   "metadata": {},
   "outputs": [
    {
     "name": "stdout",
     "output_type": "stream",
     "text": [
      "Union:  {1, 2, 3}\n",
      "s:  {1, 2}\n"
     ]
    }
   ],
   "source": [
    "\n",
    "s = {1,2}\n",
    "t = {1,3}\n",
    "print('Union: ', s.union(t))\n",
    "print('s: ',s)\n",
    "\n",
    "#Output:\n",
    "#    Union:  {1, 2, 3}\n",
    "#    s:  {1, 2}\n",
    "\n"
   ]
  },
  {
   "cell_type": "markdown",
   "id": "f9545260",
   "metadata": {},
   "source": [
    "#### Update\n",
    "On the other hand, the update() method modifies the original set by adding all the unique elements from another set. It does not return a new set as a result.\n",
    "##### Example"
   ]
  },
  {
   "cell_type": "code",
   "execution_count": 5,
   "id": "1fa7ae1f",
   "metadata": {},
   "outputs": [
    {
     "name": "stdout",
     "output_type": "stream",
     "text": [
      "s:  {1, 2, 3}\n"
     ]
    }
   ],
   "source": [
    "s = {1,2}\n",
    "t = {1,3}\n",
    "s.update(t)\n",
    "print('s: ',s)\n",
    "\n",
    "# Output:\n",
    "#     s:  {1, 2, 3}\n",
    "#     "
   ]
  },
  {
   "cell_type": "code",
   "execution_count": null,
   "id": "6285ff1d",
   "metadata": {},
   "outputs": [],
   "source": []
  },
  {
   "cell_type": "markdown",
   "id": "13a64ab6-1d0a-414f-bae0-c09208759721",
   "metadata": {},
   "source": [
    "## Question 5 \n",
    "5. What is a dictionary? Give Example. Also state whether a dictionary is ordered or unordered?\n"
   ]
  },
  {
   "cell_type": "markdown",
   "id": "4e61b10e",
   "metadata": {},
   "source": [
    "### Ans:\n"
   ]
  },
  {
   "cell_type": "markdown",
   "id": "f0a992f4-f00d-49d6-9118-500aa3d5e5ad",
   "metadata": {},
   "source": [
    "A dictionary in Python is a collection of key-value pairs, where each key is associated with a value. It is also sometimes called a hash or associative array. Dictionaries are declared using curly braces {}, and key-value pairs are separated by a colon :. The keys and values can be of any data type.\n",
    "    \n",
    "#### Example: \n"
   ]
  },
  {
   "cell_type": "code",
   "execution_count": 6,
   "id": "656c3ba6",
   "metadata": {},
   "outputs": [
    {
     "name": "stdout",
     "output_type": "stream",
     "text": [
      "{'name': 'John', 'age': 30, 'city': 'New York'}\n"
     ]
    }
   ],
   "source": [
    "my_dict = {'name': 'John', 'age': 30, 'city': 'New York'}\n",
    "print(my_dict)"
   ]
  },
  {
   "cell_type": "markdown",
   "id": "62c3eab7",
   "metadata": {},
   "source": [
    "Dictionaries are unordered in Python, which means that the order of elements is not preserved. However, starting from Python 3.7, dictionaries are guaranteed to maintain the insertion order of their elements, but this behavior is not guaranteed for earlier versions of Python."
   ]
  },
  {
   "cell_type": "code",
   "execution_count": null,
   "id": "a81b0a5f",
   "metadata": {},
   "outputs": [],
   "source": []
  },
  {
   "cell_type": "markdown",
   "id": "1757b04b-387b-4940-87f4-70ce456c5219",
   "metadata": {},
   "source": [
    "## Question 6\n",
    "6. Can we create a nested dictionary? if so, please give an example by creating a simple one level nested dictionary?"
   ]
  },
  {
   "cell_type": "markdown",
   "id": "bcbe6ffa",
   "metadata": {},
   "source": [
    "### Ans:"
   ]
  },
  {
   "cell_type": "markdown",
   "id": "da7c163a-a1f3-4bda-9a8a-8424e10d5a91",
   "metadata": {},
   "source": [
    "Yes, we can create a nested dictionary in Python. A nested dictionary is a dictionary that contains one or more dictionaries as its values.\n",
    "\n",
    "Here is an example of a simple one-level nested dictionary:"
   ]
  },
  {
   "cell_type": "code",
   "execution_count": 7,
   "id": "ee43e031",
   "metadata": {},
   "outputs": [
    {
     "name": "stdout",
     "output_type": "stream",
     "text": [
      "{'person1': {'name': 'John', 'age': 30}, 'person2': {'name': 'Jane', 'age': 25}}\n"
     ]
    }
   ],
   "source": [
    "my_dict = {\n",
    "    'person1': {'name': 'John', 'age': 30},\n",
    "    'person2': {'name': 'Jane', 'age': 25}\n",
    "}\n",
    "\n",
    "print(my_dict)\n"
   ]
  },
  {
   "cell_type": "code",
   "execution_count": null,
   "id": "f5f0cbf1",
   "metadata": {},
   "outputs": [],
   "source": []
  },
  {
   "cell_type": "markdown",
   "id": "03f9a432-b084-4250-a801-4c180fe11d0c",
   "metadata": {},
   "source": [
    "## Question 7\n",
    "7. Using setdefault() method, create key named topic in the given dictionary and also add the value of the key as \n",
    "    this \n",
    "    \n",
    "    list['Python', 'Machine Learning', 'Deep Learning']\n",
    "    \n",
    "    dict1 = {'language': 'Python', 'course':'Data Science Masters'}"
   ]
  },
  {
   "cell_type": "code",
   "execution_count": 8,
   "id": "d2d4ab7b-1794-4634-8f63-de960c5aa08e",
   "metadata": {},
   "outputs": [
    {
     "name": "stdout",
     "output_type": "stream",
     "text": [
      "{'language': 'Python', 'course': 'Data Science Masters', 'topic': ['Python', 'Machine Learning', 'Deep Learning']}\n"
     ]
    }
   ],
   "source": [
    "dict1 = {'language': 'Python', 'course':'Data Science Masters'}\n",
    "dict1.setdefault('topic', ['Python', 'Machine Learning', 'Deep Learning'])\n",
    "print(dict1)"
   ]
  },
  {
   "cell_type": "markdown",
   "id": "afc38904-c8a5-476b-bad5-bc7d7e8c1a53",
   "metadata": {},
   "source": [
    "## Question 8\n",
    "8. What is the three view objects in dictionaries? Use the three in-built methods in python to display these three view objects for\n",
    "    the given dictionary.\n",
    "    \n",
    "    dict1 = {'Sport':'Cricket', 'Teams': {'India', 'Australia'. 'England', 'South Africa', 'Sri Lanka', 'New Zealand'}}"
   ]
  },
  {
   "cell_type": "markdown",
   "id": "9331634a",
   "metadata": {},
   "source": [
    "### Ans:"
   ]
  },
  {
   "cell_type": "markdown",
   "id": "7a1e22a9-b4c6-4a6a-8a16-4756d839ace1",
   "metadata": {},
   "source": [
    "In Python, there are three view objects that are associated with a dictionary:\n",
    "\n",
    "1. dict.keys() returns a view object that contains the keys of the dictionary.\n",
    "2. dict.values() returns a view object that contains the values of the dictionary.\n",
    "3. dict.items() returns a view object that contains the key-value pairs of the dictionary as tuples."
   ]
  },
  {
   "cell_type": "code",
   "execution_count": 9,
   "id": "47801be2-6ef2-4c85-91ba-f17a5d6340fa",
   "metadata": {},
   "outputs": [
    {
     "name": "stdout",
     "output_type": "stream",
     "text": [
      "Dictionary.keys():  dict_keys(['Sport', 'Teams'])\n",
      "Dictionary.values():  dict_values(['Cricket', {'India', 'Australia', 'England', 'Sri Lanka', 'New Zealand', 'South Africa'}])\n",
      "Dictionary.items():  dict_items([('Sport', 'Cricket'), ('Teams', {'India', 'Australia', 'England', 'Sri Lanka', 'New Zealand', 'South Africa'})])\n"
     ]
    }
   ],
   "source": [
    "dict1 = {'Sport':'Cricket', 'Teams': {'India', 'Australia', 'England', 'South Africa', 'Sri Lanka', 'New Zealand'}}\n",
    "\n",
    "print('Dictionary.keys(): ', dict1.keys())\n",
    "print('Dictionary.values(): ', dict1.values())\n",
    "print('Dictionary.items(): ', dict1.items())"
   ]
  },
  {
   "cell_type": "code",
   "execution_count": null,
   "id": "37a63b75-bffe-406c-a499-cd6f84815ec5",
   "metadata": {},
   "outputs": [],
   "source": []
  },
  {
   "cell_type": "code",
   "execution_count": null,
   "id": "8da2877f-ab1d-452a-aa78-e48103e92b91",
   "metadata": {},
   "outputs": [],
   "source": []
  },
  {
   "cell_type": "code",
   "execution_count": null,
   "id": "40b15039-0c0b-401b-9b85-2587179aaad8",
   "metadata": {},
   "outputs": [],
   "source": []
  },
  {
   "cell_type": "code",
   "execution_count": null,
   "id": "ba0621ba-2b60-4976-a9c2-70e5153d786c",
   "metadata": {},
   "outputs": [],
   "source": []
  },
  {
   "cell_type": "code",
   "execution_count": null,
   "id": "34e951e8-c3a4-47b9-b4d6-22528fddb8fa",
   "metadata": {},
   "outputs": [],
   "source": []
  }
 ],
 "metadata": {
  "kernelspec": {
   "display_name": "Python 3 (ipykernel)",
   "language": "python",
   "name": "python3"
  },
  "language_info": {
   "codemirror_mode": {
    "name": "ipython",
    "version": 3
   },
   "file_extension": ".py",
   "mimetype": "text/x-python",
   "name": "python",
   "nbconvert_exporter": "python",
   "pygments_lexer": "ipython3",
   "version": "3.8.10"
  }
 },
 "nbformat": 4,
 "nbformat_minor": 5
}
