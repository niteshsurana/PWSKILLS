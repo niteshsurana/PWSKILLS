{
 "cells": [
  {
   "cell_type": "markdown",
   "id": "24dbb96f-ae1d-4a36-9cdb-2809b8f090e6",
   "metadata": {},
   "source": [
    "## Question 1\n",
    "1. What is an Exception in python? Write the difference between Exceptions nd syntex errors?"
   ]
  },
  {
   "cell_type": "markdown",
   "id": "5432df90-701d-474e-b493-0a408154d8a3",
   "metadata": {},
   "source": [
    "### Ans:"
   ]
  },
  {
   "cell_type": "markdown",
   "id": "99a51a47-29a1-45b6-8ea7-c2a2c8e1bc73",
   "metadata": {},
   "source": [
    "In Python, an exception is a run-time error that occurs while a program is executing. When an exception occurs, the program stops running and Python generates an error message that describes the problem.\n",
    "\n",
    "Syntax errors, on the other hand, are errors that occur when the Python interpreter cannot understand the code you have written. These types of errors occur when you have written code that violates the syntax rules of the Python language. Syntax errors are detected by the Python interpreter when you try to run the code.\n",
    "\n",
    "The main difference between exceptions and syntax errors is that syntax errors occur during the parsing stage, before the program is executed, while exceptions occur during the execution stage of a program. Syntax errors are usually caused by mistakes in the code, such as misspelled keywords, missing or extra parentheses, and incorrect indentation. Exceptions, on the other hand, can be caused by a wide variety of problems, such as dividing by zero, trying to access a file that doesn't exist, or calling a function with the wrong number of arguments.\n",
    "\n"
   ]
  },
  {
   "cell_type": "code",
   "execution_count": null,
   "id": "aabb3d1e-8781-4218-a708-bb97486e36b6",
   "metadata": {},
   "outputs": [],
   "source": []
  },
  {
   "cell_type": "markdown",
   "id": "786a9c71-e762-488d-bbbd-32e8d4620c0d",
   "metadata": {},
   "source": [
    "## Question 2\n",
    "2. What happens when an exception is not handled? Explain with an example"
   ]
  },
  {
   "cell_type": "markdown",
   "id": "0124c756-f38f-4f1c-bfa6-c5c7419547df",
   "metadata": {
    "tags": []
   },
   "source": [
    "### Ans:"
   ]
  },
  {
   "cell_type": "markdown",
   "id": "9df3632a-6418-442e-8c99-caf6ad7ea032",
   "metadata": {},
   "source": [
    "When an exception is not handled, the Python interpreter will terminate the program and print a traceback message to the console. This traceback message includes information about the type of exception that occurred, the line of code where the exception occurred, and the call stack leading up to the exception.\n",
    "\n",
    "Here is an example that demonstrates what happens when an exception is not handled:\n",
    "\n"
   ]
  },
  {
   "cell_type": "code",
   "execution_count": 3,
   "id": "bb74137c-4fc7-4c7c-8bb8-dd61e9a813a4",
   "metadata": {
    "tags": []
   },
   "outputs": [
    {
     "ename": "ZeroDivisionError",
     "evalue": "division by zero",
     "output_type": "error",
     "traceback": [
      "\u001b[0;31m---------------------------------------------------------------------------\u001b[0m",
      "\u001b[0;31mZeroDivisionError\u001b[0m                         Traceback (most recent call last)",
      "Cell \u001b[0;32mIn[3], line 2\u001b[0m\n\u001b[1;32m      1\u001b[0m a \u001b[38;5;241m=\u001b[39m \u001b[38;5;241m10\u001b[39m\n\u001b[0;32m----> 2\u001b[0m \u001b[43ma\u001b[49m\u001b[38;5;241;43m/\u001b[39;49m\u001b[38;5;241;43m0\u001b[39;49m\n",
      "\u001b[0;31mZeroDivisionError\u001b[0m: division by zero"
     ]
    }
   ],
   "source": [
    "a = 10\n",
    "a/0\n"
   ]
  },
  {
   "cell_type": "code",
   "execution_count": 4,
   "id": "e07e7798-2d07-45c0-b726-4a83d49f3945",
   "metadata": {
    "tags": []
   },
   "outputs": [
    {
     "name": "stdout",
     "output_type": "stream",
     "text": [
      "division by zero\n"
     ]
    }
   ],
   "source": [
    "## with handling the exceptions\n",
    "try: \n",
    "    a = 10\n",
    "    a/0\n",
    "except Exception as e:\n",
    "    print(e)"
   ]
  },
  {
   "cell_type": "code",
   "execution_count": null,
   "id": "9355ee0f-0872-46e6-9f38-d7ff0b9b1f01",
   "metadata": {},
   "outputs": [],
   "source": []
  },
  {
   "cell_type": "markdown",
   "id": "a7d85289-db27-4562-bec7-950b34ee56a6",
   "metadata": {},
   "source": [
    "## Question 3\n",
    "3. Which Python statements are used to catch and handle exceptions? Explain with an example"
   ]
  },
  {
   "cell_type": "markdown",
   "id": "07bc04ab-e3a7-4a64-847b-140405575906",
   "metadata": {},
   "source": [
    "### Ans:"
   ]
  },
  {
   "cell_type": "markdown",
   "id": "d6be161d-7943-4c73-a5fa-24dda29e1e50",
   "metadata": {},
   "source": [
    "In Python, the try and except statements are used to catch and handle exceptions. The try block contains the code that may raise an exception, and the except block contains the code that handles the exception.\n",
    "\n",
    "Here is an example that demonstrates the use of try and except statements:\n",
    "\n"
   ]
  },
  {
   "cell_type": "code",
   "execution_count": 7,
   "id": "d786fc78-b6e5-400a-89ac-4e7215af772d",
   "metadata": {
    "tags": []
   },
   "outputs": [
    {
     "name": "stdin",
     "output_type": "stream",
     "text": [
      "Enter a number:  a\n"
     ]
    },
    {
     "name": "stdout",
     "output_type": "stream",
     "text": [
      "You must enter a valid integer\n"
     ]
    }
   ],
   "source": [
    "try:\n",
    "    x = int(input(\"Enter a number: \"))\n",
    "    y = 10 / x\n",
    "    print(\"The result is:\", y)\n",
    "except ValueError:\n",
    "    print(\"You must enter a valid integer\")\n",
    "except ZeroDivisionError:\n",
    "    print(\"You cannot divide by zero\")\n"
   ]
  },
  {
   "cell_type": "markdown",
   "id": "a9a68ace-440c-4844-a713-74dd6de834d5",
   "metadata": {},
   "source": [
    "In this example, we first ask the user to enter a number using the input function. We then attempt to divide 10 by the user's input and print the result. However, there are two possible exceptions that may occur: ValueError if the user enters a value that cannot be converted to an integer, and ZeroDivisionError if the user enters 0 as the input.\n",
    "\n",
    "To handle these exceptions, we have specified two except blocks. The first except block will execute if a ValueError occurs, and will print an error message indicating that the user must enter a valid integer. The second except block will execute if a ZeroDivisionError occurs, and will print an error message indicating that the user cannot divide by zero.\n",
    "\n",
    "If neither of these exceptions occurs, the code in the try block will execute without interruption, and the program will terminate normally."
   ]
  },
  {
   "cell_type": "code",
   "execution_count": null,
   "id": "b2404176-68cd-44db-9a6c-e272e12b4691",
   "metadata": {},
   "outputs": [],
   "source": []
  },
  {
   "cell_type": "markdown",
   "id": "d896375e-bcf9-41ed-8a57-0f6cbd72f00e",
   "metadata": {},
   "source": [
    "## Question 4\n",
    "4. Explain with an example:\n",
    "\n",
    "    a. try and except\n",
    "    \n",
    "    b. finally\n",
    "    \n",
    "    c. raise"
   ]
  },
  {
   "cell_type": "markdown",
   "id": "924de1b9-a5dd-4138-ba0f-ac3ef037b3fe",
   "metadata": {},
   "source": [
    "### Ans:"
   ]
  },
  {
   "cell_type": "markdown",
   "id": "344726fa-16a9-47ca-9af6-b8b6d23d5d7d",
   "metadata": {},
   "source": [
    "#### try and except\n",
    "In Python, the try and except statements are used to catch and handle exceptions that may occur during program execution.\n",
    "The try block contains the code that may raise an exception. If an exception occurs in the try block, the code in the except block is executed. The except block should contain code that can handle the specific type of exception that was raised.\n"
   ]
  },
  {
   "cell_type": "code",
   "execution_count": null,
   "id": "516db4df-f167-4aa3-ab21-e2a75777d7bf",
   "metadata": {
    "tags": []
   },
   "outputs": [],
   "source": [
    "try:\n",
    "    # code that may raise an exception\n",
    "except ExceptionType:\n",
    "    # code to handle the exception\n"
   ]
  },
  {
   "cell_type": "code",
   "execution_count": 10,
   "id": "fcc055ba-7252-4e89-a89a-f4d965836de0",
   "metadata": {
    "tags": []
   },
   "outputs": [
    {
     "name": "stdin",
     "output_type": "stream",
     "text": [
      "Enter a number:  1\n"
     ]
    },
    {
     "name": "stdout",
     "output_type": "stream",
     "text": [
      "The result is: 10.0\n"
     ]
    }
   ],
   "source": [
    "try:\n",
    "    x = int(input(\"Enter a number: \"))\n",
    "    y = 10 / x\n",
    "    print(\"The result is:\", y)\n",
    "except ValueError:\n",
    "    print(\"You must enter a valid integer\")\n",
    "except ZeroDivisionError:\n",
    "    print(\"You cannot divide by zero\")\n"
   ]
  },
  {
   "cell_type": "code",
   "execution_count": null,
   "id": "76678143-a81e-46ae-8576-c9a8a3998408",
   "metadata": {},
   "outputs": [],
   "source": []
  },
  {
   "cell_type": "markdown",
   "id": "bab6537d-40b7-4b5a-a587-5b00d90ee796",
   "metadata": {},
   "source": [
    "### finally\n",
    "In Python, the finally block is used in conjunction with try and except blocks to execute code that must run regardless of whether an exception is raised or not. The finally block is optional and can be added to a try and except block to execute code that needs to be performed regardless of whether an exception is thrown.\n",
    "\n",
    "Here is the basic syntax of a try, except, and finally statement:"
   ]
  },
  {
   "cell_type": "code",
   "execution_count": null,
   "id": "fdd9f184-c2c7-4c50-88b9-b908a6676ed5",
   "metadata": {
    "tags": []
   },
   "outputs": [],
   "source": [
    "try:\n",
    "    # code that may raise an exception\n",
    "except ExceptionType:\n",
    "    # code to handle the exception\n",
    "finally:\n",
    "    # code that will always execute, regardless of whether an exception is thrown\n"
   ]
  },
  {
   "cell_type": "code",
   "execution_count": 12,
   "id": "3d8c3435-5249-415b-8e07-9721a168d0fb",
   "metadata": {
    "tags": []
   },
   "outputs": [
    {
     "name": "stdin",
     "output_type": "stream",
     "text": [
      "Enter a number:  5\n"
     ]
    },
    {
     "name": "stdout",
     "output_type": "stream",
     "text": [
      "The result is: 2.0\n",
      "Thank you for using our program\n"
     ]
    }
   ],
   "source": [
    "try:\n",
    "    x = int(input(\"Enter a number: \"))\n",
    "    y = 10 / x\n",
    "    print(\"The result is:\", y)\n",
    "except ValueError:\n",
    "    print(\"You must enter a valid integer\")\n",
    "except ZeroDivisionError:\n",
    "    print(\"You cannot divide by zero\")\n",
    "finally:\n",
    "    print(\"Thank you for using our program\")\n"
   ]
  },
  {
   "cell_type": "code",
   "execution_count": null,
   "id": "c7e2b576-40e6-432c-be55-7b64613d2ba8",
   "metadata": {
    "tags": []
   },
   "outputs": [],
   "source": []
  },
  {
   "cell_type": "markdown",
   "id": "1e799b76-9b5e-412a-bb96-61f1b0a46ace",
   "metadata": {},
   "source": [
    "## raise \n",
    "In Python, the raise statement is used to explicitly raise an exception. The raise statement allows you to generate a custom error message and can be used in conjunction with the try and except statements to handle exceptions.\n",
    "\n",
    "The basic syntax for the raise statement is as follows:"
   ]
  },
  {
   "cell_type": "markdown",
   "id": "1df0eaad-dcfc-4328-b918-7b4103a3d36d",
   "metadata": {
    "tags": []
   },
   "source": [
    "'''raise ExceptionType(\"Error message\")'''\n",
    "\n",
    "In this example, ExceptionType is the type of exception that you want to raise, and \"Error message\" is a string that describes the error."
   ]
  },
  {
   "cell_type": "code",
   "execution_count": 15,
   "id": "080fd4c8-c8cc-4796-afdc-305368e75016",
   "metadata": {
    "tags": []
   },
   "outputs": [
    {
     "name": "stdout",
     "output_type": "stream",
     "text": [
      "Cannot divide by zero\n"
     ]
    }
   ],
   "source": [
    "def divide(x, y):\n",
    "    if y == 0:\n",
    "        raise ZeroDivisionError(\"Cannot divide by zero\")\n",
    "    else:\n",
    "        return x / y\n",
    "\n",
    "try:\n",
    "    result = divide(10, 0)\n",
    "except ZeroDivisionError as e:\n",
    "    print(e)\n"
   ]
  },
  {
   "cell_type": "code",
   "execution_count": null,
   "id": "4e52aeed-c2ee-4b85-926d-6b54073ee85d",
   "metadata": {},
   "outputs": [],
   "source": []
  },
  {
   "cell_type": "markdown",
   "id": "8249bd1a-dafb-4c44-aa43-7161810920d3",
   "metadata": {},
   "source": [
    "## Question 5\n",
    "5. What are Custom Exceptions in python? Why do we need Custom Exceptions? Explain with an example"
   ]
  },
  {
   "cell_type": "markdown",
   "id": "5b297fba-844b-452c-b939-68f06346ddd2",
   "metadata": {},
   "source": [
    "### Ans:"
   ]
  },
  {
   "cell_type": "markdown",
   "id": "e0cc9036-5dbe-495f-ae33-4461b8962e83",
   "metadata": {},
   "source": [
    "Custom Exceptions in Python are user-defined exceptions that are created by the programmer to handle specific situations in their code. These exceptions are created by defining a new class that inherits from the built-in Exception class or one of its subclasses.\n",
    "\n",
    "Custom exceptions can be useful for several reasons:\n",
    "\n",
    "1. To provide more specific error messages: Custom exceptions can be created with specific error messages that are tailored to the specific situation. This can make it easier for developers to debug their code.\n",
    "\n",
    "2. To handle specific exceptions: Custom exceptions can be created to handle specific exceptions that may occur in the program. This can make the code more modular and easier to understand.\n",
    "\n",
    "3. To create a hierarchy of exceptions: Custom exceptions can be created with subclasses to create a hierarchy of exceptions that allows for more fine-grained exception handling.\n",
    "\n",
    "Here is an example of how to create a custom exception in Python:"
   ]
  },
  {
   "cell_type": "code",
   "execution_count": 27,
   "id": "50840e4b-b675-40a2-a33a-06d967fbe7ab",
   "metadata": {
    "tags": []
   },
   "outputs": [],
   "source": [
    "class NegativeNumberError(Exception):\n",
    "    def __init__(self, message=\"Number cannot be negative\"):\n",
    "        self.message = message\n",
    "        super().__init__(self.message)\n"
   ]
  },
  {
   "cell_type": "code",
   "execution_count": 28,
   "id": "d046dd2c-b1d2-4936-a7e4-696f5ed58446",
   "metadata": {
    "tags": []
   },
   "outputs": [
    {
     "name": "stdout",
     "output_type": "stream",
     "text": [
      "Number cannot be negative\n"
     ]
    }
   ],
   "source": [
    "def calculate_square_root(x):\n",
    "    if x < 0:\n",
    "        raise NegativeNumberError()\n",
    "    else:\n",
    "        return x ** 0.5\n",
    "\n",
    "try:\n",
    "    result = calculate_square_root(-4)\n",
    "except NegativeNumberError as e:\n",
    "    print(e.message)\n"
   ]
  },
  {
   "cell_type": "markdown",
   "id": "5c54dc0a-5d2e-45cc-8b11-f845c8852f87",
   "metadata": {},
   "source": [
    "## Question 6\n",
    "6. Create custom exception class. Use this class to handle an exception."
   ]
  },
  {
   "cell_type": "markdown",
   "id": "fb756a3b-4f2f-4df6-8648-7b611742c3e4",
   "metadata": {
    "tags": []
   },
   "source": [
    "### Ans:"
   ]
  },
  {
   "cell_type": "code",
   "execution_count": 33,
   "id": "13def953-2a7b-4a20-9454-5d636d1bb1fa",
   "metadata": {
    "tags": []
   },
   "outputs": [
    {
     "name": "stdin",
     "output_type": "stream",
     "text": [
      "Enter the item name asdsadas\n"
     ]
    },
    {
     "name": "stdout",
     "output_type": "stream",
     "text": [
      "asdsadas is out of stock\n"
     ]
    }
   ],
   "source": [
    "class OutOfStockError(Exception):\n",
    "    def __init__(self, item):\n",
    "        self.item = item\n",
    "        super().__init__(f\"{item} is out of stock\")\n",
    "\n",
    "def purchase_item(item, inventory):\n",
    "    if item not in inventory:\n",
    "        raise OutOfStockError(item)\n",
    "    else:\n",
    "        inventory[item] -= 1\n",
    "        print(f\"Purchased {item}\")\n",
    "\n",
    "inventory = {\n",
    "    \"apple\": 0,\n",
    "    \"banana\": 3,\n",
    "    \"orange\": 2\n",
    "}\n",
    "\n",
    "try:\n",
    "    item = input('Enter the item name')\n",
    "    purchase_item(item, inventory)\n",
    "except OutOfStockError as e:\n",
    "    print(e)\n"
   ]
  },
  {
   "cell_type": "code",
   "execution_count": null,
   "id": "2597d77b-087a-4713-bc88-d36de4ccb687",
   "metadata": {},
   "outputs": [],
   "source": []
  }
 ],
 "metadata": {
  "kernelspec": {
   "display_name": "Python 3 (ipykernel)",
   "language": "python",
   "name": "python3"
  },
  "language_info": {
   "codemirror_mode": {
    "name": "ipython",
    "version": 3
   },
   "file_extension": ".py",
   "mimetype": "text/x-python",
   "name": "python",
   "nbconvert_exporter": "python",
   "pygments_lexer": "ipython3",
   "version": "3.8.10"
  }
 },
 "nbformat": 4,
 "nbformat_minor": 5
}
