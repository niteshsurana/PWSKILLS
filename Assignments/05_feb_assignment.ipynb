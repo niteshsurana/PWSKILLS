{
 "cells": [
  {
   "cell_type": "markdown",
   "id": "36687c50-3e16-499c-b33f-e1f009dc3266",
   "metadata": {},
   "source": [
    "## Question 1\n",
    "1. Explain Class and Object with respect to Object-Oriented Programming. Give a suitable example."
   ]
  },
  {
   "cell_type": "markdown",
   "id": "f4000d4c-0d07-4cde-a0b7-2b9b80502007",
   "metadata": {},
   "source": [
    "### Ans:"
   ]
  },
  {
   "cell_type": "markdown",
   "id": "56dc831b-4840-40f5-abf0-8fbac66150d6",
   "metadata": {},
   "source": [
    "A class is a user-defined blueprint or prototype from which objects are created. Classes provide a means of bundling data and functionality together. Creating a new class creates a new type of object, allowing new instances of that type to be made. Each class instance can have attributes attached to it for maintaining its state. Class instances can also have methods (defined by their class) for modifying their state.\n",
    "\n",
    "An Object is an instance of a Class. A class is like a blueprint while an instance is a copy of the class with actual values. For example, suppose Bike is a class then we can create objects like bike1, bike2, etc from the class. An object consists of state, behavior and identity.\n",
    "#### Example\n"
   ]
  },
  {
   "cell_type": "code",
   "execution_count": 6,
   "id": "162bf76b-e59b-43f0-b4ac-da2e64d130cd",
   "metadata": {},
   "outputs": [
    {
     "name": "stdout",
     "output_type": "stream",
     "text": [
      "mammal\n",
      "I'm a mammal\n",
      "I'm a dog\n"
     ]
    }
   ],
   "source": [
    "\n",
    "class Dog:\n",
    "\n",
    "\t# A simple class\n",
    "\t# attribute\n",
    "\tattr1 = \"mammal\"\n",
    "\tattr2 = \"dog\"\n",
    "\n",
    "\t# A sample method\n",
    "\tdef fun(self):\n",
    "\t\tprint(\"I'm a\", self.attr1)\n",
    "\t\tprint(\"I'm a\", self.attr2)\n",
    "\n",
    "\n",
    "# Object instantiation\n",
    "Rodger = Dog()\n",
    "\n",
    "# Accessing class attributes\n",
    "# and method through objects\n",
    "print(Rodger.attr1)\n",
    "Rodger.fun()\n"
   ]
  },
  {
   "cell_type": "code",
   "execution_count": null,
   "id": "a97f28a6-b358-4cc1-b365-b777926f79fe",
   "metadata": {},
   "outputs": [],
   "source": []
  },
  {
   "cell_type": "code",
   "execution_count": null,
   "id": "75ff354c-d3c1-42c0-9435-ef550a9df347",
   "metadata": {},
   "outputs": [],
   "source": []
  },
  {
   "cell_type": "markdown",
   "id": "6922c391-4ba3-4a21-8137-96bb783bf92a",
   "metadata": {},
   "source": [
    "## Question 2\n",
    "2. Name the four pillars of OOPs."
   ]
  },
  {
   "cell_type": "markdown",
   "id": "ac44daf6-40e9-49ed-b888-7a6f05dc84c8",
   "metadata": {},
   "source": [
    "### Ans:"
   ]
  },
  {
   "cell_type": "markdown",
   "id": "85e9ef4b-6f70-45c0-be0b-1d9337f771aa",
   "metadata": {},
   "source": [
    "These four pillars are \n",
    "1. Inheritance - To receive a quality, characteristic, etc., from your parents or family.\n",
    "2. Polymorphism - The condition of occurrence in several different forms.\n",
    "3. Encapsulation - To enclose something in or as if in a capsule.\n",
    "4. Abstraction - A general idea rather than one that relates to a particular object, person, or situation."
   ]
  },
  {
   "cell_type": "code",
   "execution_count": null,
   "id": "1bf199e6-dae1-4607-b470-6b4dcea36084",
   "metadata": {},
   "outputs": [],
   "source": []
  },
  {
   "cell_type": "markdown",
   "id": "db6795a2-dc81-4537-84d2-f506c0d1c9ca",
   "metadata": {},
   "source": [
    "## Question 3\n",
    "3. Explain why the __init__() function is used. Give a suitable example."
   ]
  },
  {
   "cell_type": "markdown",
   "id": "8fc1fa8a-ad8b-452e-a93a-66245e34356e",
   "metadata": {},
   "source": [
    "### Ans:"
   ]
  },
  {
   "cell_type": "markdown",
   "id": "1d1722dd-9ebe-4f74-91f2-54f159f1e938",
   "metadata": {},
   "source": [
    "Let’s say you are making a program which stores information about cars. You will create a class of name Car and then create objects of different cars. When creating a class object, we pass different things to it. In the case of cars, it will be company model, year of manufacture, etc. So, inside the class, we need a function that can assign all the arguments passed while creating the object to the newly created object. Or you might want to print something whenever a new car is added to your program.\n",
    "\n",
    "There is a method called __init__() for this task. This method is called automatically whenever a new object of a class is created. This type of function is also known as the constructor function. A constructor function is a function that is called every time a new class object is created.\n",
    "### Example"
   ]
  },
  {
   "cell_type": "code",
   "execution_count": 7,
   "id": "5c316f05-9240-481d-bdd7-2c4929c74b09",
   "metadata": {},
   "outputs": [
    {
     "name": "stdout",
     "output_type": "stream",
     "text": [
      "I ran first\n",
      "I ran second\n",
      "Name: Audi R8\n"
     ]
    }
   ],
   "source": [
    "class Car:\n",
    "    def __init__(self, name):\n",
    "        self.name = name\n",
    "        print(\"I ran first\")\n",
    " \n",
    "    def product(self):\n",
    "        print(\"I ran second\")\n",
    "        return (\"Name: \" + self.name)\n",
    " \n",
    " \n",
    "C = Car('Audi R8')\n",
    "print(C.product())"
   ]
  },
  {
   "cell_type": "code",
   "execution_count": null,
   "id": "a2923c72-b70b-4f7c-bac2-1e47b9c202ae",
   "metadata": {},
   "outputs": [],
   "source": []
  },
  {
   "cell_type": "markdown",
   "id": "1d4c8bec-40a1-46ad-a392-e93499eaa115",
   "metadata": {},
   "source": [
    "## Question 4\n",
    "4. Why self is used in OOPs?"
   ]
  },
  {
   "cell_type": "markdown",
   "id": "00090cf8-d3e4-4a07-93c9-ed5749d4d0f6",
   "metadata": {},
   "source": [
    "### Ans:"
   ]
  },
  {
   "cell_type": "markdown",
   "id": "a1700975-f185-4b18-8896-770bd7091788",
   "metadata": {},
   "source": [
    "self represents the instance of the class. By using the “self”  we can access the attributes and methods of the class in python.This allows each object to have its own attributes and methods. Thus, even long before creating these objects, we reference the objects as self while defining the class.\n",
    "\n",
    "### Example\n"
   ]
  },
  {
   "cell_type": "code",
   "execution_count": 10,
   "id": "f5314f2d-24cc-4ca9-961a-4bc628f1717a",
   "metadata": {},
   "outputs": [],
   "source": [
    "class Cat:\n",
    "    def __init__(self, name, age):\n",
    "        self.name = name\n",
    "        self.age = age\n",
    "\n",
    "    def info(self):\n",
    "        print(f\"I am a cat. My name is {self.name}. I am {self.age} years old.\")\n",
    "\n",
    "    def make_sound(self):\n",
    "        print(\"Meow\")\n",
    "        \n",
    "cat1 = Cat('Andy', 2)\n",
    "cat2 = Cat('Phoebe', 3)"
   ]
  },
  {
   "cell_type": "markdown",
   "id": "b6c9bcd0-684b-4d85-b291-6d26ef8e7f42",
   "metadata": {},
   "source": [
    "## Question 5\n",
    "5. What is inheritance? Give an example for each type of inheritance."
   ]
  },
  {
   "cell_type": "markdown",
   "id": "951d4e4c-d8e2-4edf-ad14-e298c4cafb99",
   "metadata": {},
   "source": [
    "### Ans:"
   ]
  },
  {
   "cell_type": "markdown",
   "id": "9880581a-aeed-4886-a959-a6373bfe3882",
   "metadata": {},
   "source": [
    "Inheritance is a mechanism in which one class acquires the property of another class. For example, a child inherits the traits of his/her parents. With inheritance, we can reuse the fields and methods of the existing class. Hence, inheritance facilitates Reusability and is an important concept of OOPs.\n",
    "\n",
    "### Example"
   ]
  },
  {
   "cell_type": "code",
   "execution_count": 12,
   "id": "297a0461-aec5-4b13-93c3-b181073e7764",
   "metadata": {},
   "outputs": [
    {
     "name": "stdout",
     "output_type": "stream",
     "text": [
      "This function is in parent class.\n",
      "This function is in child class.\n"
     ]
    }
   ],
   "source": [
    "# Base class\n",
    "class Parent:\n",
    "    def func1(self):\n",
    "        print(\"This function is in parent class.\")\n",
    "        \n",
    "# Derived class \n",
    "class Child(Parent):\n",
    "    def func2(self):\n",
    "        print(\"This function is in child class.\")\n",
    " \n",
    " \n",
    "object = Child()\n",
    "object.func1()\n",
    "object.func2()"
   ]
  },
  {
   "cell_type": "code",
   "execution_count": null,
   "id": "a7ec5b73-a64a-4b68-b708-4b898b9241f9",
   "metadata": {},
   "outputs": [],
   "source": []
  }
 ],
 "metadata": {
  "kernelspec": {
   "display_name": "Python 3 (ipykernel)",
   "language": "python",
   "name": "python3"
  },
  "language_info": {
   "codemirror_mode": {
    "name": "ipython",
    "version": 3
   },
   "file_extension": ".py",
   "mimetype": "text/x-python",
   "name": "python",
   "nbconvert_exporter": "python",
   "pygments_lexer": "ipython3",
   "version": "3.10.8"
  }
 },
 "nbformat": 4,
 "nbformat_minor": 5
}
