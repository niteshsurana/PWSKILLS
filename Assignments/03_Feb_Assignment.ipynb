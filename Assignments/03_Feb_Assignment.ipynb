{
 "cells": [
  {
   "cell_type": "markdown",
   "id": "bc42fb0e-913a-4b28-b964-384590544b9e",
   "metadata": {},
   "source": [
    "## Question 1: \n",
    "    "
   ]
  },
  {
   "cell_type": "markdown",
   "id": "b8608975-c2f6-4cb8-8c24-401667460f52",
   "metadata": {},
   "source": [
    "1. Which keyword is used to create a function? Create a function to return a list of\n",
    "    odd numbers in the range of 1,25.\n",
    "\n"
   ]
  },
  {
   "cell_type": "markdown",
   "id": "b1ef110b-019d-4d0a-a32f-915c35c2536a",
   "metadata": {},
   "source": [
    "### Ans:\n"
   ]
  },
  {
   "cell_type": "raw",
   "id": "7442f785-c8ed-4ae4-92fc-1b5a16fda781",
   "metadata": {},
   "source": [
    "\n",
    "def keyword is used to create the function\n",
    "def function_name(arguments)"
   ]
  },
  {
   "cell_type": "code",
   "execution_count": 4,
   "id": "57b37629-312f-49cd-a4d0-217a6b0301c5",
   "metadata": {},
   "outputs": [
    {
     "name": "stdout",
     "output_type": "stream",
     "text": [
      "Odd numbers in the range of 1 to 25 are  [1, 3, 5, 7, 9, 11, 13, 15, 17, 19, 21, 23, 25]\n"
     ]
    }
   ],
   "source": [
    "def odd_numbers():\n",
    "    return [i for i in range(1,26) if i%2!=0]\n",
    "\n",
    "print('Odd numbers in the range of 1 to 25 are ',odd_numbers())"
   ]
  },
  {
   "cell_type": "code",
   "execution_count": null,
   "id": "48b75928-bfb2-4520-909e-7fa7936c69ee",
   "metadata": {},
   "outputs": [],
   "source": []
  },
  {
   "cell_type": "markdown",
   "id": "f288e027-6a8b-405e-ab3c-3d9b5a787790",
   "metadata": {},
   "source": [
    "## Question 2"
   ]
  },
  {
   "cell_type": "markdown",
   "id": "23ee28e3-af8d-4f9b-88cc-bccaf8b96e19",
   "metadata": {},
   "source": [
    "2. Why *args and **kwargs is used in some function? Create a function each for *args and \n",
    "    **kwargs to demonstrate their use.\n",
    "    \n"
   ]
  },
  {
   "cell_type": "markdown",
   "id": "1893cbe1-f4d8-46cf-98e9-54afd98096b8",
   "metadata": {},
   "source": [
    "### Ans: "
   ]
  },
  {
   "cell_type": "raw",
   "id": "fcba757d-39d6-48dc-a146-80af8d2a4973",
   "metadata": {},
   "source": [
    "\n",
    "*args:\n",
    "*args in function definitions in python is used to pass a variable number of arguments\n",
    "to a function. It is used to pass a non-key worded, variable-length argument list. \n",
    "\n",
    "For example:"
   ]
  },
  {
   "cell_type": "code",
   "execution_count": 8,
   "id": "dce8a0d9-b256-4874-91f0-da80d61764e3",
   "metadata": {},
   "outputs": [
    {
     "name": "stdout",
     "output_type": "stream",
     "text": [
      "Sum: 8\n",
      "Sum: 22\n",
      "Sum: 17\n"
     ]
    }
   ],
   "source": [
    "## Using *args to pass the variable length arguments to the function\n",
    "\n",
    "def adder(*num):\n",
    "    sum = 0\n",
    "    \n",
    "    for n in num:\n",
    "        sum = sum + n\n",
    "\n",
    "    print(\"Sum:\",sum)\n",
    "\n",
    "adder(3,5)\n",
    "adder(4,5,6,7)\n",
    "adder(1,2,3,5,6)"
   ]
  },
  {
   "cell_type": "raw",
   "id": "ca6322e7-06ab-4992-bc9c-9d8d9b474e0c",
   "metadata": {},
   "source": [
    "**kwargs \n",
    "**kwargs in function definitions in python is used to pass a keyworded, variable-length argument list. A keyword argument is where you provide a name to the variable as you pass it into the function."
   ]
  },
  {
   "cell_type": "code",
   "execution_count": 11,
   "id": "0a79e309-c532-4b3a-90cb-2c33e4a92a5a",
   "metadata": {},
   "outputs": [
    {
     "name": "stdout",
     "output_type": "stream",
     "text": [
      "\n",
      "Data type of argument: <class 'dict'>\n",
      "Firstname is Nitesh\n",
      "Lastname is Surana\n",
      "Age is 27\n",
      "Phone is 1234567890\n",
      "\n",
      "Data type of argument: <class 'dict'>\n",
      "Firstname is John\n",
      "Lastname is Wood\n",
      "Email is johnwood@nomail.com\n",
      "Country is Wakanda\n",
      "Age is 25\n",
      "Phone is 9876543210\n"
     ]
    }
   ],
   "source": [
    "## Using **kwargs to pass the variable keyword arguments to the function \n",
    "def intro(**data):\n",
    "    print(\"\\nData type of argument:\",type(data))\n",
    "\n",
    "    for key, value in data.items():\n",
    "        print(\"{} is {}\".format(key,value))\n",
    "\n",
    "intro(Firstname=\"Nitesh\", Lastname=\"Surana\", Age=27, Phone=1234567890)\n",
    "intro(Firstname=\"John\", Lastname=\"Wood\", Email=\"johnwood@nomail.com\", Country=\"Wakanda\", Age=25, Phone=9876543210)\n"
   ]
  },
  {
   "cell_type": "code",
   "execution_count": null,
   "id": "3977ed15-9a52-46b1-8bf8-603efbd389f8",
   "metadata": {},
   "outputs": [],
   "source": []
  },
  {
   "cell_type": "code",
   "execution_count": null,
   "id": "ac2b5a96-8ad2-4516-97e6-79ae51808d11",
   "metadata": {},
   "outputs": [],
   "source": []
  },
  {
   "cell_type": "markdown",
   "id": "da8cd288-4df1-4805-bb30-79e7a6c4c59d",
   "metadata": {},
   "source": [
    "## Question 3"
   ]
  },
  {
   "cell_type": "markdown",
   "id": "95f9257f-0b01-478f-a098-247301d35af2",
   "metadata": {},
   "source": [
    "3. What is a iterator in python? Name the method used to initialize the iterator and \n",
    "    the method used for iteration. Use these methods to print the first five elements of\n",
    "    the given \n",
    "    \n",
    "    list[2,4,6,8,10,12,14,16,18,20]\n",
    "    \n"
   ]
  },
  {
   "cell_type": "markdown",
   "id": "39c63646-9118-4eca-aba4-f1472611287b",
   "metadata": {},
   "source": [
    "### Ans:"
   ]
  },
  {
   "cell_type": "raw",
   "id": "ca92eb3a-b3ee-45c3-8aa4-2886efb87306",
   "metadata": {},
   "source": [
    "Iterator in Python is an object that is used to iterate over iterable objects like lists, tuples, dicts, and sets. The iterator object is initialized using the iter() method. It uses the next() method for iteration.\n",
    "\n",
    "iter() = The iter() method is called for the initialization of an iterator. This returns an iterator object.\n",
    "next() = The next method returns the next value for the iterable. When we use a for loop to traverse any iterable object, internally it uses the iter() method to get an iterator object, which further uses the next() method to iterate over. This method raises a StopIteration to signal the end of the iteration.\n"
   ]
  },
  {
   "cell_type": "code",
   "execution_count": 16,
   "id": "c8dc7649-15f1-41d1-bb63-42a2af3d1e2a",
   "metadata": {},
   "outputs": [
    {
     "name": "stdout",
     "output_type": "stream",
     "text": [
      "2\n",
      "4\n",
      "6\n",
      "8\n",
      "10\n"
     ]
    }
   ],
   "source": [
    "l = [2,4,6,8,10,12,14,16,18,20]\n",
    "list_iter = iter(l)\n",
    "\n",
    "for i in range(5):\n",
    "    print(next(list_iter))"
   ]
  },
  {
   "cell_type": "code",
   "execution_count": null,
   "id": "3d0dcca1-1449-4055-9918-b6ba88c04b8f",
   "metadata": {},
   "outputs": [],
   "source": []
  },
  {
   "cell_type": "markdown",
   "id": "9ae46370-d8cb-44bd-97c4-07c1ca4e7c06",
   "metadata": {},
   "source": [
    "## Question 4"
   ]
  },
  {
   "cell_type": "markdown",
   "id": "e3aaf315-6f25-4cc2-8918-f6aab5fb0408",
   "metadata": {},
   "source": [
    "4. What is a generator function in python? Why yield keyword is used? Give an example of \n",
    "    generator function.\n",
    "\n"
   ]
  },
  {
   "cell_type": "markdown",
   "id": "25e44eb6-a646-4179-bcd5-4ee55e6e8eed",
   "metadata": {},
   "source": [
    "### Ans: "
   ]
  },
  {
   "cell_type": "raw",
   "id": "fffea492-262b-4b05-ad3c-2c0cd088adb0",
   "metadata": {},
   "source": [
    "a generator is a function that returns an iterator that produces a sequence of values when iterated over. Generators are useful when we want to produce a large sequence of values, but we don't want to store all of them in memory at once.\n",
    "\n",
    "The yield keyword is used to produce a value from the generator."
   ]
  },
  {
   "cell_type": "code",
   "execution_count": 20,
   "id": "5b358769-7722-4984-a2ff-07975255a225",
   "metadata": {},
   "outputs": [
    {
     "name": "stdout",
     "output_type": "stream",
     "text": [
      "285\n",
      "4895\n"
     ]
    }
   ],
   "source": [
    "## Example: If we want to find out the sum of squares of numbers in the Fibonacci series\n",
    "\n",
    "def fibonacci_numbers(nums):\n",
    "    x, y = 0, 1\n",
    "    for i in range(nums):\n",
    "        \n",
    "        x, y = y, x+y\n",
    "        yield x\n",
    "\n",
    "def square(nums):\n",
    "    \n",
    "    for num in nums:\n",
    "        yield num**2\n",
    "\n",
    "print(sum(square(range(1,10))))\n",
    "print(sum(square(fibonacci_numbers(10))))\n"
   ]
  },
  {
   "cell_type": "code",
   "execution_count": null,
   "id": "744d63dc-0f0e-4e72-8342-298f567876bf",
   "metadata": {},
   "outputs": [],
   "source": []
  },
  {
   "cell_type": "markdown",
   "id": "70eefa27-e0c7-4315-a957-d896a5fd59ed",
   "metadata": {},
   "source": [
    "## Question 5"
   ]
  },
  {
   "cell_type": "markdown",
   "id": "ed0b510a-c289-4ff4-9129-d4733932d5c1",
   "metadata": {},
   "source": [
    "5. Create a generator function for prime numbers less than 1000. Use the next() method \n",
    "    to print first 20 prime numbers.\n",
    "    \n"
   ]
  },
  {
   "cell_type": "markdown",
   "id": "dd27002d-020d-4ec7-8c79-2db7eb49384a",
   "metadata": {},
   "source": [
    "### Ans:"
   ]
  },
  {
   "cell_type": "code",
   "execution_count": 38,
   "id": "19ea4d33-a4b3-4d80-9d75-e725747656a5",
   "metadata": {},
   "outputs": [],
   "source": [
    "def isPrime(n):\n",
    "    if (n < 2):\n",
    "        return False\n",
    "    if (n == 2):\n",
    "        return True\n",
    "    if (n % 2 == 0):\n",
    "        return False\n",
    "    maxFactor = round(n**0.5)\n",
    "    for factor in range(3,maxFactor+1,2):\n",
    "        if (n % factor == 0):\n",
    "            return False\n",
    "    return True\n",
    "\n",
    "def prime_numbers():\n",
    "    \n",
    "    for i in range(1,1001):\n",
    "        if isPrime(i):\n",
    "            yield i\n",
    "            \n",
    "prime_iter = prime_numbers()   "
   ]
  },
  {
   "cell_type": "code",
   "execution_count": 39,
   "id": "b0a413af-2676-435b-99d0-5781da804e2d",
   "metadata": {},
   "outputs": [
    {
     "name": "stdout",
     "output_type": "stream",
     "text": [
      "Prime number 1 : 2\n",
      "Prime number 2 : 3\n",
      "Prime number 3 : 5\n",
      "Prime number 4 : 7\n",
      "Prime number 5 : 11\n",
      "Prime number 6 : 13\n",
      "Prime number 7 : 17\n",
      "Prime number 8 : 19\n",
      "Prime number 9 : 23\n",
      "Prime number 10 : 29\n",
      "Prime number 11 : 31\n",
      "Prime number 12 : 37\n",
      "Prime number 13 : 41\n",
      "Prime number 14 : 43\n",
      "Prime number 15 : 47\n",
      "Prime number 16 : 53\n",
      "Prime number 17 : 59\n",
      "Prime number 18 : 61\n",
      "Prime number 19 : 67\n",
      "Prime number 20 : 71\n"
     ]
    }
   ],
   "source": [
    "for i in range(20):\n",
    "    print('Prime number',i+1,':', next(prime_iter))"
   ]
  },
  {
   "cell_type": "code",
   "execution_count": null,
   "id": "3159a946-e5cb-41a4-9167-407629633cde",
   "metadata": {},
   "outputs": [],
   "source": []
  }
 ],
 "metadata": {
  "kernelspec": {
   "display_name": "Python 3 (ipykernel)",
   "language": "python",
   "name": "python3"
  },
  "language_info": {
   "codemirror_mode": {
    "name": "ipython",
    "version": 3
   },
   "file_extension": ".py",
   "mimetype": "text/x-python",
   "name": "python",
   "nbconvert_exporter": "python",
   "pygments_lexer": "ipython3",
   "version": "3.10.8"
  }
 },
 "nbformat": 4,
 "nbformat_minor": 5
}
