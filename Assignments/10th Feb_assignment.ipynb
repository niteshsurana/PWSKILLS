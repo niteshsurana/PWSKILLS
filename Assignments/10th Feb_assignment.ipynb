{
 "cells": [
  {
   "cell_type": "markdown",
   "id": "a53c259c-077c-45ce-8dc3-0c056cead262",
   "metadata": {},
   "source": [
    "## Question 1\n",
    "1. Which function is used to open a file? What are the different modes of opening a file? Explain each mode\n",
    "of file opening."
   ]
  },
  {
   "cell_type": "markdown",
   "id": "04c7c17c-1355-43ad-89bc-593c1339389e",
   "metadata": {
    "tags": []
   },
   "source": [
    "### Ans:"
   ]
  },
  {
   "cell_type": "markdown",
   "id": "a514c90e-9d31-47e0-b889-c5d515aa9bf6",
   "metadata": {},
   "source": [
    "In python, The function used to open the file is called 'open()'. The open() function takes two arguments: the path to the file that you want to open and the mode in which you want to open the file.\n",
    "\n",
    "#### open(filename, mode)"
   ]
  },
  {
   "cell_type": "markdown",
   "id": "1b706b55-8a1f-499a-9689-05f0a4eb5c55",
   "metadata": {},
   "source": [
    "The different modes of opening a file are:\n",
    "\n",
    "1. \"r\": read mode - This is the default mode when opening a file. It allows you to read the contents of the file but not modify them. If the file does not exist, this mode will raise a FileNotFoundError.\n",
    "\n",
    "2. \"w\": write mode - This mode allows you to modify the contents of the file. If the file does not exist, it will be created. If it already exists, the contents of the file will be overwritten.\n",
    "\n",
    "3. \"a\": append mode - This mode allows you to add new data to the end of an existing file. If the file does not exist, it will be created.\n",
    "\n",
    "4. \"x\": exclusive creation mode - This mode allows you to create a new file, but it will raise a FileExistsError if the file already exists.\n",
    "\n",
    "5. \"b\": binary mode - This mode is used to open a file in binary mode. It is often used when working with non-text files, such as images or videos.\n",
    "\n",
    "6. \"t\": text mode - This mode is used to open a file in text mode. It is the default mode for opening a file in most programming languages.\n",
    "\n",
    "When opening a file, you can use any combination of these modes. For example, if you want to open a file in write mode and binary mode, you would use \"wb\". If you want to open a file in read mode and text mode, you would use \"rt\".\n"
   ]
  },
  {
   "cell_type": "code",
   "execution_count": null,
   "id": "8ab30a38-c806-489c-99aa-6568b214e360",
   "metadata": {},
   "outputs": [],
   "source": []
  },
  {
   "cell_type": "markdown",
   "id": "4e9a8ae8-aa24-40b9-8f5b-f8177d4478b7",
   "metadata": {
    "tags": []
   },
   "source": [
    "## Question 2\n",
    "2. Why close() function is used? Why is it important to close a file?"
   ]
  },
  {
   "cell_type": "markdown",
   "id": "71d901ed-9300-4657-9565-15dbbc9193ba",
   "metadata": {},
   "source": [
    "### Ans:"
   ]
  },
  {
   "cell_type": "markdown",
   "id": "ff1c8573-2d23-496d-9957-42303af9c21f",
   "metadata": {},
   "source": [
    "The close() function is used to close an opened file in most programming languages, including Python. the close() function is used to release the resources associated with an opened file and to ensure that the data is written to disk. It is important to close a file after you have finished working with it to prevent resource exhaustion, data corruption, file locking, and to maintain the security of your data."
   ]
  },
  {
   "cell_type": "code",
   "execution_count": null,
   "id": "f6facbb4-008e-4c53-ab46-e31ecf1fac59",
   "metadata": {},
   "outputs": [],
   "source": []
  },
  {
   "cell_type": "markdown",
   "id": "f6ce4e28-145f-4639-a093-1492a4097e30",
   "metadata": {
    "tags": []
   },
   "source": [
    "## Question 3\n",
    "3. Write a python program to create a text file. Write ‘I want to become a Data Scientist’ in that file. Then\n",
    "close the file. Open this file and read the content of the file."
   ]
  },
  {
   "cell_type": "markdown",
   "id": "799c03c1-b892-489c-8462-2e812d68a906",
   "metadata": {
    "tags": []
   },
   "source": [
    "### Ans:"
   ]
  },
  {
   "cell_type": "code",
   "execution_count": 11,
   "id": "2643ef37-0e6b-4edf-a640-ca5f5583e974",
   "metadata": {
    "tags": []
   },
   "outputs": [],
   "source": [
    "# Open a file in write mode\n",
    "\n",
    "with open('test.txt','w') as f:\n",
    "    f.write('I want to become a Data Scientist')\n",
    "  \n",
    "    \n"
   ]
  },
  {
   "cell_type": "code",
   "execution_count": 12,
   "id": "1cc2e898-bb87-41ca-af5f-254158451a9f",
   "metadata": {
    "tags": []
   },
   "outputs": [
    {
     "name": "stdout",
     "output_type": "stream",
     "text": [
      "I want to become a Data Scientist\n"
     ]
    }
   ],
   "source": [
    "# Open the file in read mode\n",
    "with open('test.txt','r') as f:\n",
    "    data = f.read()\n",
    "    print(data)\n",
    "    \n"
   ]
  },
  {
   "cell_type": "code",
   "execution_count": null,
   "id": "4e4b50ff-9568-4626-ad49-6d01a1925537",
   "metadata": {},
   "outputs": [],
   "source": []
  },
  {
   "cell_type": "markdown",
   "id": "40dda7e7-8e9c-45f4-a383-e5529f470a47",
   "metadata": {
    "tags": []
   },
   "source": [
    "## Question 4\n",
    "4. Explain the following with python code: read(), readline() and readlines()."
   ]
  },
  {
   "cell_type": "markdown",
   "id": "47d2cdaf-2e41-4f57-9436-5214eceeb941",
   "metadata": {},
   "source": [
    "### Ans:"
   ]
  },
  {
   "cell_type": "markdown",
   "id": "89365d4e-e8f4-4147-a520-43afb50de187",
   "metadata": {},
   "source": [
    "### 1. read() \n",
    "The read() method reads the entire contents of a file and returns them as a string."
   ]
  },
  {
   "cell_type": "code",
   "execution_count": 29,
   "id": "d059e096-006d-4c22-a233-7c3d7cd7faec",
   "metadata": {
    "tags": []
   },
   "outputs": [],
   "source": [
    "text = 'Nitesh surana\\nnitesh@gmail.com \\n9001631398 \\nB.Tech'\n",
    "file = open('test1.txt','w')\n",
    "file.write(text)\n",
    "file.close()"
   ]
  },
  {
   "cell_type": "code",
   "execution_count": 30,
   "id": "2660e3c4-542a-494d-96f6-ece9a7cce81c",
   "metadata": {
    "tags": []
   },
   "outputs": [
    {
     "name": "stdout",
     "output_type": "stream",
     "text": [
      "Nitesh surana\n",
      "nitesh@gmail.com \n",
      "9001631398 \n",
      "B.Tech\n"
     ]
    }
   ],
   "source": [
    "file = open('test1.txt','r')\n",
    "content = file.read()\n",
    "file.close()\n",
    "print(content)"
   ]
  },
  {
   "cell_type": "markdown",
   "id": "927bcdb2-ce79-4614-9a6c-25a2da547ae4",
   "metadata": {},
   "source": [
    "### 2. readline()\n",
    "The readline() method reads a single line from a file and returns it as a string. Each time readline() is called, it reads the next line of the file."
   ]
  },
  {
   "cell_type": "code",
   "execution_count": 31,
   "id": "6d303049-b92a-4899-b735-a9d9e090baa1",
   "metadata": {
    "tags": []
   },
   "outputs": [
    {
     "name": "stdout",
     "output_type": "stream",
     "text": [
      "Nitesh surana\n",
      "\n",
      "nitesh@gmail.com \n",
      "\n"
     ]
    }
   ],
   "source": [
    "file = open('test1.txt','r')\n",
    "line1 = file.readline()\n",
    "line2 = file.readline()\n",
    "file.close()\n",
    "print(line1)\n",
    "print(line2)"
   ]
  },
  {
   "cell_type": "markdown",
   "id": "ae8314cb-b054-4d24-a63e-74dfdd267e5d",
   "metadata": {},
   "source": [
    "### 3. readlines()\n",
    "The readlines() method reads all the lines of a file and returns them as a list of strings. Each line of the file is stored as a separate element in the list."
   ]
  },
  {
   "cell_type": "code",
   "execution_count": 32,
   "id": "4327911b-bc90-4674-b351-6c307d05c903",
   "metadata": {
    "tags": []
   },
   "outputs": [
    {
     "name": "stdout",
     "output_type": "stream",
     "text": [
      "['Nitesh surana\\n', 'nitesh@gmail.com \\n', '9001631398 \\n', 'B.Tech']\n"
     ]
    }
   ],
   "source": [
    "file = open('test1.txt','r')\n",
    "lines = file.readlines()\n",
    "file.close()\n",
    "print(lines)"
   ]
  },
  {
   "cell_type": "code",
   "execution_count": null,
   "id": "956a1d46-35f0-4313-8571-8b3b01b69a17",
   "metadata": {},
   "outputs": [],
   "source": []
  },
  {
   "cell_type": "markdown",
   "id": "18e264f2-dbaa-447a-b375-938ab80b22d7",
   "metadata": {
    "tags": []
   },
   "source": [
    "## Question 5\n",
    "5. Explain why with statement is used with open(). What is the advantage of using with statement and open() together?"
   ]
  },
  {
   "cell_type": "markdown",
   "id": "20f75a6b-3f48-4510-8e48-f048694f6129",
   "metadata": {},
   "source": [
    "### Ans:"
   ]
  },
  {
   "cell_type": "markdown",
   "id": "0bc3e8cf-7716-436f-8cbb-c4db1d92d663",
   "metadata": {},
   "source": [
    "In Python, the with statement is used with the open() function to automatically manage the opening and closing of files. The advantage of using the with statement with open() is that it guarantees that the file will be closed correctly, even if an error occurs while reading the file. This helps prevent memory leaks and other issues that can arise from unclosed files.\n",
    "\n",
    "Additionally, using the with statement with open() provides better readability and simplicity by eliminating the need for a separate close() statement. It also reduces the amount of code you need to write, making your code more concise.\n"
   ]
  },
  {
   "cell_type": "code",
   "execution_count": null,
   "id": "aac630b5-b960-48de-b961-6618f1dce09e",
   "metadata": {},
   "outputs": [],
   "source": [
    "# Using with statement to open a file\n",
    "with open(\"example.txt\", \"r\") as file:\n",
    "    # Read the contents of the file\n",
    "    content = file.read()\n",
    "\n",
    "# The file is automatically closed when the with block ends\n"
   ]
  },
  {
   "cell_type": "code",
   "execution_count": null,
   "id": "f577c858-65f7-45c3-9b62-22516244fe53",
   "metadata": {},
   "outputs": [],
   "source": []
  },
  {
   "cell_type": "markdown",
   "id": "9fee185a-562e-4b41-89f9-44b723d8f34e",
   "metadata": {
    "tags": []
   },
   "source": [
    "## Question 6\n",
    "6. Explain the write() and writelines() functions. Give a suitable example."
   ]
  },
  {
   "cell_type": "markdown",
   "id": "e9b990d7-156a-4ea4-880f-2dc37ab06a19",
   "metadata": {},
   "source": [
    "### Ans"
   ]
  },
  {
   "cell_type": "markdown",
   "id": "81d2e703-ce47-42aa-b6d6-931b4e0f12a7",
   "metadata": {},
   "source": [
    "In Python, the write() and writelines() functions are used to write data to a file. Here's an explanation of both functions with an example:\n",
    "\n",
    "### write()\n",
    "The write() function is used to write a single string to a file. If the file already exists, it will overwrite the existing contents of the file."
   ]
  },
  {
   "cell_type": "code",
   "execution_count": 33,
   "id": "9fb0b379-9323-4980-9aac-e75d8eea1ef7",
   "metadata": {
    "tags": []
   },
   "outputs": [],
   "source": [
    "# Open the file in write mode\n",
    "file = open(\"example.txt\", \"w\")\n",
    "\n",
    "# Write a single line of text to the file\n",
    "file.write(\"This is a test.\")\n",
    "\n",
    "# Close the file\n",
    "file.close()\n"
   ]
  },
  {
   "cell_type": "markdown",
   "id": "2a921d3b-c165-420c-b928-e8773ffc0789",
   "metadata": {},
   "source": [
    "### writelines()\n",
    "The writelines() function is used to write a list of strings to a file. Each string in the list is written as a separate line in the file."
   ]
  },
  {
   "cell_type": "code",
   "execution_count": 34,
   "id": "1589d158-8562-48db-8ce0-b11929806592",
   "metadata": {
    "tags": []
   },
   "outputs": [],
   "source": [
    "# Open the file in write mode\n",
    "file = open(\"example.txt\", \"w\")\n",
    "\n",
    "# Write multiple lines of text to the file\n",
    "lines = [\"This is line 1.\", \"This is line 2.\", \"This is line 3.\"]\n",
    "file.writelines(lines)\n",
    "\n",
    "# Close the file\n",
    "file.close()\n"
   ]
  },
  {
   "cell_type": "markdown",
   "id": "1648f049-7d55-4e66-bda7-d9b3e53ec8d8",
   "metadata": {
    "tags": []
   },
   "source": [
    "in both examples, the write() and writelines() functions do not automatically add newlines to the end of the strings. If you want to write each stri as a separate line in the file, you'll need to add a newline character (\\n) to the end of each string before writing it"
   ]
  },
  {
   "cell_type": "code",
   "execution_count": null,
   "id": "e9e8d43b-6c5c-4382-8222-f18f673a04dc",
   "metadata": {
    "tags": []
   },
   "outputs": [],
   "source": []
  },
  {
   "cell_type": "code",
   "execution_count": 37,
   "id": "0fd7c758-0d16-4720-8058-e6a2fba8f250",
   "metadata": {
    "tags": []
   },
   "outputs": [],
   "source": []
  },
  {
   "cell_type": "code",
   "execution_count": null,
   "id": "200669d2-6aa2-4709-bd72-dd87f19acede",
   "metadata": {},
   "outputs": [],
   "source": []
  }
 ],
 "metadata": {
  "kernelspec": {
   "display_name": "Python 3 (ipykernel)",
   "language": "python",
   "name": "python3"
  },
  "language_info": {
   "codemirror_mode": {
    "name": "ipython",
    "version": 3
   },
   "file_extension": ".py",
   "mimetype": "text/x-python",
   "name": "python",
   "nbconvert_exporter": "python",
   "pygments_lexer": "ipython3",
   "version": "3.8.10"
  }
 },
 "nbformat": 4,
 "nbformat_minor": 5
}
