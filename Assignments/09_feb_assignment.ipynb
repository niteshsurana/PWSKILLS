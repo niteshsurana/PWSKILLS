{
 "cells": [
  {
   "cell_type": "markdown",
   "id": "7f67804a-d349-42c6-828a-3f6c8801f41e",
   "metadata": {},
   "source": [
    "## Question 1\n",
    "\n",
    "1. Create a vehicle class with an init method having instance variables as name_of_vehicle, max_speed and average_of_vehicle."
   ]
  },
  {
   "cell_type": "markdown",
   "id": "8abe9a78-045c-40d7-9104-5aa0d4fd529d",
   "metadata": {},
   "source": [
    "### Ans:"
   ]
  },
  {
   "cell_type": "code",
   "execution_count": 4,
   "id": "6e2adc4d-653e-457a-b1f9-0ca906666d88",
   "metadata": {},
   "outputs": [],
   "source": [
    "class Vehicle:\n",
    "    \n",
    "    def __init__(self,name_of_vehicle, max_speed, average_of_vehicle):\n",
    "        self.name_of_vehicle = name_of_vehicle\n",
    "        self.max_speed = max_speed\n",
    "        self.average_of_vehicle = average_of_vehicle"
   ]
  },
  {
   "cell_type": "code",
   "execution_count": 5,
   "id": "539fe032-7f96-4b3f-a8cd-426896ed0bfc",
   "metadata": {},
   "outputs": [
    {
     "name": "stdout",
     "output_type": "stream",
     "text": [
      "Ford Mustang\n",
      "240\n",
      "15\n"
     ]
    }
   ],
   "source": [
    "car = Vehicle(\"Ford Mustang\", 240, 15)\n",
    "print(car.name_of_vehicle)  # Output: Ford Mustang\n",
    "print(car.max_speed)  # Output: 240\n",
    "print(car.average_of_vehicle)  # Output: 15"
   ]
  },
  {
   "cell_type": "code",
   "execution_count": null,
   "id": "51e27caf-58e2-407c-8d16-ee9b050f081e",
   "metadata": {},
   "outputs": [],
   "source": []
  },
  {
   "cell_type": "markdown",
   "id": "158ce8ad-6ecd-40bf-8d7a-b3bbd8e74bf6",
   "metadata": {},
   "source": [
    "## Question 2\n",
    "2. Create a child class car from the vehicle class created in Que 1, which will inherit the vehicle class.Create a method named seating_capacity which takes capacity as an argument and returns the name of the vehicle and its seating capacity."
   ]
  },
  {
   "cell_type": "markdown",
   "id": "83df00e6-496b-4406-ad85-ae9b6377c1f3",
   "metadata": {},
   "source": [
    "### Ans:"
   ]
  },
  {
   "cell_type": "code",
   "execution_count": 6,
   "id": "f12b90e4-c28a-4a6d-92b8-0dee2b72d3db",
   "metadata": {},
   "outputs": [],
   "source": [
    "class Car(Vehicle):\n",
    "    \n",
    "    def _init__(self,name_of_vehicle, max_speed, average_of_vehicle):\n",
    "        super().__init__(name_of_vehicle, max_speed, average_of_vehicle)\n",
    "        \n",
    "    def seating_capacity(self,capacity):\n",
    "        return f\"{self.name_of_vehicle} has a seating capacity of {capacity}\" "
   ]
  },
  {
   "cell_type": "code",
   "execution_count": 7,
   "id": "45bab45b-f5a8-41ce-8fde-07750fc62dd7",
   "metadata": {},
   "outputs": [
    {
     "name": "stdout",
     "output_type": "stream",
     "text": [
      "Ford Mustang has a seating capacity of 4\n"
     ]
    }
   ],
   "source": [
    "car = Car(\"Ford Mustang\", 240, 15)\n",
    "print(car.seating_capacity(4))"
   ]
  },
  {
   "cell_type": "code",
   "execution_count": null,
   "id": "f557db1a-91c6-4e56-ad3f-ad66a32febab",
   "metadata": {},
   "outputs": [],
   "source": []
  },
  {
   "cell_type": "markdown",
   "id": "0bcad979-3bc6-4f1f-b611-167bd390306c",
   "metadata": {},
   "source": [
    "## Question 3\n",
    "3. What is multiple inheritance? Write a python code to demonstrate multiple inheritance."
   ]
  },
  {
   "cell_type": "markdown",
   "id": "05f36ae7-3370-46d7-a632-20d22a1d49cc",
   "metadata": {},
   "source": [
    "### Ans:"
   ]
  },
  {
   "cell_type": "markdown",
   "id": "a0444db7-67de-4ec8-aa6c-a509b478eb42",
   "metadata": {},
   "source": [
    "Multiple inheritance is a feature in object-oriented programming where a class can inherit attributes and methods from multiple parent classes. This allows for code reuse and the creation of complex class hierarchies.\n",
    "\n",
    "#### Example"
   ]
  },
  {
   "cell_type": "code",
   "execution_count": 8,
   "id": "62020dfe-f42a-46fd-a286-140bdacbb0c2",
   "metadata": {},
   "outputs": [
    {
     "name": "stdout",
     "output_type": "stream",
     "text": [
      "Method A\n",
      "Method B\n",
      "Method C\n"
     ]
    }
   ],
   "source": [
    "class A:\n",
    "    def method_a(self):\n",
    "        print(\"Method A\")\n",
    "\n",
    "class B:\n",
    "    def method_b(self):\n",
    "        print(\"Method B\")\n",
    "\n",
    "class C(A, B):\n",
    "    def method_c(self):\n",
    "        print(\"Method C\")\n",
    "\n",
    "c = C()\n",
    "c.method_a()  # Output: Method A\n",
    "c.method_b()  # Output: Method B\n",
    "c.method_c()  # Output: Method C"
   ]
  },
  {
   "cell_type": "code",
   "execution_count": null,
   "id": "025a36b9-5ba9-434e-9e7c-6ab83e43939d",
   "metadata": {},
   "outputs": [],
   "source": []
  },
  {
   "cell_type": "markdown",
   "id": "aeeda509-6071-422e-a121-931ba4eaf4dc",
   "metadata": {},
   "source": [
    "## Question 4\n",
    "4. What are getter and setter in python? Create a class and create a getter and a setter method in this class."
   ]
  },
  {
   "cell_type": "markdown",
   "id": "e1281500-4dd2-4ffa-8fa4-ec3d02cebd6d",
   "metadata": {},
   "source": [
    "### Ans:"
   ]
  },
  {
   "cell_type": "markdown",
   "id": "c8a92d1e-91f8-4c32-b734-21a8a313ab87",
   "metadata": {},
   "source": [
    "Getter and setter methods are used in object-oriented programming to control access to class attributes. A getter method retrieves the value of an attribute, while a setter method sets the value of an attribute. This can help to ensure that class attributes are accessed and modified in a controlled way.\n",
    "\n",
    "Here's an example implementation of a class Person with a private attribute age, and getter and setter methods:"
   ]
  },
  {
   "cell_type": "code",
   "execution_count": 10,
   "id": "72521d16-8144-4169-b73d-b630cabbfc70",
   "metadata": {},
   "outputs": [],
   "source": [
    "class Person:\n",
    "    def __init__(self, name, age):\n",
    "        self.name = name\n",
    "        self.__age = age\n",
    "\n",
    "    def get_age(self):\n",
    "        return self.__age\n",
    "\n",
    "    def set_age(self, age):\n",
    "        if age < 0:\n",
    "            print(\"Age cannot be negative.\")\n",
    "        else:\n",
    "            self.__age = age\n"
   ]
  },
  {
   "cell_type": "code",
   "execution_count": 11,
   "id": "48acb94b-88b2-4a28-aea9-02ba20dc5987",
   "metadata": {},
   "outputs": [
    {
     "name": "stdout",
     "output_type": "stream",
     "text": [
      "25\n",
      "30\n",
      "Age cannot be negative.\n"
     ]
    }
   ],
   "source": [
    "person = Person(\"Alice\", 25)\n",
    "print(person.get_age())  # Output: 25\n",
    "\n",
    "person.set_age(30)\n",
    "print(person.get_age())  # Output: 30\n",
    "\n",
    "person.set_age(-5)  # Output: Age cannot be negative."
   ]
  },
  {
   "cell_type": "code",
   "execution_count": null,
   "id": "eaac3a6f-2853-4e01-ac38-cd8694c4d70d",
   "metadata": {},
   "outputs": [],
   "source": []
  },
  {
   "cell_type": "markdown",
   "id": "2b064310-f643-4763-b6fa-6c640c4f1402",
   "metadata": {},
   "source": [
    "## Question 5\n",
    "5. What is method overriding in python? Write a python code to demonstrate method overriding."
   ]
  },
  {
   "cell_type": "markdown",
   "id": "c1accf4b-74c8-4415-8e24-6d5939809fc0",
   "metadata": {},
   "source": [
    "### Ans:"
   ]
  },
  {
   "cell_type": "markdown",
   "id": "6bc8f8fd-2dbe-4260-b88c-ffc1d0ba2a0d",
   "metadata": {},
   "source": [
    "Method overriding is a feature in object-oriented programming where a subclass provides its own implementation of a method that is already defined in its superclass. This allows the subclass to modify or extend the behavior of the method without changing its name or signature.\n",
    "\n",
    "Here's an example Python code that demonstrates method overriding:"
   ]
  },
  {
   "cell_type": "code",
   "execution_count": 14,
   "id": "de5602d3-6d0b-4c7f-aa3e-4b9c7e211aaa",
   "metadata": {},
   "outputs": [
    {
     "name": "stdout",
     "output_type": "stream",
     "text": [
      "Generic animal sound\n",
      "Meow\n",
      "Woof\n"
     ]
    }
   ],
   "source": [
    "class Animal:\n",
    "    def make_sound(self):\n",
    "        print(\"Generic animal sound\")\n",
    "\n",
    "class Cat(Animal):\n",
    "    def make_sound(self):\n",
    "        print(\"Meow\")\n",
    "\n",
    "class Dog(Animal):\n",
    "    def make_sound(self):\n",
    "        print(\"Woof\")\n",
    "\n",
    "animal = Animal()\n",
    "animal.make_sound()  # Output: Generic animal sound\n",
    "\n",
    "cat = Cat()\n",
    "cat.make_sound()  # Output: Meow\n",
    "\n",
    "dog = Dog()\n",
    "dog.make_sound()  # Output: Woof\n"
   ]
  },
  {
   "cell_type": "code",
   "execution_count": null,
   "id": "a426aa21-a84d-491e-9ef4-5e7ffc851e21",
   "metadata": {},
   "outputs": [],
   "source": []
  },
  {
   "cell_type": "code",
   "execution_count": null,
   "id": "fee820e1-45e0-4d02-a483-d9f6ccc45bcf",
   "metadata": {},
   "outputs": [],
   "source": []
  }
 ],
 "metadata": {
  "kernelspec": {
   "display_name": "Python 3 (ipykernel)",
   "language": "python",
   "name": "python3"
  },
  "language_info": {
   "codemirror_mode": {
    "name": "ipython",
    "version": 3
   },
   "file_extension": ".py",
   "mimetype": "text/x-python",
   "name": "python",
   "nbconvert_exporter": "python",
   "pygments_lexer": "ipython3",
   "version": "3.10.8"
  }
 },
 "nbformat": 4,
 "nbformat_minor": 5
}
