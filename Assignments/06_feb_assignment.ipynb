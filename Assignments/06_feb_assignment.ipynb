{
 "cells": [
  {
   "cell_type": "markdown",
   "id": "bb60c03e-fe8d-422c-9c57-be52095886d4",
   "metadata": {},
   "source": [
    "## Question 1\n",
    "1. Create a function which will take a list as an argument and return the product of all the numbers\n",
    "after creating a flat list.\n",
    "Use the below-given list as an argument for your function.\n",
    "\n",
    "list1 = [1,2,3,4, [44,55,66, True], False, (34,56,78,89,34), {1,2,3,3,2,1}, {1:34, \"key2\": [55, 67, 78, 89], 4: (45,\n",
    "22, 61, 34)}, [56, 'data science'], 'Machine Learning']"
   ]
  },
  {
   "cell_type": "code",
   "execution_count": 1,
   "id": "4986bd39-7672-421c-9ab9-05801222321d",
   "metadata": {},
   "outputs": [],
   "source": [
    "def prod_numbers(l):\n",
    "    l_flat = []\n",
    "    \n",
    "    for element in l:\n",
    "        if type(element)== int or type(element)==float:\n",
    "            l_flat.append(element)\n",
    "        if type(element)==list or type(element)==set or type(element)==tuple or type(element)==dict:\n",
    "            \n",
    "            "
   ]
  },
  {
   "cell_type": "code",
   "execution_count": 4,
   "id": "9db252f8-05f7-4e21-b9a1-04a9f4f81548",
   "metadata": {},
   "outputs": [],
   "source": [
    "a = {1:34, \"key2\": [55, 67, 78, 89], 4: (45,\n",
    "22, 61, 34)}"
   ]
  },
  {
   "cell_type": "code",
   "execution_count": 12,
   "id": "6de1cc6f-75f6-4604-abb9-fc9213f05c59",
   "metadata": {},
   "outputs": [
    {
     "data": {
      "text/plain": [
       "dict"
      ]
     },
     "execution_count": 12,
     "metadata": {},
     "output_type": "execute_result"
    }
   ],
   "source": [
    "type(a)"
   ]
  },
  {
   "cell_type": "code",
   "execution_count": 43,
   "id": "e0b306d3-e4ba-4403-91dc-ee4bc8151fed",
   "metadata": {},
   "outputs": [
    {
     "data": {
      "text/plain": [
       "4134711838987085478833841242112000"
      ]
     },
     "execution_count": 43,
     "metadata": {},
     "output_type": "execute_result"
    }
   ],
   "source": [
    "from functools import reduce\n",
    "l_flat = []\n",
    "\n",
    "def flat_list(l):\n",
    "    \n",
    "    for i in l:\n",
    "        if type(i)==list:\n",
    "            flat_list(i)\n",
    "        elif type(i)==set:\n",
    "            flat_list(i)\n",
    "        elif type(i)==tuple:\n",
    "            flat_list(i)\n",
    "        elif type(i)== dict:\n",
    "            flat_list(i.items())\n",
    "        elif type(i)==int or type(i)==float:\n",
    "            l_flat.append(i)\n",
    "        \n",
    "def product_list(l):\n",
    "    flat_list(l)\n",
    "    \n",
    "    return reduce(lambda x,y : x*y,l_flat)\n",
    "\n",
    "l  =  [1,2,3,4, [44,55,66, True], False, (34,56,78,89,34), {1,2,3,3,2,1}, \n",
    "       {1:34, \"key2\": [55, 67, 78, 89], 4: (45, 22, 61, 34)}, [56, 'data science'], \n",
    "       'Machine Learning']\n",
    "\n",
    "product_list(l)"
   ]
  },
  {
   "cell_type": "code",
   "execution_count": null,
   "id": "28ff3a60-be2b-4671-9833-3ca81ab9f18c",
   "metadata": {},
   "outputs": [],
   "source": []
  },
  {
   "cell_type": "markdown",
   "id": "96802faa-9d90-43d0-9922-c463a4b58cd6",
   "metadata": {},
   "source": [
    "## Question 2\n",
    "2. Write a python program for encrypting a message sent to you by your friend. The logic of encryption\n",
    "should be such that, for a the output should be z. For b, the output should be y. For c, the output should\n",
    "be x respectively. Also, the whitespace should be replaced with a dollar sign. Keep the punctuation\n",
    "marks unchanged.\n",
    "\n",
    "Input Sentence: I want to become a Data Scientist.\n",
    "\n",
    "Encrypt the above input sentence using the program you just created."
   ]
  },
  {
   "cell_type": "code",
   "execution_count": 77,
   "id": "2cde2841-812d-4584-b3e0-4008b66ed8c9",
   "metadata": {},
   "outputs": [
    {
     "name": "stdout",
     "output_type": "stream",
     "text": [
      "The Encrypted Message is: \n",
      " R$dzmg$gl$yvxlnv$z$Wzgz$Hxrvmgrhg\n"
     ]
    }
   ],
   "source": [
    "s = 'I want to become a Data Scientist'\n",
    "s_encrypted = ''\n",
    "for element in s:\n",
    "    if element.islower():\n",
    "        s_encrypted =s_encrypted + chr(122-(ord(element)-97))\n",
    "    if element.isupper():\n",
    "        s_encrypted =s_encrypted + chr(90-(ord(element)-65))\n",
    "    if element==' ':\n",
    "        s_encrypted = s_encrypted + '$'\n",
    "        \n",
    "print('The Encrypted Message is: \\n', s_encrypted)"
   ]
  },
  {
   "cell_type": "code",
   "execution_count": null,
   "id": "5937bfc9-a98e-471b-b33e-3065d94380c1",
   "metadata": {},
   "outputs": [],
   "source": []
  },
  {
   "cell_type": "code",
   "execution_count": null,
   "id": "ba29d8f8-5c8a-4861-ae09-b02f9ef2eba1",
   "metadata": {},
   "outputs": [],
   "source": []
  }
 ],
 "metadata": {
  "kernelspec": {
   "display_name": "Python 3 (ipykernel)",
   "language": "python",
   "name": "python3"
  },
  "language_info": {
   "codemirror_mode": {
    "name": "ipython",
    "version": 3
   },
   "file_extension": ".py",
   "mimetype": "text/x-python",
   "name": "python",
   "nbconvert_exporter": "python",
   "pygments_lexer": "ipython3",
   "version": "3.10.8"
  }
 },
 "nbformat": 4,
 "nbformat_minor": 5
}
