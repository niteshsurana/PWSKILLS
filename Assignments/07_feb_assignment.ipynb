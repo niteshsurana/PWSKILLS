{
 "cells": [
  {
   "cell_type": "markdown",
   "id": "16512a98-041b-4142-9fc8-09baa8410f2f",
   "metadata": {},
   "source": [
    "## Question 1\n",
    "Q1. You are writing code for a company. The requirement of the company is that you create a python\n",
    "function that will check whether the password entered by the user is correct or not. The function should\n",
    "take the password as input and return the string “Valid Password” if the entered password follows the\n",
    "below-given password guidelines else it should return “Invalid Password”.\n",
    "Note: \n",
    "\n",
    "1. The Password should contain at least two uppercase letters and at least two lowercase letters.\n",
    "2. The Password should contain at least a number and three special characters.\n",
    "3. The length of the password should be 10 characters long."
   ]
  },
  {
   "cell_type": "code",
   "execution_count": 33,
   "id": "cda46121-af59-4dd8-93ac-a422fd70322c",
   "metadata": {},
   "outputs": [],
   "source": [
    "def password_checking(password):\n",
    "    #print(len(password))\n",
    "    if len(password)!=10:\n",
    "        return \"Invalid Password\"\n",
    "    \n",
    "    Digit = 0\n",
    "    U = 0\n",
    "    L = 0\n",
    "    S_C = 0\n",
    "    \n",
    "    for s in password:\n",
    "        if s.isupper():\n",
    "            U = U+1\n",
    "        \n",
    "        if s.islower():\n",
    "            L = L+1\n",
    "            \n",
    "        if s in '[@_!#$%^&*()<>?/\\|}{~:]':\n",
    "            S_C = S_C+1\n",
    "        \n",
    "        if s.isdigit():\n",
    "            Digit = Digit + 1\n",
    "    #print('U =',U,'\\nL =',L,'\\nS_C =', S_C, '\\nDigit =', Digit)        \n",
    "    if U>=2 and L>=2 and S_C==3 and Digit >=1:\n",
    "        return 'Valid Password'\n",
    "    else:\n",
    "        return \"Invalid Password\""
   ]
  },
  {
   "cell_type": "code",
   "execution_count": 34,
   "id": "96ac8e6d-5f1c-4b41-a800-78a6f2238826",
   "metadata": {},
   "outputs": [
    {
     "data": {
      "text/plain": [
       "'Valid Password'"
      ]
     },
     "execution_count": 34,
     "metadata": {},
     "output_type": "execute_result"
    }
   ],
   "source": [
    "password = '@@@WAYnn61'\n",
    "password_checking(password)"
   ]
  },
  {
   "cell_type": "code",
   "execution_count": null,
   "id": "3887f4b6-92af-4ee6-97f7-8563bdfbea22",
   "metadata": {},
   "outputs": [],
   "source": []
  },
  {
   "cell_type": "markdown",
   "id": "a44d2f91-7190-4a66-881f-690c83ece010",
   "metadata": {},
   "source": [
    "## Question 2\n",
    "\n",
    "Q2. Solve the below-given questions using at least one of the following:\n",
    "1. Lambda function\n",
    "2. Filter function\n",
    "3. Map function\n",
    "4. List Comprehension\n",
    "\n",
    "\n",
    "    1. Check if the string starts with a particular letter\n",
    "\n",
    "    2. Check if the string is numeric.\n",
    "\n",
    "    3. Sort a list of tuples having fruit names and their quantity. [(\"mango\",99),(\"orange\",80), (\"grapes\", 1000)]\n",
    "\n",
    "    4. Find the squares of numbers from 1 to 10\n",
    "\n",
    "    5. Find the cube root of numbers from 1 to 10\n",
    "\n",
    "    6. Check if a given number is even\n",
    "\n",
    "    7. Filter odd numbers from the given list. [1,2,3,4,5,6,7,8,9,10]\n",
    "\n",
    "    8. Sort a list of integers into positive and negative integers lists.  [1,2,3,4,5,6,-1,-2,-3,-4,-5,0]"
   ]
  },
  {
   "cell_type": "code",
   "execution_count": 4,
   "id": "54d71739-0481-440b-af45-58b5d23a8a3d",
   "metadata": {},
   "outputs": [
    {
     "name": "stdout",
     "output_type": "stream",
     "text": [
      "is the Nitesh starts with letter \"N\":  True\n"
     ]
    }
   ],
   "source": [
    "## A Check if the string starts with a particular letter\n",
    "S = 'Nitesh'  ## write the string with which you want to check the first letter\n",
    "letter = 'N' ## letter with which, have check whether string starts with this letter\n",
    "print(f'is the {S} starts with letter \"{letter}\": ', S.startswith(letter))"
   ]
  },
  {
   "cell_type": "code",
   "execution_count": 37,
   "id": "99b4c46d-b25c-4dda-b2ee-fead4dbe974e",
   "metadata": {},
   "outputs": [
    {
     "name": "stdin",
     "output_type": "stream",
     "text": [
      "Enter the string 12345\n"
     ]
    },
    {
     "name": "stdout",
     "output_type": "stream",
     "text": [
      "The String is numberic = True\n"
     ]
    }
   ],
   "source": [
    "## Check if the string is numeric.\n",
    "\n",
    "S = input('Enter the string')\n",
    "print('The String is numberic =',S.isnumeric())"
   ]
  },
  {
   "cell_type": "code",
   "execution_count": 41,
   "id": "252cdb09-56b3-4cdb-8f90-eca2a4b3b97a",
   "metadata": {},
   "outputs": [
    {
     "name": "stdout",
     "output_type": "stream",
     "text": [
      "The sorted list is  [('orange', 80), ('mango', 99), ('grapes', 1000)]\n"
     ]
    }
   ],
   "source": [
    "## Sort a list of tuples having fruit names and their quantity. [(\"mango\",99),(\"orange\",80), (\"grapes\", 1000)]\n",
    "\n",
    "l = [(\"mango\",99),(\"orange\",80), (\"grapes\", 1000)]\n",
    "\n",
    "l.sort(key = lambda x:x[1])\n",
    "print('The sorted list is ', l)"
   ]
  },
  {
   "cell_type": "code",
   "execution_count": 47,
   "id": "d378a67e-f174-415c-970b-13480e4bc9ba",
   "metadata": {},
   "outputs": [
    {
     "name": "stdout",
     "output_type": "stream",
     "text": [
      "The squares of numbers from 1 to 10 is =\n",
      " [1, 4, 9, 16, 25, 36, 49, 64, 81, 100]\n"
     ]
    }
   ],
   "source": [
    "## Find the squares of numbers from 1 to 10\n",
    "\n",
    "Sq = list(map(lambda x : x*x, range(1,11)))\n",
    "\n",
    "print('The squares of numbers from 1 to 10 is =\\n', Sq)"
   ]
  },
  {
   "cell_type": "code",
   "execution_count": 46,
   "id": "71f7de20-9510-48a7-a7f9-cc965131fd05",
   "metadata": {},
   "outputs": [
    {
     "name": "stdout",
     "output_type": "stream",
     "text": [
      "the cube root of numbers from 1 to 10 =\n",
      " [1.0, 1.2599210498948732, 1.4422495703074083, 1.5874010519681994, 1.7099759466766968, 1.8171205928321397, 1.912931182772389, 2.0, 2.080083823051904, 2.154434690031884]\n"
     ]
    }
   ],
   "source": [
    "## Find the cube root of numbers from 1 to 10\n",
    "\n",
    "cube_root = list(map(lambda x : x**(1/3), range(1,11)))\n",
    "\n",
    "print('the cube root of numbers from 1 to 10 =\\n', cube_root)"
   ]
  },
  {
   "cell_type": "code",
   "execution_count": 53,
   "id": "4773d89d-8b13-412e-bdc6-e29d9f4f5ce6",
   "metadata": {},
   "outputs": [
    {
     "name": "stdout",
     "output_type": "stream",
     "text": [
      "False\n"
     ]
    }
   ],
   "source": [
    "## Check if a given number is even\n",
    "a = lambda x : x%2==0\n",
    "\n",
    "print(a(1))"
   ]
  },
  {
   "cell_type": "code",
   "execution_count": 55,
   "id": "a1b59f62-4537-4f7b-96b3-002435624efb",
   "metadata": {},
   "outputs": [
    {
     "name": "stdout",
     "output_type": "stream",
     "text": [
      "Odd numbers from the list = [1, 3, 5, 7, 9]\n"
     ]
    }
   ],
   "source": [
    "## Filter odd numbers from the given list. [1,2,3,4,5,6,7,8,9,10]\n",
    "l = [1,2,3,4,5,6,7,8,9,10]\n",
    "odd_num = list(filter(lambda x : x%2!=0, l))\n",
    "print('Odd numbers from the list =', odd_num)"
   ]
  },
  {
   "cell_type": "code",
   "execution_count": 2,
   "id": "1c55f885-e6e5-4c45-b1ed-41cbca5efc49",
   "metadata": {},
   "outputs": [
    {
     "name": "stdout",
     "output_type": "stream",
     "text": [
      "Positive list:  [1, 2, 3, 4, 5, 6, 0]\n",
      "Negative list:  [-1, -2, -3, -4, -5]\n"
     ]
    }
   ],
   "source": [
    "## Sort a list of integers into positive and negative integers lists. [1,2,3,4,5,6,-1,-2,-3,-4,-5,0]\n",
    "l = [1,2,3,4,5,6,-1,-2,-3,-4,-5,0]\n",
    "pos_list = list(filter(lambda x : x>=0, l))\n",
    "neg_list = list(filter(lambda x : x<0, l))\n",
    "print('Positive list: ', pos_list)\n",
    "print('Negative list: ', neg_list)"
   ]
  },
  {
   "cell_type": "code",
   "execution_count": null,
   "id": "d5ab3500-999f-40ac-86a9-cd56f2079b83",
   "metadata": {},
   "outputs": [],
   "source": []
  }
 ],
 "metadata": {
  "kernelspec": {
   "display_name": "Python 3 (ipykernel)",
   "language": "python",
   "name": "python3"
  },
  "language_info": {
   "codemirror_mode": {
    "name": "ipython",
    "version": 3
   },
   "file_extension": ".py",
   "mimetype": "text/x-python",
   "name": "python",
   "nbconvert_exporter": "python",
   "pygments_lexer": "ipython3",
   "version": "3.10.8"
  }
 },
 "nbformat": 4,
 "nbformat_minor": 5
}
