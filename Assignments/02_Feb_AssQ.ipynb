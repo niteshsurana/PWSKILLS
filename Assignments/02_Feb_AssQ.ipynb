{
 "cells": [
  {
   "cell_type": "markdown",
   "id": "ee29c50f-115f-498a-b38d-8db607c4a66f",
   "metadata": {},
   "source": [
    "## Question 1\n",
    "1. What are the characteristics of the tuple? is tuple immutable?\n",
    "\n",
    "#### Ans: \n",
    "\n",
    "Tuples are used to store multiple items in single variable.\n",
    "        Tuple items are ordered, i.e. items has defined order and order will not change \n",
    "        tuple items are unchangeble, i.e. we can not change, add, remove items after the tuple has   been createdand \n",
    "        tuple items allow duplicates, they can have items with same value.\n",
    "        Tuple items can be indexed. \n",
    "        Tuples are immutable in nature. once they are defined, we can not change them"
   ]
  },
  {
   "cell_type": "markdown",
   "id": "fa334641-f640-49dd-b909-ba8d837d5542",
   "metadata": {},
   "source": [
    "## Question 2\n",
    "2. What are the two tuple methods in python? Give an example of each method. Give a reason \n",
    "    why tuples have only two in-built methods as compared to lists?\""
   ]
  },
  {
   "cell_type": "raw",
   "id": "8e4e6627-11f6-4e6d-99c0-3343acf62d11",
   "metadata": {},
   "source": [
    "There are 2 in built function in tuple\n",
    "1. count()\n",
    "    returns count of the element in the tuple\n",
    "    example: \n",
    "        # Creating tuples\n",
    "        Tuple1 = (0, 1, 2, 3, 2, 3, 1, 3, 2)\n",
    "        res = Tuple1.count(3)\n",
    "        print('Count of 3 in Tuple1 is:', res)\n",
    "        \n",
    "        output: \n",
    "            Count of 3 in Tuple1 is: 3\n",
    "2. index()\n",
    "    The Index() method returns the first occurrence of the given element from the tuple.\n",
    "    when element not found in tuple, it return valueError\n",
    "    example: \n",
    "        # Creating tuples\n",
    "        Tuple = (0, 1, 2, 3, 2, 3, 1, 3, 2)\n",
    "  \n",
    "        # getting the index of 3\n",
    "        res = Tuple.index(3)\n",
    "        print('First occurrence of 3 is', res)\n",
    "        # getting the index of 3 after 4th\n",
    "        # index\n",
    "        res = Tuple.index(3, 4)\n",
    "        print('First occurrence of 3 after 4th index is:', res)\n",
    "        \n",
    "        output:\n",
    "            First occurrence of 3 is 3\n",
    "            First occurrence of 3 after 4th index is: 5\n",
    "            \n",
    "        \n",
    "    Tuples have only two built-in functions compared to list because tuples are immutable, meaning you cannot change their contents after they are created. The length of tuples is also fixed. They remain the same length throughout the lifecycle of the program.\n",
    "\n",
    "        "
   ]
  },
  {
   "cell_type": "markdown",
   "id": "2f47a492-6d21-4e8a-affe-a34790f703b4",
   "metadata": {},
   "source": [
    "## Question 3\n",
    "3. Which collection datatypes in python do not allow duplicate items? write a code using a set to remove duplicate from the given list.\n",
    "\n",
    "list = [1,1,1,2,1,3,1,4,2,1,2,2,2,3,2,4,3,1,3,2,3,3,3,4,4,1,4,2,4,3,4,4]"
   ]
  },
  {
   "cell_type": "code",
   "execution_count": 3,
   "id": "63ad71be-3652-497d-bdc9-177a2a754bfa",
   "metadata": {},
   "outputs": [
    {
     "name": "stdout",
     "output_type": "stream",
     "text": [
      "{1, 2, 3, 4}\n"
     ]
    }
   ],
   "source": [
    "## Ans: Set collection datatypes does not allow duplicate items.\n",
    "\n",
    "##Programs:\n",
    "\n",
    "List = [1,1,1,2,1,3,1,4,2,1,2,2,2,3,2,4,3,1,3,2,3,3,3,4,4,1,4,2,4,3,4,4]\n",
    "set1 = set(List)\n",
    "print(set1)"
   ]
  },
  {
   "cell_type": "markdown",
   "id": "8701fe2c-0f6c-44c3-836f-c801e9bffb9f",
   "metadata": {},
   "source": [
    "## Question 4\n",
    "4. Explain the difference between the union and update methods for a set. Give an example of each method?"
   ]
  },
  {
   "cell_type": "code",
   "execution_count": null,
   "id": "36700055-0a8f-46b5-b469-c470bb6d15b6",
   "metadata": {},
   "outputs": [],
   "source": [
    "Union\n",
    "s.union(t)  s | t   returns new set with elements from both s and t. s and t remains same. \n",
    "Example:\n",
    "    s = {1,2}\n",
    "    t = {1,3}\n",
    "    print('Union: ', s.union(t))\n",
    "    print('s: ',s)\n",
    "Output:\n",
    "    Union:  {1, 2, 3}\n",
    "    s:  {1, 2}\n",
    "    \n",
    "    \n",
    "\n",
    "\n",
    "Update\n",
    "s.update(t) s |= t  returns set s with elements added from t. S gets modified. \n",
    "\n",
    "Example:\n",
    "    s = {1,2}\n",
    "    t = {1,3}\n",
    "    s.update(t)\n",
    "    print('s: ',s)\n",
    "\n",
    "Output:\n",
    "    s:  {1, 2, 3}\n",
    "    \n"
   ]
  },
  {
   "cell_type": "markdown",
   "id": "13a64ab6-1d0a-414f-bae0-c09208759721",
   "metadata": {},
   "source": [
    "## Question 5 \n",
    "5. What is a dictionary? Give Example. Also state whether a dictionary is ordered or unordered?\n"
   ]
  },
  {
   "cell_type": "markdown",
   "id": "f0a992f4-f00d-49d6-9118-500aa3d5e5ad",
   "metadata": {},
   "source": [
    "Ans: \n",
    "    \n",
    "A dictionary is a collection which is ordered, changeable and do not allow duplicates that contains key:value pairs separated by commas \n",
    "    inside curly brackets. Dictionaries are optimized to retrieve values when the key is known.\n",
    "    \n",
    "Example: \n",
    "    capitals = {\"USA\":\"Washington D.C.\", \"France\":\"Paris\", \"India\":\"New Delhi\"}\n",
    "    \n",
    "Dictionary is ordered. "
   ]
  },
  {
   "cell_type": "markdown",
   "id": "1757b04b-387b-4940-87f4-70ce456c5219",
   "metadata": {},
   "source": [
    "## Question 6\n",
    "6. Can we create a nested dictionary? if so, please give an example by creating a simple one level nested dictionary?"
   ]
  },
  {
   "cell_type": "markdown",
   "id": "da7c163a-a1f3-4bda-9a8a-8424e10d5a91",
   "metadata": {},
   "source": [
    "#### Ans: \n",
    "\n",
    "Yes, we can create nested dictionary.\n",
    "    \n",
    "Example:\n",
    "        \n",
    "    Dict = {'Dict1': {'name': 'Nitesh', 'age':27},\n",
    "            'Dict2': {'name' : 'Akshay', 'age': 25}}"
   ]
  },
  {
   "cell_type": "markdown",
   "id": "03f9a432-b084-4250-a801-4c180fe11d0c",
   "metadata": {},
   "source": [
    "## Question 7\n",
    "7. Using setdefault() method, create key named topic in the given dictionary and also add the value of the key as \n",
    "    this \n",
    "    \n",
    "    list['Python', 'Machine Learning', 'Deep Learning']\n",
    "    \n",
    "    dict1 = {'language': 'Python', 'course':'Data Science Masters'}"
   ]
  },
  {
   "cell_type": "code",
   "execution_count": 34,
   "id": "d2d4ab7b-1794-4634-8f63-de960c5aa08e",
   "metadata": {},
   "outputs": [
    {
     "name": "stdout",
     "output_type": "stream",
     "text": [
      "{'language': 'Python', 'course': 'Data Science Masters', 'topic': ['Python', 'Machine Learning', 'Deep Learning']}\n"
     ]
    }
   ],
   "source": [
    "dict1 = {'language': 'Python', 'course':'Data Science Masters'}\n",
    "dict1.setdefault('topic', ['Python', 'Machine Learning', 'Deep Learning'])\n",
    "print(dict1)"
   ]
  },
  {
   "cell_type": "markdown",
   "id": "afc38904-c8a5-476b-bad5-bc7d7e8c1a53",
   "metadata": {},
   "source": [
    "## Question 8\n",
    "8. What is the three view objects in dictionaries? Use the three in-built methods in python to display these three view objects for\n",
    "    the given dictionary.\n",
    "    \n",
    "    dict1 = {'Sport':'Cricket', 'Teams': {'India', 'Australia'. 'England', 'South Africa', 'Sri Lanka', 'New Zealand'}}"
   ]
  },
  {
   "cell_type": "markdown",
   "id": "7a1e22a9-b4c6-4a6a-8a16-4756d839ace1",
   "metadata": {},
   "source": [
    "#### Ans:\n",
    "        \n",
    "The three view objects of dictionary in python are keys, values and items. They provide a non-constant view of the dictionary’s entries. Keys holds all the keys of the dictionary, the values objects holds all the values, whereas the items holds the key-value pairs."
   ]
  },
  {
   "cell_type": "code",
   "execution_count": 12,
   "id": "47801be2-6ef2-4c85-91ba-f17a5d6340fa",
   "metadata": {},
   "outputs": [],
   "source": [
    "dict1 = {'Sport':'Cricket', 'Teams': {'India', 'Australia'. 'England', 'South Africa', 'Sri Lanka', 'New Zealand'}}"
   ]
  },
  {
   "cell_type": "code",
   "execution_count": 37,
   "id": "37a63b75-bffe-406c-a499-cd6f84815ec5",
   "metadata": {},
   "outputs": [
    {
     "name": "stdout",
     "output_type": "stream",
     "text": [
      "Dictionary.keys():  dict_keys(['language', 'course', 'topic'])\n",
      "Dictionary.values():  dict_values(['Python', 'Data Science Masters', ['Python', 'Machine Learning', 'Deep Learning']])\n",
      "Dictionary.items():  dict_items([('language', 'Python'), ('course', 'Data Science Masters'), ('topic', ['Python', 'Machine Learning', 'Deep Learning'])])\n"
     ]
    }
   ],
   "source": [
    "print('Dictionary.keys(): ', dict1.keys())\n",
    "print('Dictionary.values(): ', dict1.values())\n",
    "print('Dictionary.items(): ', dict1.items())"
   ]
  },
  {
   "cell_type": "code",
   "execution_count": null,
   "id": "8da2877f-ab1d-452a-aa78-e48103e92b91",
   "metadata": {},
   "outputs": [],
   "source": []
  },
  {
   "cell_type": "code",
   "execution_count": null,
   "id": "40b15039-0c0b-401b-9b85-2587179aaad8",
   "metadata": {},
   "outputs": [],
   "source": []
  },
  {
   "cell_type": "code",
   "execution_count": null,
   "id": "ba0621ba-2b60-4976-a9c2-70e5153d786c",
   "metadata": {},
   "outputs": [],
   "source": []
  },
  {
   "cell_type": "code",
   "execution_count": null,
   "id": "34e951e8-c3a4-47b9-b4d6-22528fddb8fa",
   "metadata": {},
   "outputs": [],
   "source": []
  }
 ],
 "metadata": {
  "kernelspec": {
   "display_name": "Python 3 (ipykernel)",
   "language": "python",
   "name": "python3"
  },
  "language_info": {
   "codemirror_mode": {
    "name": "ipython",
    "version": 3
   },
   "file_extension": ".py",
   "mimetype": "text/x-python",
   "name": "python",
   "nbconvert_exporter": "python",
   "pygments_lexer": "ipython3",
   "version": "3.10.8"
  }
 },
 "nbformat": 4,
 "nbformat_minor": 5
}
