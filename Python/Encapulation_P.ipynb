{
 "cells": [
  {
   "cell_type": "code",
   "execution_count": 1,
   "id": "dd04b874-a226-47ce-b295-87a859e8b6c2",
   "metadata": {},
   "outputs": [],
   "source": [
    "class test:\n",
    "    def __init__(self,a,b):\n",
    "        self.a= a\n",
    "        self.b = b"
   ]
  },
  {
   "cell_type": "code",
   "execution_count": 2,
   "id": "6a913f4c-5823-4333-9975-2ccb7eb5c921",
   "metadata": {},
   "outputs": [],
   "source": [
    "t = test(45,56)"
   ]
  },
  {
   "cell_type": "code",
   "execution_count": 3,
   "id": "3344e164-952a-49ee-83a9-32e28204987b",
   "metadata": {},
   "outputs": [
    {
     "data": {
      "text/plain": [
       "45"
      ]
     },
     "execution_count": 3,
     "metadata": {},
     "output_type": "execute_result"
    }
   ],
   "source": [
    "t.a"
   ]
  },
  {
   "cell_type": "code",
   "execution_count": 4,
   "id": "f3df1d4d-e75c-4473-9ef7-84b5eeaf192e",
   "metadata": {},
   "outputs": [
    {
     "data": {
      "text/plain": [
       "56"
      ]
     },
     "execution_count": 4,
     "metadata": {},
     "output_type": "execute_result"
    }
   ],
   "source": [
    "t.b"
   ]
  },
  {
   "cell_type": "code",
   "execution_count": 5,
   "id": "79d227a7-386c-43f9-ab4c-763c1e94928b",
   "metadata": {},
   "outputs": [],
   "source": [
    "t.a = 5"
   ]
  },
  {
   "cell_type": "code",
   "execution_count": 6,
   "id": "714efddf-058a-43c1-9766-30d29f62996f",
   "metadata": {},
   "outputs": [
    {
     "data": {
      "text/plain": [
       "5"
      ]
     },
     "execution_count": 6,
     "metadata": {},
     "output_type": "execute_result"
    }
   ],
   "source": [
    "t.a"
   ]
  },
  {
   "cell_type": "code",
   "execution_count": 1,
   "id": "5887b9f7-2c1d-40ba-a506-a24e879d5aa0",
   "metadata": {},
   "outputs": [],
   "source": [
    "class car:\n",
    "    \n",
    "    def __init__(self,year,make,model,speed):\n",
    "        self.__year = year\n",
    "        self.__make = make\n",
    "        self.__model = model\n",
    "        self.__speed = speed\n",
    "        \n",
    "    def set_speed(self,speed):\n",
    "        if speed<0:\n",
    "            self.__speed = 0\n",
    "        else:\n",
    "            self.__speed = speed\n",
    "            \n",
    "    def get_speed(self):\n",
    "        return self.__speed\n"
   ]
  },
  {
   "cell_type": "code",
   "execution_count": 2,
   "id": "5fe2b7be-13c1-4e7e-9e1c-5d2ef4aac384",
   "metadata": {},
   "outputs": [],
   "source": [
    "obj_car = car(2021 , \"toyota\" , \"innova\" , 12)"
   ]
  },
  {
   "cell_type": "code",
   "execution_count": 3,
   "id": "5ad8b6fc-24c6-49d5-9660-e03798acc1a2",
   "metadata": {},
   "outputs": [
    {
     "data": {
      "text/plain": [
       "'toyota'"
      ]
     },
     "execution_count": 3,
     "metadata": {},
     "output_type": "execute_result"
    }
   ],
   "source": [
    "obj_car._car__make"
   ]
  },
  {
   "cell_type": "code",
   "execution_count": 4,
   "id": "a9cf6e31-70cc-445f-acf5-07b75891b2f2",
   "metadata": {},
   "outputs": [
    {
     "data": {
      "text/plain": [
       "12"
      ]
     },
     "execution_count": 4,
     "metadata": {},
     "output_type": "execute_result"
    }
   ],
   "source": [
    "obj_car.get_speed()"
   ]
  },
  {
   "cell_type": "code",
   "execution_count": 5,
   "id": "48516a96-a014-4fad-934b-075a3cef82a6",
   "metadata": {},
   "outputs": [],
   "source": [
    "obj_car.set_speed(20)"
   ]
  },
  {
   "cell_type": "code",
   "execution_count": 10,
   "id": "ad14f296-55e2-4077-a769-7bbd7799661c",
   "metadata": {},
   "outputs": [
    {
     "data": {
      "text/plain": [
       "5000"
      ]
     },
     "execution_count": 10,
     "metadata": {},
     "output_type": "execute_result"
    }
   ],
   "source": [
    "obj_car.get_speed()"
   ]
  },
  {
   "cell_type": "code",
   "execution_count": 7,
   "id": "92836279-dee2-4339-a851-d290d6de8786",
   "metadata": {},
   "outputs": [
    {
     "data": {
      "text/plain": [
       "20"
      ]
     },
     "execution_count": 7,
     "metadata": {},
     "output_type": "execute_result"
    }
   ],
   "source": [
    "car.get_speed(obj_car)"
   ]
  },
  {
   "cell_type": "code",
   "execution_count": 8,
   "id": "85e9099e-0d7f-4e50-adfb-de276b6e4b73",
   "metadata": {},
   "outputs": [],
   "source": [
    "obj_car._car__speed = 5000"
   ]
  },
  {
   "cell_type": "code",
   "execution_count": 9,
   "id": "a46a44d7-4821-46f6-b6ca-97dd31708308",
   "metadata": {},
   "outputs": [
    {
     "data": {
      "text/plain": [
       "5000"
      ]
     },
     "execution_count": 9,
     "metadata": {},
     "output_type": "execute_result"
    }
   ],
   "source": [
    "obj_car.get_speed()"
   ]
  },
  {
   "cell_type": "code",
   "execution_count": null,
   "id": "960118c4-bf8d-4ce4-9f90-c4bc24500aba",
   "metadata": {},
   "outputs": [],
   "source": []
  },
  {
   "cell_type": "code",
   "execution_count": 27,
   "id": "9a97f3d9-c783-4233-b51c-8dab441fd330",
   "metadata": {},
   "outputs": [],
   "source": [
    "class bank_acount:\n",
    "    \n",
    "    def __init__(self,balance):\n",
    "        self.__balance = balance\n",
    "        \n",
    "    def deposit(self,amount):\n",
    "        self.__balance +=amount\n",
    "        \n",
    "    def withdraw(self,amount):\n",
    "        if amount>self.__balance:\n",
    "            return False\n",
    "        else:\n",
    "            self.__balance-=amount\n",
    "            return True\n",
    "    def get_balance(self):\n",
    "        return self.__balance"
   ]
  },
  {
   "cell_type": "code",
   "execution_count": 28,
   "id": "dd83535b-3e4b-4d7f-b8da-6867eb5d4087",
   "metadata": {},
   "outputs": [],
   "source": [
    "obj_bank_account = bank_acount(1000)"
   ]
  },
  {
   "cell_type": "code",
   "execution_count": 29,
   "id": "b82cc44c-18b7-4179-9df2-f504c72ace4d",
   "metadata": {},
   "outputs": [
    {
     "data": {
      "text/plain": [
       "1000"
      ]
     },
     "execution_count": 29,
     "metadata": {},
     "output_type": "execute_result"
    }
   ],
   "source": [
    "obj_bank_account.get_balance()"
   ]
  },
  {
   "cell_type": "code",
   "execution_count": 30,
   "id": "37f1ff11-0e8b-4d7a-929c-fe4df62e97f1",
   "metadata": {},
   "outputs": [],
   "source": [
    "obj_bank_account.deposit(5000)"
   ]
  },
  {
   "cell_type": "code",
   "execution_count": 34,
   "id": "07b4d48f-c0e5-49c0-bb47-7dd8ab81ee77",
   "metadata": {},
   "outputs": [
    {
     "data": {
      "text/plain": [
       "6000"
      ]
     },
     "execution_count": 34,
     "metadata": {},
     "output_type": "execute_result"
    }
   ],
   "source": [
    "obj_bank_account.get_balance()"
   ]
  },
  {
   "cell_type": "code",
   "execution_count": 33,
   "id": "6ccb744f-1e84-4252-98e0-eaec3fc8513e",
   "metadata": {},
   "outputs": [
    {
     "data": {
      "text/plain": [
       "False"
      ]
     },
     "execution_count": 33,
     "metadata": {},
     "output_type": "execute_result"
    }
   ],
   "source": [
    "obj_bank_account.withdraw(10000)"
   ]
  },
  {
   "cell_type": "code",
   "execution_count": 35,
   "id": "e4e0dd12-ab71-4421-840f-bd512d858f44",
   "metadata": {},
   "outputs": [
    {
     "data": {
      "text/plain": [
       "True"
      ]
     },
     "execution_count": 35,
     "metadata": {},
     "output_type": "execute_result"
    }
   ],
   "source": [
    "obj_bank_account.withdraw(2000)"
   ]
  },
  {
   "cell_type": "code",
   "execution_count": 36,
   "id": "e8c9fd19-4553-4fba-b0d1-fcc2e6da7dd9",
   "metadata": {},
   "outputs": [
    {
     "data": {
      "text/plain": [
       "4000"
      ]
     },
     "execution_count": 36,
     "metadata": {},
     "output_type": "execute_result"
    }
   ],
   "source": [
    "obj_bank_account.get_balance()"
   ]
  },
  {
   "cell_type": "code",
   "execution_count": null,
   "id": "6bc9e33a-f916-4c44-a895-7afc9c72bdda",
   "metadata": {},
   "outputs": [],
   "source": []
  }
 ],
 "metadata": {
  "kernelspec": {
   "display_name": "Python 3 (ipykernel)",
   "language": "python",
   "name": "python3"
  },
  "language_info": {
   "codemirror_mode": {
    "name": "ipython",
    "version": 3
   },
   "file_extension": ".py",
   "mimetype": "text/x-python",
   "name": "python",
   "nbconvert_exporter": "python",
   "pygments_lexer": "ipython3",
   "version": "3.8.10"
  }
 },
 "nbformat": 4,
 "nbformat_minor": 5
}
