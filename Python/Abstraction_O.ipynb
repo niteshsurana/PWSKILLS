{
 "cells": [
  {
   "cell_type": "code",
   "execution_count": 2,
   "id": "937697e9-e4c6-4155-8ac7-8e1d72f88fe2",
   "metadata": {},
   "outputs": [],
   "source": [
    "import abc\n",
    "\n",
    "class pwskills:\n",
    "    \n",
    "    @abc.abstractmethod\n",
    "    def student_details(self):\n",
    "        pass\n",
    "    \n",
    "    @abc.abstractmethod\n",
    "    def student_assignment(self):\n",
    "        pass\n",
    "    \n",
    "    @abc.abstractmethod\n",
    "    def student_marks(self):\n",
    "        pass"
   ]
  },
  {
   "cell_type": "code",
   "execution_count": 3,
   "id": "d6f41b05-9c56-465b-ace0-793265642291",
   "metadata": {
    "tags": []
   },
   "outputs": [],
   "source": [
    "class data_science(pwskills):\n",
    "    \n",
    "    def student_details(self):\n",
    "        return \"it will try to return the detials of data science masters\"\n",
    "    \n",
    "    def student_assignment(self):\n",
    "        return 'it will return a student assignment'\n",
    "    \n",
    "    def student_marks(self):\n",
    "        return 'it will return student marks'"
   ]
  },
  {
   "cell_type": "code",
   "execution_count": 4,
   "id": "84ee6a29-d5f0-4af9-92e4-83992d993f2f",
   "metadata": {
    "tags": []
   },
   "outputs": [],
   "source": [
    "class web_dev(pwskills):\n",
    "     def student_details(self):\n",
    "            return \"this will retrun a detils of web dev \"\n",
    "    \n",
    "    \n",
    "     def student_marks(self):\n",
    "             return \"this will return a makrs of web dev class\""
   ]
  },
  {
   "cell_type": "code",
   "execution_count": 5,
   "id": "f1a8d522-a88b-4230-a913-4dec964b24ad",
   "metadata": {
    "tags": []
   },
   "outputs": [],
   "source": [
    "ds = data_science()"
   ]
  },
  {
   "cell_type": "code",
   "execution_count": 6,
   "id": "a381991a-3078-453f-8963-cc0de9ff7499",
   "metadata": {
    "tags": []
   },
   "outputs": [
    {
     "data": {
      "text/plain": [
       "'it will try to return the detials of data science masters'"
      ]
     },
     "execution_count": 6,
     "metadata": {},
     "output_type": "execute_result"
    }
   ],
   "source": [
    "ds.student_details()\n"
   ]
  },
  {
   "cell_type": "code",
   "execution_count": 7,
   "id": "cb420e71-23b6-448e-87c7-4c75fea2ccd8",
   "metadata": {
    "tags": []
   },
   "outputs": [],
   "source": [
    "wb = web_dev()"
   ]
  },
  {
   "cell_type": "code",
   "execution_count": 8,
   "id": "3424eb40-1b1f-43de-9699-097432c0e033",
   "metadata": {
    "tags": []
   },
   "outputs": [
    {
     "data": {
      "text/plain": [
       "'this will retrun a detils of web dev '"
      ]
     },
     "execution_count": 8,
     "metadata": {},
     "output_type": "execute_result"
    }
   ],
   "source": [
    "wb.student_details()"
   ]
  },
  {
   "cell_type": "code",
   "execution_count": null,
   "id": "1c55485d-91cc-416c-9a9a-7f29cc159768",
   "metadata": {},
   "outputs": [],
   "source": []
  }
 ],
 "metadata": {
  "kernelspec": {
   "display_name": "Python 3 (ipykernel)",
   "language": "python",
   "name": "python3"
  },
  "language_info": {
   "codemirror_mode": {
    "name": "ipython",
    "version": 3
   },
   "file_extension": ".py",
   "mimetype": "text/x-python",
   "name": "python",
   "nbconvert_exporter": "python",
   "pygments_lexer": "ipython3",
   "version": "3.8.10"
  }
 },
 "nbformat": 4,
 "nbformat_minor": 5
}
