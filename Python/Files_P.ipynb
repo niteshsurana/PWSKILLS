{
 "cells": [
  {
   "cell_type": "code",
   "execution_count": 10,
   "id": "ce8d98d7-e9a3-44ca-a7be-ecbce8147692",
   "metadata": {
    "tags": []
   },
   "outputs": [],
   "source": [
    "f = open('test.txt','a')"
   ]
  },
  {
   "cell_type": "code",
   "execution_count": 2,
   "id": "e3c5d66f-fd81-4130-9ad3-8120bce7bbb3",
   "metadata": {
    "tags": []
   },
   "outputs": [
    {
     "data": {
      "text/plain": [
       "'/home/nitesh/PWSKILLS/PWSKILLS/Python'"
      ]
     },
     "execution_count": 2,
     "metadata": {},
     "output_type": "execute_result"
    }
   ],
   "source": [
    "pwd"
   ]
  },
  {
   "cell_type": "code",
   "execution_count": 3,
   "id": "d6b79336-6b36-440a-bd2d-f7344ca7e074",
   "metadata": {
    "tags": []
   },
   "outputs": [
    {
     "name": "stdout",
     "output_type": "stream",
     "text": [
      " Abstraction_O.ipynb         Inheritance_P.ipynb      Property_decorator.ipynb\n",
      " class_methods.ipynb         OOPS.ipynb               Special_methods.ipynb\n",
      " Decorators_Practise.ipynb   OOPS_Practise2.ipynb     static_method.ipynb\n",
      " Encapulation_P.ipynb        OOPS_Practise.ipynb      test.txt\n",
      " Files_P.ipynb              'Polymorphism _P.ipynb'\n"
     ]
    }
   ],
   "source": [
    "ls"
   ]
  },
  {
   "cell_type": "code",
   "execution_count": 11,
   "id": "e779122c-3369-47ac-9893-5e6285dc3cbd",
   "metadata": {
    "tags": []
   },
   "outputs": [
    {
     "data": {
      "text/plain": [
       "1533"
      ]
     },
     "execution_count": 11,
     "metadata": {},
     "output_type": "execute_result"
    }
   ],
   "source": [
    "f.write(\"\\nData Science Masters course is highly curated and uniquely designed according to the latest industry standards. This program instills students the skills essential to knowledge discovery efforts to identify standard, novel, and truly differentiated solutions and decision-making, including skills in managing, querying, analyzing, visualizing, and extracting meaning from extremely large data sets. This trending program provides students with the statistical, mathematical and computational skills needed to meet the large-scale data science challenges of today's professional world. You will learn all the stack required to work in data science industry including cloud infrastructure and real-time industry projects. This course will be taught in Hindi language. Data Science Masters course is highly curated and uniquely designed according to the latest industry standards. This program instills students the skills essential to knowledge discovery efforts to identify standard, novel, and truly differentiated solutions and decision-making, including skills in managing, querying, analyzing, visualizing, and extracting meaning from extremely large data sets. This trending program provides students with the statistical, mathematical and computational skills needed to meet the large-scale data science challenges of today's professional world. You will learn all the stack required to work in data science industry including cloud infrastructure and real-time industry projects. This course will be taught in Hindi language. \")"
   ]
  },
  {
   "cell_type": "code",
   "execution_count": 12,
   "id": "51fa4d8c-6e4a-4def-af51-d794b3ffcc64",
   "metadata": {
    "tags": []
   },
   "outputs": [],
   "source": [
    "f.close()"
   ]
  },
  {
   "cell_type": "code",
   "execution_count": 13,
   "id": "c42b1d7d-066e-4afa-b59e-5adf808ac88d",
   "metadata": {
    "tags": []
   },
   "outputs": [],
   "source": [
    "data = open('test.txt','r')"
   ]
  },
  {
   "cell_type": "code",
   "execution_count": 14,
   "id": "bbe73bf1-ab3e-45fb-a7a7-487ab6aafc24",
   "metadata": {
    "tags": []
   },
   "outputs": [
    {
     "data": {
      "text/plain": [
       "\"Data Science Masters course is highly curated and uniquely designed according to the latest industry standards. This program instills students the skills essential to knowledge discovery efforts to identify standard, novel, and truly differentiated solutions and decision-making, including skills in managing, querying, analyzing, visualizing, and extracting meaning from extremely large data sets. This trending program provides students with the statistical, mathematical and computational skills needed to meet the large-scale data science challenges of today's professional world. You will learn all the stack required to work in data science industry including cloud infrastructure and real-time industry projects. This course will be taught in Hindi language. Data Science Masters course is highly curated and uniquely designed according to the latest industry standards. This program instills students the skills essential to knowledge discovery efforts to identify standard, novel, and truly differentiated solutions and decision-making, including skills in managing, querying, analyzing, visualizing, and extracting meaning from extremely large data sets. This trending program provides students with the statistical, mathematical and computational skills needed to meet the large-scale data science challenges of today's professional world. You will learn all the stack required to work in data science industry including cloud infrastructure and real-time industry projects. This course will be taught in Hindi language. \\nData Science Masters course is highly curated and uniquely designed according to the latest industry standards. This program instills students the skills essential to knowledge discovery efforts to identify standard, novel, and truly differentiated solutions and decision-making, including skills in managing, querying, analyzing, visualizing, and extracting meaning from extremely large data sets. This trending program provides students with the statistical, mathematical and computational skills needed to meet the large-scale data science challenges of today's professional world. You will learn all the stack required to work in data science industry including cloud infrastructure and real-time industry projects. This course will be taught in Hindi language. Data Science Masters course is highly curated and uniquely designed according to the latest industry standards. This program instills students the skills essential to knowledge discovery efforts to identify standard, novel, and truly differentiated solutions and decision-making, including skills in managing, querying, analyzing, visualizing, and extracting meaning from extremely large data sets. This trending program provides students with the statistical, mathematical and computational skills needed to meet the large-scale data science challenges of today's professional world. You will learn all the stack required to work in data science industry including cloud infrastructure and real-time industry projects. This course will be taught in Hindi language. \""
      ]
     },
     "execution_count": 14,
     "metadata": {},
     "output_type": "execute_result"
    }
   ],
   "source": [
    "data.read()"
   ]
  },
  {
   "cell_type": "code",
   "execution_count": 15,
   "id": "643d980c-a610-4639-902a-74520da6b4df",
   "metadata": {
    "tags": []
   },
   "outputs": [
    {
     "data": {
      "text/plain": [
       "''"
      ]
     },
     "execution_count": 15,
     "metadata": {},
     "output_type": "execute_result"
    }
   ],
   "source": [
    "data.read()"
   ]
  },
  {
   "cell_type": "code",
   "execution_count": 18,
   "id": "afd0f4aa-c166-41fd-8823-0010e173078c",
   "metadata": {
    "tags": []
   },
   "outputs": [
    {
     "data": {
      "text/plain": [
       "100"
      ]
     },
     "execution_count": 18,
     "metadata": {},
     "output_type": "execute_result"
    }
   ],
   "source": [
    "data.seek(100)"
   ]
  },
  {
   "cell_type": "code",
   "execution_count": 19,
   "id": "89485433-0b7f-4a54-971d-41a8f3c1165b",
   "metadata": {
    "tags": []
   },
   "outputs": [
    {
     "data": {
      "text/plain": [
       "\" standards. This program instills students the skills essential to knowledge discovery efforts to identify standard, novel, and truly differentiated solutions and decision-making, including skills in managing, querying, analyzing, visualizing, and extracting meaning from extremely large data sets. This trending program provides students with the statistical, mathematical and computational skills needed to meet the large-scale data science challenges of today's professional world. You will learn all the stack required to work in data science industry including cloud infrastructure and real-time industry projects. This course will be taught in Hindi language. Data Science Masters course is highly curated and uniquely designed according to the latest industry standards. This program instills students the skills essential to knowledge discovery efforts to identify standard, novel, and truly differentiated solutions and decision-making, including skills in managing, querying, analyzing, visualizing, and extracting meaning from extremely large data sets. This trending program provides students with the statistical, mathematical and computational skills needed to meet the large-scale data science challenges of today's professional world. You will learn all the stack required to work in data science industry including cloud infrastructure and real-time industry projects. This course will be taught in Hindi language. \\nData Science Masters course is highly curated and uniquely designed according to the latest industry standards. This program instills students the skills essential to knowledge discovery efforts to identify standard, novel, and truly differentiated solutions and decision-making, including skills in managing, querying, analyzing, visualizing, and extracting meaning from extremely large data sets. This trending program provides students with the statistical, mathematical and computational skills needed to meet the large-scale data science challenges of today's professional world. You will learn all the stack required to work in data science industry including cloud infrastructure and real-time industry projects. This course will be taught in Hindi language. Data Science Masters course is highly curated and uniquely designed according to the latest industry standards. This program instills students the skills essential to knowledge discovery efforts to identify standard, novel, and truly differentiated solutions and decision-making, including skills in managing, querying, analyzing, visualizing, and extracting meaning from extremely large data sets. This trending program provides students with the statistical, mathematical and computational skills needed to meet the large-scale data science challenges of today's professional world. You will learn all the stack required to work in data science industry including cloud infrastructure and real-time industry projects. This course will be taught in Hindi language. \""
      ]
     },
     "execution_count": 19,
     "metadata": {},
     "output_type": "execute_result"
    }
   ],
   "source": [
    "data.read()"
   ]
  },
  {
   "cell_type": "code",
   "execution_count": 20,
   "id": "31622beb-b351-453d-ad12-33f4c69ba441",
   "metadata": {
    "tags": []
   },
   "outputs": [],
   "source": [
    "data = open('test.txt','r')"
   ]
  },
  {
   "cell_type": "code",
   "execution_count": 21,
   "id": "01185ecf-67f1-4c70-bd5e-9ab27b3b6505",
   "metadata": {
    "tags": []
   },
   "outputs": [
    {
     "name": "stdout",
     "output_type": "stream",
     "text": [
      "Data Science Masters course is highly curated and uniquely designed according to the latest industry standards. This program instills students the skills essential to knowledge discovery efforts to identify standard, novel, and truly differentiated solutions and decision-making, including skills in managing, querying, analyzing, visualizing, and extracting meaning from extremely large data sets. This trending program provides students with the statistical, mathematical and computational skills needed to meet the large-scale data science challenges of today's professional world. You will learn all the stack required to work in data science industry including cloud infrastructure and real-time industry projects. This course will be taught in Hindi language. Data Science Masters course is highly curated and uniquely designed according to the latest industry standards. This program instills students the skills essential to knowledge discovery efforts to identify standard, novel, and truly differentiated solutions and decision-making, including skills in managing, querying, analyzing, visualizing, and extracting meaning from extremely large data sets. This trending program provides students with the statistical, mathematical and computational skills needed to meet the large-scale data science challenges of today's professional world. You will learn all the stack required to work in data science industry including cloud infrastructure and real-time industry projects. This course will be taught in Hindi language. \n",
      "\n",
      "Data Science Masters course is highly curated and uniquely designed according to the latest industry standards. This program instills students the skills essential to knowledge discovery efforts to identify standard, novel, and truly differentiated solutions and decision-making, including skills in managing, querying, analyzing, visualizing, and extracting meaning from extremely large data sets. This trending program provides students with the statistical, mathematical and computational skills needed to meet the large-scale data science challenges of today's professional world. You will learn all the stack required to work in data science industry including cloud infrastructure and real-time industry projects. This course will be taught in Hindi language. Data Science Masters course is highly curated and uniquely designed according to the latest industry standards. This program instills students the skills essential to knowledge discovery efforts to identify standard, novel, and truly differentiated solutions and decision-making, including skills in managing, querying, analyzing, visualizing, and extracting meaning from extremely large data sets. This trending program provides students with the statistical, mathematical and computational skills needed to meet the large-scale data science challenges of today's professional world. You will learn all the stack required to work in data science industry including cloud infrastructure and real-time industry projects. This course will be taught in Hindi language. \n"
     ]
    }
   ],
   "source": [
    "for i in data:\n",
    "    print(i)"
   ]
  },
  {
   "cell_type": "code",
   "execution_count": 22,
   "id": "3d873050-bd95-4e7c-89ba-86be96392ea0",
   "metadata": {
    "tags": []
   },
   "outputs": [],
   "source": [
    "import os"
   ]
  },
  {
   "cell_type": "code",
   "execution_count": 23,
   "id": "76a518c1-ba81-490e-b964-e0213b996b4d",
   "metadata": {
    "tags": []
   },
   "outputs": [
    {
     "data": {
      "text/plain": [
       "3065"
      ]
     },
     "execution_count": 23,
     "metadata": {},
     "output_type": "execute_result"
    }
   ],
   "source": [
    "os.path.getsize('test.txt')"
   ]
  },
  {
   "cell_type": "code",
   "execution_count": 24,
   "id": "f3063f05-156c-4b05-8084-8506da891c8f",
   "metadata": {
    "tags": []
   },
   "outputs": [],
   "source": [
    "import shutil"
   ]
  },
  {
   "cell_type": "code",
   "execution_count": 25,
   "id": "ff6e2e6f-81a3-4de9-aa7a-4e33ae1d97f0",
   "metadata": {
    "tags": []
   },
   "outputs": [
    {
     "data": {
      "text/plain": [
       "'new_test.txt'"
      ]
     },
     "execution_count": 25,
     "metadata": {},
     "output_type": "execute_result"
    }
   ],
   "source": [
    "shutil.copy('test.txt','new_test.txt')"
   ]
  },
  {
   "cell_type": "code",
   "execution_count": 26,
   "id": "6bbf44d7-c1b2-4d0e-bed7-53910e7cc112",
   "metadata": {
    "tags": []
   },
   "outputs": [],
   "source": [
    "os.remove('test.txt')"
   ]
  },
  {
   "cell_type": "code",
   "execution_count": 27,
   "id": "29e3c8bd-4747-49c3-9c93-5e84b46c9670",
   "metadata": {
    "tags": []
   },
   "outputs": [
    {
     "name": "stdout",
     "output_type": "stream",
     "text": [
      " Abstraction_O.ipynb         Inheritance_P.ipynb   'Polymorphism _P.ipynb'\n",
      " class_methods.ipynb         new_test.txt           Property_decorator.ipynb\n",
      " Decorators_Practise.ipynb   OOPS.ipynb             Special_methods.ipynb\n",
      " Encapulation_P.ipynb        OOPS_Practise2.ipynb   static_method.ipynb\n",
      " Files_P.ipynb               OOPS_Practise.ipynb\n"
     ]
    }
   ],
   "source": [
    "ls\n"
   ]
  },
  {
   "cell_type": "code",
   "execution_count": 28,
   "id": "3d495a33-7d9b-4e02-bd2c-41cd645f8674",
   "metadata": {
    "tags": []
   },
   "outputs": [],
   "source": [
    "os.rename('new_test.txt', 'test.txt')"
   ]
  },
  {
   "cell_type": "code",
   "execution_count": 32,
   "id": "cea5a602-60d9-439e-817c-5bebb67897b6",
   "metadata": {
    "tags": []
   },
   "outputs": [
    {
     "name": "stdout",
     "output_type": "stream",
     "text": [
      "Data Science Masters course is highly curated and uniquely designed according to the latest industry standards. This program instills students the skills essential to knowledge discovery efforts to identify standard, novel, and truly differentiated solutions and decision-making, including skills in managing, querying, analyzing, visualizing, and extracting meaning from extremely large data sets. This trending program provides students with the statistical, mathematical and computational skills needed to meet the large-scale data science challenges of today's professional world. You will learn all the stack required to work in data science industry including cloud infrastructure and real-time industry projects. This course will be taught in Hindi language. Data Science Masters course is highly curated and uniquely designed according to the latest industry standards. This program instills students the skills essential to knowledge discovery efforts to identify standard, novel, and truly differentiated solutions and decision-making, including skills in managing, querying, analyzing, visualizing, and extracting meaning from extremely large data sets. This trending program provides students with the statistical, mathematical and computational skills needed to meet the large-scale data science challenges of today's professional world. You will learn all the stack required to work in data science industry including cloud infrastructure and real-time industry projects. This course will be taught in Hindi language. \n",
      "Data Science Masters course is highly curated and uniquely designed according to the latest industry standards. This program instills students the skills essential to knowledge discovery efforts to identify standard, novel, and truly differentiated solutions and decision-making, including skills in managing, querying, analyzing, visualizing, and extracting meaning from extremely large data sets. This trending program provides students with the statistical, mathematical and computational skills needed to meet the large-scale data science challenges of today's professional world. You will learn all the stack required to work in data science industry including cloud infrastructure and real-time industry projects. This course will be taught in Hindi language. Data Science Masters course is highly curated and uniquely designed according to the latest industry standards. This program instills students the skills essential to knowledge discovery efforts to identify standard, novel, and truly differentiated solutions and decision-making, including skills in managing, querying, analyzing, visualizing, and extracting meaning from extremely large data sets. This trending program provides students with the statistical, mathematical and computational skills needed to meet the large-scale data science challenges of today's professional world. You will learn all the stack required to work in data science industry including cloud infrastructure and real-time industry projects. This course will be taught in Hindi language. \n"
     ]
    }
   ],
   "source": [
    "with open('test.txt','r') as f:\n",
    "    print(f.read())"
   ]
  },
  {
   "cell_type": "code",
   "execution_count": 40,
   "id": "4a5c691c-ec16-42fc-8a77-01882fbfa38e",
   "metadata": {
    "tags": []
   },
   "outputs": [],
   "source": [
    "with open(\"test.txt\" , \"r\") as f :\n",
    "    data = f.read()"
   ]
  },
  {
   "cell_type": "code",
   "execution_count": 41,
   "id": "e0d7d3f5-8452-4e76-a021-4f82080bf489",
   "metadata": {
    "tags": []
   },
   "outputs": [
    {
     "data": {
      "text/plain": [
       "\"Data Science Masters course is highly curated and uniquely designed according to the latest industry standards. This program instills students the skills essential to knowledge discovery efforts to identify standard, novel, and truly differentiated solutions and decision-making, including skills in managing, querying, analyzing, visualizing, and extracting meaning from extremely large data sets. This trending program provides students with the statistical, mathematical and computational skills needed to meet the large-scale data science challenges of today's professional world. You will learn all the stack required to work in data science industry including cloud infrastructure and real-time industry projects. This course will be taught in Hindi language. Data Science Masters course is highly curated and uniquely designed according to the latest industry standards. This program instills students the skills essential to knowledge discovery efforts to identify standard, novel, and truly differentiated solutions and decision-making, including skills in managing, querying, analyzing, visualizing, and extracting meaning from extremely large data sets. This trending program provides students with the statistical, mathematical and computational skills needed to meet the large-scale data science challenges of today's professional world. You will learn all the stack required to work in data science industry including cloud infrastructure and real-time industry projects. This course will be taught in Hindi language. \\nData Science Masters course is highly curated and uniquely designed according to the latest industry standards. This program instills students the skills essential to knowledge discovery efforts to identify standard, novel, and truly differentiated solutions and decision-making, including skills in managing, querying, analyzing, visualizing, and extracting meaning from extremely large data sets. This trending program provides students with the statistical, mathematical and computational skills needed to meet the large-scale data science challenges of today's professional world. You will learn all the stack required to work in data science industry including cloud infrastructure and real-time industry projects. This course will be taught in Hindi language. Data Science Masters course is highly curated and uniquely designed according to the latest industry standards. This program instills students the skills essential to knowledge discovery efforts to identify standard, novel, and truly differentiated solutions and decision-making, including skills in managing, querying, analyzing, visualizing, and extracting meaning from extremely large data sets. This trending program provides students with the statistical, mathematical and computational skills needed to meet the large-scale data science challenges of today's professional world. You will learn all the stack required to work in data science industry including cloud infrastructure and real-time industry projects. This course will be taught in Hindi language. \""
      ]
     },
     "execution_count": 41,
     "metadata": {},
     "output_type": "execute_result"
    }
   ],
   "source": [
    "data"
   ]
  },
  {
   "cell_type": "code",
   "execution_count": null,
   "id": "891a52d9-9b90-43c1-9c44-1ab4d00c2f78",
   "metadata": {},
   "outputs": [],
   "source": []
  },
  {
   "cell_type": "markdown",
   "id": "5bf4e233-8d92-40bd-a348-66a5fc80cfb3",
   "metadata": {},
   "source": [
    "## Reading and Writing files"
   ]
  },
  {
   "cell_type": "code",
   "execution_count": 43,
   "id": "46320111-7cff-43f1-9e8c-7179b3dd57b4",
   "metadata": {
    "tags": []
   },
   "outputs": [],
   "source": [
    "data = {\n",
    "        'name' : 'Nitesh',\n",
    "        'mail_id': 'niteshsurana96@gmail.com',\n",
    "        'phone_number': 9545330070,\n",
    "        'subject': ['AI', 'ML', 'CV']\n",
    "}"
   ]
  },
  {
   "cell_type": "code",
   "execution_count": 44,
   "id": "28850457-c3ab-44f0-b731-8da8c5b08f07",
   "metadata": {
    "tags": []
   },
   "outputs": [],
   "source": [
    "import json"
   ]
  },
  {
   "cell_type": "code",
   "execution_count": 45,
   "id": "5176be94-414d-485b-a106-b7cea9516ae1",
   "metadata": {
    "tags": []
   },
   "outputs": [],
   "source": [
    "with open('test1.json' , 'w') as f:\n",
    "    json.dump(data, f)"
   ]
  },
  {
   "cell_type": "code",
   "execution_count": 46,
   "id": "d3bf377e-3ff2-4674-91c1-01fc42d595c5",
   "metadata": {
    "tags": []
   },
   "outputs": [],
   "source": [
    "with open('test1.json', 'r') as f:\n",
    "    data = json.load(f)"
   ]
  },
  {
   "cell_type": "code",
   "execution_count": 47,
   "id": "ffa61748-226b-4f20-b71e-c1ea390c552b",
   "metadata": {
    "tags": []
   },
   "outputs": [
    {
     "data": {
      "text/plain": [
       "{'name': 'Nitesh',\n",
       " 'mail_id': 'niteshsurana96@gmail.com',\n",
       " 'phone_number': 9545330070,\n",
       " 'subject': ['AI', 'ML', 'CV']}"
      ]
     },
     "execution_count": 47,
     "metadata": {},
     "output_type": "execute_result"
    }
   ],
   "source": [
    "data"
   ]
  },
  {
   "cell_type": "code",
   "execution_count": 48,
   "id": "08ebdf98-e137-4824-8309-93be281f1894",
   "metadata": {
    "tags": []
   },
   "outputs": [
    {
     "data": {
      "text/plain": [
       "'Nitesh'"
      ]
     },
     "execution_count": 48,
     "metadata": {},
     "output_type": "execute_result"
    }
   ],
   "source": [
    "\n",
    "data['name']"
   ]
  },
  {
   "cell_type": "code",
   "execution_count": 50,
   "id": "06edeb50-c224-4a0f-8385-efd5c403abfe",
   "metadata": {
    "tags": []
   },
   "outputs": [
    {
     "data": {
      "text/plain": [
       "['AI', 'ML', 'CV']"
      ]
     },
     "execution_count": 50,
     "metadata": {},
     "output_type": "execute_result"
    }
   ],
   "source": [
    "data['subject']"
   ]
  },
  {
   "cell_type": "code",
   "execution_count": 51,
   "id": "daf15a9a-e643-4444-8cb3-df59e363ca1d",
   "metadata": {
    "tags": []
   },
   "outputs": [],
   "source": [
    "import csv"
   ]
  },
  {
   "cell_type": "code",
   "execution_count": 52,
   "id": "21976bba-fa59-4d93-94ec-928cdb4b4ab1",
   "metadata": {
    "tags": []
   },
   "outputs": [],
   "source": [
    "data = [[\"name\" , \"email_id\" , \"number\"],\n",
    "       [\"sudh\" , \"sudh@gmail.com\" , 92342342],\n",
    "        [\"krish\" , \"krish@gmail.com\" , 9324324242]\n",
    "       ]"
   ]
  },
  {
   "cell_type": "code",
   "execution_count": 59,
   "id": "bd0b805f-9ab3-47a5-bd6b-564afff3210b",
   "metadata": {
    "tags": []
   },
   "outputs": [],
   "source": [
    "with open('test3.csv','w') as f:\n",
    "    w = csv.writer(f)\n",
    "    for i in data:\n",
    "        w.writerow(i)"
   ]
  },
  {
   "cell_type": "code",
   "execution_count": 62,
   "id": "f08bb7a5-989d-4aa1-8e45-cd293a8e9b9e",
   "metadata": {
    "tags": []
   },
   "outputs": [
    {
     "name": "stdout",
     "output_type": "stream",
     "text": [
      "['name', 'email_id', 'number']\n",
      "['sudh', 'sudh@gmail.com', '92342342']\n",
      "['krish', 'krish@gmail.com', '9324324242']\n"
     ]
    }
   ],
   "source": [
    "with open('test3.csv','r') as f:\n",
    "    read = csv.reader(f)\n",
    "    for i in read:\n",
    "        print(i)\n",
    "    "
   ]
  },
  {
   "cell_type": "code",
   "execution_count": 61,
   "id": "4fb8a391-801b-4cfd-a94e-679938f1cdbe",
   "metadata": {
    "tags": []
   },
   "outputs": [
    {
     "name": "stdout",
     "output_type": "stream",
     "text": [
      "<_csv.reader object at 0x7f5592a11510>\n"
     ]
    }
   ],
   "source": [
    "print(read)"
   ]
  },
  {
   "cell_type": "code",
   "execution_count": null,
   "id": "53c0331f-079b-4bcc-890d-f89d98d313ad",
   "metadata": {},
   "outputs": [],
   "source": []
  },
  {
   "cell_type": "code",
   "execution_count": 64,
   "id": "1225bd49-5519-450d-876d-353ad5a5663b",
   "metadata": {
    "tags": []
   },
   "outputs": [],
   "source": [
    "with open('test4.bin', 'wb') as f:\n",
    "    f.write(b\"\\x01\\x02\\x03\")"
   ]
  },
  {
   "cell_type": "code",
   "execution_count": 65,
   "id": "95ad16fb-ae7f-4ae6-9d8c-c4fcce071355",
   "metadata": {
    "tags": []
   },
   "outputs": [
    {
     "name": "stdout",
     "output_type": "stream",
     "text": [
      "b'\\x01\\x02\\x03'\n"
     ]
    }
   ],
   "source": [
    "with open('test4.bin', 'rb') as f:\n",
    "    print(f.read())"
   ]
  },
  {
   "cell_type": "code",
   "execution_count": 66,
   "id": "e77f6341-c604-40e9-b232-b80f8077d3e8",
   "metadata": {
    "tags": []
   },
   "outputs": [],
   "source": [
    "file = open('geek.txt', 'w')"
   ]
  },
  {
   "cell_type": "code",
   "execution_count": 67,
   "id": "58a8500f-6a42-47e7-8d2c-2700900fafe6",
   "metadata": {
    "tags": []
   },
   "outputs": [],
   "source": [
    "file.write('This is the write command')\n",
    "file.write('It allows to write the text into the file')\n",
    "file.close()"
   ]
  },
  {
   "cell_type": "code",
   "execution_count": null,
   "id": "0f83535b-e062-4e3e-aa3c-ec71fee26860",
   "metadata": {},
   "outputs": [],
   "source": []
  },
  {
   "cell_type": "code",
   "execution_count": 20,
   "id": "f1718286-b209-4004-b9c6-00a5800b54da",
   "metadata": {
    "tags": []
   },
   "outputs": [],
   "source": [
    "import io"
   ]
  },
  {
   "cell_type": "code",
   "execution_count": 21,
   "id": "bd89b69f-bd69-4b36-83c3-7d1c3126825c",
   "metadata": {
    "tags": []
   },
   "outputs": [],
   "source": [
    "with open('test.txt','wb') as f:\n",
    "    file = io.BufferedWriter(f)\n",
    "    file.write(b\"Data Science Masters course is highly curated and uniquely designed according to the latest industry standards. This program instills students the skills essential to knowledge discovery efforts to identify standard, novel, and truly differentiated solutions and decision-making, including skills in managing, querying, analyzing, visualizing, and extracting meaning from extremely large data sets. This trending program provides students with the statistical, mathematical and computational skills needed to meet the large-scale data science challenges of today's professional world. You will learn all the stack required to work in data science industry including cloud infrastructure and real-time industry projects. This course will be taught in Hindi language.\\n\")\n",
    "    file.write(b\"this is my second line that i am trying to write\")\n",
    "    file.flush()"
   ]
  },
  {
   "cell_type": "code",
   "execution_count": 74,
   "id": "836855cb-eb73-43e1-b3d6-0e4da4734e59",
   "metadata": {
    "tags": []
   },
   "outputs": [
    {
     "name": "stdout",
     "output_type": "stream",
     "text": [
      "b'Data Science Masters course is highly curated and uniquely designed according to the latest industry'\n"
     ]
    }
   ],
   "source": [
    "with open('test.txt', 'rb') as f:\n",
    "    file = io.BufferedReader(f)\n",
    "    data = file.read(100)\n",
    "    print(data)\n",
    "    "
   ]
  },
  {
   "cell_type": "code",
   "execution_count": null,
   "id": "06f2ffe0-cff3-44ac-98e9-f92951c5f425",
   "metadata": {},
   "outputs": [],
   "source": []
  },
  {
   "cell_type": "markdown",
   "id": "57391c5d-127e-41c4-bf84-bb0942b8eb10",
   "metadata": {},
   "source": [
    "## Logging and debugging"
   ]
  },
  {
   "cell_type": "code",
   "execution_count": 1,
   "id": "aefc8a91-8015-4c72-8270-3c7ab95e24a4",
   "metadata": {
    "tags": []
   },
   "outputs": [
    {
     "name": "stdout",
     "output_type": "stream",
     "text": [
      "this is my print statement\n"
     ]
    }
   ],
   "source": [
    "print('this is my print statement')"
   ]
  },
  {
   "cell_type": "code",
   "execution_count": 14,
   "id": "e50669c1-e89a-4b72-8c90-6e8bddea1663",
   "metadata": {
    "tags": []
   },
   "outputs": [],
   "source": [
    "import logging"
   ]
  },
  {
   "cell_type": "code",
   "execution_count": 3,
   "id": "e306d7f5-fb2e-4bd7-819b-f6047d5a8730",
   "metadata": {
    "tags": []
   },
   "outputs": [],
   "source": [
    "logging.basicConfig(filename = 'test1.log', level = logging.INFO)"
   ]
  },
  {
   "cell_type": "code",
   "execution_count": 4,
   "id": "8a116d6f-e498-4467-9290-d0f2a6d53da9",
   "metadata": {
    "tags": []
   },
   "outputs": [],
   "source": [
    "logging.info('THis is the line of exacution')"
   ]
  },
  {
   "cell_type": "code",
   "execution_count": 5,
   "id": "df4cb66b-61d6-48d7-a188-4baf55d10b00",
   "metadata": {
    "tags": []
   },
   "outputs": [],
   "source": [
    "logging.error('This is my error')"
   ]
  },
  {
   "cell_type": "code",
   "execution_count": 6,
   "id": "b69c29b7-d816-46d1-8dc4-9ca645f817ff",
   "metadata": {
    "tags": []
   },
   "outputs": [],
   "source": [
    "logging.critical('this is the critical')"
   ]
  },
  {
   "cell_type": "code",
   "execution_count": 7,
   "id": "ffc7326d-f377-4c68-85ca-dad2f7b43155",
   "metadata": {
    "tags": []
   },
   "outputs": [],
   "source": [
    "logging.warning('this is the warning')"
   ]
  },
  {
   "cell_type": "code",
   "execution_count": 8,
   "id": "d3504d29-38dc-41cb-a637-75a4a87b8697",
   "metadata": {
    "tags": []
   },
   "outputs": [],
   "source": [
    "logging.debug('this is the debug')"
   ]
  },
  {
   "cell_type": "code",
   "execution_count": 9,
   "id": "c5c7b5ef-6a54-4257-ae77-b05e87ed5f3f",
   "metadata": {
    "tags": []
   },
   "outputs": [],
   "source": [
    "logging.shutdown()"
   ]
  },
  {
   "cell_type": "code",
   "execution_count": null,
   "id": "9e4860bc-85b4-4ce7-8600-481d9fc08430",
   "metadata": {},
   "outputs": [],
   "source": []
  },
  {
   "cell_type": "code",
   "execution_count": 3,
   "id": "52dd681d-1f8d-420b-9106-549433523458",
   "metadata": {},
   "outputs": [],
   "source": [
    "logging.basicConfig(filename = \"test2.log\" , level = logging.DEBUG ,format = '%(asctime)s %(message)s'  )"
   ]
  },
  {
   "cell_type": "code",
   "execution_count": 4,
   "id": "2cdde732-5cf6-4c72-9c5f-f51f14c059b6",
   "metadata": {
    "tags": []
   },
   "outputs": [],
   "source": [
    "logging.info(\"this is my info log\")"
   ]
  },
  {
   "cell_type": "code",
   "execution_count": 5,
   "id": "eab2e05d-d29e-4989-bed1-042ac1c3378b",
   "metadata": {
    "tags": []
   },
   "outputs": [],
   "source": [
    "logging.debug(\"this is my debug log\")"
   ]
  },
  {
   "cell_type": "code",
   "execution_count": 6,
   "id": "d38f04fe-1372-4732-9ffd-105253acf3c0",
   "metadata": {
    "tags": []
   },
   "outputs": [],
   "source": [
    "logging.warning(\"this is my warning \")"
   ]
  },
  {
   "cell_type": "code",
   "execution_count": 7,
   "id": "e3f88820-c028-4a0f-9f95-c9e4ff1768a5",
   "metadata": {
    "tags": []
   },
   "outputs": [],
   "source": [
    "logging.shutdown()"
   ]
  },
  {
   "cell_type": "code",
   "execution_count": null,
   "id": "f50833e0-0262-4260-9dbf-b919848a2cfe",
   "metadata": {},
   "outputs": [],
   "source": []
  },
  {
   "cell_type": "code",
   "execution_count": 15,
   "id": "f62ee388-1143-4033-96d2-b537bb3e05d7",
   "metadata": {
    "tags": []
   },
   "outputs": [],
   "source": [
    "logging.basicConfig(filename = \"test3.log\" , level = logging.DEBUG, format = '%(asctime)s %(name)s %(levelname)s  %(message)s')"
   ]
  },
  {
   "cell_type": "code",
   "execution_count": 16,
   "id": "03c9fef6-291e-409d-8ec3-2b374158aab7",
   "metadata": {
    "tags": []
   },
   "outputs": [],
   "source": [
    "logging.info(\"this is my info log\")"
   ]
  },
  {
   "cell_type": "code",
   "execution_count": 17,
   "id": "cf034bfe-a196-462a-96c3-61b3417ea200",
   "metadata": {
    "tags": []
   },
   "outputs": [],
   "source": [
    "l = [1,2,3,4,[4,5,6],'nitesh', 'surana']"
   ]
  },
  {
   "cell_type": "code",
   "execution_count": 18,
   "id": "feba7c75-a1a8-4cd4-9086-c100b6e5a5a7",
   "metadata": {
    "tags": []
   },
   "outputs": [],
   "source": [
    "l1_int = []\n",
    "l2_str = []\n",
    "for i in l : \n",
    "    logging.info(\"this is the start of my first for loop {}\".format(l))\n",
    "    logging.info(\"this is the value of i am logging {}\".format(i))\n",
    "    if type(i) == list:\n",
    "        for j in i :\n",
    "            logging.info(\"logggin my j {j} and i is {i}\".format(i = i ,j = j))\n",
    "            if type(j) == int :\n",
    "                l1_int.append(j)\n",
    "    elif type(i) == int :\n",
    "        l1_int.append(i)\n",
    "        \n",
    "    else :\n",
    "        if type(i) == str:\n",
    "            l2_str.append(i)\n",
    "logging.info(\"this is my final result  with all int {l1} ,with all str{l2}\".format(l1 =l1_int ,l2 =l2_str ))"
   ]
  },
  {
   "cell_type": "code",
   "execution_count": 19,
   "id": "95b4d9bb-3f05-4cb3-a180-e29e61a26fa0",
   "metadata": {
    "tags": []
   },
   "outputs": [],
   "source": [
    "logging.shutdown()"
   ]
  },
  {
   "cell_type": "code",
   "execution_count": null,
   "id": "90a3e61b-bb78-4c5c-9973-692987b94a6f",
   "metadata": {},
   "outputs": [],
   "source": []
  }
 ],
 "metadata": {
  "kernelspec": {
   "display_name": "Python 3 (ipykernel)",
   "language": "python",
   "name": "python3"
  },
  "language_info": {
   "codemirror_mode": {
    "name": "ipython",
    "version": 3
   },
   "file_extension": ".py",
   "mimetype": "text/x-python",
   "name": "python",
   "nbconvert_exporter": "python",
   "pygments_lexer": "ipython3",
   "version": "3.8.10"
  }
 },
 "nbformat": 4,
 "nbformat_minor": 5
}
