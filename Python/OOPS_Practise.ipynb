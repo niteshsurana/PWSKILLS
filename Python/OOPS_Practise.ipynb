{
 "cells": [
  {
   "cell_type": "code",
   "execution_count": 1,
   "id": "b9d2d3b7-446f-491c-a697-b73d29c7fd4c",
   "metadata": {
    "tags": []
   },
   "outputs": [
    {
     "ename": "SyntaxError",
     "evalue": "f-string: empty expression not allowed (1872365302.py, line 16)",
     "output_type": "error",
     "traceback": [
      "\u001b[0;36m  Cell \u001b[0;32mIn[1], line 16\u001b[0;36m\u001b[0m\n\u001b[0;31m    return f'{}({self.inputs[0]},{self.inputs[1]})'\u001b[0m\n\u001b[0m           ^\u001b[0m\n\u001b[0;31mSyntaxError\u001b[0m\u001b[0;31m:\u001b[0m f-string: empty expression not allowed\n"
     ]
    }
   ],
   "source": [
    "class Gate:\n",
    "    def __init__(self,*inputs):\n",
    "        self.inputs = list(inputs)\n",
    "        self.len = 2 if len(self.inputs)==0 else len(self.inputs) \n",
    "        \n",
    "    def numberOfInputs(self):\n",
    "        return self.len\n",
    "    \n",
    "    def setInput(self, index,value):\n",
    "        if index>=len(self.inputs):\n",
    "            self.inputs.append(value)\n",
    "        else:\n",
    "            self.inputs[index] = value\n",
    "    \n",
    "    def __str__(self):\n",
    "        return f'{}({self.inputs[0]},{self.inputs[1]})'\n",
    "    \n",
    "    \n",
    "class AndGate(Gate):\n",
    "    def getOutput(self):\n",
    "        return all(self.inputs)\n",
    "    \n",
    "class OrGate(Gate):\n",
    "    def getOutput(self):\n",
    "        return any(self.inputs)\n",
    "    \n",
    "class NotGate(Gate):\n",
    "    def getOutput(self):\n",
    "        return not self.inputs[0]\n",
    "    \n",
    "    def numberOfInputs(self):\n",
    "        self.len = 1 \n",
    "        return self.len"
   ]
  },
  {
   "cell_type": "code",
   "execution_count": 189,
   "id": "8e844d6a-5629-4899-9b53-8df59981452d",
   "metadata": {
    "tags": []
   },
   "outputs": [],
   "source": [
    "def a(*inputs):\n",
    "    print(len(inputs))"
   ]
  },
  {
   "cell_type": "code",
   "execution_count": 190,
   "id": "714159b3-0490-4bc4-8e13-be5d4d36f0ed",
   "metadata": {
    "tags": []
   },
   "outputs": [
    {
     "name": "stdout",
     "output_type": "stream",
     "text": [
      "1\n"
     ]
    }
   ],
   "source": [
    "a(5)"
   ]
  },
  {
   "cell_type": "code",
   "execution_count": 191,
   "id": "9ba52603-8c62-4c6d-b1e4-dbf49d6046da",
   "metadata": {
    "tags": []
   },
   "outputs": [
    {
     "name": "stdout",
     "output_type": "stream",
     "text": [
      "Testing Gate Classes... "
     ]
    },
    {
     "ename": "RecursionError",
     "evalue": "maximum recursion depth exceeded",
     "output_type": "error",
     "traceback": [
      "\u001b[0;31m---------------------------------------------------------------------------\u001b[0m",
      "\u001b[0;31mRecursionError\u001b[0m                            Traceback (most recent call last)",
      "Cell \u001b[0;32mIn[191], line 66\u001b[0m\n\u001b[1;32m     62\u001b[0m     \u001b[38;5;28;01massert\u001b[39;00m(\u001b[38;5;28mstr\u001b[39m(not1) \u001b[38;5;241m==\u001b[39m \u001b[38;5;124m\"\u001b[39m\u001b[38;5;124mNot(True)\u001b[39m\u001b[38;5;124m\"\u001b[39m)\n\u001b[1;32m     64\u001b[0m     \u001b[38;5;28mprint\u001b[39m(\u001b[38;5;124m\"\u001b[39m\u001b[38;5;124mPassed!\u001b[39m\u001b[38;5;124m\"\u001b[39m)\n\u001b[0;32m---> 66\u001b[0m \u001b[43mtestGateClasses\u001b[49m\u001b[43m(\u001b[49m\u001b[43m)\u001b[49m\n",
      "Cell \u001b[0;32mIn[191], line 33\u001b[0m, in \u001b[0;36mtestGateClasses\u001b[0;34m()\u001b[0m\n\u001b[1;32m     29\u001b[0m and1\u001b[38;5;241m.\u001b[39msetInput(\u001b[38;5;241m1\u001b[39m, \u001b[38;5;28;01mFalse\u001b[39;00m)\n\u001b[1;32m     30\u001b[0m \u001b[38;5;66;03m# Hint: to get the name of the class given an object obj,\u001b[39;00m\n\u001b[1;32m     31\u001b[0m \u001b[38;5;66;03m# you can do this:  type(obj).__name__\u001b[39;00m\n\u001b[1;32m     32\u001b[0m \u001b[38;5;66;03m# You might do this in the Gate.__str__ method...\u001b[39;00m\n\u001b[0;32m---> 33\u001b[0m \u001b[38;5;28;01massert\u001b[39;00m(\u001b[38;5;28;43mstr\u001b[39;49m\u001b[43m(\u001b[49m\u001b[43mand1\u001b[49m\u001b[43m)\u001b[49m \u001b[38;5;241m==\u001b[39m \u001b[38;5;124m\"\u001b[39m\u001b[38;5;124mAnd(True,False)\u001b[39m\u001b[38;5;124m\"\u001b[39m)\n\u001b[1;32m     34\u001b[0m \u001b[38;5;28;01massert\u001b[39;00m(and1\u001b[38;5;241m.\u001b[39mgetOutput() \u001b[38;5;241m==\u001b[39m \u001b[38;5;28;01mFalse\u001b[39;00m)\n\u001b[1;32m     35\u001b[0m and1\u001b[38;5;241m.\u001b[39msetInput(\u001b[38;5;241m1\u001b[39m, \u001b[38;5;28;01mTrue\u001b[39;00m) \u001b[38;5;66;03m# now both inputs are True\u001b[39;00m\n",
      "Cell \u001b[0;32mIn[188], line 16\u001b[0m, in \u001b[0;36mGate.__str__\u001b[0;34m(self)\u001b[0m\n\u001b[1;32m     15\u001b[0m \u001b[38;5;28;01mdef\u001b[39;00m \u001b[38;5;21m__str__\u001b[39m(\u001b[38;5;28mself\u001b[39m):\n\u001b[0;32m---> 16\u001b[0m     \u001b[38;5;28;01mreturn\u001b[39;00m \u001b[38;5;124mf\u001b[39m\u001b[38;5;124m'\u001b[39m\u001b[38;5;132;01m{\u001b[39;00m\u001b[38;5;28mself\u001b[39m\u001b[38;5;132;01m}\u001b[39;00m\u001b[38;5;124m(\u001b[39m\u001b[38;5;132;01m{\u001b[39;00m\u001b[38;5;28mself\u001b[39m\u001b[38;5;241m.\u001b[39minputs[\u001b[38;5;241m0\u001b[39m]\u001b[38;5;132;01m}\u001b[39;00m\u001b[38;5;124m,\u001b[39m\u001b[38;5;132;01m{\u001b[39;00m\u001b[38;5;28mself\u001b[39m\u001b[38;5;241m.\u001b[39minputs[\u001b[38;5;241m1\u001b[39m]\u001b[38;5;132;01m}\u001b[39;00m\u001b[38;5;124m)\u001b[39m\u001b[38;5;124m'\u001b[39m\n",
      "Cell \u001b[0;32mIn[188], line 16\u001b[0m, in \u001b[0;36mGate.__str__\u001b[0;34m(self)\u001b[0m\n\u001b[1;32m     15\u001b[0m \u001b[38;5;28;01mdef\u001b[39;00m \u001b[38;5;21m__str__\u001b[39m(\u001b[38;5;28mself\u001b[39m):\n\u001b[0;32m---> 16\u001b[0m     \u001b[38;5;28;01mreturn\u001b[39;00m \u001b[38;5;124mf\u001b[39m\u001b[38;5;124m'\u001b[39m\u001b[38;5;132;01m{\u001b[39;00m\u001b[38;5;28mself\u001b[39m\u001b[38;5;132;01m}\u001b[39;00m\u001b[38;5;124m(\u001b[39m\u001b[38;5;132;01m{\u001b[39;00m\u001b[38;5;28mself\u001b[39m\u001b[38;5;241m.\u001b[39minputs[\u001b[38;5;241m0\u001b[39m]\u001b[38;5;132;01m}\u001b[39;00m\u001b[38;5;124m,\u001b[39m\u001b[38;5;132;01m{\u001b[39;00m\u001b[38;5;28mself\u001b[39m\u001b[38;5;241m.\u001b[39minputs[\u001b[38;5;241m1\u001b[39m]\u001b[38;5;132;01m}\u001b[39;00m\u001b[38;5;124m)\u001b[39m\u001b[38;5;124m'\u001b[39m\n",
      "    \u001b[0;31m[... skipping similar frames: Gate.__str__ at line 16 (987 times)]\u001b[0m\n",
      "Cell \u001b[0;32mIn[188], line 16\u001b[0m, in \u001b[0;36mGate.__str__\u001b[0;34m(self)\u001b[0m\n\u001b[1;32m     15\u001b[0m \u001b[38;5;28;01mdef\u001b[39;00m \u001b[38;5;21m__str__\u001b[39m(\u001b[38;5;28mself\u001b[39m):\n\u001b[0;32m---> 16\u001b[0m     \u001b[38;5;28;01mreturn\u001b[39;00m \u001b[38;5;124mf\u001b[39m\u001b[38;5;124m'\u001b[39m\u001b[38;5;132;01m{\u001b[39;00m\u001b[38;5;28mself\u001b[39m\u001b[38;5;132;01m}\u001b[39;00m\u001b[38;5;124m(\u001b[39m\u001b[38;5;132;01m{\u001b[39;00m\u001b[38;5;28mself\u001b[39m\u001b[38;5;241m.\u001b[39minputs[\u001b[38;5;241m0\u001b[39m]\u001b[38;5;132;01m}\u001b[39;00m\u001b[38;5;124m,\u001b[39m\u001b[38;5;132;01m{\u001b[39;00m\u001b[38;5;28mself\u001b[39m\u001b[38;5;241m.\u001b[39minputs[\u001b[38;5;241m1\u001b[39m]\u001b[38;5;132;01m}\u001b[39;00m\u001b[38;5;124m)\u001b[39m\u001b[38;5;124m'\u001b[39m\n",
      "\u001b[0;31mRecursionError\u001b[0m: maximum recursion depth exceeded"
     ]
    }
   ],
   "source": [
    "def getLocalMethods(clss):\n",
    "    import types\n",
    "    # This is a helper function for the test function below.\n",
    "    # It returns a sorted list of the names of the methods\n",
    "    # defined in a class.\n",
    "    result = [ ]\n",
    "    for var in clss.__dict__:\n",
    "        val = clss.__dict__[var]\n",
    "        if (isinstance(val, types.FunctionType)):\n",
    "            result.append(var)\n",
    "    return sorted(result)\n",
    "\n",
    "def testGateClasses():\n",
    "    print(\"Testing Gate Classes... \", end=\"\")\n",
    "\n",
    "    # require methods be written in appropriate classes\n",
    "    assert(getLocalMethods(Gate) == ['__init__', '__str__',\n",
    "                                     'numberOfInputs', 'setInput'])\n",
    "    assert(getLocalMethods(AndGate) == ['getOutput'])\n",
    "    assert(getLocalMethods(OrGate) == ['getOutput'])\n",
    "    assert(getLocalMethods(NotGate) == ['getOutput', 'numberOfInputs'])\n",
    "\n",
    "    # make a simple And gate\n",
    "    and1 = AndGate()\n",
    "    assert(type(and1) == AndGate)\n",
    "    assert(isinstance(and1, Gate) == True)\n",
    "    assert(and1.numberOfInputs() == 2)\n",
    "    and1.setInput(0, True)\n",
    "    and1.setInput(1, False)\n",
    "    # Hint: to get the name of the class given an object obj,\n",
    "    # you can do this:  type(obj).__name__\n",
    "    # You might do this in the Gate.__str__ method...\n",
    "    assert(str(and1) == \"And(True,False)\")\n",
    "    assert(and1.getOutput() == False)\n",
    "    and1.setInput(1, True) # now both inputs are True\n",
    "    assert(and1.getOutput() == True)\n",
    "    assert(str(and1) == \"And(True,True)\")\n",
    "\n",
    "    # make a simple Or gate\n",
    "    or1 = OrGate()\n",
    "    assert(type(or1) == OrGate)\n",
    "    assert(isinstance(or1, Gate) == True)\n",
    "    assert(or1.numberOfInputs() == 2)\n",
    "    or1.setInput(0, False)\n",
    "    or1.setInput(1, False)\n",
    "    assert(or1.getOutput() == False)\n",
    "    assert(str(or1) == \"Or(False,False)\")\n",
    "    or1.setInput(1, True)\n",
    "    assert(or1.getOutput() == True)\n",
    "    assert(str(or1) == \"Or(False,True)\")\n",
    "\n",
    "    # make a simple Not gate\n",
    "    not1 = NotGate()\n",
    "    assert(type(not1) == NotGate)\n",
    "    assert(isinstance(not1, Gate) == True)\n",
    "    assert(not1.numberOfInputs() == 1)\n",
    "    not1.setInput(0, False)\n",
    "    assert(not1.getOutput() == True)\n",
    "    assert(str(not1) == \"Not(False)\")\n",
    "    not1.setInput(0, True)\n",
    "    assert(not1.getOutput() == False)\n",
    "    assert(str(not1) == \"Not(True)\")\n",
    "\n",
    "    print(\"Passed!\")\n",
    "\n",
    "testGateClasses()"
   ]
  },
  {
   "cell_type": "code",
   "execution_count": 192,
   "id": "5846b409-edaa-42d4-88f5-64498ba821c6",
   "metadata": {
    "tags": []
   },
   "outputs": [
    {
     "ename": "RecursionError",
     "evalue": "maximum recursion depth exceeded while calling a Python object",
     "output_type": "error",
     "traceback": [
      "\u001b[0;31m---------------------------------------------------------------------------\u001b[0m",
      "\u001b[0;31mRecursionError\u001b[0m                            Traceback (most recent call last)",
      "Cell \u001b[0;32mIn[192], line 10\u001b[0m\n\u001b[1;32m      6\u001b[0m and1\u001b[38;5;241m.\u001b[39msetInput(\u001b[38;5;241m1\u001b[39m, \u001b[38;5;28;01mFalse\u001b[39;00m)\n\u001b[1;32m      7\u001b[0m \u001b[38;5;66;03m# Hint: to get the name of the class given an object obj,\u001b[39;00m\n\u001b[1;32m      8\u001b[0m \u001b[38;5;66;03m# you can do this:  type(obj).__name__\u001b[39;00m\n\u001b[1;32m      9\u001b[0m \u001b[38;5;66;03m# You might do this in the Gate.__str__ method...\u001b[39;00m\n\u001b[0;32m---> 10\u001b[0m \u001b[38;5;28;01massert\u001b[39;00m(\u001b[38;5;28;43mstr\u001b[39;49m\u001b[43m(\u001b[49m\u001b[43mand1\u001b[49m\u001b[43m)\u001b[49m \u001b[38;5;241m==\u001b[39m \u001b[38;5;124m\"\u001b[39m\u001b[38;5;124mAnd(True,False)\u001b[39m\u001b[38;5;124m\"\u001b[39m)\n\u001b[1;32m     11\u001b[0m \u001b[38;5;28;01massert\u001b[39;00m(and1\u001b[38;5;241m.\u001b[39mgetOutput() \u001b[38;5;241m==\u001b[39m \u001b[38;5;28;01mFalse\u001b[39;00m)\n\u001b[1;32m     12\u001b[0m and1\u001b[38;5;241m.\u001b[39msetInput(\u001b[38;5;241m1\u001b[39m, \u001b[38;5;28;01mTrue\u001b[39;00m) \u001b[38;5;66;03m# now both inputs are True\u001b[39;00m\n",
      "Cell \u001b[0;32mIn[188], line 16\u001b[0m, in \u001b[0;36mGate.__str__\u001b[0;34m(self)\u001b[0m\n\u001b[1;32m     15\u001b[0m \u001b[38;5;28;01mdef\u001b[39;00m \u001b[38;5;21m__str__\u001b[39m(\u001b[38;5;28mself\u001b[39m):\n\u001b[0;32m---> 16\u001b[0m     \u001b[38;5;28;01mreturn\u001b[39;00m \u001b[38;5;124mf\u001b[39m\u001b[38;5;124m'\u001b[39m\u001b[38;5;132;01m{\u001b[39;00m\u001b[38;5;28mself\u001b[39m\u001b[38;5;132;01m}\u001b[39;00m\u001b[38;5;124m(\u001b[39m\u001b[38;5;132;01m{\u001b[39;00m\u001b[38;5;28mself\u001b[39m\u001b[38;5;241m.\u001b[39minputs[\u001b[38;5;241m0\u001b[39m]\u001b[38;5;132;01m}\u001b[39;00m\u001b[38;5;124m,\u001b[39m\u001b[38;5;132;01m{\u001b[39;00m\u001b[38;5;28mself\u001b[39m\u001b[38;5;241m.\u001b[39minputs[\u001b[38;5;241m1\u001b[39m]\u001b[38;5;132;01m}\u001b[39;00m\u001b[38;5;124m)\u001b[39m\u001b[38;5;124m'\u001b[39m\n",
      "Cell \u001b[0;32mIn[188], line 16\u001b[0m, in \u001b[0;36mGate.__str__\u001b[0;34m(self)\u001b[0m\n\u001b[1;32m     15\u001b[0m \u001b[38;5;28;01mdef\u001b[39;00m \u001b[38;5;21m__str__\u001b[39m(\u001b[38;5;28mself\u001b[39m):\n\u001b[0;32m---> 16\u001b[0m     \u001b[38;5;28;01mreturn\u001b[39;00m \u001b[38;5;124mf\u001b[39m\u001b[38;5;124m'\u001b[39m\u001b[38;5;132;01m{\u001b[39;00m\u001b[38;5;28mself\u001b[39m\u001b[38;5;132;01m}\u001b[39;00m\u001b[38;5;124m(\u001b[39m\u001b[38;5;132;01m{\u001b[39;00m\u001b[38;5;28mself\u001b[39m\u001b[38;5;241m.\u001b[39minputs[\u001b[38;5;241m0\u001b[39m]\u001b[38;5;132;01m}\u001b[39;00m\u001b[38;5;124m,\u001b[39m\u001b[38;5;132;01m{\u001b[39;00m\u001b[38;5;28mself\u001b[39m\u001b[38;5;241m.\u001b[39minputs[\u001b[38;5;241m1\u001b[39m]\u001b[38;5;132;01m}\u001b[39;00m\u001b[38;5;124m)\u001b[39m\u001b[38;5;124m'\u001b[39m\n",
      "    \u001b[0;31m[... skipping similar frames: Gate.__str__ at line 16 (988 times)]\u001b[0m\n",
      "Cell \u001b[0;32mIn[188], line 16\u001b[0m, in \u001b[0;36mGate.__str__\u001b[0;34m(self)\u001b[0m\n\u001b[1;32m     15\u001b[0m \u001b[38;5;28;01mdef\u001b[39;00m \u001b[38;5;21m__str__\u001b[39m(\u001b[38;5;28mself\u001b[39m):\n\u001b[0;32m---> 16\u001b[0m     \u001b[38;5;28;01mreturn\u001b[39;00m \u001b[38;5;124mf\u001b[39m\u001b[38;5;124m'\u001b[39m\u001b[38;5;132;01m{\u001b[39;00m\u001b[38;5;28mself\u001b[39m\u001b[38;5;132;01m}\u001b[39;00m\u001b[38;5;124m(\u001b[39m\u001b[38;5;132;01m{\u001b[39;00m\u001b[38;5;28mself\u001b[39m\u001b[38;5;241m.\u001b[39minputs[\u001b[38;5;241m0\u001b[39m]\u001b[38;5;132;01m}\u001b[39;00m\u001b[38;5;124m,\u001b[39m\u001b[38;5;132;01m{\u001b[39;00m\u001b[38;5;28mself\u001b[39m\u001b[38;5;241m.\u001b[39minputs[\u001b[38;5;241m1\u001b[39m]\u001b[38;5;132;01m}\u001b[39;00m\u001b[38;5;124m)\u001b[39m\u001b[38;5;124m'\u001b[39m\n",
      "\u001b[0;31mRecursionError\u001b[0m: maximum recursion depth exceeded while calling a Python object"
     ]
    }
   ],
   "source": [
    "and1 = AndGate()\n",
    "assert(type(and1) == AndGate)\n",
    "assert(isinstance(and1, Gate) == True)\n",
    "assert(and1.numberOfInputs() == 2)\n",
    "and1.setInput(0, True)\n",
    "and1.setInput(1, False)\n",
    "# Hint: to get the name of the class given an object obj,\n",
    "# you can do this:  type(obj).__name__\n",
    "# You might do this in the Gate.__str__ method...\n",
    "assert(str(and1) == \"And(True,False)\")\n",
    "assert(and1.getOutput() == False)\n",
    "and1.setInput(1, True) # now both inputs are True\n",
    "assert(and1.getOutput() == True)\n",
    "assert(str(and1) == \"And(True,True)\")"
   ]
  },
  {
   "cell_type": "code",
   "execution_count": 193,
   "id": "0a2f57ef-4374-4940-a45a-857b22efdfdc",
   "metadata": {
    "tags": []
   },
   "outputs": [
    {
     "ename": "RecursionError",
     "evalue": "maximum recursion depth exceeded while calling a Python object",
     "output_type": "error",
     "traceback": [
      "\u001b[0;31m---------------------------------------------------------------------------\u001b[0m",
      "\u001b[0;31mRecursionError\u001b[0m                            Traceback (most recent call last)",
      "Cell \u001b[0;32mIn[193], line 1\u001b[0m\n\u001b[0;32m----> 1\u001b[0m \u001b[38;5;28;43mstr\u001b[39;49m\u001b[43m(\u001b[49m\u001b[43mand1\u001b[49m\u001b[43m)\u001b[49m\n",
      "Cell \u001b[0;32mIn[188], line 16\u001b[0m, in \u001b[0;36mGate.__str__\u001b[0;34m(self)\u001b[0m\n\u001b[1;32m     15\u001b[0m \u001b[38;5;28;01mdef\u001b[39;00m \u001b[38;5;21m__str__\u001b[39m(\u001b[38;5;28mself\u001b[39m):\n\u001b[0;32m---> 16\u001b[0m     \u001b[38;5;28;01mreturn\u001b[39;00m \u001b[38;5;124mf\u001b[39m\u001b[38;5;124m'\u001b[39m\u001b[38;5;132;01m{\u001b[39;00m\u001b[38;5;28mself\u001b[39m\u001b[38;5;132;01m}\u001b[39;00m\u001b[38;5;124m(\u001b[39m\u001b[38;5;132;01m{\u001b[39;00m\u001b[38;5;28mself\u001b[39m\u001b[38;5;241m.\u001b[39minputs[\u001b[38;5;241m0\u001b[39m]\u001b[38;5;132;01m}\u001b[39;00m\u001b[38;5;124m,\u001b[39m\u001b[38;5;132;01m{\u001b[39;00m\u001b[38;5;28mself\u001b[39m\u001b[38;5;241m.\u001b[39minputs[\u001b[38;5;241m1\u001b[39m]\u001b[38;5;132;01m}\u001b[39;00m\u001b[38;5;124m)\u001b[39m\u001b[38;5;124m'\u001b[39m\n",
      "Cell \u001b[0;32mIn[188], line 16\u001b[0m, in \u001b[0;36mGate.__str__\u001b[0;34m(self)\u001b[0m\n\u001b[1;32m     15\u001b[0m \u001b[38;5;28;01mdef\u001b[39;00m \u001b[38;5;21m__str__\u001b[39m(\u001b[38;5;28mself\u001b[39m):\n\u001b[0;32m---> 16\u001b[0m     \u001b[38;5;28;01mreturn\u001b[39;00m \u001b[38;5;124mf\u001b[39m\u001b[38;5;124m'\u001b[39m\u001b[38;5;132;01m{\u001b[39;00m\u001b[38;5;28mself\u001b[39m\u001b[38;5;132;01m}\u001b[39;00m\u001b[38;5;124m(\u001b[39m\u001b[38;5;132;01m{\u001b[39;00m\u001b[38;5;28mself\u001b[39m\u001b[38;5;241m.\u001b[39minputs[\u001b[38;5;241m0\u001b[39m]\u001b[38;5;132;01m}\u001b[39;00m\u001b[38;5;124m,\u001b[39m\u001b[38;5;132;01m{\u001b[39;00m\u001b[38;5;28mself\u001b[39m\u001b[38;5;241m.\u001b[39minputs[\u001b[38;5;241m1\u001b[39m]\u001b[38;5;132;01m}\u001b[39;00m\u001b[38;5;124m)\u001b[39m\u001b[38;5;124m'\u001b[39m\n",
      "    \u001b[0;31m[... skipping similar frames: Gate.__str__ at line 16 (988 times)]\u001b[0m\n",
      "Cell \u001b[0;32mIn[188], line 16\u001b[0m, in \u001b[0;36mGate.__str__\u001b[0;34m(self)\u001b[0m\n\u001b[1;32m     15\u001b[0m \u001b[38;5;28;01mdef\u001b[39;00m \u001b[38;5;21m__str__\u001b[39m(\u001b[38;5;28mself\u001b[39m):\n\u001b[0;32m---> 16\u001b[0m     \u001b[38;5;28;01mreturn\u001b[39;00m \u001b[38;5;124mf\u001b[39m\u001b[38;5;124m'\u001b[39m\u001b[38;5;132;01m{\u001b[39;00m\u001b[38;5;28mself\u001b[39m\u001b[38;5;132;01m}\u001b[39;00m\u001b[38;5;124m(\u001b[39m\u001b[38;5;132;01m{\u001b[39;00m\u001b[38;5;28mself\u001b[39m\u001b[38;5;241m.\u001b[39minputs[\u001b[38;5;241m0\u001b[39m]\u001b[38;5;132;01m}\u001b[39;00m\u001b[38;5;124m,\u001b[39m\u001b[38;5;132;01m{\u001b[39;00m\u001b[38;5;28mself\u001b[39m\u001b[38;5;241m.\u001b[39minputs[\u001b[38;5;241m1\u001b[39m]\u001b[38;5;132;01m}\u001b[39;00m\u001b[38;5;124m)\u001b[39m\u001b[38;5;124m'\u001b[39m\n",
      "\u001b[0;31mRecursionError\u001b[0m: maximum recursion depth exceeded while calling a Python object"
     ]
    }
   ],
   "source": [
    "str(and1)"
   ]
  },
  {
   "cell_type": "code",
   "execution_count": 113,
   "id": "bb7a79f0-bcb2-41ce-a1ff-57954bac0f68",
   "metadata": {
    "tags": []
   },
   "outputs": [
    {
     "data": {
      "text/plain": [
       "['getOutput']"
      ]
     },
     "execution_count": 113,
     "metadata": {},
     "output_type": "execute_result"
    }
   ],
   "source": [
    "getLocalMethods(OrGate) "
   ]
  },
  {
   "cell_type": "code",
   "execution_count": 114,
   "id": "df36d15e-be71-4832-91b6-1318f46eec36",
   "metadata": {
    "tags": []
   },
   "outputs": [
    {
     "data": {
      "text/plain": [
       "['getOutput', 'numberOfInputs']"
      ]
     },
     "execution_count": 114,
     "metadata": {},
     "output_type": "execute_result"
    }
   ],
   "source": [
    "getLocalMethods(NotGate)"
   ]
  },
  {
   "cell_type": "code",
   "execution_count": 115,
   "id": "a76bdf96-b8f3-48ab-9e7b-c8bbd123ee3b",
   "metadata": {
    "tags": []
   },
   "outputs": [],
   "source": [
    "and1 = AndGate()\n",
    "assert(type(and1) == AndGate)"
   ]
  },
  {
   "cell_type": "code",
   "execution_count": 116,
   "id": "d4fff0a1-bcee-4f60-ba8f-bcd83c792799",
   "metadata": {
    "tags": []
   },
   "outputs": [],
   "source": [
    "assert(isinstance(and1, Gate) == True)"
   ]
  },
  {
   "cell_type": "code",
   "execution_count": 117,
   "id": "12a1cc40-3301-4fc7-8859-18bd40ed745c",
   "metadata": {
    "tags": []
   },
   "outputs": [],
   "source": [
    "assert(and1.numberOfInputs() == 2)"
   ]
  },
  {
   "cell_type": "code",
   "execution_count": 118,
   "id": "eaa3167f-f899-4685-97af-361aa5d03db0",
   "metadata": {
    "tags": []
   },
   "outputs": [
    {
     "data": {
      "text/plain": [
       "2"
      ]
     },
     "execution_count": 118,
     "metadata": {},
     "output_type": "execute_result"
    }
   ],
   "source": [
    "and1.numberOfInputs()"
   ]
  },
  {
   "cell_type": "code",
   "execution_count": 119,
   "id": "2b3bc91e-7de4-4a67-9a1e-52b53419e4c3",
   "metadata": {
    "tags": []
   },
   "outputs": [],
   "source": [
    "a = 5 or 2"
   ]
  },
  {
   "cell_type": "code",
   "execution_count": 120,
   "id": "437edbed-f48e-4c31-958b-a4ef7fef0e53",
   "metadata": {
    "tags": []
   },
   "outputs": [],
   "source": [
    "and1.setInput(0, True)\n",
    "and1.setInput(1, False)"
   ]
  },
  {
   "cell_type": "code",
   "execution_count": 121,
   "id": "122f7b08-6ef3-4a66-b3e0-7eb90a19daad",
   "metadata": {
    "tags": []
   },
   "outputs": [
    {
     "ename": "NameError",
     "evalue": "name 'cls' is not defined",
     "output_type": "error",
     "traceback": [
      "\u001b[0;31m---------------------------------------------------------------------------\u001b[0m",
      "\u001b[0;31mNameError\u001b[0m                                 Traceback (most recent call last)",
      "Cell \u001b[0;32mIn[121], line 1\u001b[0m\n\u001b[0;32m----> 1\u001b[0m \u001b[38;5;28;43mstr\u001b[39;49m\u001b[43m(\u001b[49m\u001b[43mand1\u001b[49m\u001b[43m)\u001b[49m\n",
      "Cell \u001b[0;32mIn[107], line 16\u001b[0m, in \u001b[0;36mGate.__str__\u001b[0;34m(self)\u001b[0m\n\u001b[1;32m     15\u001b[0m \u001b[38;5;28;01mdef\u001b[39;00m \u001b[38;5;21m__str__\u001b[39m(\u001b[38;5;28mself\u001b[39m):\n\u001b[0;32m---> 16\u001b[0m     \u001b[38;5;28;01mreturn\u001b[39;00m \u001b[38;5;124mf\u001b[39m\u001b[38;5;124m'\u001b[39m\u001b[38;5;132;01m{\u001b[39;00m\u001b[38;5;28mcls\u001b[39m\u001b[38;5;132;01m}\u001b[39;00m\u001b[38;5;124m(\u001b[39m\u001b[38;5;132;01m{\u001b[39;00m\u001b[38;5;28mself\u001b[39m\u001b[38;5;241m.\u001b[39minputs[\u001b[38;5;241m0\u001b[39m]\u001b[38;5;132;01m}\u001b[39;00m\u001b[38;5;124m,\u001b[39m\u001b[38;5;132;01m{\u001b[39;00m\u001b[38;5;28mself\u001b[39m\u001b[38;5;241m.\u001b[39minputs[\u001b[38;5;241m1\u001b[39m]\u001b[38;5;132;01m}\u001b[39;00m\u001b[38;5;124m)\u001b[39m\u001b[38;5;124m'\u001b[39m\n",
      "\u001b[0;31mNameError\u001b[0m: name 'cls' is not defined"
     ]
    }
   ],
   "source": [
    "str(and1)"
   ]
  },
  {
   "cell_type": "code",
   "execution_count": 74,
   "id": "7f368308-6446-4080-9682-a13cc6c3525d",
   "metadata": {
    "tags": []
   },
   "outputs": [],
   "source": [
    "a = []"
   ]
  },
  {
   "cell_type": "code",
   "execution_count": 75,
   "id": "75536f96-367f-40aa-9477-f15c005f4294",
   "metadata": {
    "tags": []
   },
   "outputs": [
    {
     "data": {
      "text/plain": [
       "0"
      ]
     },
     "execution_count": 75,
     "metadata": {},
     "output_type": "execute_result"
    }
   ],
   "source": [
    "len(a)"
   ]
  },
  {
   "cell_type": "code",
   "execution_count": null,
   "id": "6d88b6f2-d139-4aaa-b501-0c6d03440f76",
   "metadata": {},
   "outputs": [],
   "source": []
  },
  {
   "cell_type": "code",
   "execution_count": 348,
   "id": "31dfec1d-6cf4-47d5-b133-d21ab950dc65",
   "metadata": {
    "tags": []
   },
   "outputs": [],
   "source": [
    "class Book:\n",
    "    \n",
    "    def __init__(self,name,author,no_pages):\n",
    "        self.name = name\n",
    "        self.author = author\n",
    "        self.no_pages = no_pages\n",
    "        self.current_page = 1\n",
    "        self.bookmarked = None\n",
    "        \n",
    "    def __str__(self):\n",
    "        if self.no_pages>1:\n",
    "            a = 'pages'\n",
    "        else:\n",
    "            a = 'page'\n",
    "        if self.bookmarked == None:\n",
    "            return f\"Book<{self.name} by {self.author}: {self.no_pages} {a}, currently on page {self.current_page}>\"\n",
    "        else:\n",
    "            return f\"Book<{self.name} by {self.author}: {self.no_pages} {a}, currently on page {self.current_page}, page {self.bookmarked} bookmarked>\"\n",
    "            \n",
    "    def turnPage(self,pages):\n",
    "        final_page = self.current_page + pages\n",
    "        \n",
    "        if final_page>self.no_pages:\n",
    "            self.current_page = self.no_pages\n",
    "        elif final_page<=0:\n",
    "            self.current_page = 1\n",
    "        else:\n",
    "            self.current_page += pages\n",
    "            \n",
    "    def getCurrentPage(self):\n",
    "        return self.current_page\n",
    "    \n",
    "    def placeBookmark(self):\n",
    "        self.bookmarked = self.current_page\n",
    "        \n",
    "    def getBookmarkedPage(self):\n",
    "        return self.bookmarked\n",
    "    \n",
    "    def turnToBookmark(self):\n",
    "        if self.bookmarked !=None:\n",
    "            self.current_page = self.bookmarked\n",
    "        \n",
    "    def removeBookmark(self):\n",
    "        self.bookmarked = None\n",
    "        \n",
    "    def __eq__(self,other):\n",
    "        return (isinstance(other, Book) and (self.name==other.name) and (self.no_pages == other.no_pages) \n",
    "                and (self.author == other.author)and (self.current_page == other.current_page) \n",
    "                and (self.bookmarked == other.bookmarked))\n",
    "            "
   ]
  },
  {
   "cell_type": "code",
   "execution_count": 349,
   "id": "ece8ae80-e13e-4a41-b50d-a2a2bb92cfe2",
   "metadata": {
    "tags": []
   },
   "outputs": [],
   "source": [
    "book1 = Book(\"Harry Potter and the Sorcerer's Stone\", \n",
    "                 \"J. K. Rowling\", 309)\n",
    "assert(str(book1) == \"Book<Harry Potter and the Sorcerer's Stone by \" + \n",
    "                     \"J. K. Rowling: 309 pages, currently on page 1>\")\n",
    "book2 = Book(\"Carnegie Mellon Motto\", \"Andrew Carnegie\", 1)\n",
    "assert(str(book2) == \"Book<Carnegie Mellon Motto by Andrew Carnegie: \" +\n",
    "                     \"1 page, currently on page 1>\")"
   ]
  },
  {
   "cell_type": "code",
   "execution_count": 350,
   "id": "e17e9367-54e4-440a-ad73-50b0d5f5534c",
   "metadata": {
    "tags": []
   },
   "outputs": [],
   "source": [
    "book1.turnPage(4)"
   ]
  },
  {
   "cell_type": "code",
   "execution_count": 351,
   "id": "819dbcaf-84a7-4b90-9a39-09bcc7c126fd",
   "metadata": {
    "tags": []
   },
   "outputs": [
    {
     "data": {
      "text/plain": [
       "True"
      ]
     },
     "execution_count": 351,
     "metadata": {},
     "output_type": "execute_result"
    }
   ],
   "source": [
    "book1.getCurrentPage() == 5"
   ]
  },
  {
   "cell_type": "code",
   "execution_count": 352,
   "id": "21e2f538-41b5-49cf-b70c-73f84053247a",
   "metadata": {
    "tags": []
   },
   "outputs": [
    {
     "data": {
      "text/plain": [
       "\"Book<Harry Potter and the Sorcerer's Stone by J. K. Rowling: 309 pages, currently on page 1>\""
      ]
     },
     "execution_count": 352,
     "metadata": {},
     "output_type": "execute_result"
    }
   ],
   "source": [
    "\"Book<Harry Potter and the Sorcerer's Stone by \" + \"J. K. Rowling: 309 pages, currently on page 1>\""
   ]
  },
  {
   "cell_type": "code",
   "execution_count": 353,
   "id": "a8882469-b0cd-4aae-b12f-44698f9a8a2c",
   "metadata": {
    "tags": []
   },
   "outputs": [],
   "source": [
    "book1.turnPage(-1)\n",
    "assert(book1.getCurrentPage() == 4)\n",
    "book1.turnPage(400)\n",
    "assert(book1.getCurrentPage() == 309)\n",
    "assert(str(book1) == \"Book<Harry Potter and the Sorcerer's Stone by \" + \n",
    "                     \"J. K. Rowling: 309 pages, currently on page 309>\")\n",
    "book2.turnPage(-1)\n",
    "assert(book2.getCurrentPage() == 1)\n",
    "book2.turnPage(1)\n",
    "assert(book2.getCurrentPage() == 1)"
   ]
  },
  {
   "cell_type": "code",
   "execution_count": 354,
   "id": "27717572-804f-45da-8b17-197941a038f6",
   "metadata": {
    "tags": []
   },
   "outputs": [],
   "source": [
    "book2.turnPage(-1)\n",
    "\n",
    "\n",
    "\n",
    "\n",
    "\n",
    "\n",
    "\n"
   ]
  },
  {
   "cell_type": "code",
   "execution_count": 355,
   "id": "39375cc8-aba1-424d-a78b-7788d08a25ea",
   "metadata": {
    "tags": []
   },
   "outputs": [
    {
     "data": {
      "text/plain": [
       "1"
      ]
     },
     "execution_count": 355,
     "metadata": {},
     "output_type": "execute_result"
    }
   ],
   "source": [
    "book2.getCurrentPage()"
   ]
  },
  {
   "cell_type": "code",
   "execution_count": 356,
   "id": "b16b2373-a753-408b-8b2d-e0a0b6b40215",
   "metadata": {
    "tags": []
   },
   "outputs": [],
   "source": [
    "def testBookClass():\n",
    "    print(\"Testing Book class...\", end=\"\")\n",
    "    # A Book has a title, and author, and a number of pages.\n",
    "    # It also has a current page, which always starts at 1. There is no page 0!\n",
    "    book1 = Book(\"Harry Potter and the Sorcerer's Stone\", \n",
    "                 \"J. K. Rowling\", 309)\n",
    "    assert(str(book1) == \"Book<Harry Potter and the Sorcerer's Stone by \" + \n",
    "                         \"J. K. Rowling: 309 pages, currently on page 1>\")\n",
    "    book2 = Book(\"Carnegie Mellon Motto\", \"Andrew Carnegie\", 1)\n",
    "    assert(str(book2) == \"Book<Carnegie Mellon Motto by Andrew Carnegie: \" +\n",
    "                         \"1 page, currently on page 1>\")\n",
    "                         \n",
    "    # You can turn pages in a book. Turning a positive number of pages moves\n",
    "    # forward; turning a negative number moves backwards. You can't move past\n",
    "    # the first page going backwards or the last page going forwards\n",
    "    book1.turnPage(4) # turning pages does not return\n",
    "    assert(book1.getCurrentPage() == 5)\n",
    "    book1.turnPage(-1)\n",
    "    assert(book1.getCurrentPage() == 4)\n",
    "    book1.turnPage(400)\n",
    "    assert(book1.getCurrentPage() == 309)\n",
    "    assert(str(book1) == \"Book<Harry Potter and the Sorcerer's Stone by \" + \n",
    "                         \"J. K. Rowling: 309 pages, currently on page 309>\")\n",
    "    book2.turnPage(-1)\n",
    "    assert(book2.getCurrentPage() == 1)\n",
    "    book2.turnPage(1)\n",
    "    assert(book2.getCurrentPage() == 1)\n",
    "    \n",
    "    # You can also put a bookmark on the current page. This lets you turn\n",
    "    # back to it easily. The book starts out without a bookmark.\n",
    "    book3 = Book(\"The Name of the Wind\", \"Patrick Rothfuss\", 662)\n",
    "    assert(str(book3) == \"Book<The Name of the Wind by Patrick Rothfuss: \" + \\\n",
    "                         \"662 pages, currently on page 1>\")\n",
    "    assert(book3.getBookmarkedPage() == None)\n",
    "    book3.turnPage(9)\n",
    "    book3.placeBookmark() # does not return\n",
    "    assert(book3.getBookmarkedPage() == 10)\n",
    "    book3.turnPage(7)\n",
    "    assert(book3.getBookmarkedPage() == 10)\n",
    "    assert(book3.getCurrentPage() == 17)\n",
    "    assert(str(book3) == \"Book<The Name of the Wind by Patrick Rothfuss: \" + \\\n",
    "                         \"662 pages, currently on page 17, page 10 bookmarked>\")\n",
    "    book3.turnToBookmark()\n",
    "    assert(book3.getCurrentPage() == 10)\n",
    "    book3.removeBookmark()\n",
    "    assert(book3.getBookmarkedPage() == None)\n",
    "    book3.turnPage(25)\n",
    "    assert(book3.getCurrentPage() == 35)\n",
    "    book3.turnToBookmark() # if there's no bookmark, don't turn to a page\n",
    "    assert(book3.getCurrentPage() == 35)\n",
    "    assert(str(book3) == \"Book<The Name of the Wind by Patrick Rothfuss: \" + \\\n",
    "                         \"662 pages, currently on page 35>\")\n",
    "    \n",
    "    # Finally, you should be able to compare two books directly\n",
    "    book5 = Book(\"A Game of Thrones\", \"George R.R. Martin\", 807)\n",
    "    book6 = Book(\"A Game of Thrones\", \"George R.R. Martin\", 807)\n",
    "    book7 = Book(\"A Natural History of Dragons\", \"Marie Brennan\", 334)\n",
    "    book8 = Book(\"A Game of Spoofs\", \"George R.R. Martin\", 807)\n",
    "    assert(book5 == book6)\n",
    "    assert(book5 != book7)\n",
    "    assert(book5 != book8)\n",
    "    book5.turnPage(1)\n",
    "    assert(book5 != book6)\n",
    "    book5.turnPage(-1)\n",
    "    assert(book5 == book6)\n",
    "    book6.placeBookmark()\n",
    "    assert(book5 != book6)\n",
    "    print(\"Done!\")"
   ]
  },
  {
   "cell_type": "code",
   "execution_count": 357,
   "id": "3c9e7133-11f7-42eb-bcc9-ae3b04edfd9b",
   "metadata": {
    "tags": []
   },
   "outputs": [
    {
     "name": "stdout",
     "output_type": "stream",
     "text": [
      "Testing Book class...Done!\n"
     ]
    }
   ],
   "source": [
    "testBookClass()"
   ]
  },
  {
   "cell_type": "code",
   "execution_count": 326,
   "id": "bdccf144-27fa-441f-b521-d3bb9eb9a8a9",
   "metadata": {
    "tags": []
   },
   "outputs": [],
   "source": [
    "book5 = Book(\"A Game of Thrones\", \"George R.R. Martin\", 807)"
   ]
  },
  {
   "cell_type": "code",
   "execution_count": 327,
   "id": "1e4b6851-dd56-40bb-97a3-f8470c928a79",
   "metadata": {
    "tags": []
   },
   "outputs": [],
   "source": [
    "book6 = Book(\"A Game of Thrones\", \"George R.R. Martin\", 807)"
   ]
  },
  {
   "cell_type": "code",
   "execution_count": 328,
   "id": "677754f0-a9c3-4a59-8f0b-67814dac9d4e",
   "metadata": {
    "tags": []
   },
   "outputs": [
    {
     "data": {
      "text/plain": [
       "True"
      ]
     },
     "execution_count": 328,
     "metadata": {},
     "output_type": "execute_result"
    }
   ],
   "source": [
    "book5 == book6"
   ]
  },
  {
   "cell_type": "code",
   "execution_count": 329,
   "id": "fe46d9e4-96ad-43fe-a8b3-49e992716c0e",
   "metadata": {
    "tags": []
   },
   "outputs": [],
   "source": [
    "book5.turnPage(1)"
   ]
  },
  {
   "cell_type": "code",
   "execution_count": 330,
   "id": "8c2a1611-be0d-48a0-a5f9-8994b7fe9461",
   "metadata": {
    "tags": []
   },
   "outputs": [],
   "source": [
    "assert(book5 != book6)\n"
   ]
  },
  {
   "cell_type": "code",
   "execution_count": 331,
   "id": "9f28875c-93a9-4033-bcb6-ee2e2fe4a56b",
   "metadata": {
    "tags": []
   },
   "outputs": [],
   "source": [
    "book5.turnPage(-1)"
   ]
  },
  {
   "cell_type": "code",
   "execution_count": 332,
   "id": "9c19d4f1-f3ef-44d5-bbfc-d6a7e84ec838",
   "metadata": {
    "tags": []
   },
   "outputs": [],
   "source": [
    "assert(book5 == book6)"
   ]
  },
  {
   "cell_type": "code",
   "execution_count": 333,
   "id": "8d79b2ed-c69a-434b-9391-e69a5c7ead97",
   "metadata": {
    "tags": []
   },
   "outputs": [],
   "source": [
    "book6.placeBookmark()"
   ]
  },
  {
   "cell_type": "code",
   "execution_count": 334,
   "id": "a5d8cb24-901c-421f-b88d-663d91fced07",
   "metadata": {
    "tags": []
   },
   "outputs": [
    {
     "data": {
      "text/plain": [
       "False"
      ]
     },
     "execution_count": 334,
     "metadata": {},
     "output_type": "execute_result"
    }
   ],
   "source": [
    "book5 != book6"
   ]
  },
  {
   "cell_type": "code",
   "execution_count": null,
   "id": "99bff78f-2a91-4bad-9b95-cd805ab895f2",
   "metadata": {},
   "outputs": [],
   "source": []
  }
 ],
 "metadata": {
  "kernelspec": {
   "display_name": "Python 3 (ipykernel)",
   "language": "python",
   "name": "python3"
  },
  "language_info": {
   "codemirror_mode": {
    "name": "ipython",
    "version": 3
   },
   "file_extension": ".py",
   "mimetype": "text/x-python",
   "name": "python",
   "nbconvert_exporter": "python",
   "pygments_lexer": "ipython3",
   "version": "3.8.10"
  }
 },
 "nbformat": 4,
 "nbformat_minor": 5
}
