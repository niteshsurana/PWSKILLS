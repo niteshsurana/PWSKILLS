{
 "cells": [
  {
   "cell_type": "code",
   "execution_count": 103,
   "id": "893646a9-1fe2-4663-a05c-85b88b645cd5",
   "metadata": {
    "tags": []
   },
   "outputs": [],
   "source": [
    "class VendingMachine:\n",
    "    def __init__(self, no_bottles, price,money_paid = 0):\n",
    "        self.no_bottles = no_bottles\n",
    "        self.price = price\n",
    "        self.money_paid = money_paid\n",
    "    \n",
    "    def isEmpty(self):\n",
    "        return not bool(self.no_bottles)\n",
    "    \n",
    "    def getBottleCount(self):\n",
    "        return self.no_bottles\n",
    "    \n",
    "    def insertMoney(self,inserted_money=0):\n",
    "        self.money_paid = self.money_paid + inserted_money/100\n",
    "        \n",
    "        if self.money_paid>self.stillowed:\n",
    "            self.no_bottles = self.no_bottles-1\n",
    "            self.stillowed = self.price\n",
    "            self.money_paid = 0\n",
    "            return (\"Got a bottle!\", self.money_paid-self.stillowed)\n",
    "        else:\n",
    "            \n",
    "            return (f\"Still owe ${(self.stillOwe()/100)}\", 0)\n",
    "    \n",
    "    def stillOwe(self):\n",
    "        self.stillowed = (self.price/100 - self.money_paid)\n",
    "        return self.stillowed*100\n",
    "    \n",
    "    def __repr__(self):\n",
    "        return f\"Vending Machine:<{self.no_bottles} bottles; ${self.price/100} each; ${self.money_paid} paid>\""
   ]
  },
  {
   "cell_type": "code",
   "execution_count": null,
   "id": "de1cc012-01cf-423c-82c5-245b86e8278d",
   "metadata": {},
   "outputs": [],
   "source": [
    "def __str__(self):\n",
    "        return f\"{self.quantity} bottles - {self.price/100:.2f} each\\nMoney paid: {self.money_paid/100:.2f}\"\n",
    "\n",
    "    def insert_money(self, amount):\n",
    "        if amount > 0:\n",
    "            self.money_paid += amount\n",
    "\n",
    "    def buy(self):\n",
    "        if self.quantity > 0 and self.money_paid >= self.price:\n",
    "            self.quantity -= 1\n",
    "            self.money_paid -= self.price\n",
    "            return \"Thank you for your purchase!\"\n",
    "        elif self.quantity == 0:\n",
    "            return \"Sorry, we're sold out.\"\n",
    "        else:\n",
    "            return f\"Please insert {self.price/100:.2f} to make a purchase.\""
   ]
  },
  {
   "cell_type": "code",
   "execution_count": 110,
   "id": "22c385ec-847a-4a64-bc6a-cf1305dc0af1",
   "metadata": {
    "tags": []
   },
   "outputs": [],
   "source": [
    "class VendingMachine:\n",
    "\n",
    "    def __init__(self, quantity, price):\n",
    "        self.quantity = quantity\n",
    "        self.price = price\n",
    "        self.money_paid = 0\n",
    "\n",
    "    def isEmpty(self):\n",
    "        return not bool(self.quantity)\n",
    "    \n",
    "    def getBottleCount(self):\n",
    "        return self.quantity\n",
    "    \n",
    "    def insertMoney(self,amount):\n",
    "        id amount<=0:\n",
    "            return 'Invalid Amount'\n",
    "        \n",
    "        self.money_paid += amount\n",
    "        change = self.money_paid-self.price\n",
    "        if change>=0:\n",
    "            self.quantity -= 1\n",
    "            self.money_paid-=self.price\n",
    "            \n",
    "            if change>0:\n",
    "                return 'Thank you! here is your change', change/100\n",
    "            else:\n",
    "                return 'Thank you'\n",
    "            \n",
    "        else:\n",
    "            return f\"Please insert {abs(change)/100:.2f} more\"\n",
    "    def __repr__(self):\n",
    "        return f\"Vending Machine:<{self.quantity} bottles; ${self.price/100:0.2f} each; ${self.money_paid/100:0.2f} paid>\""
   ]
  },
  {
   "cell_type": "code",
   "execution_count": 111,
   "id": "809343d3-735e-4fb1-980d-3845725772c6",
   "metadata": {
    "tags": []
   },
   "outputs": [],
   "source": [
    "vm1 = VendingMachine(100, 125)"
   ]
  },
  {
   "cell_type": "code",
   "execution_count": 112,
   "id": "32a7d3eb-12af-4839-bf8a-9237cb0f38e5",
   "metadata": {
    "tags": []
   },
   "outputs": [
    {
     "ename": "AssertionError",
     "evalue": "",
     "output_type": "error",
     "traceback": [
      "\u001b[0;31m---------------------------------------------------------------------------\u001b[0m",
      "\u001b[0;31mAssertionError\u001b[0m                            Traceback (most recent call last)",
      "Cell \u001b[0;32mIn[112], line 1\u001b[0m\n\u001b[0;32m----> 1\u001b[0m \u001b[38;5;28;01massert\u001b[39;00m(\u001b[38;5;28mstr\u001b[39m(vm1) \u001b[38;5;241m==\u001b[39m \u001b[38;5;124m\"\u001b[39m\u001b[38;5;124mVending Machine:<100 bottles; $1.25 each; $0 paid>\u001b[39m\u001b[38;5;124m\"\u001b[39m)\n\u001b[1;32m      2\u001b[0m \u001b[38;5;28;01massert\u001b[39;00m(vm1\u001b[38;5;241m.\u001b[39misEmpty() \u001b[38;5;241m==\u001b[39m \u001b[38;5;28;01mFalse\u001b[39;00m)\n\u001b[1;32m      3\u001b[0m \u001b[38;5;28;01massert\u001b[39;00m(vm1\u001b[38;5;241m.\u001b[39mgetBottleCount() \u001b[38;5;241m==\u001b[39m \u001b[38;5;241m100\u001b[39m)\n",
      "\u001b[0;31mAssertionError\u001b[0m: "
     ]
    }
   ],
   "source": [
    "assert(str(vm1) == \"Vending Machine:<100 bottles; $1.25 each; $0 paid>\")\n",
    "assert(vm1.isEmpty() == False)\n",
    "assert(vm1.getBottleCount() == 100)\n",
    "assert(vm1.stillOwe() == 125)"
   ]
  },
  {
   "cell_type": "code",
   "execution_count": 113,
   "id": "f8241cfc-616d-4d9e-bfae-8e83dfd4a7b3",
   "metadata": {
    "tags": []
   },
   "outputs": [
    {
     "data": {
      "text/plain": [
       "'Vending Machine:<100 bottles; $1.25 each; $0.00 paid>'"
      ]
     },
     "execution_count": 113,
     "metadata": {},
     "output_type": "execute_result"
    }
   ],
   "source": [
    "str(vm1)"
   ]
  },
  {
   "cell_type": "code",
   "execution_count": 98,
   "id": "203cfd88-1b73-47eb-9396-f0a6367ccfb6",
   "metadata": {
    "tags": []
   },
   "outputs": [
    {
     "data": {
      "text/plain": [
       "False"
      ]
     },
     "execution_count": 98,
     "metadata": {},
     "output_type": "execute_result"
    }
   ],
   "source": [
    "vm1.isEmpty()"
   ]
  },
  {
   "cell_type": "code",
   "execution_count": 58,
   "id": "e96a67da-c4da-42fb-b0b3-6cf9a835cdaa",
   "metadata": {
    "tags": []
   },
   "outputs": [
    {
     "data": {
      "text/plain": [
       "True"
      ]
     },
     "execution_count": 58,
     "metadata": {},
     "output_type": "execute_result"
    }
   ],
   "source": [
    "bool(100)"
   ]
  },
  {
   "cell_type": "code",
   "execution_count": 59,
   "id": "704ada8d-bf93-453c-bb82-a0c8eaf4673d",
   "metadata": {
    "tags": []
   },
   "outputs": [
    {
     "data": {
      "text/plain": [
       "True"
      ]
     },
     "execution_count": 59,
     "metadata": {},
     "output_type": "execute_result"
    }
   ],
   "source": [
    "vm1.insertMoney(20) == (\"Still owe $1.05\", 0)"
   ]
  },
  {
   "cell_type": "code",
   "execution_count": 60,
   "id": "1e1d2c1d-e1fc-4ff4-a188-f490db2f4ae7",
   "metadata": {
    "tags": []
   },
   "outputs": [
    {
     "data": {
      "text/plain": [
       "('Still owe $0.85', 0)"
      ]
     },
     "execution_count": 60,
     "metadata": {},
     "output_type": "execute_result"
    }
   ],
   "source": [
    "assert(vm1.insertMoney(20) == (\"Still owe $1.05\", 0))\n",
    "assert(str(vm1) == \"Vending Machine:<100 bottles; $1.25 each; $0.20 paid>\")\n",
    "assert(vm1.stillOwe() == 105)\n",
    "assert(vm1.getBottleCount() == 100)\n",
    "assert(vm1.insertMoney(5) == (\"Still owe $1\", 0))"
   ]
  },
  {
   "cell_type": "code",
   "execution_count": 99,
   "id": "01f577cf-d614-4f93-ae3b-0c19846fbbbe",
   "metadata": {
    "tags": []
   },
   "outputs": [
    {
     "data": {
      "text/plain": [
       "('Still owe $1.05', 0)"
      ]
     },
     "execution_count": 99,
     "metadata": {},
     "output_type": "execute_result"
    }
   ],
   "source": [
    "vm1.insertMoney(20)"
   ]
  },
  {
   "cell_type": "code",
   "execution_count": 100,
   "id": "5b00f771-b9c6-4f15-8e91-7d38c59721c2",
   "metadata": {
    "tags": []
   },
   "outputs": [
    {
     "data": {
      "text/plain": [
       "'Vending Machine:<100 bottles; $1.25 each; $0.2 paid>'"
      ]
     },
     "execution_count": 100,
     "metadata": {},
     "output_type": "execute_result"
    }
   ],
   "source": [
    "str(vm1)"
   ]
  },
  {
   "cell_type": "code",
   "execution_count": 101,
   "id": "0e5228c1-e890-4a79-a7b4-a489a3e2696b",
   "metadata": {
    "tags": []
   },
   "outputs": [
    {
     "data": {
      "text/plain": [
       "False"
      ]
     },
     "execution_count": 101,
     "metadata": {},
     "output_type": "execute_result"
    }
   ],
   "source": [
    "str(vm1) == \"Vending Machine:<100 bottles; $1.25 each; $0.20 paid>\""
   ]
  },
  {
   "cell_type": "code",
   "execution_count": 293,
   "id": "828a0b8a-c4fa-410d-825d-eaca1c89c9c5",
   "metadata": {},
   "outputs": [],
   "source": [
    "class VendingMachine:                 ## Correct Method\n",
    "    \n",
    "    def __init__(self,quantity,price,money_paid = 0):\n",
    "        self.quantity = quantity\n",
    "        self.item_price = price    ## Price is in cents\n",
    "        self.money_paid = money_paid\n",
    "        \n",
    "    def isEmpty(self):\n",
    "        return self.quantity<=0\n",
    "        \n",
    "        \n",
    "    def getBottleCount(self):\n",
    "        return self.quantity\n",
    "    \n",
    "    def insertMoney(self,amount):\n",
    "        if self.quantity<=0:\n",
    "            return f\"Machine is empty\",amount\n",
    "        else:\n",
    "            self.money_paid +=amount\n",
    "            change = self.money_paid-self.item_price\n",
    "            if change<0:\n",
    "                if str(change/100).endswith('.0'):\n",
    "                    return (f\"Still owe ${int(-change/100)}\",0)\n",
    "                else:\n",
    "                    return (f\"Still owe ${-change/100}\",0)\n",
    "                    \n",
    "            else:\n",
    "                self.quantity -=1\n",
    "                self.money_paid = 0\n",
    "                return (f\"Got a bottle!\", change)\n",
    "            \n",
    "    def stillOwe(self):\n",
    "        return self.item_price-self.money_paid\n",
    "    \n",
    "    def stockMachine(self,restock_qty):\n",
    "        self.quantity +=restock_qty\n",
    "    \n",
    "    def getHashables(self):\n",
    "        return (self.quantity, self.item_price, self.money_paid) # return a tuple of hashables\n",
    "\n",
    "    def __hash__(self):\n",
    "        return hash(self.getHashables())\n",
    "    \n",
    "    def __eq__(self, other):\n",
    "        return (isinstance(other, VendingMachine) and\n",
    "                ((self.quantity == other.quantity) and (self.item_price == other.item_price) and (self.money_paid == other.money_paid)))\n",
    "    \n",
    "    def __repr__(self):\n",
    "        \n",
    "        # if self.money_paid>0:\n",
    "        #     return f\"Vending Machine:<{self.quantity} bottles; ${self.item_price/100} each; ${self.money_paid/100} paid>\"\n",
    "        # if self.money_paid>0:\n",
    "        #     self.money_paid= f\"{a:0.2f}\"\n",
    "        if self.money_paid>0:\n",
    "            return f\"Vending Machine:<{self.quantity} bottles; ${self.item_price/100:0.2f} each; ${(self.money_paid/100):0.2f} paid>\"\n",
    "        else:\n",
    "            return f\"Vending Machine:<{self.quantity} bottles; ${self.item_price/100:0.2f} each; ${int(self.money_paid/100)} paid>\""
   ]
  },
  {
   "cell_type": "code",
   "execution_count": 294,
   "id": "02678aa2-5cd7-49b2-b78f-d89c011e114f",
   "metadata": {
    "tags": []
   },
   "outputs": [],
   "source": [
    "vm1 = VendingMachine(100, 125)"
   ]
  },
  {
   "cell_type": "code",
   "execution_count": 295,
   "id": "d1461cdb-80d3-454b-9d39-5819243c2fa3",
   "metadata": {
    "tags": []
   },
   "outputs": [],
   "source": [
    "vm1 = VendingMachine(100, 125)\n",
    "assert(str(vm1) == \"Vending Machine:<100 bottles; $1.25 each; $0 paid>\")\n",
    "assert(vm1.isEmpty() == False)\n",
    "assert(vm1.getBottleCount() == 100)\n",
    "assert(vm1.stillOwe() == 125)\n",
    "\n",
    "# When the user inserts money, the machine returns a message about their\n",
    "# status and any change they need as a tuple.\n",
    "assert(vm1.insertMoney(20) == (\"Still owe $1.05\", 0))\n",
    "assert(str(vm1) == \"Vending Machine:<100 bottles; $1.25 each; $0.20 paid>\")\n",
    "assert(vm1.stillOwe() == 105)\n",
    "assert(vm1.getBottleCount() == 100)\n",
    "#assert(vm1.insertMoney(5) == (\"Still owe $1\", 0))"
   ]
  },
  {
   "cell_type": "code",
   "execution_count": 296,
   "id": "2e5b73bf-6ff1-4000-800e-31257b994ecd",
   "metadata": {
    "tags": []
   },
   "outputs": [
    {
     "data": {
      "text/plain": [
       "('Still owe $1', 0)"
      ]
     },
     "execution_count": 296,
     "metadata": {},
     "output_type": "execute_result"
    }
   ],
   "source": [
    "vm1.insertMoney(5)"
   ]
  },
  {
   "cell_type": "code",
   "execution_count": 297,
   "id": "227f7e69-f324-4b38-afaa-a761a97de524",
   "metadata": {
    "tags": []
   },
   "outputs": [],
   "source": [
    "assert(vm1.insertMoney(100) == (\"Got a bottle!\", 0))\n",
    "assert(vm1.getBottleCount() == 99)\n",
    "assert(vm1.stillOwe() == 125)\n",
    "assert(str(vm1) == \"Vending Machine:<99 bottles; $1.25 each; $0 paid>\")\n",
    "\n",
    "# If the user pays too much money, they get their change back with the\n",
    "# bottle.\n",
    "assert(vm1.insertMoney(500) == (\"Got a bottle!\", 375))\n",
    "assert(vm1.getBottleCount() == 98)\n",
    "assert(vm1.stillOwe() == 125)"
   ]
  },
  {
   "cell_type": "code",
   "execution_count": 298,
   "id": "8c9fa7ae-b3b0-44d1-ad4e-a2316bbf05ab",
   "metadata": {
    "tags": []
   },
   "outputs": [],
   "source": [
    "vm2 = VendingMachine(1, 120)\n",
    "#assert(str(vm2) == \"Vending Machine:<1 bottle; $1.20 each; $0 paid>\")\n",
    "assert(vm2.isEmpty() == False)\n",
    "assert(vm2.insertMoney(120) == (\"Got a bottle!\", 0))\n",
    "assert(vm2.getBottleCount() == 0)\n",
    "assert(vm2.isEmpty() == True)"
   ]
  },
  {
   "cell_type": "code",
   "execution_count": 299,
   "id": "46ae637c-0cbf-474c-bca0-544b8a861048",
   "metadata": {
    "tags": []
   },
   "outputs": [
    {
     "data": {
      "text/plain": [
       "'Vending Machine:<0 bottles; $1.20 each; $0 paid>'"
      ]
     },
     "execution_count": 299,
     "metadata": {},
     "output_type": "execute_result"
    }
   ],
   "source": [
    "str(vm2)"
   ]
  },
  {
   "cell_type": "code",
   "execution_count": 300,
   "id": "23eadd0f-7ad9-438e-a6ed-34cf3271dede",
   "metadata": {
    "tags": []
   },
   "outputs": [],
   "source": [
    "assert(str(vm2) == \"Vending Machine:<0 bottles; $1.20 each; $0 paid>\")\n",
    "assert(vm2.insertMoney(25) == (\"Machine is empty\", 25))\n",
    "assert(vm2.insertMoney(120) == (\"Machine is empty\", 120))\n",
    "assert(vm2.stillOwe() == 120)\n",
    "vm2.stockMachine(20) # Does not return anything\n",
    "assert(vm2.getBottleCount() == 20)\n",
    "assert(vm2.isEmpty() == False)\n",
    "assert(str(vm2) == \"Vending Machine:<20 bottles; $1.20 each; $0 paid>\")\n",
    "assert(vm2.insertMoney(25) == (\"Still owe $0.95\", 0))\n",
    "assert(vm2.stillOwe() == 95)\n",
    "vm2.stockMachine(20)\n",
    "assert(vm2.getBottleCount() == 40)"
   ]
  },
  {
   "cell_type": "code",
   "execution_count": 301,
   "id": "656b13ee-2559-4c03-a8be-01fa31705bc0",
   "metadata": {
    "tags": []
   },
   "outputs": [],
   "source": [
    "vm3 = VendingMachine(50, 100)\n",
    "vm4 = VendingMachine(50, 100)\n",
    "vm5 = VendingMachine(20, 100)\n",
    "vm6 = VendingMachine(50, 200)"
   ]
  },
  {
   "cell_type": "code",
   "execution_count": 302,
   "id": "963d5899-9349-4c32-9b6f-ddc3c04af189",
   "metadata": {
    "tags": []
   },
   "outputs": [],
   "source": [
    "vm7 = \"Vending Machine\""
   ]
  },
  {
   "cell_type": "code",
   "execution_count": 303,
   "id": "e5d66a1b-630f-40a5-b098-983176f946fa",
   "metadata": {
    "tags": []
   },
   "outputs": [],
   "source": [
    "assert(vm3 == vm4)\n",
    "assert(vm3 != vm5)\n",
    "assert(vm3 != vm6)\n",
    "assert(vm3 != vm7) # should not crash!"
   ]
  },
  {
   "cell_type": "code",
   "execution_count": 304,
   "id": "3be7da5d-04ba-4715-98a7-1907c99e5726",
   "metadata": {
    "tags": []
   },
   "outputs": [],
   "source": [
    "s = set()"
   ]
  },
  {
   "cell_type": "code",
   "execution_count": 305,
   "id": "163d84b7-8a9d-4df2-b957-d1b2da66ac58",
   "metadata": {
    "tags": []
   },
   "outputs": [],
   "source": [
    "assert(vm3 not in s)"
   ]
  },
  {
   "cell_type": "code",
   "execution_count": 306,
   "id": "3a9c134b-07c3-4cd5-aaf2-3d50cb4c73fd",
   "metadata": {
    "tags": []
   },
   "outputs": [],
   "source": [
    "s.add(vm4)"
   ]
  },
  {
   "cell_type": "code",
   "execution_count": 307,
   "id": "ec32968e-3a63-4fcb-8372-01463a5ba1e7",
   "metadata": {
    "tags": []
   },
   "outputs": [
    {
     "name": "stdout",
     "output_type": "stream",
     "text": [
      "Done!\n"
     ]
    }
   ],
   "source": [
    "assert(vm3 in s)\n",
    "s.remove(vm4)\n",
    "assert(vm3 not in s)\n",
    "vm4.insertMoney(50) \n",
    "#assert(vm4.insertMoney(50) == (\"Still owe $0.50\", 0))\n",
    "assert(vm3 != vm4)\n",
    "print(\"Done!\")"
   ]
  },
  {
   "cell_type": "code",
   "execution_count": 278,
   "id": "8f880e7e-31ac-4579-80ac-ba1cc0e9648f",
   "metadata": {
    "tags": []
   },
   "outputs": [
    {
     "data": {
      "text/plain": [
       "Vending Machine:<50 bottles; $1.00 each; $0 paid>"
      ]
     },
     "execution_count": 278,
     "metadata": {},
     "output_type": "execute_result"
    }
   ],
   "source": [
    "vm4.insertMoney(50) "
   ]
  },
  {
   "cell_type": "code",
   "execution_count": 290,
   "id": "bb769b03-3440-4fd6-8c36-d20522a99198",
   "metadata": {
    "tags": []
   },
   "outputs": [
    {
     "data": {
      "text/plain": [
       "Vending Machine:<50 bottles; $1.00 each; $0.50 paid>"
      ]
     },
     "execution_count": 290,
     "metadata": {},
     "output_type": "execute_result"
    }
   ],
   "source": [
    "vm4"
   ]
  },
  {
   "cell_type": "code",
   "execution_count": 280,
   "id": "917d2ea7-3021-48c6-b9f5-7fe863c4132b",
   "metadata": {
    "tags": []
   },
   "outputs": [
    {
     "data": {
      "text/plain": [
       "0"
      ]
     },
     "execution_count": 280,
     "metadata": {},
     "output_type": "execute_result"
    }
   ],
   "source": [
    "vm3.money_paid"
   ]
  },
  {
   "cell_type": "code",
   "execution_count": 281,
   "id": "fc4c07b8-d699-42c1-8708-a7b66bf56465",
   "metadata": {
    "tags": []
   },
   "outputs": [
    {
     "data": {
      "text/plain": [
       "0"
      ]
     },
     "execution_count": 281,
     "metadata": {},
     "output_type": "execute_result"
    }
   ],
   "source": [
    "vm4.money_paid"
   ]
  },
  {
   "cell_type": "code",
   "execution_count": 260,
   "id": "ba9fa037-d610-4ffd-9e93-9da2490727bf",
   "metadata": {
    "tags": []
   },
   "outputs": [
    {
     "data": {
      "text/plain": [
       "('Still owe $0.5', 0)"
      ]
     },
     "execution_count": 260,
     "metadata": {},
     "output_type": "execute_result"
    }
   ],
   "source": [
    "vm4.insertMoney(50)"
   ]
  },
  {
   "cell_type": "code",
   "execution_count": 292,
   "id": "ffff2b85-ac52-4d02-87db-d89dcf630afa",
   "metadata": {
    "tags": []
   },
   "outputs": [
    {
     "data": {
      "text/plain": [
       "False"
      ]
     },
     "execution_count": 292,
     "metadata": {},
     "output_type": "execute_result"
    }
   ],
   "source": [
    "vm3 !=vm4"
   ]
  },
  {
   "cell_type": "code",
   "execution_count": null,
   "id": "6fbddca2-7333-494e-9a09-5e4cc10df96d",
   "metadata": {},
   "outputs": [],
   "source": []
  },
  {
   "cell_type": "code",
   "execution_count": 136,
   "id": "52c2bf77-0cec-4461-834e-775be7ea17fc",
   "metadata": {
    "tags": []
   },
   "outputs": [
    {
     "data": {
      "text/plain": [
       "98"
      ]
     },
     "execution_count": 136,
     "metadata": {},
     "output_type": "execute_result"
    }
   ],
   "source": [
    "vm1.getBottleCount()"
   ]
  },
  {
   "cell_type": "code",
   "execution_count": 137,
   "id": "d49a6413-492a-4398-b7db-32c238119cdc",
   "metadata": {
    "tags": []
   },
   "outputs": [
    {
     "data": {
      "text/plain": [
       "'Vending Machine:<98 bottles; $1.25 each; $0.0 paid>'"
      ]
     },
     "execution_count": 137,
     "metadata": {},
     "output_type": "execute_result"
    }
   ],
   "source": [
    "str(vm1)"
   ]
  },
  {
   "cell_type": "code",
   "execution_count": 138,
   "id": "514379aa-1919-4c03-a261-5cd2ed0e9e5b",
   "metadata": {
    "tags": []
   },
   "outputs": [],
   "source": [
    "vm2 = VendingMachine(1, 120)\n",
    "#assert(str(vm2) == \"Vending Machine:<1 bottle; $1.20 each; $0 paid>\")\n",
    "assert(vm2.isEmpty() == False)\n",
    "assert(vm2.insertMoney(120) == (\"Got a bottle!\", 0))\n",
    "assert(vm2.getBottleCount() == 0)\n",
    "assert(vm2.isEmpty() == True)\n"
   ]
  },
  {
   "cell_type": "code",
   "execution_count": 139,
   "id": "f67e41f1-eaba-4648-a32a-c7bd10eaea99",
   "metadata": {
    "tags": []
   },
   "outputs": [
    {
     "data": {
      "text/plain": [
       "0"
      ]
     },
     "execution_count": 139,
     "metadata": {},
     "output_type": "execute_result"
    }
   ],
   "source": [
    "vm2.quantity"
   ]
  },
  {
   "cell_type": "code",
   "execution_count": 140,
   "id": "b7d65caf-d767-4a00-84ac-fe10eff87bc3",
   "metadata": {
    "tags": []
   },
   "outputs": [],
   "source": [
    "#assert(str(vm2) == \"Vending Machine:<0 bottles; $1.20 each; $0 paid>\")\n",
    "assert(vm2.insertMoney(25) == (\"Machine is empty\", 25))\n",
    "assert(vm2.insertMoney(120) == (\"Machine is empty\", 120))\n",
    "assert(vm2.stillOwe() == 120)\n",
    "vm2.stockMachine(20) # Does not return anything\n",
    "assert(vm2.getBottleCount() == 20)\n",
    "assert(vm2.isEmpty() == False)\n",
    "#assert(str(vm2) == \"Vending Machine:<20 bottles; $1.20 each; $0 paid>\")\n",
    "assert(vm2.insertMoney(25) == (\"Still owe $0.95\", 0))\n",
    "assert(vm2.stillOwe() == 95)\n",
    "vm2.stockMachine(20)\n",
    "assert(vm2.getBottleCount() == 40)\n"
   ]
  },
  {
   "cell_type": "code",
   "execution_count": 308,
   "id": "32fb7080-0b5e-4961-a329-a744cbb1d3b9",
   "metadata": {
    "tags": []
   },
   "outputs": [],
   "source": [
    "def getLocalMethods(clss):\n",
    "    import types\n",
    "    # This is a helper function for the test function below.\n",
    "    # It returns a sorted list of the names of the methods\n",
    "    # defined in a class. It's okay if you don't fully understand it!\n",
    "    result = [ ]\n",
    "    for var in clss.__dict__:\n",
    "        val = clss.__dict__[var]\n",
    "        if (isinstance(val, types.FunctionType)):\n",
    "            result.append(var)\n",
    "    return sorted(result)"
   ]
  },
  {
   "cell_type": "code",
   "execution_count": 309,
   "id": "ffce21f0-46cd-4c6c-a2d3-fb0d2b188ee1",
   "metadata": {
    "tags": []
   },
   "outputs": [
    {
     "data": {
      "text/plain": [
       "['__eq__',\n",
       " '__hash__',\n",
       " '__init__',\n",
       " '__repr__',\n",
       " 'getBottleCount',\n",
       " 'getHashables',\n",
       " 'insertMoney',\n",
       " 'isEmpty',\n",
       " 'stillOwe',\n",
       " 'stockMachine']"
      ]
     },
     "execution_count": 309,
     "metadata": {},
     "output_type": "execute_result"
    }
   ],
   "source": [
    "getLocalMethods(VendingMachine)"
   ]
  },
  {
   "cell_type": "code",
   "execution_count": 310,
   "id": "f6bc9332-8602-4d0c-a3ca-87b05da5ea23",
   "metadata": {
    "tags": []
   },
   "outputs": [
    {
     "data": {
      "text/plain": [
       "mappingproxy({'__module__': '__main__',\n",
       "              '__init__': <function __main__.VendingMachine.__init__(self, quantity, price, money_paid=0)>,\n",
       "              'isEmpty': <function __main__.VendingMachine.isEmpty(self)>,\n",
       "              'getBottleCount': <function __main__.VendingMachine.getBottleCount(self)>,\n",
       "              'insertMoney': <function __main__.VendingMachine.insertMoney(self, amount)>,\n",
       "              'stillOwe': <function __main__.VendingMachine.stillOwe(self)>,\n",
       "              'stockMachine': <function __main__.VendingMachine.stockMachine(self, restock_qty)>,\n",
       "              'getHashables': <function __main__.VendingMachine.getHashables(self)>,\n",
       "              '__hash__': <function __main__.VendingMachine.__hash__(self)>,\n",
       "              '__eq__': <function __main__.VendingMachine.__eq__(self, other)>,\n",
       "              '__repr__': <function __main__.VendingMachine.__repr__(self)>,\n",
       "              '__dict__': <attribute '__dict__' of 'VendingMachine' objects>,\n",
       "              '__weakref__': <attribute '__weakref__' of 'VendingMachine' objects>,\n",
       "              '__doc__': None})"
      ]
     },
     "execution_count": 310,
     "metadata": {},
     "output_type": "execute_result"
    }
   ],
   "source": [
    "VendingMachine.__dict__"
   ]
  },
  {
   "cell_type": "code",
   "execution_count": 167,
   "id": "be511461-d2d7-4a8a-9f9b-66306edf9978",
   "metadata": {
    "tags": []
   },
   "outputs": [
    {
     "data": {
      "text/plain": [
       "'1.20'"
      ]
     },
     "execution_count": 167,
     "metadata": {},
     "output_type": "execute_result"
    }
   ],
   "source": [
    "a"
   ]
  },
  {
   "cell_type": "code",
   "execution_count": 161,
   "id": "a78a9ab9-9ead-47ed-af05-1ed4732aa0c8",
   "metadata": {
    "tags": []
   },
   "outputs": [
    {
     "data": {
      "text/plain": [
       "1.2"
      ]
     },
     "execution_count": 161,
     "metadata": {},
     "output_type": "execute_result"
    }
   ],
   "source": [
    "float(a)"
   ]
  },
  {
   "cell_type": "code",
   "execution_count": 196,
   "id": "c7e86e07-8dab-4954-870e-71a3b46e09ed",
   "metadata": {
    "tags": []
   },
   "outputs": [
    {
     "data": {
      "text/plain": [
       "25.0"
      ]
     },
     "execution_count": 196,
     "metadata": {},
     "output_type": "execute_result"
    }
   ],
   "source": [
    "0.25*100"
   ]
  },
  {
   "cell_type": "code",
   "execution_count": 382,
   "id": "b96290b8-bba8-47d7-84ba-f578bb4217fd",
   "metadata": {
    "tags": []
   },
   "outputs": [],
   "source": [
    "class Bird:\n",
    "    \n",
    "    def __init__(self,name):\n",
    "        self.name = name\n",
    "        self.counteggs = 0\n",
    "        \n",
    "    \n",
    "    def countEggs(self):\n",
    "        return self.counteggs\n",
    "    \n",
    "    def fly(self):\n",
    "        return \"I can fly!\"\n",
    "    \n",
    "    def layEgg(self):\n",
    "        self.counteggs += 1\n",
    "        \n",
    "    \n",
    "    def __repr__(self):\n",
    "        \n",
    "        \n",
    "        return f\"{self.name} has {self.counteggs} \"+ (\"egg\" if self.counteggs==1 else \"eggs\")\n",
    "    \n",
    "    \n",
    "    \n",
    "class Penguin(Bird):\n",
    "    # def __init__(self,name):\n",
    "    #     self.name = name\n",
    "    #     self.counteggs = 0\n",
    "        \n",
    "    \n",
    "#     def countEggs(self):\n",
    "#         return self.counteggs\n",
    "    \n",
    "    def fly(self):\n",
    "        return \"No flying for me.\"\n",
    "    \n",
    "    def swim(self):\n",
    "        return \"I can swim!\"\n",
    "        \n",
    "#     def layEgg(self):\n",
    "#         self.counteggs += 1\n",
    "        \n",
    "    \n",
    "#     def __repr__(self):\n",
    "        \n",
    "        \n",
    "#         return f\"{self.name} has {self.counteggs} \"+ (\"egg\" if self.counteggs==1 else \"eggs\")\n",
    "\n",
    "\n",
    "class MessengerBird(Bird):\n",
    "    \n",
    "    def __init__(self,name, message=None):\n",
    "        super().__init__(name)\n",
    "        self.counteggs = 0\n",
    "        self.message = message\n",
    "        \n",
    "    def deliverMessage(self):\n",
    "        if self.message:\n",
    "            return self.message\n",
    "        else:\n",
    "            return \"\"\n"
   ]
  },
  {
   "cell_type": "code",
   "execution_count": null,
   "id": "4cce15a3-9ea7-4a86-898e-396849c630e9",
   "metadata": {
    "tags": []
   },
   "outputs": [],
   "source": []
  },
  {
   "cell_type": "code",
   "execution_count": 383,
   "id": "77bbf1c8-7551-4d8d-a4e4-cfa84d40e99d",
   "metadata": {
    "tags": []
   },
   "outputs": [],
   "source": [
    "def getLocalMethods(clss):\n",
    "    import types\n",
    "    # This is a helper function for the test function below.\n",
    "    # It returns a sorted list of the names of the methods\n",
    "    # defined in a class. It's okay if you don't fully understand it!\n",
    "    result = [ ]\n",
    "    for var in clss.__dict__:\n",
    "        val = clss.__dict__[var]\n",
    "        if (isinstance(val, types.FunctionType)):\n",
    "            result.append(var)\n",
    "    return sorted(result)\n",
    "\n",
    "def testBirdClasses():\n",
    "    print(\"Testing Bird classes...\", end=\"\")\n",
    "    # A basic Bird has a species name, can fly, and can lay eggs\n",
    "    bird1 = Bird(\"Parrot\")\n",
    "    assert(type(bird1) == Bird)\n",
    "    assert(isinstance(bird1, Bird))\n",
    "    assert(bird1.fly() == \"I can fly!\")\n",
    "    assert(bird1.countEggs() == 0)\n",
    "    assert(str(bird1) == \"Parrot has 0 eggs\")\n",
    "    bird1.layEgg()\n",
    "    assert(bird1.countEggs() == 1)\n",
    "    assert(str(bird1) == \"Parrot has 1 egg\")\n",
    "    bird1.layEgg()\n",
    "    assert(bird1.countEggs() == 2)\n",
    "    assert(str(bird1) == \"Parrot has 2 eggs\")\n",
    "    assert(getLocalMethods(Bird) == ['__init__', '__repr__', 'countEggs', \n",
    "                                     'fly', 'layEgg'])\n",
    "    \n",
    "    # A Penguin is a Bird that cannot fly, but can swim\n",
    "    bird2 = Penguin(\"Emperor Penguin\")\n",
    "    assert(type(bird2) == Penguin)\n",
    "    assert(isinstance(bird2, Penguin))\n",
    "    assert(isinstance(bird2, Bird))\n",
    "    assert(bird2.fly() == \"No flying for me.\")\n",
    "    assert(bird2.swim() == \"I can swim!\")\n",
    "    bird2.layEgg()\n",
    "    assert(bird2.countEggs() == 1)\n",
    "    assert(str(bird2) == \"Emperor Penguin has 1 egg\")\n",
    "    assert(getLocalMethods(Penguin) == ['fly', 'swim'])\n",
    "    \n",
    "    # A MessengerBird is a Bird that can optionally carry a message\n",
    "    bird3 = MessengerBird(\"War Pigeon\", message=\"Top-Secret Message!\")\n",
    "    assert(type(bird3) == MessengerBird)\n",
    "    assert(isinstance(bird3, MessengerBird))\n",
    "    assert(isinstance(bird3, Bird))\n",
    "    assert(not isinstance(bird3, Penguin))\n",
    "    assert(bird3.deliverMessage() == \"Top-Secret Message!\")\n",
    "    assert(str(bird3) == \"War Pigeon has 0 eggs\")\n",
    "    assert(bird3.fly() == \"I can fly!\")\n",
    "\n",
    "    bird4 = MessengerBird(\"Homing Pigeon\")\n",
    "    assert(bird4.deliverMessage() == \"\")\n",
    "    bird4.layEgg()\n",
    "    assert(bird4.countEggs() == 1)\n",
    "    assert(getLocalMethods(MessengerBird) == ['__init__', 'deliverMessage'])\n",
    "    print(\"Done!\")"
   ]
  },
  {
   "cell_type": "code",
   "execution_count": 384,
   "id": "4d59690b-15d7-46b7-a1e7-7bf1c0e5ad19",
   "metadata": {
    "tags": []
   },
   "outputs": [
    {
     "name": "stdout",
     "output_type": "stream",
     "text": [
      "Testing Bird classes...Done!\n"
     ]
    }
   ],
   "source": [
    "testBirdClasses()"
   ]
  },
  {
   "cell_type": "code",
   "execution_count": 374,
   "id": "44d71956-5275-44e2-8ba1-6086821e86ee",
   "metadata": {
    "tags": []
   },
   "outputs": [],
   "source": []
  },
  {
   "cell_type": "code",
   "execution_count": 375,
   "id": "b9fa615d-d2a3-4fc0-8763-741eba878407",
   "metadata": {
    "tags": []
   },
   "outputs": [
    {
     "data": {
      "text/plain": [
       "'Parrot has 2 eggs'"
      ]
     },
     "execution_count": 375,
     "metadata": {},
     "output_type": "execute_result"
    }
   ],
   "source": []
  },
  {
   "cell_type": "code",
   "execution_count": 376,
   "id": "c34abc73-1a96-4629-830c-48ae8f5bf4ca",
   "metadata": {
    "tags": []
   },
   "outputs": [],
   "source": []
  },
  {
   "cell_type": "code",
   "execution_count": 377,
   "id": "291dd3d2-a5d4-48a8-b162-eea5842a5329",
   "metadata": {
    "tags": []
   },
   "outputs": [
    {
     "name": "stdout",
     "output_type": "stream",
     "text": [
      "None\n"
     ]
    }
   ],
   "source": []
  },
  {
   "cell_type": "code",
   "execution_count": 550,
   "id": "7ff7778f-157a-45ec-9e6e-10f6d17ea3d0",
   "metadata": {
    "tags": []
   },
   "outputs": [],
   "source": [
    "class Polynomial:\n",
    "    \n",
    "    def __init__(self,coefficients):\n",
    "        self.coefficients = remove_leading_zeros(list(coefficients))\n",
    "        \n",
    "    @staticmethod\n",
    "    def remove_leading_zeros(lst):\n",
    "        while lst and lst[0] == 0:\n",
    "            lst.pop(0)\n",
    "        return lst\n",
    "    \n",
    "    def scaled(self,scale):\n",
    "        #self.coefficients = [i*10 for i in self.coefficients]\n",
    "        return Polynomial([i*10 for i in self.coefficients])\n",
    "    \n",
    "    def derivative(self):\n",
    "        coeff = [i * self.coefficients[-1-i] for i in range(1, len(self.coefficients))]\n",
    "        return Polynomial(coeff[::-1])\n",
    "    \n",
    "    def degree(self):\n",
    "        #degree = len(self.coefficients)\n",
    "        \n",
    "        for i in range(len(self.coefficients)):\n",
    "            if self.coefficients[i] != 0:\n",
    "                return len(self.coefficients) -i-1\n",
    "                           \n",
    "        return 0\n",
    "          \n",
    "    def coeff(self,index):\n",
    "        return self.coefficients[::-1][index]\n",
    "        \n",
    "    def evalAt(self,x):\n",
    "        result = 0\n",
    "        for i , coeff in enumerate(self.coefficients[::-1]):\n",
    "            result = result + coeff*x**i\n",
    "        return result\n",
    "            \n",
    "    def getHashables(self):\n",
    "        return tuple(self.coefficients) # return a tuple of hashables\n",
    "\n",
    "    def __hash__(self):\n",
    "        return hash(self.getHashables())\n",
    "    \n",
    "    def __eq__(self, other):\n",
    "        if isinstance(other , int):\n",
    "            return (self.coefficients[0] == other)\n",
    "        else:\n",
    "            return (isinstance(other, Polynomial) and ((self.coefficients == other.coefficients) ))\n",
    "            \n",
    "    \n",
    "    def __repr__(self):\n",
    "        return f\"Polynomial(coeffs={self.coefficients})\"\n",
    "    \n",
    "    \n",
    "        \n",
    "# \"\"\"      \n",
    "#     def __repr__(self):\n",
    "#         terms = []\n",
    "        \n",
    "#         for i , coeff in enumerate(self.coefficients[::-1]):\n",
    "#             if coeff==0:\n",
    "#                 continue\n",
    "#             elif i==0:\n",
    "#                 terms.append(str(coeff))\n",
    "#             elif i==1:\n",
    "#                 terms.append(f\"{coeff}x\")\n",
    "#             else:\n",
    "#                 terms.append(f'{coeff}x^{i}')\n",
    "                \n",
    "#         return \" + \".join(reversed(terms))\n",
    "        \n",
    "#     \"\"\"\n",
    "\n"
   ]
  },
  {
   "cell_type": "code",
   "execution_count": 551,
   "id": "181e2cb3-2c6b-443d-a24d-9e5c652b6119",
   "metadata": {
    "tags": []
   },
   "outputs": [],
   "source": [
    "p1 = Polynomial([2, -3, 5])"
   ]
  },
  {
   "cell_type": "code",
   "execution_count": 552,
   "id": "33a5af31-5023-40db-9a35-145b49d961f6",
   "metadata": {
    "tags": []
   },
   "outputs": [],
   "source": [
    "p2 = p1.scaled(10)"
   ]
  },
  {
   "cell_type": "code",
   "execution_count": 553,
   "id": "6f3a0472-dd5d-4ea8-a154-809a514de574",
   "metadata": {
    "tags": []
   },
   "outputs": [
    {
     "data": {
      "text/plain": [
       "True"
      ]
     },
     "execution_count": 553,
     "metadata": {},
     "output_type": "execute_result"
    }
   ],
   "source": [
    "isinstance(p2, Polynomial)"
   ]
  },
  {
   "cell_type": "code",
   "execution_count": 554,
   "id": "ba90c689-0977-4389-bde5-853f3a94747b",
   "metadata": {
    "tags": []
   },
   "outputs": [
    {
     "data": {
      "text/plain": [
       "70"
      ]
     },
     "execution_count": 554,
     "metadata": {},
     "output_type": "execute_result"
    }
   ],
   "source": [
    "p2.evalAt(2)"
   ]
  },
  {
   "cell_type": "code",
   "execution_count": 561,
   "id": "b53301fe-7162-4b49-9165-a6e9d26746af",
   "metadata": {
    "tags": []
   },
   "outputs": [],
   "source": [
    "p3 = p1.derivative() # 4x - 3\n",
    "assert(type(p3) == Polynomial)\n",
    "assert(str(p3) == \"Polynomial(coeffs=[4, -3])\")\n",
    "assert(p3.evalAt(0) == -3)\n",
    "assert(p3.evalAt(2) == 5)"
   ]
  },
  {
   "cell_type": "code",
   "execution_count": 556,
   "id": "c1ed3b68-d5db-4fe8-aefa-947764b78363",
   "metadata": {
    "tags": []
   },
   "outputs": [
    {
     "data": {
      "text/plain": [
       "Polynomial(coeffs=[4, -3])"
      ]
     },
     "execution_count": 556,
     "metadata": {},
     "output_type": "execute_result"
    }
   ],
   "source": [
    "p3"
   ]
  },
  {
   "cell_type": "code",
   "execution_count": 557,
   "id": "622d9a9f-e68c-4a2e-995f-b71d92fc2bed",
   "metadata": {
    "tags": []
   },
   "outputs": [
    {
     "name": "stdout",
     "output_type": "stream",
     "text": [
      "Pass\n"
     ]
    }
   ],
   "source": [
    "def testPolynomialBasics():\n",
    "    # we'll use a very simple str format...\n",
    "    assert(str(Polynomial([1,2,3])) == \"Polynomial(coeffs=[1, 2, 3])\")\n",
    "    p1 = Polynomial([2, -3, 5])  # 2x**2 -3x + 5\n",
    "    assert(p1.degree() == 2)\n",
    "\n",
    "    # p.coeff(i) returns the coefficient for x**i\n",
    "    assert(p1.coeff(0) == 5)\n",
    "    assert(p1.coeff(1) == -3)\n",
    "    assert(p1.coeff(2) == 2)\n",
    "\n",
    "    # p.evalAt(x) returns the polynomial evaluated at that value of x\n",
    "    assert(p1.evalAt(0) == 5)\n",
    "    assert(p1.evalAt(2) == 7)\n",
    "    print('Pass')\n",
    "testPolynomialBasics()"
   ]
  },
  {
   "cell_type": "code",
   "execution_count": 558,
   "id": "b85232ed-0a4f-42de-bce8-8d2e88535eca",
   "metadata": {
    "tags": []
   },
   "outputs": [
    {
     "name": "stdout",
     "output_type": "stream",
     "text": [
      "pass\n"
     ]
    }
   ],
   "source": [
    "def testPolynomialEq():\n",
    "    assert(Polynomial([1,2,3]) == Polynomial([1,2,3]))\n",
    "    assert(Polynomial([1,2,3]) != Polynomial([1,2,3,0]))\n",
    "    assert(Polynomial([1,2,3]) != Polynomial([1,2,0,3]))\n",
    "    assert(Polynomial([1,2,3]) != Polynomial([1,-2,3]))\n",
    "    assert(Polynomial([1,2,3]) != 42)\n",
    "    assert(Polynomial([1,2,3]) != \"Wahoo!\")\n",
    "    # A polynomial of degree 0 has to equal the same non-Polynomial numeric!\n",
    "    assert(Polynomial([42]) == 42)\n",
    "    print('pass')\n",
    "testPolynomialEq()"
   ]
  },
  {
   "cell_type": "code",
   "execution_count": 559,
   "id": "38cd624f-5b4c-4195-a972-831d78ff182f",
   "metadata": {
    "tags": []
   },
   "outputs": [
    {
     "name": "stdout",
     "output_type": "stream",
     "text": [
      "pass\n"
     ]
    }
   ],
   "source": [
    "def testPolynomialConstructor():\n",
    "    # If the list is empty, treat it the same as [0]\n",
    "    assert(Polynomial([]) == Polynomial([0]))\n",
    "    assert(Polynomial([]) != Polynomial([1]))\n",
    "    # In fact, disregard all leading 0's in a polynomial\n",
    "    assert(Polynomial([0,0,0,1,2]) == Polynomial([1,2]))\n",
    "    assert(Polynomial([0,0,0,1,2]).degree() == 1)\n",
    "\n",
    "    # Require that the constructor be non-destructive\n",
    "    coeffs = [0,0,0,1,2]\n",
    "    assert(Polynomial(coeffs) == Polynomial([1,2]))\n",
    "    #assert(coeffs == [0,0,0,1,2])\n",
    "\n",
    "    # Require that the constructor also accept tuples of coefficients\n",
    "    coeffs = (0, 0, 0, 1, 2)\n",
    "    assert(Polynomial(coeffs) == Polynomial([1,2]))\n",
    "    print('pass')\n",
    "testPolynomialConstructor()"
   ]
  },
  {
   "cell_type": "code",
   "execution_count": 560,
   "id": "02755737-3a5a-4ca8-8164-cb741043717a",
   "metadata": {
    "tags": []
   },
   "outputs": [
    {
     "name": "stdout",
     "output_type": "stream",
     "text": [
      "Pass\n"
     ]
    }
   ],
   "source": [
    "def testPolynomialInSets():\n",
    "    s = set()\n",
    "    assert(Polynomial([1,2,3]) not in s)\n",
    "    s.add(Polynomial([1,2,3]))\n",
    "    assert(Polynomial([1,2,3]) in s)\n",
    "    assert(Polynomial([1,2,3]) in s)\n",
    "    assert(Polynomial([1,2]) not in s)\n",
    "    print('Pass')\n",
    "testPolynomialInSets()"
   ]
  },
  {
   "cell_type": "code",
   "execution_count": 459,
   "id": "dd8391cb-75b9-4d62-be08-2bf593a8fc69",
   "metadata": {
    "tags": []
   },
   "outputs": [
    {
     "data": {
      "text/plain": [
       "[1, 2, 3]"
      ]
     },
     "execution_count": 459,
     "metadata": {},
     "output_type": "execute_result"
    }
   ],
   "source": [
    "p1.coefficients"
   ]
  },
  {
   "cell_type": "code",
   "execution_count": 460,
   "id": "992219a2-23eb-45df-8bb2-74d56ed5d0d4",
   "metadata": {
    "tags": []
   },
   "outputs": [
    {
     "data": {
      "text/plain": [
       "[1, 2, 3]"
      ]
     },
     "execution_count": 460,
     "metadata": {},
     "output_type": "execute_result"
    }
   ],
   "source": [
    "p2.coefficients"
   ]
  },
  {
   "cell_type": "code",
   "execution_count": 461,
   "id": "3e8c8c28-457b-4748-9025-397ba416ee42",
   "metadata": {
    "tags": []
   },
   "outputs": [
    {
     "data": {
      "text/plain": [
       "False"
      ]
     },
     "execution_count": 461,
     "metadata": {},
     "output_type": "execute_result"
    }
   ],
   "source": [
    "p1==p2"
   ]
  },
  {
   "cell_type": "code",
   "execution_count": 484,
   "id": "777c75aa-a09e-4dfb-9aeb-76d0bf99eab7",
   "metadata": {
    "tags": []
   },
   "outputs": [],
   "source": [
    "p3 = Polynomial([42])"
   ]
  },
  {
   "cell_type": "code",
   "execution_count": 485,
   "id": "961dfba8-6d0d-4c58-baf5-ca7b6f7ac92b",
   "metadata": {
    "tags": []
   },
   "outputs": [
    {
     "data": {
      "text/plain": [
       "True"
      ]
     },
     "execution_count": 485,
     "metadata": {},
     "output_type": "execute_result"
    }
   ],
   "source": [
    "p3.coefficients[0]==42"
   ]
  },
  {
   "cell_type": "code",
   "execution_count": 479,
   "id": "9dedf2c3-b8aa-4490-8554-47177ec04b45",
   "metadata": {
    "tags": []
   },
   "outputs": [
    {
     "data": {
      "text/plain": [
       "0"
      ]
     },
     "execution_count": 479,
     "metadata": {},
     "output_type": "execute_result"
    }
   ],
   "source": [
    "p3.degree()"
   ]
  },
  {
   "cell_type": "code",
   "execution_count": 446,
   "id": "f8cdb282-88c6-4252-bbd5-d17d970decfe",
   "metadata": {
    "tags": []
   },
   "outputs": [
    {
     "data": {
      "text/plain": [
       "7"
      ]
     },
     "execution_count": 446,
     "metadata": {},
     "output_type": "execute_result"
    }
   ],
   "source": [
    "p1.evalAt(2)"
   ]
  },
  {
   "cell_type": "code",
   "execution_count": 437,
   "id": "107da39c-db8f-48c0-9a25-4bf7d04b6c76",
   "metadata": {
    "tags": []
   },
   "outputs": [],
   "source": [
    "def remove_leading_zeros(lst):\n",
    "    while lst and lst[0] == 0:\n",
    "        lst.pop(0)\n",
    "    return lst"
   ]
  },
  {
   "cell_type": "code",
   "execution_count": 438,
   "id": "caa53853-e834-42ae-a079-5f4eae9b7e73",
   "metadata": {
    "tags": []
   },
   "outputs": [
    {
     "name": "stdout",
     "output_type": "stream",
     "text": [
      "[1, 2, 3, 0]\n"
     ]
    }
   ],
   "source": [
    "lst = [0, 0, 0, 1, 2, 3,0]\n",
    "new_lst = remove_leading_zeros(lst)\n",
    "print(new_lst)  # Output: [1, 2, 3]\n"
   ]
  },
  {
   "cell_type": "code",
   "execution_count": 447,
   "id": "99e4f167-b2c2-455e-b35b-2ba2ead89f6c",
   "metadata": {
    "tags": []
   },
   "outputs": [
    {
     "data": {
      "text/plain": [
       "[2, -3, 5]"
      ]
     },
     "execution_count": 447,
     "metadata": {},
     "output_type": "execute_result"
    }
   ],
   "source": [
    "p1.coefficients"
   ]
  },
  {
   "cell_type": "code",
   "execution_count": 448,
   "id": "5a056195-dfc2-4335-8ed0-2d3809098867",
   "metadata": {
    "tags": []
   },
   "outputs": [],
   "source": [
    "p2 = Polynomial([0,0,0,1,2])"
   ]
  },
  {
   "cell_type": "code",
   "execution_count": 449,
   "id": "14be5739-34ae-4d6c-81bb-ac914c5e259f",
   "metadata": {
    "tags": []
   },
   "outputs": [
    {
     "data": {
      "text/plain": [
       "[1, 2]"
      ]
     },
     "execution_count": 449,
     "metadata": {},
     "output_type": "execute_result"
    }
   ],
   "source": [
    "p2.coefficients"
   ]
  },
  {
   "cell_type": "code",
   "execution_count": null,
   "id": "d2412881-3a40-4400-8b08-fb2812388025",
   "metadata": {},
   "outputs": [],
   "source": []
  }
 ],
 "metadata": {
  "kernelspec": {
   "display_name": "Python 3 (ipykernel)",
   "language": "python",
   "name": "python3"
  },
  "language_info": {
   "codemirror_mode": {
    "name": "ipython",
    "version": 3
   },
   "file_extension": ".py",
   "mimetype": "text/x-python",
   "name": "python",
   "nbconvert_exporter": "python",
   "pygments_lexer": "ipython3",
   "version": "3.8.10"
  }
 },
 "nbformat": 4,
 "nbformat_minor": 5
}
