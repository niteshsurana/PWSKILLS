{
 "cells": [
  {
   "cell_type": "code",
   "execution_count": 3,
   "id": "a9856a3c-f758-468a-8e19-30312775f565",
   "metadata": {
    "tags": []
   },
   "outputs": [],
   "source": [
    "def test():\n",
    "    print('This is the start of my function')\n",
    "    print(4+5)\n",
    "    print('This is the end of my function')"
   ]
  },
  {
   "cell_type": "code",
   "execution_count": 4,
   "id": "d2eeb731-c811-4286-99af-2f4d7e79bd72",
   "metadata": {
    "tags": []
   },
   "outputs": [
    {
     "name": "stdout",
     "output_type": "stream",
     "text": [
      "This is the start of my function\n",
      "9\n",
      "This is the end of my function\n"
     ]
    }
   ],
   "source": [
    "test()"
   ]
  },
  {
   "cell_type": "code",
   "execution_count": 10,
   "id": "dc4555bd-b0d2-4025-8976-0495a9b16049",
   "metadata": {
    "tags": []
   },
   "outputs": [],
   "source": [
    "def deco(func):\n",
    "    def inner():\n",
    "        print('This is the start of my function')\n",
    "        func()\n",
    "        print('This is the end of my function')\n",
    "        \n",
    "    return inner"
   ]
  },
  {
   "cell_type": "code",
   "execution_count": 11,
   "id": "860d048b-ab59-4bdd-b0db-cb5a113b9cb0",
   "metadata": {
    "tags": []
   },
   "outputs": [],
   "source": [
    "def test1():\n",
    "    print(4+5)\n",
    "    "
   ]
  },
  {
   "cell_type": "code",
   "execution_count": 12,
   "id": "272997b5-01a9-4fde-acf2-452e216bc35b",
   "metadata": {
    "tags": []
   },
   "outputs": [
    {
     "name": "stdout",
     "output_type": "stream",
     "text": [
      "9\n"
     ]
    }
   ],
   "source": [
    "test1()"
   ]
  },
  {
   "cell_type": "code",
   "execution_count": 13,
   "id": "50849123-b144-4c46-b0f1-703545e30a16",
   "metadata": {
    "tags": []
   },
   "outputs": [
    {
     "name": "stdout",
     "output_type": "stream",
     "text": [
      "This is the start of my function\n",
      "9\n",
      "This is the end of my function\n"
     ]
    }
   ],
   "source": [
    "deco(test1)()"
   ]
  },
  {
   "cell_type": "code",
   "execution_count": 14,
   "id": "8c10f747-3f9b-43e9-a896-9ff8b2257e1a",
   "metadata": {
    "tags": []
   },
   "outputs": [],
   "source": [
    "@deco\n",
    "def test2():\n",
    "    print(5+5)"
   ]
  },
  {
   "cell_type": "code",
   "execution_count": 15,
   "id": "7d6b5302-9043-4d42-a0d3-9eab85e9154b",
   "metadata": {
    "tags": []
   },
   "outputs": [
    {
     "name": "stdout",
     "output_type": "stream",
     "text": [
      "This is the start of my function\n",
      "10\n",
      "This is the end of my function\n"
     ]
    }
   ],
   "source": [
    "test2()"
   ]
  },
  {
   "cell_type": "code",
   "execution_count": 16,
   "id": "0e4aca2f-d3bf-4d55-934d-bed20013d3c5",
   "metadata": {
    "tags": []
   },
   "outputs": [],
   "source": [
    "import time\n",
    "\n",
    "def timer_test(func):\n",
    "    def timer_test_inner():\n",
    "        start = time.time()\n",
    "        func()\n",
    "        end = time.time()\n",
    "        print(end-start)\n",
    "    return timer_test_inner"
   ]
  },
  {
   "cell_type": "code",
   "execution_count": 17,
   "id": "9a495706-559b-4d46-b23f-6b28acc16d19",
   "metadata": {
    "tags": []
   },
   "outputs": [],
   "source": [
    "@timer_test\n",
    "def test3():\n",
    "    print(4+6)"
   ]
  },
  {
   "cell_type": "code",
   "execution_count": 18,
   "id": "bb97bd26-e21d-401c-a29d-adba40854a8d",
   "metadata": {
    "tags": []
   },
   "outputs": [
    {
     "name": "stdout",
     "output_type": "stream",
     "text": [
      "10\n",
      "0.0002281665802001953\n"
     ]
    }
   ],
   "source": [
    "test3()"
   ]
  },
  {
   "cell_type": "code",
   "execution_count": 19,
   "id": "7ca30fce-d54c-451a-88a6-12a3a0cf6ea6",
   "metadata": {
    "tags": []
   },
   "outputs": [],
   "source": [
    "@timer_test\n",
    "def test3():\n",
    "    for i in range(100000000):\n",
    "        pass"
   ]
  },
  {
   "cell_type": "code",
   "execution_count": 20,
   "id": "52b1d7c9-a194-4906-8571-eefaae8d93dc",
   "metadata": {
    "tags": []
   },
   "outputs": [
    {
     "name": "stdout",
     "output_type": "stream",
     "text": [
      "1.8493034839630127\n"
     ]
    }
   ],
   "source": [
    "test3()"
   ]
  },
  {
   "cell_type": "code",
   "execution_count": 21,
   "id": "b5dd5b31-7d15-424b-9a8b-6de834b2c8ae",
   "metadata": {
    "tags": []
   },
   "outputs": [
    {
     "name": "stdout",
     "output_type": "stream",
     "text": [
      "HELLO\n",
      "HELLO\n"
     ]
    }
   ],
   "source": [
    "def shout(text):\n",
    "    return text.upper()\n",
    "\n",
    "print(shout('Hello'))\n",
    "yell = shout\n",
    "print(yell('Hello'))"
   ]
  },
  {
   "cell_type": "code",
   "execution_count": 22,
   "id": "b558b855-d65b-4bf1-9bfc-dec5dfd7d018",
   "metadata": {
    "tags": []
   },
   "outputs": [],
   "source": [
    "def create_adder(x):\n",
    "    def adder(y):\n",
    "        return x+y\n",
    "    return adder"
   ]
  },
  {
   "cell_type": "code",
   "execution_count": 23,
   "id": "cc4ad2bd-224b-40cb-aa8f-0dcda4bc2b17",
   "metadata": {
    "tags": []
   },
   "outputs": [
    {
     "name": "stdout",
     "output_type": "stream",
     "text": [
      "25\n"
     ]
    }
   ],
   "source": [
    "add_15 = create_adder(15)\n",
    "print(add_15(10))"
   ]
  },
  {
   "cell_type": "code",
   "execution_count": 29,
   "id": "185835e7-f167-49a8-b950-4506602a015c",
   "metadata": {
    "tags": []
   },
   "outputs": [],
   "source": [
    "def hello_decorator(func):\n",
    "    def inner1():\n",
    "        print(\"Hello, this is before function execution\")\n",
    "        func()\n",
    "        print(\"This is after function execution\")\n",
    "    return inner1\n",
    "        \n",
    "        "
   ]
  },
  {
   "cell_type": "code",
   "execution_count": 30,
   "id": "bd72d90f-e656-4d33-b451-3dfeeedca3ff",
   "metadata": {
    "tags": []
   },
   "outputs": [],
   "source": [
    "def function_to_be_used():\n",
    "    print(\"This is inside the function !!\")"
   ]
  },
  {
   "cell_type": "code",
   "execution_count": 31,
   "id": "b6e02185-8447-49fd-a2fb-44bfa0448cf2",
   "metadata": {
    "tags": []
   },
   "outputs": [
    {
     "name": "stdout",
     "output_type": "stream",
     "text": [
      "Hello, this is before function execution\n",
      "This is inside the function !!\n",
      "This is after function execution\n"
     ]
    }
   ],
   "source": [
    "hello_decorator(function_to_be_used)()"
   ]
  },
  {
   "cell_type": "code",
   "execution_count": 32,
   "id": "f266a4a0-6322-4e6b-9932-3003d5c14c50",
   "metadata": {
    "tags": []
   },
   "outputs": [],
   "source": [
    "@hello_decorator\n",
    "def function_to_be_used():\n",
    "    print(\"This is inside the function !!\")"
   ]
  },
  {
   "cell_type": "code",
   "execution_count": 33,
   "id": "da2ea1a0-04b2-46ac-a636-9bc7d914d11f",
   "metadata": {
    "tags": []
   },
   "outputs": [
    {
     "name": "stdout",
     "output_type": "stream",
     "text": [
      "Hello, this is before function execution\n",
      "This is inside the function !!\n",
      "This is after function execution\n"
     ]
    }
   ],
   "source": [
    "function_to_be_used()"
   ]
  },
  {
   "cell_type": "code",
   "execution_count": null,
   "id": "8d6ee1b8-ea49-4149-b5be-a9bbddb7f789",
   "metadata": {},
   "outputs": [],
   "source": []
  },
  {
   "cell_type": "code",
   "execution_count": 34,
   "id": "23df07ed-eb41-4d94-b04f-8de2ce595763",
   "metadata": {
    "tags": []
   },
   "outputs": [],
   "source": [
    "import time\n",
    "import math\n",
    "\n",
    "def calculate_time(func):\n",
    "    def inner1(*args,**kwargs):\n",
    "        begin = time.time()\n",
    "        func(*args, **kwargs)\n",
    "        end = time.time()\n",
    "        print('Total time taken',func.__name__,end-begin)\n",
    "        \n",
    "    return inner1"
   ]
  },
  {
   "cell_type": "code",
   "execution_count": 35,
   "id": "d7ad4cf6-94a1-49d8-a6a9-3e1674317ba9",
   "metadata": {
    "tags": []
   },
   "outputs": [],
   "source": [
    "@calculate_time\n",
    "def factorial(num):\n",
    "    time.sleep(2)\n",
    "    print(math.factorial(num))"
   ]
  },
  {
   "cell_type": "code",
   "execution_count": 36,
   "id": "1b62c069-52b9-4dce-86c1-0b8cf8cbe962",
   "metadata": {
    "tags": []
   },
   "outputs": [
    {
     "name": "stdout",
     "output_type": "stream",
     "text": [
      "3628800\n",
      "Total time taken factorial 2.000605821609497\n"
     ]
    }
   ],
   "source": [
    "factorial(10)"
   ]
  },
  {
   "cell_type": "code",
   "execution_count": 37,
   "id": "a9142ed7-9411-401d-aa94-e2e4562c58e1",
   "metadata": {
    "tags": []
   },
   "outputs": [],
   "source": [
    "def test1(*args):\n",
    "    print(type(args))\n",
    "    "
   ]
  },
  {
   "cell_type": "code",
   "execution_count": 38,
   "id": "01bf575d-445d-41f3-a6b3-8d3e1c49bf3f",
   "metadata": {
    "tags": []
   },
   "outputs": [
    {
     "name": "stdout",
     "output_type": "stream",
     "text": [
      "<class 'tuple'>\n"
     ]
    }
   ],
   "source": [
    "test1()"
   ]
  },
  {
   "cell_type": "code",
   "execution_count": null,
   "id": "a50dc072-cdf1-4ade-9195-58de073e3b2e",
   "metadata": {},
   "outputs": [],
   "source": []
  }
 ],
 "metadata": {
  "kernelspec": {
   "display_name": "Python 3 (ipykernel)",
   "language": "python",
   "name": "python3"
  },
  "language_info": {
   "codemirror_mode": {
    "name": "ipython",
    "version": 3
   },
   "file_extension": ".py",
   "mimetype": "text/x-python",
   "name": "python",
   "nbconvert_exporter": "python",
   "pygments_lexer": "ipython3",
   "version": "3.8.10"
  }
 },
 "nbformat": 4,
 "nbformat_minor": 5
}
