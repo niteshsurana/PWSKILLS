{
 "cells": [
  {
   "cell_type": "code",
   "execution_count": 1,
   "id": "5ee52fe3-928f-4136-a408-6782bc890117",
   "metadata": {},
   "outputs": [],
   "source": [
    "class parent:\n",
    "    \n",
    "    def test_parent(self) : \n",
    "        print(\"this is my parent class \")"
   ]
  },
  {
   "cell_type": "code",
   "execution_count": 2,
   "id": "197840d5-dff9-4776-a9d8-0f7bd11d1391",
   "metadata": {},
   "outputs": [],
   "source": [
    "class child(parent):\n",
    "    pass\n",
    "    "
   ]
  },
  {
   "cell_type": "code",
   "execution_count": 3,
   "id": "9418f884-39f2-4fe9-bd88-2b37a042e15f",
   "metadata": {},
   "outputs": [],
   "source": [
    "child_obj = child()"
   ]
  },
  {
   "cell_type": "code",
   "execution_count": 4,
   "id": "e17d95b8-31ed-4ebf-8fac-bb652436b9a0",
   "metadata": {},
   "outputs": [
    {
     "name": "stdout",
     "output_type": "stream",
     "text": [
      "this is my parent class \n"
     ]
    }
   ],
   "source": [
    "child_obj.test_parent()"
   ]
  },
  {
   "cell_type": "code",
   "execution_count": null,
   "id": "74e07ee5-5256-418c-b7b7-712a921fdf1a",
   "metadata": {},
   "outputs": [],
   "source": []
  },
  {
   "cell_type": "code",
   "execution_count": 5,
   "id": "7cfd171d-cd18-4b58-95b9-e06e9829d6fe",
   "metadata": {},
   "outputs": [],
   "source": [
    "class A:\n",
    "    def __init__(self,x):\n",
    "        self.x = x\n",
    "    \n",
    "    def f(self):\n",
    "        return 10*self.x\n",
    "    \n",
    "class B(A):\n",
    "    def g(self):\n",
    "        return 1000*self.x"
   ]
  },
  {
   "cell_type": "code",
   "execution_count": 6,
   "id": "70250c11-555f-4b94-8490-8a0f69064a0a",
   "metadata": {},
   "outputs": [
    {
     "data": {
      "text/plain": [
       "50"
      ]
     },
     "execution_count": 6,
     "metadata": {},
     "output_type": "execute_result"
    }
   ],
   "source": [
    "A(5).f()"
   ]
  },
  {
   "cell_type": "code",
   "execution_count": 7,
   "id": "0fcf2fca-ac49-446f-85a4-a3c6f3f76f22",
   "metadata": {},
   "outputs": [
    {
     "data": {
      "text/plain": [
       "7000"
      ]
     },
     "execution_count": 7,
     "metadata": {},
     "output_type": "execute_result"
    }
   ],
   "source": [
    "B(7).g()"
   ]
  },
  {
   "cell_type": "code",
   "execution_count": 8,
   "id": "0b023a5c-6c69-43c9-b402-0391d70ff54f",
   "metadata": {},
   "outputs": [
    {
     "data": {
      "text/plain": [
       "70"
      ]
     },
     "execution_count": 8,
     "metadata": {},
     "output_type": "execute_result"
    }
   ],
   "source": [
    "B(7).f()"
   ]
  },
  {
   "cell_type": "code",
   "execution_count": 9,
   "id": "65607839-a571-4391-9711-84edb436cd84",
   "metadata": {},
   "outputs": [
    {
     "ename": "AttributeError",
     "evalue": "'A' object has no attribute 'g'",
     "output_type": "error",
     "traceback": [
      "\u001b[0;31m---------------------------------------------------------------------------\u001b[0m",
      "\u001b[0;31mAttributeError\u001b[0m                            Traceback (most recent call last)",
      "\u001b[0;32m/tmp/ipykernel_12510/821527430.py\u001b[0m in \u001b[0;36m<module>\u001b[0;34m\u001b[0m\n\u001b[0;32m----> 1\u001b[0;31m \u001b[0mA\u001b[0m\u001b[0;34m(\u001b[0m\u001b[0;36m5\u001b[0m\u001b[0;34m)\u001b[0m\u001b[0;34m.\u001b[0m\u001b[0mg\u001b[0m\u001b[0;34m(\u001b[0m\u001b[0;34m)\u001b[0m\u001b[0;34m\u001b[0m\u001b[0;34m\u001b[0m\u001b[0m\n\u001b[0m",
      "\u001b[0;31mAttributeError\u001b[0m: 'A' object has no attribute 'g'"
     ]
    }
   ],
   "source": [
    "A(5).g()"
   ]
  },
  {
   "cell_type": "code",
   "execution_count": 10,
   "id": "c1831ef0-110e-4e6b-9441-5ed1414c4492",
   "metadata": {},
   "outputs": [],
   "source": [
    "class A(object):\n",
    "    def __init__(self, x):\n",
    "        self.x = x\n",
    "    def f(self):\n",
    "        return 10*self.x\n",
    "    def g(self):\n",
    "        return 100*self.x\n",
    "    \n",
    "class B(A):\n",
    "    \n",
    "    def __init__(self,x=42,y=99):\n",
    "        super().__init__(x)\n",
    "        self.y = y\n",
    "        \n",
    "    def f(self):\n",
    "        return 1000*self.x\n",
    "    def g(self):\n",
    "        return (super().g(), self.y)\n",
    "        \n",
    "    "
   ]
  },
  {
   "cell_type": "code",
   "execution_count": 11,
   "id": "479c57f2-cde5-4eed-91ae-1d15266ef76b",
   "metadata": {},
   "outputs": [
    {
     "name": "stdout",
     "output_type": "stream",
     "text": [
      "50\n",
      "500\n",
      "7000\n",
      "(700, 99)\n"
     ]
    }
   ],
   "source": [
    "a = A(5)\n",
    "b = B(7)\n",
    "print(a.f()) # 50\n",
    "print(a.g()) # 500\n",
    "print(b.f()) # 7000\n",
    "print(b.g()) # (700, 99)"
   ]
  },
  {
   "cell_type": "code",
   "execution_count": null,
   "id": "11435a23-6506-404f-9664-67d0e3bcdfcc",
   "metadata": {},
   "outputs": [],
   "source": []
  }
 ],
 "metadata": {
  "kernelspec": {
   "display_name": "Python 3 (ipykernel)",
   "language": "python",
   "name": "python3"
  },
  "language_info": {
   "codemirror_mode": {
    "name": "ipython",
    "version": 3
   },
   "file_extension": ".py",
   "mimetype": "text/x-python",
   "name": "python",
   "nbconvert_exporter": "python",
   "pygments_lexer": "ipython3",
   "version": "3.8.10"
  }
 },
 "nbformat": 4,
 "nbformat_minor": 5
}
