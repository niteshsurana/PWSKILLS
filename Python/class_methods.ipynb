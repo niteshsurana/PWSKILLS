{
 "cells": [
  {
   "cell_type": "code",
   "execution_count": 3,
   "id": "54283176-ba33-4e7b-86ed-2596b2837191",
   "metadata": {
    "tags": []
   },
   "outputs": [],
   "source": [
    "class pwskills:\n",
    "    def __init__(self,name,email):\n",
    "        self.name = name\n",
    "        self.email = email\n",
    "        \n",
    "    def student_details(self):\n",
    "        print(self.name , self.email)"
   ]
  },
  {
   "cell_type": "code",
   "execution_count": 4,
   "id": "44b8539a-102c-4d32-9ecc-ab3dbfc95699",
   "metadata": {
    "tags": []
   },
   "outputs": [],
   "source": [
    "pw = pwskills('nitesh', 'niteshsurana96@gmail.com')"
   ]
  },
  {
   "cell_type": "code",
   "execution_count": 5,
   "id": "b8e2c4e1-e6cd-4bec-8b1e-d3fd367fb3bc",
   "metadata": {
    "tags": []
   },
   "outputs": [
    {
     "data": {
      "text/plain": [
       "'nitesh'"
      ]
     },
     "execution_count": 5,
     "metadata": {},
     "output_type": "execute_result"
    }
   ],
   "source": [
    "pw.name"
   ]
  },
  {
   "cell_type": "code",
   "execution_count": 6,
   "id": "2cdb2e2a-7e52-4d00-9eb3-08a8d999c243",
   "metadata": {
    "tags": []
   },
   "outputs": [
    {
     "data": {
      "text/plain": [
       "'niteshsurana96@gmail.com'"
      ]
     },
     "execution_count": 6,
     "metadata": {},
     "output_type": "execute_result"
    }
   ],
   "source": [
    "pw.email\n"
   ]
  },
  {
   "cell_type": "code",
   "execution_count": 7,
   "id": "95881c12-15e2-4874-aa4a-6b6267cf6729",
   "metadata": {
    "tags": []
   },
   "outputs": [
    {
     "name": "stdout",
     "output_type": "stream",
     "text": [
      "nitesh niteshsurana96@gmail.com\n"
     ]
    }
   ],
   "source": [
    "pw.student_details()"
   ]
  },
  {
   "cell_type": "code",
   "execution_count": 8,
   "id": "6b7a40e0-1af4-4e8b-a6a4-9efdf62c87b9",
   "metadata": {
    "tags": []
   },
   "outputs": [],
   "source": [
    "class pwskills:\n",
    "    def __init__(self,name,email):\n",
    "        self.name = name\n",
    "        self.email = email\n",
    "        \n",
    "    def student_details(self):\n",
    "        print(self.name , self.email)\n",
    "        \n",
    "        \n",
    "    @classmethod    \n",
    "    def details(cls,name,email):\n",
    "        \n",
    "        return cls(name,email)\n",
    "              \n",
    "              \n",
    "        \n",
    "        \n",
    "        "
   ]
  },
  {
   "cell_type": "code",
   "execution_count": 9,
   "id": "9265d56e-4391-4ba5-be3d-c723b8955884",
   "metadata": {
    "tags": []
   },
   "outputs": [],
   "source": [
    "pw1 = pwskills.details('nitesh', 'nitesh@gmail.com')"
   ]
  },
  {
   "cell_type": "code",
   "execution_count": 10,
   "id": "0dd222ab-7ead-47e7-8184-3c7500fe85b3",
   "metadata": {
    "tags": []
   },
   "outputs": [
    {
     "data": {
      "text/plain": [
       "<bound method pwskills.details of <class '__main__.pwskills'>>"
      ]
     },
     "execution_count": 10,
     "metadata": {},
     "output_type": "execute_result"
    }
   ],
   "source": [
    "pw1.details"
   ]
  },
  {
   "cell_type": "code",
   "execution_count": 11,
   "id": "1fb7813f-ddfe-4bff-b9d0-4b2dde4b19e1",
   "metadata": {
    "tags": []
   },
   "outputs": [
    {
     "ename": "TypeError",
     "evalue": "details() missing 2 required positional arguments: 'name' and 'email'",
     "output_type": "error",
     "traceback": [
      "\u001b[0;31m---------------------------------------------------------------------------\u001b[0m",
      "\u001b[0;31mTypeError\u001b[0m                                 Traceback (most recent call last)",
      "Cell \u001b[0;32mIn[11], line 1\u001b[0m\n\u001b[0;32m----> 1\u001b[0m \u001b[43mpw1\u001b[49m\u001b[38;5;241;43m.\u001b[39;49m\u001b[43mdetails\u001b[49m\u001b[43m(\u001b[49m\u001b[43m)\u001b[49m\n",
      "\u001b[0;31mTypeError\u001b[0m: details() missing 2 required positional arguments: 'name' and 'email'"
     ]
    }
   ],
   "source": [
    "pw1.details()"
   ]
  },
  {
   "cell_type": "code",
   "execution_count": 12,
   "id": "4187b469-66d7-4ee7-a13b-dc2affee74a1",
   "metadata": {
    "tags": []
   },
   "outputs": [
    {
     "data": {
      "text/plain": [
       "'nitesh@gmail.com'"
      ]
     },
     "execution_count": 12,
     "metadata": {},
     "output_type": "execute_result"
    }
   ],
   "source": [
    "pw1.email"
   ]
  },
  {
   "cell_type": "code",
   "execution_count": 14,
   "id": "4c990769-906c-4b3d-93b2-0640c1640fb6",
   "metadata": {
    "tags": []
   },
   "outputs": [
    {
     "name": "stdout",
     "output_type": "stream",
     "text": [
      "nitesh nitesh@gmail.com\n"
     ]
    }
   ],
   "source": [
    "pw1.student_details()"
   ]
  },
  {
   "cell_type": "code",
   "execution_count": 17,
   "id": "375e3780-be3a-4963-82a1-e7c814222cb9",
   "metadata": {
    "tags": []
   },
   "outputs": [
    {
     "data": {
      "text/plain": [
       "<__main__.pwskills at 0x7f7ee8e2c190>"
      ]
     },
     "execution_count": 17,
     "metadata": {},
     "output_type": "execute_result"
    }
   ],
   "source": [
    "pw1.details('a','b')"
   ]
  },
  {
   "cell_type": "code",
   "execution_count": 18,
   "id": "c50185e8-4793-4a99-bf95-e30ff0b0bc44",
   "metadata": {
    "tags": []
   },
   "outputs": [
    {
     "data": {
      "text/plain": [
       "'nitesh@gmail.com'"
      ]
     },
     "execution_count": 18,
     "metadata": {},
     "output_type": "execute_result"
    }
   ],
   "source": [
    "pw1.email"
   ]
  },
  {
   "cell_type": "code",
   "execution_count": 59,
   "id": "b1227542-808f-4856-a25a-1d64175bc78e",
   "metadata": {
    "tags": []
   },
   "outputs": [],
   "source": [
    "class pwskills2:\n",
    "    mobile_number = 1234567891\n",
    "    \n",
    "    def __init__(self,name,email):\n",
    "        self.name = name\n",
    "        self.email = email\n",
    "    \n",
    "    @classmethod\n",
    "    def change_number(cls,mobile):\n",
    "        cls.mobile_number = mobile\n",
    "        \n",
    "        \n",
    "        \n",
    "        \n",
    "        \n",
    "    @classmethod    \n",
    "    def details(cls,name,email):\n",
    "        \n",
    "        return cls(name,email)\n",
    "        \n",
    "    def student_details(self):\n",
    "        print(self.name , self.email,pwskills2.mobile_number)\n",
    "        \n",
    "        \n",
    "        \n",
    "        "
   ]
  },
  {
   "cell_type": "code",
   "execution_count": 60,
   "id": "b4fc4e6c-c763-40e1-a432-81ce2c516555",
   "metadata": {
    "tags": []
   },
   "outputs": [
    {
     "data": {
      "text/plain": [
       "1234567891"
      ]
     },
     "execution_count": 60,
     "metadata": {},
     "output_type": "execute_result"
    }
   ],
   "source": [
    "pwskills2.mobile_number"
   ]
  },
  {
   "cell_type": "code",
   "execution_count": 84,
   "id": "f78a1e7d-5576-4ab7-ad50-84a963fef55f",
   "metadata": {
    "tags": []
   },
   "outputs": [],
   "source": [
    "pw2_obj = pwskills2(\"sohil\" , \"sohil@gmail.com\")"
   ]
  },
  {
   "cell_type": "code",
   "execution_count": 74,
   "id": "d9a2cf0e-f6fc-4748-b7b5-e4f458e60831",
   "metadata": {
    "tags": []
   },
   "outputs": [
    {
     "data": {
      "text/plain": [
       "<__main__.pwskills2 at 0x7f7ee8f60a90>"
      ]
     },
     "execution_count": 74,
     "metadata": {},
     "output_type": "execute_result"
    }
   ],
   "source": [
    "pw2_obj.details(\"sudh\" , \"sudh@gmail.com\")"
   ]
  },
  {
   "cell_type": "code",
   "execution_count": 75,
   "id": "464f87a7-7e8d-4210-9c54-3f51915ca1d5",
   "metadata": {
    "tags": []
   },
   "outputs": [
    {
     "data": {
      "text/plain": [
       "'sohil'"
      ]
     },
     "execution_count": 75,
     "metadata": {},
     "output_type": "execute_result"
    }
   ],
   "source": [
    "pw2_obj.name"
   ]
  },
  {
   "cell_type": "code",
   "execution_count": 76,
   "id": "cd2ab809-3f0a-411c-9219-e38269ee0949",
   "metadata": {
    "tags": []
   },
   "outputs": [],
   "source": [
    "pw2_obj.mobile_number = 111111"
   ]
  },
  {
   "cell_type": "code",
   "execution_count": 85,
   "id": "0557480d-dd2a-4544-a27a-f071d9700a93",
   "metadata": {
    "tags": []
   },
   "outputs": [
    {
     "data": {
      "text/plain": [
       "1111111111"
      ]
     },
     "execution_count": 85,
     "metadata": {},
     "output_type": "execute_result"
    }
   ],
   "source": [
    "pw2_obj.mobile_number"
   ]
  },
  {
   "cell_type": "code",
   "execution_count": 78,
   "id": "0f293b74-770a-480a-8446-57338a4fc034",
   "metadata": {
    "tags": []
   },
   "outputs": [],
   "source": [
    "pwskills2.mobile_number = 1111111111"
   ]
  },
  {
   "cell_type": "code",
   "execution_count": 79,
   "id": "9d2f510f-544b-4d03-a3a1-4665dbd47778",
   "metadata": {
    "tags": []
   },
   "outputs": [
    {
     "data": {
      "text/plain": [
       "1111111111"
      ]
     },
     "execution_count": 79,
     "metadata": {},
     "output_type": "execute_result"
    }
   ],
   "source": [
    "pwskills2.mobile_number"
   ]
  },
  {
   "cell_type": "code",
   "execution_count": 80,
   "id": "591be07a-706c-4bd6-9560-1936999106e5",
   "metadata": {
    "tags": []
   },
   "outputs": [],
   "source": [
    "pw2 = pwskills2.details(\"sohan\" , \"sohan@gmail.com\")"
   ]
  },
  {
   "cell_type": "code",
   "execution_count": 81,
   "id": "c47adaf8-9ae2-44cc-9733-93dbeb814b78",
   "metadata": {
    "tags": []
   },
   "outputs": [
    {
     "data": {
      "text/plain": [
       "1111111111"
      ]
     },
     "execution_count": 81,
     "metadata": {},
     "output_type": "execute_result"
    }
   ],
   "source": [
    "pw2.mobile_number"
   ]
  },
  {
   "cell_type": "code",
   "execution_count": 82,
   "id": "8ff17675-ef4e-421f-a7ff-8b41fd438a99",
   "metadata": {
    "tags": []
   },
   "outputs": [],
   "source": [
    "pw2.change_number(1111111111)"
   ]
  },
  {
   "cell_type": "code",
   "execution_count": 83,
   "id": "406a319c-7a81-4f1d-b7c0-15cf79eba1dd",
   "metadata": {
    "tags": []
   },
   "outputs": [
    {
     "data": {
      "text/plain": [
       "1111111111"
      ]
     },
     "execution_count": 83,
     "metadata": {},
     "output_type": "execute_result"
    }
   ],
   "source": [
    "pw2.mobile_number"
   ]
  },
  {
   "cell_type": "code",
   "execution_count": 72,
   "id": "09e20472-0806-48ae-b9d2-a1c9e5dcd780",
   "metadata": {
    "tags": []
   },
   "outputs": [
    {
     "data": {
      "text/plain": [
       "1111111111"
      ]
     },
     "execution_count": 72,
     "metadata": {},
     "output_type": "execute_result"
    }
   ],
   "source": [
    "pwskills2.mobile_number"
   ]
  },
  {
   "cell_type": "code",
   "execution_count": 56,
   "id": "e1c3009e-3652-46d9-b0bf-86cf6695294c",
   "metadata": {
    "tags": []
   },
   "outputs": [],
   "source": [
    "def course_details(cls,course_name):\n",
    "    print('course details', course_name)"
   ]
  },
  {
   "cell_type": "code",
   "execution_count": 58,
   "id": "a04a07aa-facf-4b5f-8390-ebfc109fd075",
   "metadata": {
    "tags": []
   },
   "outputs": [],
   "source": [
    "pwskills2.course_details = classmethod(course_details)"
   ]
  },
  {
   "cell_type": "code",
   "execution_count": 86,
   "id": "1a93e9ae-8e23-44ed-be95-c5b70309a4bc",
   "metadata": {
    "tags": []
   },
   "outputs": [],
   "source": [
    "del pwskills2.details"
   ]
  },
  {
   "cell_type": "code",
   "execution_count": 87,
   "id": "1c4aadd4-24d5-40de-b30e-99b6c3852d6f",
   "metadata": {
    "tags": []
   },
   "outputs": [],
   "source": [
    "delattr(pwskills2,'mobile_number')"
   ]
  },
  {
   "cell_type": "code",
   "execution_count": 88,
   "id": "72158c3f-e574-4f8b-a213-111579e9d2c7",
   "metadata": {
    "tags": []
   },
   "outputs": [],
   "source": [
    "del pwskills2.student_details"
   ]
  },
  {
   "cell_type": "code",
   "execution_count": 89,
   "id": "eeb88bc2-4137-4d85-badd-c4ad7d0c0143",
   "metadata": {
    "tags": []
   },
   "outputs": [
    {
     "ename": "SyntaxError",
     "evalue": "invalid syntax (3066290141.py, line 1)",
     "output_type": "error",
     "traceback": [
      "\u001b[0;36m  Cell \u001b[0;32mIn[89], line 1\u001b[0;36m\u001b[0m\n\u001b[0;31m    pwskills2.\u001b[0m\n\u001b[0m              ^\u001b[0m\n\u001b[0;31mSyntaxError\u001b[0m\u001b[0;31m:\u001b[0m invalid syntax\n"
     ]
    }
   ],
   "source": [
    "pwskills2."
   ]
  },
  {
   "cell_type": "code",
   "execution_count": 90,
   "id": "73237272-5851-4731-b74d-3692c441a24e",
   "metadata": {
    "tags": []
   },
   "outputs": [
    {
     "name": "stdout",
     "output_type": "stream",
     "text": [
      "0\n"
     ]
    }
   ],
   "source": [
    "class MyClass:\n",
    "    class_var = 0\n",
    "\n",
    "    def __init__(self, inst_var):\n",
    "        self.inst_var = inst_var\n",
    "\n",
    "    @classmethod\n",
    "    def from_class_var(cls):\n",
    "        return cls(cls.class_var)\n",
    "\n",
    "obj = MyClass.from_class_var()\n",
    "print(obj.inst_var) # Output: 0"
   ]
  },
  {
   "cell_type": "code",
   "execution_count": null,
   "id": "f68dca61-a263-4c6b-95a6-584b0d668413",
   "metadata": {},
   "outputs": [],
   "source": []
  }
 ],
 "metadata": {
  "kernelspec": {
   "display_name": "Python 3 (ipykernel)",
   "language": "python",
   "name": "python3"
  },
  "language_info": {
   "codemirror_mode": {
    "name": "ipython",
    "version": 3
   },
   "file_extension": ".py",
   "mimetype": "text/x-python",
   "name": "python",
   "nbconvert_exporter": "python",
   "pygments_lexer": "ipython3",
   "version": "3.8.10"
  }
 },
 "nbformat": 4,
 "nbformat_minor": 5
}
