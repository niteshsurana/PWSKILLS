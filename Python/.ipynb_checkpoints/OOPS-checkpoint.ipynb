{
 "cells": [
  {
   "cell_type": "code",
   "execution_count": 1,
   "id": "3c9c4b7d-f7e5-4553-b49a-948fc2727ca5",
   "metadata": {},
   "outputs": [],
   "source": [
    "a = 1"
   ]
  },
  {
   "cell_type": "code",
   "execution_count": 2,
   "id": "bd7e7ec9-872b-4335-9d00-eccf4db4f945",
   "metadata": {},
   "outputs": [
    {
     "data": {
      "text/plain": [
       "int"
      ]
     },
     "execution_count": 2,
     "metadata": {},
     "output_type": "execute_result"
    }
   ],
   "source": [
    "type(a)"
   ]
  },
  {
   "cell_type": "code",
   "execution_count": 3,
   "id": "52fcaa3c-075f-4049-bcd6-101f34aaa4d4",
   "metadata": {},
   "outputs": [
    {
     "name": "stdout",
     "output_type": "stream",
     "text": [
      "<class 'int'>\n"
     ]
    }
   ],
   "source": [
    "print(type(a))"
   ]
  },
  {
   "cell_type": "code",
   "execution_count": 4,
   "id": "85ebfcb6-d21a-4617-81d3-81cc9629269f",
   "metadata": {},
   "outputs": [
    {
     "data": {
      "text/plain": [
       "['__abs__',\n",
       " '__add__',\n",
       " '__and__',\n",
       " '__bool__',\n",
       " '__ceil__',\n",
       " '__class__',\n",
       " '__delattr__',\n",
       " '__dir__',\n",
       " '__divmod__',\n",
       " '__doc__',\n",
       " '__eq__',\n",
       " '__float__',\n",
       " '__floor__',\n",
       " '__floordiv__',\n",
       " '__format__',\n",
       " '__ge__',\n",
       " '__getattribute__',\n",
       " '__getnewargs__',\n",
       " '__gt__',\n",
       " '__hash__',\n",
       " '__index__',\n",
       " '__init__',\n",
       " '__init_subclass__',\n",
       " '__int__',\n",
       " '__invert__',\n",
       " '__le__',\n",
       " '__lshift__',\n",
       " '__lt__',\n",
       " '__mod__',\n",
       " '__mul__',\n",
       " '__ne__',\n",
       " '__neg__',\n",
       " '__new__',\n",
       " '__or__',\n",
       " '__pos__',\n",
       " '__pow__',\n",
       " '__radd__',\n",
       " '__rand__',\n",
       " '__rdivmod__',\n",
       " '__reduce__',\n",
       " '__reduce_ex__',\n",
       " '__repr__',\n",
       " '__rfloordiv__',\n",
       " '__rlshift__',\n",
       " '__rmod__',\n",
       " '__rmul__',\n",
       " '__ror__',\n",
       " '__round__',\n",
       " '__rpow__',\n",
       " '__rrshift__',\n",
       " '__rshift__',\n",
       " '__rsub__',\n",
       " '__rtruediv__',\n",
       " '__rxor__',\n",
       " '__setattr__',\n",
       " '__sizeof__',\n",
       " '__str__',\n",
       " '__sub__',\n",
       " '__subclasshook__',\n",
       " '__truediv__',\n",
       " '__trunc__',\n",
       " '__xor__',\n",
       " 'as_integer_ratio',\n",
       " 'bit_length',\n",
       " 'conjugate',\n",
       " 'denominator',\n",
       " 'from_bytes',\n",
       " 'imag',\n",
       " 'numerator',\n",
       " 'real',\n",
       " 'to_bytes']"
      ]
     },
     "execution_count": 4,
     "metadata": {},
     "output_type": "execute_result"
    }
   ],
   "source": [
    "dir(int)"
   ]
  },
  {
   "cell_type": "code",
   "execution_count": 5,
   "id": "4c031513-fcb5-4830-a236-ccdbfc6a31bc",
   "metadata": {},
   "outputs": [
    {
     "data": {
      "text/plain": [
       "6"
      ]
     },
     "execution_count": 5,
     "metadata": {},
     "output_type": "execute_result"
    }
   ],
   "source": [
    "a.__add__(5)"
   ]
  },
  {
   "cell_type": "code",
   "execution_count": 6,
   "id": "692f4b53-c011-476b-9bf5-301d730980f2",
   "metadata": {},
   "outputs": [],
   "source": [
    "class test:\n",
    "    pass"
   ]
  },
  {
   "cell_type": "code",
   "execution_count": 7,
   "id": "b301c5b1-73bf-4350-8e9c-02f42fc22ee9",
   "metadata": {},
   "outputs": [
    {
     "data": {
      "text/plain": [
       "__main__.test"
      ]
     },
     "execution_count": 7,
     "metadata": {},
     "output_type": "execute_result"
    }
   ],
   "source": [
    "test"
   ]
  },
  {
   "cell_type": "code",
   "execution_count": 8,
   "id": "aade7721-5312-45e5-b9cb-6814af3b6471",
   "metadata": {},
   "outputs": [],
   "source": [
    "tst = test()"
   ]
  },
  {
   "cell_type": "code",
   "execution_count": 9,
   "id": "1457f6a0-27fa-4f39-8446-9c5212db3a38",
   "metadata": {},
   "outputs": [
    {
     "data": {
      "text/plain": [
       "<__main__.test at 0x7efc397ba700>"
      ]
     },
     "execution_count": 9,
     "metadata": {},
     "output_type": "execute_result"
    }
   ],
   "source": [
    "tst"
   ]
  },
  {
   "cell_type": "code",
   "execution_count": 12,
   "id": "ff25c8f5-25aa-4d5f-ab2e-84ab8493ac19",
   "metadata": {},
   "outputs": [
    {
     "name": "stdout",
     "output_type": "stream",
     "text": [
      "<class '__main__.test'>\n"
     ]
    }
   ],
   "source": [
    "print(type(tst))"
   ]
  },
  {
   "cell_type": "code",
   "execution_count": 11,
   "id": "a3772381-eee3-411a-98e8-1dda5d490f9a",
   "metadata": {},
   "outputs": [
    {
     "data": {
      "text/plain": [
       "__main__.test"
      ]
     },
     "execution_count": 11,
     "metadata": {},
     "output_type": "execute_result"
    }
   ],
   "source": [
    "type(tst)"
   ]
  },
  {
   "cell_type": "code",
   "execution_count": 13,
   "id": "e236c91b-2cd5-4cd6-b590-79fbbc1b667d",
   "metadata": {},
   "outputs": [],
   "source": [
    "class pwskills:\n",
    "    def welcome_msg(self):\n",
    "        print('Welcome to Pwskills')"
   ]
  },
  {
   "cell_type": "code",
   "execution_count": 14,
   "id": "c338a1ac-d1cd-4926-8b71-fd0506fd7d52",
   "metadata": {},
   "outputs": [],
   "source": [
    "rohan = pwskills()"
   ]
  },
  {
   "cell_type": "code",
   "execution_count": 16,
   "id": "a5c8a9a0-8ac3-43bb-815f-0b21a4ba5a0b",
   "metadata": {},
   "outputs": [
    {
     "data": {
      "text/plain": [
       "<__main__.pwskills at 0x7efc397ba6a0>"
      ]
     },
     "execution_count": 16,
     "metadata": {},
     "output_type": "execute_result"
    }
   ],
   "source": [
    "rohan"
   ]
  },
  {
   "cell_type": "code",
   "execution_count": 17,
   "id": "6ad8a94f-196d-4030-8d5c-ee998ded0f38",
   "metadata": {},
   "outputs": [
    {
     "name": "stdout",
     "output_type": "stream",
     "text": [
      "Welcome to Pwskills\n"
     ]
    }
   ],
   "source": [
    "rohan.welcome_msg()"
   ]
  },
  {
   "cell_type": "code",
   "execution_count": 18,
   "id": "a0d24469-1e3b-4a60-8c2c-a535282c384e",
   "metadata": {},
   "outputs": [],
   "source": [
    "sohan = pwskills()"
   ]
  },
  {
   "cell_type": "code",
   "execution_count": 19,
   "id": "4783f83c-fa31-4e62-a082-4fa5b203d1e1",
   "metadata": {},
   "outputs": [
    {
     "name": "stdout",
     "output_type": "stream",
     "text": [
      "Welcome to Pwskills\n"
     ]
    }
   ],
   "source": [
    "sohan.welcome_msg()"
   ]
  },
  {
   "cell_type": "code",
   "execution_count": 22,
   "id": "92f7e52e-0959-4363-8399-05005dc8a4bc",
   "metadata": {},
   "outputs": [
    {
     "ename": "TypeError",
     "evalue": "welcome_msg() missing 1 required positional argument: 'self'",
     "output_type": "error",
     "traceback": [
      "\u001b[0;31m---------------------------------------------------------------------------\u001b[0m",
      "\u001b[0;31mTypeError\u001b[0m                                 Traceback (most recent call last)",
      "\u001b[0;32m/tmp/ipykernel_6316/2305966456.py\u001b[0m in \u001b[0;36m<module>\u001b[0;34m\u001b[0m\n\u001b[0;32m----> 1\u001b[0;31m \u001b[0mpwskills\u001b[0m\u001b[0;34m.\u001b[0m\u001b[0mwelcome_msg\u001b[0m\u001b[0;34m(\u001b[0m\u001b[0;34m)\u001b[0m\u001b[0;34m\u001b[0m\u001b[0;34m\u001b[0m\u001b[0m\n\u001b[0m",
      "\u001b[0;31mTypeError\u001b[0m: welcome_msg() missing 1 required positional argument: 'self'"
     ]
    }
   ],
   "source": [
    "pwskills.welcome_msg()"
   ]
  },
  {
   "cell_type": "code",
   "execution_count": 23,
   "id": "0e474f82-12a8-46ae-bf34-d33c6ffd0677",
   "metadata": {},
   "outputs": [],
   "source": [
    "class pwskills1:\n",
    "    def __init__(self,phone_number,email_id,student_id):\n",
    "        self.phone_number = phone_number\n",
    "        self.email_id = email_id\n",
    "        self.student_id = student_id\n",
    "        \n",
    "    def return_student_details(self):\n",
    "        return self.phone_number , self.email_id, self.student_id"
   ]
  },
  {
   "cell_type": "code",
   "execution_count": 24,
   "id": "ae35451d-292b-4384-95da-b5ba26d76a6f",
   "metadata": {},
   "outputs": [],
   "source": [
    "sohan = pwskills1(999679869 , \"sohan@gmail.com\" , 102)"
   ]
  },
  {
   "cell_type": "code",
   "execution_count": 25,
   "id": "f261810b-df10-4786-8a57-20a09c2344cb",
   "metadata": {},
   "outputs": [
    {
     "data": {
      "text/plain": [
       "(999679869, 'sohan@gmail.com', 102)"
      ]
     },
     "execution_count": 25,
     "metadata": {},
     "output_type": "execute_result"
    }
   ],
   "source": [
    "sohan.return_student_details()"
   ]
  },
  {
   "cell_type": "code",
   "execution_count": 26,
   "id": "aa221f55-3949-4127-a59c-c22383078e8b",
   "metadata": {},
   "outputs": [
    {
     "data": {
      "text/plain": [
       "999679869"
      ]
     },
     "execution_count": 26,
     "metadata": {},
     "output_type": "execute_result"
    }
   ],
   "source": [
    "sohan.phone_number"
   ]
  },
  {
   "cell_type": "code",
   "execution_count": 27,
   "id": "dd7c8e90-5d96-4f24-8ad4-2404f8af11d0",
   "metadata": {},
   "outputs": [],
   "source": [
    "sohan.phone_number = 1111111"
   ]
  },
  {
   "cell_type": "code",
   "execution_count": 28,
   "id": "4aeec164-4a0e-4bf9-b69b-877851aa33c0",
   "metadata": {},
   "outputs": [
    {
     "data": {
      "text/plain": [
       "1111111"
      ]
     },
     "execution_count": 28,
     "metadata": {},
     "output_type": "execute_result"
    }
   ],
   "source": [
    "sohan.phone_number"
   ]
  },
  {
   "cell_type": "code",
   "execution_count": 29,
   "id": "e4fd56c1-59e3-4468-801f-924d85b2822d",
   "metadata": {},
   "outputs": [],
   "source": [
    "rohan = pwskills1(95435665, \"rohan@gmail.com\" , 101)"
   ]
  },
  {
   "cell_type": "code",
   "execution_count": 30,
   "id": "414812e0-0254-4eab-831c-f95e87e70e96",
   "metadata": {},
   "outputs": [
    {
     "data": {
      "text/plain": [
       "'rohan@gmail.com'"
      ]
     },
     "execution_count": 30,
     "metadata": {},
     "output_type": "execute_result"
    }
   ],
   "source": [
    "rohan.email_id"
   ]
  },
  {
   "cell_type": "code",
   "execution_count": 31,
   "id": "f193c84f-be97-4fb8-b4cc-0b6673847975",
   "metadata": {},
   "outputs": [
    {
     "data": {
      "text/plain": [
       "95435665"
      ]
     },
     "execution_count": 31,
     "metadata": {},
     "output_type": "execute_result"
    }
   ],
   "source": [
    "rohan.phone_number"
   ]
  },
  {
   "cell_type": "code",
   "execution_count": 33,
   "id": "78133e7b-c6c7-4623-b691-843c459d566d",
   "metadata": {},
   "outputs": [
    {
     "data": {
      "text/plain": [
       "(95435665, 'rohan@gmail.com', 101)"
      ]
     },
     "execution_count": 33,
     "metadata": {},
     "output_type": "execute_result"
    }
   ],
   "source": [
    "pwskills1.return_student_details(rohan)"
   ]
  },
  {
   "cell_type": "code",
   "execution_count": 35,
   "id": "4a3c98df-2bc6-4909-90bf-dcfba033c4de",
   "metadata": {},
   "outputs": [
    {
     "data": {
      "text/plain": [
       "[__main__.pwskills1, object]"
      ]
     },
     "execution_count": 35,
     "metadata": {},
     "output_type": "execute_result"
    }
   ],
   "source": [
    "pwskills1.mro()"
   ]
  },
  {
   "cell_type": "code",
   "execution_count": 37,
   "id": "799d29f7-3b0a-4778-a74a-d46a5f711614",
   "metadata": {},
   "outputs": [],
   "source": [
    "class Dog:\n",
    "    pass\n",
    "\n",
    "fido = Dog()"
   ]
  },
  {
   "cell_type": "code",
   "execution_count": 44,
   "id": "3ff788c1-c213-4ab0-b973-b1e78d5b1dc6",
   "metadata": {},
   "outputs": [
    {
     "name": "stdout",
     "output_type": "stream",
     "text": [
      "<class '__main__.Dog'>\n"
     ]
    }
   ],
   "source": [
    "print(type(fido))"
   ]
  },
  {
   "cell_type": "code",
   "execution_count": 43,
   "id": "53a403db-c0d0-447f-af4d-3107df1066bc",
   "metadata": {},
   "outputs": [
    {
     "name": "stdout",
     "output_type": "stream",
     "text": [
      "<class 'type'>\n"
     ]
    }
   ],
   "source": [
    "print(type(Dog))"
   ]
  },
  {
   "cell_type": "code",
   "execution_count": null,
   "id": "0adbe2aa-89ba-4206-80da-f4b3e30c9cb0",
   "metadata": {},
   "outputs": [],
   "source": []
  },
  {
   "cell_type": "code",
   "execution_count": 45,
   "id": "3461be04-cec3-49f1-be18-0f4efa098dff",
   "metadata": {},
   "outputs": [],
   "source": [
    "## Constructors\n"
   ]
  },
  {
   "cell_type": "code",
   "execution_count": 46,
   "id": "797e5036-2622-4175-b759-73d45200f0f8",
   "metadata": {},
   "outputs": [],
   "source": [
    "class A:\n",
    "    def __init__(self,color,isHappy):\n",
    "        self.color = color\n",
    "        self.isHappy = isHappy\n",
    "        \n",
    "    def isBlue(self):\n",
    "        return (self.color == 'blue')\n",
    "            "
   ]
  },
  {
   "cell_type": "code",
   "execution_count": 47,
   "id": "adcd19ae-58e1-415a-99d2-98b6736b1d93",
   "metadata": {},
   "outputs": [],
   "source": [
    "a1 = A('yellow', True)\n",
    "a2 = A('blue', True)"
   ]
  },
  {
   "cell_type": "code",
   "execution_count": 49,
   "id": "077ebac1-919a-45cb-aaf6-b996e1e259de",
   "metadata": {},
   "outputs": [
    {
     "data": {
      "text/plain": [
       "False"
      ]
     },
     "execution_count": 49,
     "metadata": {},
     "output_type": "execute_result"
    }
   ],
   "source": [
    "a1.isBlue()"
   ]
  },
  {
   "cell_type": "code",
   "execution_count": 50,
   "id": "36e7b812-c69c-4ebc-b9ba-6b6fb37441ca",
   "metadata": {},
   "outputs": [
    {
     "data": {
      "text/plain": [
       "True"
      ]
     },
     "execution_count": 50,
     "metadata": {},
     "output_type": "execute_result"
    }
   ],
   "source": [
    "a2.isBlue()"
   ]
  },
  {
   "cell_type": "code",
   "execution_count": 51,
   "id": "9e97a534-1cfb-4048-924a-bd92de3a7e6c",
   "metadata": {},
   "outputs": [
    {
     "name": "stdout",
     "output_type": "stream",
     "text": [
      "<class '__main__.A'>\n",
      "True\n",
      "True\n"
     ]
    }
   ],
   "source": [
    "class A(object): pass\n",
    "a = A()\n",
    "print(type(a))\n",
    "print(type(a)==A)\n",
    "print(isinstance(a,A))"
   ]
  },
  {
   "cell_type": "code",
   "execution_count": 52,
   "id": "501e113b-a286-4d82-957d-f80526442539",
   "metadata": {},
   "outputs": [],
   "source": [
    "class A:\n",
    "    def __init__(self,x):\n",
    "        self.x = x\n",
    "        "
   ]
  },
  {
   "cell_type": "code",
   "execution_count": 53,
   "id": "975263ea-3047-4ea3-915f-58426ac55034",
   "metadata": {},
   "outputs": [],
   "source": [
    "a1 = A(5)\n",
    "a2 = A(5)"
   ]
  },
  {
   "cell_type": "code",
   "execution_count": 54,
   "id": "646b9b0e-a428-48cc-8b38-4f1425d36dfc",
   "metadata": {},
   "outputs": [
    {
     "name": "stdout",
     "output_type": "stream",
     "text": [
      "False\n"
     ]
    }
   ],
   "source": [
    "print(a1==a2)"
   ]
  },
  {
   "cell_type": "code",
   "execution_count": 55,
   "id": "2cb2827e-f35f-41af-a486-8248c9b638d2",
   "metadata": {},
   "outputs": [
    {
     "data": {
      "text/plain": [
       "<__main__.A at 0x7efc38ffb430>"
      ]
     },
     "execution_count": 55,
     "metadata": {},
     "output_type": "execute_result"
    }
   ],
   "source": [
    "a1"
   ]
  },
  {
   "cell_type": "code",
   "execution_count": 56,
   "id": "10705ebf-8fb6-4662-9e1c-d47dc5972285",
   "metadata": {},
   "outputs": [
    {
     "data": {
      "text/plain": [
       "<__main__.A at 0x7efc38ffb0d0>"
      ]
     },
     "execution_count": 56,
     "metadata": {},
     "output_type": "execute_result"
    }
   ],
   "source": [
    "a2"
   ]
  },
  {
   "cell_type": "code",
   "execution_count": 58,
   "id": "3b0dc7bc-de40-48ad-b07f-8cefb0853084",
   "metadata": {},
   "outputs": [
    {
     "data": {
      "text/plain": [
       "False"
      ]
     },
     "execution_count": 58,
     "metadata": {},
     "output_type": "execute_result"
    }
   ],
   "source": [
    "A(5)==A(5)"
   ]
  },
  {
   "cell_type": "code",
   "execution_count": 61,
   "id": "ee086797-012b-4fe4-a7b6-7d7d95deac87",
   "metadata": {},
   "outputs": [],
   "source": [
    "class A:\n",
    "    def __init__(self,x):\n",
    "        self.x = x\n",
    "    \n",
    "    def __eq__(self,other):\n",
    "        return isinstance(other , A) and (self.x==other.x)"
   ]
  },
  {
   "cell_type": "code",
   "execution_count": 62,
   "id": "940458cf-9655-4c9a-a122-e450fe6cc83c",
   "metadata": {},
   "outputs": [
    {
     "name": "stdout",
     "output_type": "stream",
     "text": [
      "True\n"
     ]
    }
   ],
   "source": [
    "a1 = A(5)\n",
    "a2 = A(5)\n",
    "print(a1==a2)"
   ]
  },
  {
   "cell_type": "code",
   "execution_count": null,
   "id": "065e1714-de13-4ce2-a3b0-874e58a2cbe8",
   "metadata": {},
   "outputs": [],
   "source": []
  },
  {
   "cell_type": "code",
   "execution_count": 64,
   "id": "9f32b6fd-5eec-4b46-9eb1-4b8916fcf0a7",
   "metadata": {},
   "outputs": [
    {
     "name": "stdout",
     "output_type": "stream",
     "text": [
      "<__main__.A object at 0x7efc38cb76d0>\n",
      "[<__main__.A object at 0x7efc38cb76d0>]\n"
     ]
    }
   ],
   "source": [
    "class A:\n",
    "    def __init__(self,x):\n",
    "        self.x = x\n",
    "\n",
    "a = A(4)\n",
    "print(a)\n",
    "print([a])"
   ]
  },
  {
   "cell_type": "code",
   "execution_count": 66,
   "id": "038696e0-0bfa-4639-ab91-08ebc0656e28",
   "metadata": {},
   "outputs": [
    {
     "name": "stdout",
     "output_type": "stream",
     "text": [
      "A(x = 4)\n",
      "[<__main__.A object at 0x7efc38cb7730>]\n"
     ]
    }
   ],
   "source": [
    "class A:\n",
    "    def __init__(self,x):\n",
    "        self.x = x\n",
    "        \n",
    "    def __str__(self):\n",
    "        return \"A(x = %d)\"%self.x\n",
    "\n",
    "a = A(4)\n",
    "print(a)\n",
    "print([a])"
   ]
  },
  {
   "cell_type": "code",
   "execution_count": 67,
   "id": "ffdcdc5b-a351-4af2-acf1-6822f25122fb",
   "metadata": {},
   "outputs": [
    {
     "name": "stdout",
     "output_type": "stream",
     "text": [
      "A(x=4)\n",
      "[A(x=4)]\n"
     ]
    }
   ],
   "source": [
    "class A:\n",
    "    def __init__(self,x):\n",
    "        self.x = x\n",
    "\n",
    "    def __repr__(self):\n",
    "        return \"A(x=%d)\"%self.x\n",
    "a = A(4)\n",
    "print(a)\n",
    "print([a])"
   ]
  },
  {
   "cell_type": "code",
   "execution_count": null,
   "id": "7d72c8c1-2ad0-470f-9f95-813a0c6686a1",
   "metadata": {},
   "outputs": [],
   "source": []
  },
  {
   "cell_type": "code",
   "execution_count": 68,
   "id": "29015f46-80e9-4568-8e6d-c4d39eea9d0a",
   "metadata": {},
   "outputs": [
    {
     "name": "stdout",
     "output_type": "stream",
     "text": [
      "False\n"
     ]
    }
   ],
   "source": [
    "class A:\n",
    "    def __init__(self,x):\n",
    "        self.x = x\n",
    "        \n",
    "s = set()\n",
    "s.add(A(5))\n",
    "print(A(5) in s)"
   ]
  },
  {
   "cell_type": "code",
   "execution_count": 69,
   "id": "5ef42ca2-b22b-4d9e-a4cb-9c446ca45e3c",
   "metadata": {},
   "outputs": [
    {
     "data": {
      "text/plain": [
       "139621749718944"
      ]
     },
     "execution_count": 69,
     "metadata": {},
     "output_type": "execute_result"
    }
   ],
   "source": [
    "id(A(5))"
   ]
  },
  {
   "cell_type": "code",
   "execution_count": 72,
   "id": "7205fc55-5e00-45be-9deb-ef6b051936cd",
   "metadata": {},
   "outputs": [
    {
     "name": "stdout",
     "output_type": "stream",
     "text": [
      "139622209071136\n"
     ]
    }
   ],
   "source": [
    "for i in s:\n",
    "    print(id(i))"
   ]
  },
  {
   "cell_type": "code",
   "execution_count": 74,
   "id": "adb1d3e7-6b15-4fb0-8adc-cb137d34b4d2",
   "metadata": {},
   "outputs": [
    {
     "name": "stdout",
     "output_type": "stream",
     "text": [
      "42\n"
     ]
    }
   ],
   "source": [
    "d = dict()\n",
    "a = A(5)\n",
    "d[a] = 42\n",
    "print(d[a])"
   ]
  },
  {
   "cell_type": "code",
   "execution_count": 75,
   "id": "4868a6f9-6699-4494-8ba2-f1d70ecfd152",
   "metadata": {},
   "outputs": [
    {
     "data": {
      "text/plain": [
       "139621753268256"
      ]
     },
     "execution_count": 75,
     "metadata": {},
     "output_type": "execute_result"
    }
   ],
   "source": [
    "id(a)"
   ]
  },
  {
   "cell_type": "code",
   "execution_count": 76,
   "id": "1f2de9bb-ba19-43ed-b711-60bee6ea7999",
   "metadata": {},
   "outputs": [
    {
     "data": {
      "text/plain": [
       "<__main__.A at 0x7efc3901a820>"
      ]
     },
     "execution_count": 76,
     "metadata": {},
     "output_type": "execute_result"
    }
   ],
   "source": [
    "a"
   ]
  },
  {
   "cell_type": "code",
   "execution_count": 77,
   "id": "6c4be225-6818-4942-ac2d-71c860a35d4b",
   "metadata": {},
   "outputs": [
    {
     "data": {
      "text/plain": [
       "<__main__.A at 0x7efc3901aa90>"
      ]
     },
     "execution_count": 77,
     "metadata": {},
     "output_type": "execute_result"
    }
   ],
   "source": [
    "A(5)"
   ]
  },
  {
   "cell_type": "code",
   "execution_count": 79,
   "id": "9bdcdf01-8814-467d-a1ca-0a18d8803d17",
   "metadata": {},
   "outputs": [
    {
     "name": "stdout",
     "output_type": "stream",
     "text": [
      "False\n"
     ]
    }
   ],
   "source": [
    "s = set()\n",
    "a = A(5)\n",
    "s.add(a)\n",
    "print(A(5) in s)"
   ]
  },
  {
   "cell_type": "code",
   "execution_count": null,
   "id": "7750b7f5-5975-40d3-942d-67b4ddefa53a",
   "metadata": {},
   "outputs": [],
   "source": []
  },
  {
   "cell_type": "code",
   "execution_count": 81,
   "id": "b82e2fdf-0c2d-4b0c-8ea1-585bcdc55905",
   "metadata": {},
   "outputs": [],
   "source": [
    "class A:\n",
    "    \n",
    "    def __init__(self,x):\n",
    "        self.x = x\n",
    "        \n",
    "    def __hash__(self):\n",
    "        return hash(self.x)\n",
    "        \n",
    "    def __eq__(self,other):\n",
    "        return isinstance(other,A) and (self.x==other.x)"
   ]
  },
  {
   "cell_type": "code",
   "execution_count": 82,
   "id": "ae17c5c9-33e4-4023-acc5-98a1b4542e2c",
   "metadata": {},
   "outputs": [
    {
     "name": "stdout",
     "output_type": "stream",
     "text": [
      "True\n",
      "42\n"
     ]
    }
   ],
   "source": [
    "s = set()\n",
    "s.add(A(5))\n",
    "print(A(5) in s) # True (whew!)\n",
    "\n",
    "d = dict()\n",
    "d[A(5)] = 42\n",
    "print(d[A(5)]) # works!"
   ]
  },
  {
   "cell_type": "code",
   "execution_count": 85,
   "id": "6c6ee930-5695-4ba1-a34d-71ed4581f004",
   "metadata": {},
   "outputs": [],
   "source": [
    "class A:\n",
    "    \n",
    "    def __init__(self,x):\n",
    "        self.x = x\n",
    "        \n",
    "    def gethashable(self):\n",
    "        return (self.x,)\n",
    "    \n",
    "    def __hash__(self):\n",
    "        return hash(self.gethashable())\n",
    "        \n",
    "    def __eq__(self,other):\n",
    "        return isinstance(other,A) and (self.x==other.x)"
   ]
  },
  {
   "cell_type": "code",
   "execution_count": 86,
   "id": "fd020ff2-eb8f-4eae-bf65-e27d788331d1",
   "metadata": {},
   "outputs": [
    {
     "name": "stdout",
     "output_type": "stream",
     "text": [
      "True\n",
      "42\n"
     ]
    }
   ],
   "source": [
    "s = set()\n",
    "s.add(A(5))\n",
    "print(A(5) in s) # True (still works!)\n",
    "\n",
    "d = dict()\n",
    "d[A(5)] = 42\n",
    "print(d[A(5)]) # works!"
   ]
  },
  {
   "cell_type": "code",
   "execution_count": null,
   "id": "047379a7-aedb-4aea-8f0c-fd46fc3d9046",
   "metadata": {},
   "outputs": [],
   "source": []
  },
  {
   "cell_type": "code",
   "execution_count": 118,
   "id": "9c41f8bb-d7dd-482e-96ac-6fcbf0e3c675",
   "metadata": {},
   "outputs": [],
   "source": [
    "def gcd(x,y):\n",
    "    if y==0:\n",
    "        return x\n",
    "    else:\n",
    "        return gcd(y,x%y)\n",
    "    \n",
    "class Fraction:\n",
    "    def __init__(self,num,den):\n",
    "        g = gcd(num,den)\n",
    "        self.num = num//g\n",
    "        self.den = den//g\n",
    "        \n",
    "    def __repr__(self):\n",
    "        return \"%d/%d\"%(self.num , self.den)\n",
    "    \n",
    "    def __eq__(self,other):\n",
    "        return isinstance(other , Fraction) and ((self.num == other.num) and (self.den == other.den))\n",
    "    \n",
    "    def times(self,other):\n",
    "        if isinstance(other, int):\n",
    "            return Fraction(self.num*other , self.den)\n",
    "        else:\n",
    "            return Fraction(self.num * other.num, self.den * other.den)\n",
    "    \n",
    "    def __hash__(self):\n",
    "        return hash((self.num , self.den))"
   ]
  },
  {
   "cell_type": "code",
   "execution_count": 119,
   "id": "d2fd60cf-797a-43c0-a2f0-9e89a83f3fb3",
   "metadata": {},
   "outputs": [
    {
     "name": "stdout",
     "output_type": "stream",
     "text": [
      "Testing Fraction class...Passed.\n"
     ]
    }
   ],
   "source": [
    "def testFractionClass():\n",
    "    print('Testing Fraction class...', end='')\n",
    "    assert(str(Fraction(2, 3)) == '2/3')\n",
    "    assert(str([Fraction(2, 3)]) == '[2/3]')\n",
    "    assert(Fraction(2,3) == Fraction(2,3))\n",
    "    assert(Fraction(2,3) != Fraction(2,5))\n",
    "    assert(Fraction(2,3) != \"Don't crash here!\")\n",
    "    assert(Fraction(2,3).times(Fraction(3,4)) == Fraction(1,2))\n",
    "    assert(Fraction(2,3).times(5) == Fraction(10,3))\n",
    "    s = set()\n",
    "    assert(Fraction(1, 2) not in s)\n",
    "    s.add(Fraction(1, 2))\n",
    "    assert(Fraction(1, 2) in s)\n",
    "    s.remove(Fraction(1, 2))\n",
    "    assert(Fraction(1, 2) not in s)\n",
    "    print('Passed.')\n",
    "\n",
    "if (__name__ == '__main__'):\n",
    "    testFractionClass()"
   ]
  },
  {
   "cell_type": "code",
   "execution_count": 107,
   "id": "7f59e13e-4fcd-4b10-9f15-55006a1993e4",
   "metadata": {},
   "outputs": [
    {
     "data": {
      "text/plain": [
       "True"
      ]
     },
     "execution_count": 107,
     "metadata": {},
     "output_type": "execute_result"
    }
   ],
   "source": [
    "Fraction(2,3) == Fraction(2,3)"
   ]
  },
  {
   "cell_type": "code",
   "execution_count": 110,
   "id": "c7155a8d-12dd-4ad4-aa72-93d8292bb817",
   "metadata": {},
   "outputs": [
    {
     "data": {
      "text/plain": [
       "139621750975936"
      ]
     },
     "execution_count": 110,
     "metadata": {},
     "output_type": "execute_result"
    }
   ],
   "source": [
    "id(Fraction(2,3))"
   ]
  },
  {
   "cell_type": "code",
   "execution_count": null,
   "id": "ae514c92-fb66-4e46-8892-a3614b5cb46a",
   "metadata": {},
   "outputs": [],
   "source": []
  }
 ],
 "metadata": {
  "kernelspec": {
   "display_name": "Python 3 (ipykernel)",
   "language": "python",
   "name": "python3"
  },
  "language_info": {
   "codemirror_mode": {
    "name": "ipython",
    "version": 3
   },
   "file_extension": ".py",
   "mimetype": "text/x-python",
   "name": "python",
   "nbconvert_exporter": "python",
   "pygments_lexer": "ipython3",
   "version": "3.9.13"
  }
 },
 "nbformat": 4,
 "nbformat_minor": 5
}
