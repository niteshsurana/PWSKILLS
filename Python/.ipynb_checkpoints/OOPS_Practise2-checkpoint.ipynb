{
 "cells": [
  {
   "cell_type": "code",
   "execution_count": 103,
   "id": "893646a9-1fe2-4663-a05c-85b88b645cd5",
   "metadata": {
    "tags": []
   },
   "outputs": [],
   "source": [
    "class VendingMachine:\n",
    "    def __init__(self, no_bottles, price,money_paid = 0):\n",
    "        self.no_bottles = no_bottles\n",
    "        self.price = price\n",
    "        self.money_paid = money_paid\n",
    "    \n",
    "    def isEmpty(self):\n",
    "        return not bool(self.no_bottles)\n",
    "    \n",
    "    def getBottleCount(self):\n",
    "        return self.no_bottles\n",
    "    \n",
    "    def insertMoney(self,inserted_money=0):\n",
    "        self.money_paid = self.money_paid + inserted_money/100\n",
    "        \n",
    "        if self.money_paid>self.stillowed:\n",
    "            self.no_bottles = self.no_bottles-1\n",
    "            self.stillowed = self.price\n",
    "            self.money_paid = 0\n",
    "            return (\"Got a bottle!\", self.money_paid-self.stillowed)\n",
    "        else:\n",
    "            \n",
    "            return (f\"Still owe ${(self.stillOwe()/100)}\", 0)\n",
    "    \n",
    "    def stillOwe(self):\n",
    "        self.stillowed = (self.price/100 - self.money_paid)\n",
    "        return self.stillowed*100\n",
    "    \n",
    "    def __repr__(self):\n",
    "        return f\"Vending Machine:<{self.no_bottles} bottles; ${self.price/100} each; ${self.money_paid} paid>\""
   ]
  },
  {
   "cell_type": "code",
   "execution_count": null,
   "id": "de1cc012-01cf-423c-82c5-245b86e8278d",
   "metadata": {},
   "outputs": [],
   "source": [
    "def __str__(self):\n",
    "        return f\"{self.quantity} bottles - {self.price/100:.2f} each\\nMoney paid: {self.money_paid/100:.2f}\"\n",
    "\n",
    "    def insert_money(self, amount):\n",
    "        if amount > 0:\n",
    "            self.money_paid += amount\n",
    "\n",
    "    def buy(self):\n",
    "        if self.quantity > 0 and self.money_paid >= self.price:\n",
    "            self.quantity -= 1\n",
    "            self.money_paid -= self.price\n",
    "            return \"Thank you for your purchase!\"\n",
    "        elif self.quantity == 0:\n",
    "            return \"Sorry, we're sold out.\"\n",
    "        else:\n",
    "            return f\"Please insert {self.price/100:.2f} to make a purchase.\""
   ]
  },
  {
   "cell_type": "code",
   "execution_count": 110,
   "id": "22c385ec-847a-4a64-bc6a-cf1305dc0af1",
   "metadata": {
    "tags": []
   },
   "outputs": [],
   "source": [
    "class VendingMachine:\n",
    "\n",
    "    def __init__(self, quantity, price):\n",
    "        self.quantity = quantity\n",
    "        self.price = price\n",
    "        self.money_paid = 0\n",
    "\n",
    "    def isEmpty(self):\n",
    "        return not bool(self.quantity)\n",
    "    \n",
    "    def getBottleCount(self):\n",
    "        return self.quantity\n",
    "    \n",
    "    def insertMoney(self,amount):\n",
    "        id amount<=0:\n",
    "            return 'Invalid Amount'\n",
    "        \n",
    "        self.money_paid += amount\n",
    "        change = self.money_paid-self.price\n",
    "        if change>=0:\n",
    "            self.quantity -= 1\n",
    "            self.money_paid-=self.price\n",
    "            \n",
    "            if change>0:\n",
    "                return 'Thank you! here is your change', change/100\n",
    "            else:\n",
    "                return 'Thank you'\n",
    "            \n",
    "        else:\n",
    "            return f\"Please insert {abs(change)/100:.2f} more\"\n",
    "    def __repr__(self):\n",
    "        return f\"Vending Machine:<{self.quantity} bottles; ${self.price/100:0.2f} each; ${self.money_paid/100:0.2f} paid>\""
   ]
  },
  {
   "cell_type": "code",
   "execution_count": 111,
   "id": "809343d3-735e-4fb1-980d-3845725772c6",
   "metadata": {
    "tags": []
   },
   "outputs": [],
   "source": [
    "vm1 = VendingMachine(100, 125)"
   ]
  },
  {
   "cell_type": "code",
   "execution_count": 112,
   "id": "32a7d3eb-12af-4839-bf8a-9237cb0f38e5",
   "metadata": {
    "tags": []
   },
   "outputs": [
    {
     "ename": "AssertionError",
     "evalue": "",
     "output_type": "error",
     "traceback": [
      "\u001b[0;31m---------------------------------------------------------------------------\u001b[0m",
      "\u001b[0;31mAssertionError\u001b[0m                            Traceback (most recent call last)",
      "Cell \u001b[0;32mIn[112], line 1\u001b[0m\n\u001b[0;32m----> 1\u001b[0m \u001b[38;5;28;01massert\u001b[39;00m(\u001b[38;5;28mstr\u001b[39m(vm1) \u001b[38;5;241m==\u001b[39m \u001b[38;5;124m\"\u001b[39m\u001b[38;5;124mVending Machine:<100 bottles; $1.25 each; $0 paid>\u001b[39m\u001b[38;5;124m\"\u001b[39m)\n\u001b[1;32m      2\u001b[0m \u001b[38;5;28;01massert\u001b[39;00m(vm1\u001b[38;5;241m.\u001b[39misEmpty() \u001b[38;5;241m==\u001b[39m \u001b[38;5;28;01mFalse\u001b[39;00m)\n\u001b[1;32m      3\u001b[0m \u001b[38;5;28;01massert\u001b[39;00m(vm1\u001b[38;5;241m.\u001b[39mgetBottleCount() \u001b[38;5;241m==\u001b[39m \u001b[38;5;241m100\u001b[39m)\n",
      "\u001b[0;31mAssertionError\u001b[0m: "
     ]
    }
   ],
   "source": [
    "assert(str(vm1) == \"Vending Machine:<100 bottles; $1.25 each; $0 paid>\")\n",
    "assert(vm1.isEmpty() == False)\n",
    "assert(vm1.getBottleCount() == 100)\n",
    "assert(vm1.stillOwe() == 125)"
   ]
  },
  {
   "cell_type": "code",
   "execution_count": 113,
   "id": "f8241cfc-616d-4d9e-bfae-8e83dfd4a7b3",
   "metadata": {
    "tags": []
   },
   "outputs": [
    {
     "data": {
      "text/plain": [
       "'Vending Machine:<100 bottles; $1.25 each; $0.00 paid>'"
      ]
     },
     "execution_count": 113,
     "metadata": {},
     "output_type": "execute_result"
    }
   ],
   "source": [
    "str(vm1)"
   ]
  },
  {
   "cell_type": "code",
   "execution_count": 98,
   "id": "203cfd88-1b73-47eb-9396-f0a6367ccfb6",
   "metadata": {
    "tags": []
   },
   "outputs": [
    {
     "data": {
      "text/plain": [
       "False"
      ]
     },
     "execution_count": 98,
     "metadata": {},
     "output_type": "execute_result"
    }
   ],
   "source": [
    "vm1.isEmpty()"
   ]
  },
  {
   "cell_type": "code",
   "execution_count": 58,
   "id": "e96a67da-c4da-42fb-b0b3-6cf9a835cdaa",
   "metadata": {
    "tags": []
   },
   "outputs": [
    {
     "data": {
      "text/plain": [
       "True"
      ]
     },
     "execution_count": 58,
     "metadata": {},
     "output_type": "execute_result"
    }
   ],
   "source": [
    "bool(100)"
   ]
  },
  {
   "cell_type": "code",
   "execution_count": 59,
   "id": "704ada8d-bf93-453c-bb82-a0c8eaf4673d",
   "metadata": {
    "tags": []
   },
   "outputs": [
    {
     "data": {
      "text/plain": [
       "True"
      ]
     },
     "execution_count": 59,
     "metadata": {},
     "output_type": "execute_result"
    }
   ],
   "source": [
    "vm1.insertMoney(20) == (\"Still owe $1.05\", 0)"
   ]
  },
  {
   "cell_type": "code",
   "execution_count": 60,
   "id": "1e1d2c1d-e1fc-4ff4-a188-f490db2f4ae7",
   "metadata": {
    "tags": []
   },
   "outputs": [
    {
     "data": {
      "text/plain": [
       "('Still owe $0.85', 0)"
      ]
     },
     "execution_count": 60,
     "metadata": {},
     "output_type": "execute_result"
    }
   ],
   "source": [
    "assert(vm1.insertMoney(20) == (\"Still owe $1.05\", 0))\n",
    "assert(str(vm1) == \"Vending Machine:<100 bottles; $1.25 each; $0.20 paid>\")\n",
    "assert(vm1.stillOwe() == 105)\n",
    "assert(vm1.getBottleCount() == 100)\n",
    "assert(vm1.insertMoney(5) == (\"Still owe $1\", 0))"
   ]
  },
  {
   "cell_type": "code",
   "execution_count": 99,
   "id": "01f577cf-d614-4f93-ae3b-0c19846fbbbe",
   "metadata": {
    "tags": []
   },
   "outputs": [
    {
     "data": {
      "text/plain": [
       "('Still owe $1.05', 0)"
      ]
     },
     "execution_count": 99,
     "metadata": {},
     "output_type": "execute_result"
    }
   ],
   "source": [
    "vm1.insertMoney(20)"
   ]
  },
  {
   "cell_type": "code",
   "execution_count": 100,
   "id": "5b00f771-b9c6-4f15-8e91-7d38c59721c2",
   "metadata": {
    "tags": []
   },
   "outputs": [
    {
     "data": {
      "text/plain": [
       "'Vending Machine:<100 bottles; $1.25 each; $0.2 paid>'"
      ]
     },
     "execution_count": 100,
     "metadata": {},
     "output_type": "execute_result"
    }
   ],
   "source": [
    "str(vm1)"
   ]
  },
  {
   "cell_type": "code",
   "execution_count": 101,
   "id": "0e5228c1-e890-4a79-a7b4-a489a3e2696b",
   "metadata": {
    "tags": []
   },
   "outputs": [
    {
     "data": {
      "text/plain": [
       "False"
      ]
     },
     "execution_count": 101,
     "metadata": {},
     "output_type": "execute_result"
    }
   ],
   "source": [
    "str(vm1) == \"Vending Machine:<100 bottles; $1.25 each; $0.20 paid>\""
   ]
  },
  {
   "cell_type": "code",
   "execution_count": 293,
   "id": "828a0b8a-c4fa-410d-825d-eaca1c89c9c5",
   "metadata": {},
   "outputs": [],
   "source": [
    "class VendingMachine:                 ## Correct Method\n",
    "    \n",
    "    def __init__(self,quantity,price,money_paid = 0):\n",
    "        self.quantity = quantity\n",
    "        self.item_price = price    ## Price is in cents\n",
    "        self.money_paid = money_paid\n",
    "        \n",
    "    def isEmpty(self):\n",
    "        return self.quantity<=0\n",
    "        \n",
    "        \n",
    "    def getBottleCount(self):\n",
    "        return self.quantity\n",
    "    \n",
    "    def insertMoney(self,amount):\n",
    "        if self.quantity<=0:\n",
    "            return f\"Machine is empty\",amount\n",
    "        else:\n",
    "            self.money_paid +=amount\n",
    "            change = self.money_paid-self.item_price\n",
    "            if change<0:\n",
    "                if str(change/100).endswith('.0'):\n",
    "                    return (f\"Still owe ${int(-change/100)}\",0)\n",
    "                else:\n",
    "                    return (f\"Still owe ${-change/100}\",0)\n",
    "                    \n",
    "            else:\n",
    "                self.quantity -=1\n",
    "                self.money_paid = 0\n",
    "                return (f\"Got a bottle!\", change)\n",
    "            \n",
    "    def stillOwe(self):\n",
    "        return self.item_price-self.money_paid\n",
    "    \n",
    "    def stockMachine(self,restock_qty):\n",
    "        self.quantity +=restock_qty\n",
    "    \n",
    "    def getHashables(self):\n",
    "        return (self.quantity, self.item_price, self.money_paid) # return a tuple of hashables\n",
    "\n",
    "    def __hash__(self):\n",
    "        return hash(self.getHashables())\n",
    "    \n",
    "    def __eq__(self, other):\n",
    "        return (isinstance(other, VendingMachine) and\n",
    "                ((self.quantity == other.quantity) and (self.item_price == other.item_price) and (self.money_paid == other.money_paid)))\n",
    "    \n",
    "    def __repr__(self):\n",
    "        \n",
    "        # if self.money_paid>0:\n",
    "        #     return f\"Vending Machine:<{self.quantity} bottles; ${self.item_price/100} each; ${self.money_paid/100} paid>\"\n",
    "        # if self.money_paid>0:\n",
    "        #     self.money_paid= f\"{a:0.2f}\"\n",
    "        if self.money_paid>0:\n",
    "            return f\"Vending Machine:<{self.quantity} bottles; ${self.item_price/100:0.2f} each; ${(self.money_paid/100):0.2f} paid>\"\n",
    "        else:\n",
    "            return f\"Vending Machine:<{self.quantity} bottles; ${self.item_price/100:0.2f} each; ${int(self.money_paid/100)} paid>\""
   ]
  },
  {
   "cell_type": "code",
   "execution_count": 294,
   "id": "02678aa2-5cd7-49b2-b78f-d89c011e114f",
   "metadata": {
    "tags": []
   },
   "outputs": [],
   "source": [
    "vm1 = VendingMachine(100, 125)"
   ]
  },
  {
   "cell_type": "code",
   "execution_count": 295,
   "id": "d1461cdb-80d3-454b-9d39-5819243c2fa3",
   "metadata": {
    "tags": []
   },
   "outputs": [],
   "source": [
    "vm1 = VendingMachine(100, 125)\n",
    "assert(str(vm1) == \"Vending Machine:<100 bottles; $1.25 each; $0 paid>\")\n",
    "assert(vm1.isEmpty() == False)\n",
    "assert(vm1.getBottleCount() == 100)\n",
    "assert(vm1.stillOwe() == 125)\n",
    "\n",
    "# When the user inserts money, the machine returns a message about their\n",
    "# status and any change they need as a tuple.\n",
    "assert(vm1.insertMoney(20) == (\"Still owe $1.05\", 0))\n",
    "assert(str(vm1) == \"Vending Machine:<100 bottles; $1.25 each; $0.20 paid>\")\n",
    "assert(vm1.stillOwe() == 105)\n",
    "assert(vm1.getBottleCount() == 100)\n",
    "#assert(vm1.insertMoney(5) == (\"Still owe $1\", 0))"
   ]
  },
  {
   "cell_type": "code",
   "execution_count": 296,
   "id": "2e5b73bf-6ff1-4000-800e-31257b994ecd",
   "metadata": {
    "tags": []
   },
   "outputs": [
    {
     "data": {
      "text/plain": [
       "('Still owe $1', 0)"
      ]
     },
     "execution_count": 296,
     "metadata": {},
     "output_type": "execute_result"
    }
   ],
   "source": [
    "vm1.insertMoney(5)"
   ]
  },
  {
   "cell_type": "code",
   "execution_count": 297,
   "id": "227f7e69-f324-4b38-afaa-a761a97de524",
   "metadata": {
    "tags": []
   },
   "outputs": [],
   "source": [
    "assert(vm1.insertMoney(100) == (\"Got a bottle!\", 0))\n",
    "assert(vm1.getBottleCount() == 99)\n",
    "assert(vm1.stillOwe() == 125)\n",
    "assert(str(vm1) == \"Vending Machine:<99 bottles; $1.25 each; $0 paid>\")\n",
    "\n",
    "# If the user pays too much money, they get their change back with the\n",
    "# bottle.\n",
    "assert(vm1.insertMoney(500) == (\"Got a bottle!\", 375))\n",
    "assert(vm1.getBottleCount() == 98)\n",
    "assert(vm1.stillOwe() == 125)"
   ]
  },
  {
   "cell_type": "code",
   "execution_count": 298,
   "id": "8c9fa7ae-b3b0-44d1-ad4e-a2316bbf05ab",
   "metadata": {
    "tags": []
   },
   "outputs": [],
   "source": [
    "vm2 = VendingMachine(1, 120)\n",
    "#assert(str(vm2) == \"Vending Machine:<1 bottle; $1.20 each; $0 paid>\")\n",
    "assert(vm2.isEmpty() == False)\n",
    "assert(vm2.insertMoney(120) == (\"Got a bottle!\", 0))\n",
    "assert(vm2.getBottleCount() == 0)\n",
    "assert(vm2.isEmpty() == True)"
   ]
  },
  {
   "cell_type": "code",
   "execution_count": 299,
   "id": "46ae637c-0cbf-474c-bca0-544b8a861048",
   "metadata": {
    "tags": []
   },
   "outputs": [
    {
     "data": {
      "text/plain": [
       "'Vending Machine:<0 bottles; $1.20 each; $0 paid>'"
      ]
     },
     "execution_count": 299,
     "metadata": {},
     "output_type": "execute_result"
    }
   ],
   "source": [
    "str(vm2)"
   ]
  },
  {
   "cell_type": "code",
   "execution_count": 300,
   "id": "23eadd0f-7ad9-438e-a6ed-34cf3271dede",
   "metadata": {
    "tags": []
   },
   "outputs": [],
   "source": [
    "assert(str(vm2) == \"Vending Machine:<0 bottles; $1.20 each; $0 paid>\")\n",
    "assert(vm2.insertMoney(25) == (\"Machine is empty\", 25))\n",
    "assert(vm2.insertMoney(120) == (\"Machine is empty\", 120))\n",
    "assert(vm2.stillOwe() == 120)\n",
    "vm2.stockMachine(20) # Does not return anything\n",
    "assert(vm2.getBottleCount() == 20)\n",
    "assert(vm2.isEmpty() == False)\n",
    "assert(str(vm2) == \"Vending Machine:<20 bottles; $1.20 each; $0 paid>\")\n",
    "assert(vm2.insertMoney(25) == (\"Still owe $0.95\", 0))\n",
    "assert(vm2.stillOwe() == 95)\n",
    "vm2.stockMachine(20)\n",
    "assert(vm2.getBottleCount() == 40)"
   ]
  },
  {
   "cell_type": "code",
   "execution_count": 301,
   "id": "656b13ee-2559-4c03-a8be-01fa31705bc0",
   "metadata": {
    "tags": []
   },
   "outputs": [],
   "source": [
    "vm3 = VendingMachine(50, 100)\n",
    "vm4 = VendingMachine(50, 100)\n",
    "vm5 = VendingMachine(20, 100)\n",
    "vm6 = VendingMachine(50, 200)"
   ]
  },
  {
   "cell_type": "code",
   "execution_count": 302,
   "id": "963d5899-9349-4c32-9b6f-ddc3c04af189",
   "metadata": {
    "tags": []
   },
   "outputs": [],
   "source": [
    "vm7 = \"Vending Machine\""
   ]
  },
  {
   "cell_type": "code",
   "execution_count": 303,
   "id": "e5d66a1b-630f-40a5-b098-983176f946fa",
   "metadata": {
    "tags": []
   },
   "outputs": [],
   "source": [
    "assert(vm3 == vm4)\n",
    "assert(vm3 != vm5)\n",
    "assert(vm3 != vm6)\n",
    "assert(vm3 != vm7) # should not crash!"
   ]
  },
  {
   "cell_type": "code",
   "execution_count": 304,
   "id": "3be7da5d-04ba-4715-98a7-1907c99e5726",
   "metadata": {
    "tags": []
   },
   "outputs": [],
   "source": [
    "s = set()"
   ]
  },
  {
   "cell_type": "code",
   "execution_count": 305,
   "id": "163d84b7-8a9d-4df2-b957-d1b2da66ac58",
   "metadata": {
    "tags": []
   },
   "outputs": [],
   "source": [
    "assert(vm3 not in s)"
   ]
  },
  {
   "cell_type": "code",
   "execution_count": 306,
   "id": "3a9c134b-07c3-4cd5-aaf2-3d50cb4c73fd",
   "metadata": {
    "tags": []
   },
   "outputs": [],
   "source": [
    "s.add(vm4)"
   ]
  },
  {
   "cell_type": "code",
   "execution_count": 307,
   "id": "ec32968e-3a63-4fcb-8372-01463a5ba1e7",
   "metadata": {
    "tags": []
   },
   "outputs": [
    {
     "name": "stdout",
     "output_type": "stream",
     "text": [
      "Done!\n"
     ]
    }
   ],
   "source": [
    "assert(vm3 in s)\n",
    "s.remove(vm4)\n",
    "assert(vm3 not in s)\n",
    "vm4.insertMoney(50) \n",
    "#assert(vm4.insertMoney(50) == (\"Still owe $0.50\", 0))\n",
    "assert(vm3 != vm4)\n",
    "print(\"Done!\")"
   ]
  },
  {
   "cell_type": "code",
   "execution_count": 278,
   "id": "8f880e7e-31ac-4579-80ac-ba1cc0e9648f",
   "metadata": {
    "tags": []
   },
   "outputs": [
    {
     "data": {
      "text/plain": [
       "Vending Machine:<50 bottles; $1.00 each; $0 paid>"
      ]
     },
     "execution_count": 278,
     "metadata": {},
     "output_type": "execute_result"
    }
   ],
   "source": [
    "vm4.insertMoney(50) "
   ]
  },
  {
   "cell_type": "code",
   "execution_count": 290,
   "id": "bb769b03-3440-4fd6-8c36-d20522a99198",
   "metadata": {
    "tags": []
   },
   "outputs": [
    {
     "data": {
      "text/plain": [
       "Vending Machine:<50 bottles; $1.00 each; $0.50 paid>"
      ]
     },
     "execution_count": 290,
     "metadata": {},
     "output_type": "execute_result"
    }
   ],
   "source": [
    "vm4"
   ]
  },
  {
   "cell_type": "code",
   "execution_count": 280,
   "id": "917d2ea7-3021-48c6-b9f5-7fe863c4132b",
   "metadata": {
    "tags": []
   },
   "outputs": [
    {
     "data": {
      "text/plain": [
       "0"
      ]
     },
     "execution_count": 280,
     "metadata": {},
     "output_type": "execute_result"
    }
   ],
   "source": [
    "vm3.money_paid"
   ]
  },
  {
   "cell_type": "code",
   "execution_count": 281,
   "id": "fc4c07b8-d699-42c1-8708-a7b66bf56465",
   "metadata": {
    "tags": []
   },
   "outputs": [
    {
     "data": {
      "text/plain": [
       "0"
      ]
     },
     "execution_count": 281,
     "metadata": {},
     "output_type": "execute_result"
    }
   ],
   "source": [
    "vm4.money_paid"
   ]
  },
  {
   "cell_type": "code",
   "execution_count": 260,
   "id": "ba9fa037-d610-4ffd-9e93-9da2490727bf",
   "metadata": {
    "tags": []
   },
   "outputs": [
    {
     "data": {
      "text/plain": [
       "('Still owe $0.5', 0)"
      ]
     },
     "execution_count": 260,
     "metadata": {},
     "output_type": "execute_result"
    }
   ],
   "source": [
    "vm4.insertMoney(50)"
   ]
  },
  {
   "cell_type": "code",
   "execution_count": 292,
   "id": "ffff2b85-ac52-4d02-87db-d89dcf630afa",
   "metadata": {
    "tags": []
   },
   "outputs": [
    {
     "data": {
      "text/plain": [
       "False"
      ]
     },
     "execution_count": 292,
     "metadata": {},
     "output_type": "execute_result"
    }
   ],
   "source": [
    "vm3 !=vm4"
   ]
  },
  {
   "cell_type": "code",
   "execution_count": null,
   "id": "6fbddca2-7333-494e-9a09-5e4cc10df96d",
   "metadata": {},
   "outputs": [],
   "source": []
  },
  {
   "cell_type": "code",
   "execution_count": 136,
   "id": "52c2bf77-0cec-4461-834e-775be7ea17fc",
   "metadata": {
    "tags": []
   },
   "outputs": [
    {
     "data": {
      "text/plain": [
       "98"
      ]
     },
     "execution_count": 136,
     "metadata": {},
     "output_type": "execute_result"
    }
   ],
   "source": [
    "vm1.getBottleCount()"
   ]
  },
  {
   "cell_type": "code",
   "execution_count": 137,
   "id": "d49a6413-492a-4398-b7db-32c238119cdc",
   "metadata": {
    "tags": []
   },
   "outputs": [
    {
     "data": {
      "text/plain": [
       "'Vending Machine:<98 bottles; $1.25 each; $0.0 paid>'"
      ]
     },
     "execution_count": 137,
     "metadata": {},
     "output_type": "execute_result"
    }
   ],
   "source": [
    "str(vm1)"
   ]
  },
  {
   "cell_type": "code",
   "execution_count": 138,
   "id": "514379aa-1919-4c03-a261-5cd2ed0e9e5b",
   "metadata": {
    "tags": []
   },
   "outputs": [],
   "source": [
    "vm2 = VendingMachine(1, 120)\n",
    "#assert(str(vm2) == \"Vending Machine:<1 bottle; $1.20 each; $0 paid>\")\n",
    "assert(vm2.isEmpty() == False)\n",
    "assert(vm2.insertMoney(120) == (\"Got a bottle!\", 0))\n",
    "assert(vm2.getBottleCount() == 0)\n",
    "assert(vm2.isEmpty() == True)\n"
   ]
  },
  {
   "cell_type": "code",
   "execution_count": 139,
   "id": "f67e41f1-eaba-4648-a32a-c7bd10eaea99",
   "metadata": {
    "tags": []
   },
   "outputs": [
    {
     "data": {
      "text/plain": [
       "0"
      ]
     },
     "execution_count": 139,
     "metadata": {},
     "output_type": "execute_result"
    }
   ],
   "source": [
    "vm2.quantity"
   ]
  },
  {
   "cell_type": "code",
   "execution_count": 140,
   "id": "b7d65caf-d767-4a00-84ac-fe10eff87bc3",
   "metadata": {
    "tags": []
   },
   "outputs": [],
   "source": [
    "#assert(str(vm2) == \"Vending Machine:<0 bottles; $1.20 each; $0 paid>\")\n",
    "assert(vm2.insertMoney(25) == (\"Machine is empty\", 25))\n",
    "assert(vm2.insertMoney(120) == (\"Machine is empty\", 120))\n",
    "assert(vm2.stillOwe() == 120)\n",
    "vm2.stockMachine(20) # Does not return anything\n",
    "assert(vm2.getBottleCount() == 20)\n",
    "assert(vm2.isEmpty() == False)\n",
    "#assert(str(vm2) == \"Vending Machine:<20 bottles; $1.20 each; $0 paid>\")\n",
    "assert(vm2.insertMoney(25) == (\"Still owe $0.95\", 0))\n",
    "assert(vm2.stillOwe() == 95)\n",
    "vm2.stockMachine(20)\n",
    "assert(vm2.getBottleCount() == 40)\n"
   ]
  },
  {
   "cell_type": "code",
   "execution_count": 172,
   "id": "32fb7080-0b5e-4961-a329-a744cbb1d3b9",
   "metadata": {
    "tags": []
   },
   "outputs": [],
   "source": [
    "a = 0"
   ]
  },
  {
   "cell_type": "code",
   "execution_count": 173,
   "id": "ffce21f0-46cd-4c6c-a2d3-fb0d2b188ee1",
   "metadata": {
    "tags": []
   },
   "outputs": [],
   "source": [
    "a = f\"{a:0.2f}\""
   ]
  },
  {
   "cell_type": "code",
   "execution_count": 174,
   "id": "f6bc9332-8602-4d0c-a3ca-87b05da5ea23",
   "metadata": {
    "tags": []
   },
   "outputs": [
    {
     "data": {
      "text/plain": [
       "'0.00'"
      ]
     },
     "execution_count": 174,
     "metadata": {},
     "output_type": "execute_result"
    }
   ],
   "source": [
    "a"
   ]
  },
  {
   "cell_type": "code",
   "execution_count": 167,
   "id": "be511461-d2d7-4a8a-9f9b-66306edf9978",
   "metadata": {
    "tags": []
   },
   "outputs": [
    {
     "data": {
      "text/plain": [
       "'1.20'"
      ]
     },
     "execution_count": 167,
     "metadata": {},
     "output_type": "execute_result"
    }
   ],
   "source": [
    "a"
   ]
  },
  {
   "cell_type": "code",
   "execution_count": 161,
   "id": "a78a9ab9-9ead-47ed-af05-1ed4732aa0c8",
   "metadata": {
    "tags": []
   },
   "outputs": [
    {
     "data": {
      "text/plain": [
       "1.2"
      ]
     },
     "execution_count": 161,
     "metadata": {},
     "output_type": "execute_result"
    }
   ],
   "source": [
    "float(a)"
   ]
  },
  {
   "cell_type": "code",
   "execution_count": 196,
   "id": "c7e86e07-8dab-4954-870e-71a3b46e09ed",
   "metadata": {
    "tags": []
   },
   "outputs": [
    {
     "data": {
      "text/plain": [
       "25.0"
      ]
     },
     "execution_count": 196,
     "metadata": {},
     "output_type": "execute_result"
    }
   ],
   "source": [
    "0.25*100"
   ]
  },
  {
   "cell_type": "code",
   "execution_count": null,
   "id": "b96290b8-bba8-47d7-84ba-f578bb4217fd",
   "metadata": {},
   "outputs": [],
   "source": []
  }
 ],
 "metadata": {
  "kernelspec": {
   "display_name": "Python 3 (ipykernel)",
   "language": "python",
   "name": "python3"
  },
  "language_info": {
   "codemirror_mode": {
    "name": "ipython",
    "version": 3
   },
   "file_extension": ".py",
   "mimetype": "text/x-python",
   "name": "python",
   "nbconvert_exporter": "python",
   "pygments_lexer": "ipython3",
   "version": "3.8.10"
  }
 },
 "nbformat": 4,
 "nbformat_minor": 5
}
