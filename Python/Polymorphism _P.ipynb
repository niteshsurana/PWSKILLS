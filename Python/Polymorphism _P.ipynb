{
 "cells": [
  {
   "cell_type": "code",
   "execution_count": 1,
   "id": "6cf79be8-eafa-4b7a-a567-5e8acc1ddd47",
   "metadata": {},
   "outputs": [],
   "source": [
    "def test(a,b):\n",
    "    return a+b"
   ]
  },
  {
   "cell_type": "code",
   "execution_count": 2,
   "id": "10929dc7-1750-4590-9ad1-9ac5ba1ae194",
   "metadata": {},
   "outputs": [
    {
     "data": {
      "text/plain": [
       "24"
      ]
     },
     "execution_count": 2,
     "metadata": {},
     "output_type": "execute_result"
    }
   ],
   "source": [
    "test(1,23)"
   ]
  },
  {
   "cell_type": "code",
   "execution_count": 3,
   "id": "84a19e29-c851-4eba-903f-995572b2b5b0",
   "metadata": {},
   "outputs": [
    {
     "data": {
      "text/plain": [
       "'Nitesh Surana'"
      ]
     },
     "execution_count": 3,
     "metadata": {},
     "output_type": "execute_result"
    }
   ],
   "source": [
    "test('Nitesh ', 'Surana')"
   ]
  },
  {
   "cell_type": "code",
   "execution_count": 4,
   "id": "8617e11b-9793-4c6d-8431-94bfa66bcb8c",
   "metadata": {},
   "outputs": [],
   "source": [
    "class data_science:\n",
    "    def syllabus(self):\n",
    "        print('This is method for data science class')\n",
    "        "
   ]
  },
  {
   "cell_type": "code",
   "execution_count": 5,
   "id": "5d51a592-78c2-4dbd-b015-2653110735e0",
   "metadata": {},
   "outputs": [],
   "source": [
    "class web_dev:\n",
    "    def syllabus(self):\n",
    "        print('This is method for web dev')"
   ]
  },
  {
   "cell_type": "code",
   "execution_count": 6,
   "id": "c5e68a57-25dc-408c-891c-0f6ec9e377c1",
   "metadata": {},
   "outputs": [],
   "source": [
    "def class_parcer(class_obj):\n",
    "    for i in class_obj:\n",
    "        i.syllabus()"
   ]
  },
  {
   "cell_type": "code",
   "execution_count": 7,
   "id": "bdb52749-53c6-4df6-8db1-507c672e6527",
   "metadata": {},
   "outputs": [],
   "source": [
    "obj_data_Science = data_science()"
   ]
  },
  {
   "cell_type": "code",
   "execution_count": 8,
   "id": "85903b1e-20c2-4137-84c9-9c28bddbcf31",
   "metadata": {},
   "outputs": [],
   "source": [
    "obj_web_dev = web_dev()"
   ]
  },
  {
   "cell_type": "code",
   "execution_count": 9,
   "id": "bbcb3ee0-93c8-45fd-862b-d6d39fd53dbd",
   "metadata": {},
   "outputs": [],
   "source": [
    "class_obj = [obj_data_Science , obj_web_dev]"
   ]
  },
  {
   "cell_type": "code",
   "execution_count": 10,
   "id": "eeb691b8-40b4-43b1-8756-75ae4da749ee",
   "metadata": {},
   "outputs": [
    {
     "name": "stdout",
     "output_type": "stream",
     "text": [
      "This is method for data science class\n",
      "This is method for web dev\n"
     ]
    }
   ],
   "source": [
    "class_parcer(class_obj)"
   ]
  },
  {
   "cell_type": "code",
   "execution_count": null,
   "id": "0f4e7bbb-7b64-4ced-86ed-9adb26351906",
   "metadata": {},
   "outputs": [],
   "source": []
  }
 ],
 "metadata": {
  "kernelspec": {
   "display_name": "Python 3 (ipykernel)",
   "language": "python",
   "name": "python3"
  },
  "language_info": {
   "codemirror_mode": {
    "name": "ipython",
    "version": 3
   },
   "file_extension": ".py",
   "mimetype": "text/x-python",
   "name": "python",
   "nbconvert_exporter": "python",
   "pygments_lexer": "ipython3",
   "version": "3.8.10"
  }
 },
 "nbformat": 4,
 "nbformat_minor": 5
}
